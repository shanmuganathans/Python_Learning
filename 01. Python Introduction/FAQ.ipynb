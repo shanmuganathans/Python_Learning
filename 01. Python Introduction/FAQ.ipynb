{
 "cells": [
  {
   "cell_type": "code",
   "execution_count": 1,
   "metadata": {},
   "outputs": [
    {
     "data": {
      "text/plain": [
       "'Can i start the index from 1 instead of 0 ? in python '"
      ]
     },
     "execution_count": 1,
     "metadata": {},
     "output_type": "execute_result"
    }
   ],
   "source": [
    "\"\"\"Can i start the index from 1 instead of 0 ? in python \"\"\"\n"
   ]
  },
  {
   "cell_type": "code",
   "execution_count": 2,
   "metadata": {},
   "outputs": [
    {
     "name": "stdout",
     "output_type": "stream",
     "text": [
      "5\n",
      "6\n"
     ]
    }
   ],
   "source": [
    "#No you can't. The language is designed in the way the list index to start from zero. If a data structure of your own way of indexing is wanted, use dictionary.\n",
    "#e.g.\n",
    "A = {1:5, 2:6, 3:7, 4:8, 5:9, 6:10}\n",
    "print(A[1])\n",
    "print(A[2])\n"
   ]
  },
  {
   "cell_type": "code",
   "execution_count": null,
   "metadata": {},
   "outputs": [],
   "source": [
    "\"\"\"\n",
    "Constants in Python:\n",
    "--------- -- -------\n",
    "    A constant is a type of variable whose value cannot be changed. \n",
    "    It is helpful to think of constants as containers that hold information which cannot be changed later.\n",
    "    \n",
    "    In Python, constants are usually declared and assigned on a module. Here, the module means a new file \n",
    "    containing variables, functions etc which is imported to main file.\n",
    "    Inside the module, constants are written in all capital letters and underscores separating the words.\n",
    "\"\"\"\n",
    "#Declaring and assigning value to a constant\n",
    "#Create a constant.py\n",
    "\n",
    "PI = 3.14\n",
    "GRAVITY = 9.8"
   ]
  },
  {
   "cell_type": "code",
   "execution_count": 1,
   "metadata": {},
   "outputs": [
    {
     "name": "stdout",
     "output_type": "stream",
     "text": [
      "3.14\n",
      "9.8\n"
     ]
    }
   ],
   "source": [
    "#Create a main.py\n",
    "\n",
    "import constant\n",
    "print(constant.PI)\n",
    "print(constant.GRAVITY)"
   ]
  },
  {
   "cell_type": "code",
   "execution_count": null,
   "metadata": {},
   "outputs": [],
   "source": []
  }
 ],
 "metadata": {
  "kernelspec": {
   "display_name": "Python 3",
   "language": "python",
   "name": "python3"
  },
  "language_info": {
   "codemirror_mode": {
    "name": "ipython",
    "version": 3
   },
   "file_extension": ".py",
   "mimetype": "text/x-python",
   "name": "python",
   "nbconvert_exporter": "python",
   "pygments_lexer": "ipython3",
   "version": "3.7.3"
  }
 },
 "nbformat": 4,
 "nbformat_minor": 2
}

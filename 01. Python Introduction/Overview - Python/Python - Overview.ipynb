{
 "cells": [
  {
   "cell_type": "code",
   "execution_count": 2,
   "metadata": {
    "collapsed": true
   },
   "outputs": [
    {
     "data": {
      "text/plain": [
       "'\\nPython - Overview\\n\\nPython is a general-purpose high-level programming language. It is an open source language,\\nreleased under a GPL-compatible license. Python Software Foundation(PSF), \\na non-profit organization, holds the copyright of Python.'"
      ]
     },
     "execution_count": 2,
     "metadata": {},
     "output_type": "execute_result"
    }
   ],
   "source": [
    "\"\"\"\n",
    "Python - Overview\n",
    "\n",
    "        Python is a general-purpose high-level programming language. It is an open source language,\n",
    "released under a GPL-compatible license. Python Software Foundation(PSF), \n",
    "a non-profit organization, holds the copyright of Python.\n",
    "\n",
    "\"\"\""
   ]
  },
  {
   "cell_type": "code",
   "execution_count": 3,
   "metadata": {
    "collapsed": true
   },
   "outputs": [
    {
     "data": {
      "text/plain": [
       "\"\\nHistory of Python:\\n\\nGuido Van Rossum conceived Python in the late 1980s. It was released in 1991 at Centrum Wiskunde & Informatica (CWI) \\nin the Netherlands as a successor to the ABC language. He named this language after a popular comedy show called \\n'Monty Python's Flying Circus' \\n\\n\""
      ]
     },
     "execution_count": 3,
     "metadata": {},
     "output_type": "execute_result"
    }
   ],
   "source": [
    "\"\"\"\n",
    "History of Python:\n",
    "\n",
    "Guido Van Rossum conceived Python in the late 1980s. It was released in 1991 at Centrum Wiskunde & Informatica (CWI) \n",
    "in the Netherlands as a successor to the ABC language. He named this language after a popular comedy show called \n",
    "'Monty Python's Flying Circus' \n",
    "\n",
    "\"\"\""
   ]
  },
  {
   "cell_type": "code",
   "execution_count": 1,
   "metadata": {
    "collapsed": true
   },
   "outputs": [
    {
     "data": {
      "text/plain": [
       "'\\nPython Features:\\n\\nLess application development time: \\n    Python code is usually one-third to one-fifth the size of equivalent C++ or Java code.\\n    \\nCode readability:\\n     Python code is easy to read, which means you spend less time interpreting it and more time making essential changes.\\n\\nCost:\\n     Python is completely free to use and distribute. You can download the entire Python system’s source code for free.\\n\\nEasy to learn:\\n    Because of its simplicity and frequent usage of English keywords in the code, Python has become one of the most popular languages for teaching introductory computer science courses.\\n\\nWide user base:\\n     Python is used in a number of successful products. For example, most of YouTube’s core functionality is written in Python and Google uses Python in its search system.\\n\\nHigh salary:\\n    Python programmers have one of the highest average salaries in the US.\\n \\n'"
      ]
     },
     "execution_count": 1,
     "metadata": {},
     "output_type": "execute_result"
    }
   ],
   "source": [
    "\"\"\"\n",
    "Python Features:\n",
    "\n",
    "Less application development time: \n",
    "    Python code is usually one-third to one-fifth the size of equivalent C++ or Java code.\n",
    "    \n",
    "Code readability:\n",
    "     Python code is easy to read, which means you spend less time interpreting it and more time making essential \n",
    "     changes.\n",
    "\n",
    "Cost:\n",
    "     Python is completely free to use and distribute. You can download the entire Python system’s source code for free.\n",
    "\n",
    "Easy to learn:\n",
    "    Because of its simplicity and frequent usage of English keywords in the code, Python has become one of the \n",
    "    most popular languages for teaching introductory computer science courses.\n",
    "\n",
    "Wide user base:\n",
    "     Python is used in a number of successful products. For example, most of YouTube’s core functionality is \n",
    "     written in Python and Google uses Python in its search system.\n",
    "\n",
    "High salary:\n",
    "    Python programmers have one of the highest average salaries in the US.\n",
    " \n",
    "\"\"\""
   ]
  },
  {
   "cell_type": "code",
   "execution_count": 3,
   "metadata": {},
   "outputs": [
    {
     "data": {
      "text/plain": [
       "''"
      ]
     },
     "execution_count": 3,
     "metadata": {},
     "output_type": "execute_result"
    }
   ],
   "source": [
    "\"\"\"\n",
    "Python Application Types:\n",
    "\n",
    "    Even though Python started as a general-purpose programming language with no particular application as its focus,\n",
    "over last few years it has emerged as the language of choice for developers in some application areas.\n",
    "\n",
    "\"\"\""
   ]
  },
  {
   "cell_type": "code",
   "execution_count": 4,
   "metadata": {
    "collapsed": true
   },
   "outputs": [
    {
     "data": {
      "text/plain": [
       "'\\nData Science:\\n'"
      ]
     },
     "execution_count": 4,
     "metadata": {},
     "output_type": "execute_result"
    }
   ],
   "source": [
    "\"\"\"\n",
    "Data Science:\n",
    "\n",
    "    Today Python has become the language of choice for data scientists. \n",
    "Python libraries like NumPy, Pandas and Matplotlib are extensively used in the process of data analysis,\n",
    "including the collection, processing and cleansing of data sets, applying mathematical algorithms and generating \n",
    "visualizations for the benefit of users.\n",
    "\"\"\""
   ]
  },
  {
   "cell_type": "code",
   "execution_count": null,
   "metadata": {},
   "outputs": [],
   "source": [
    "\"\"\"\n",
    "Machine Learning:\n",
    "\n",
    "    This is another key application area of Python. Python libraries such as Scikit-learn, \n",
    "Tensorflow and NLTK are widely used for the prediction of trends like customer satisfaction, \n",
    "projected values of stocks etc\n",
    "\"\"\""
   ]
  },
  {
   "cell_type": "code",
   "execution_count": null,
   "metadata": {},
   "outputs": [],
   "source": [
    "\"\"\"\n",
    "Web Development:\n",
    "    \n",
    "    This is another application area in which Python is becoming popular.\n",
    "Web application framework libraries like django, Pyramid, Flask etc. \n",
    "make it very easy to develop and deploy simple as well as complex web applications. \n",
    "These frameworks are used extensively by various IT companies. \n",
    "Dropbox for example uses django as a backend to store and synchronize local folders.\n",
    "\"\"\""
   ]
  },
  {
   "cell_type": "code",
   "execution_count": null,
   "metadata": {},
   "outputs": [],
   "source": [
    "\"\"\"\n",
    "Image Processing:\n",
    "\n",
    "    The OpenCV library is commonly used for face detection and gesture recognition. \n",
    "    OpenCV is a C++ library, but has been ported to Python. Because of the rapid development of this feature,\n",
    "    Python is a very popular choice from image processing.\n",
    "\n",
    "\"\"\""
   ]
  },
  {
   "cell_type": "code",
   "execution_count": null,
   "metadata": {},
   "outputs": [],
   "source": [
    "\"\"\"\n",
    "Game Development:\n",
    "\n",
    "    Python is a popular choice for game developers. The PyGame library is extensively used for building games \n",
    "for desktop as well as for mobile platforms. PyGame applications can be installed on Android too.\n",
    "\n",
    "\"\"\""
   ]
  },
  {
   "cell_type": "code",
   "execution_count": 5,
   "metadata": {},
   "outputs": [
    {
     "data": {
      "text/plain": [
       "'\\n'"
      ]
     },
     "execution_count": 5,
     "metadata": {},
     "output_type": "execute_result"
    }
   ],
   "source": [
    "\"\"\"\n",
    "Embedded Systems and IoT:\n",
    "\n",
    "    Another important area of Python application is in embedded systems. \n",
    "Raspberry Pi is a very popular yet a low-cost single-board computer. \n",
    "It is being extensively used in automation products, robotics, IoT, and kiosk applications.\n",
    "\n",
    "     A lightweight version of Python called Micropython has been developed especially for microcontrollers. \n",
    "A special Micropython-compatible controller called PyBoard has also been developed.\n",
    "\n",
    "\"\"\""
   ]
  },
  {
   "cell_type": "code",
   "execution_count": null,
   "metadata": {},
   "outputs": [],
   "source": [
    "\"\"\"\n",
    "Android Apps:\n",
    "\n",
    "    Although Android apps are predominantly developed using Android SDK, which is similar to Java, \n",
    "Python can also be used to develop Android apps. Python's Kivy library has all the functionalities required for a \n",
    "mobile application.\n",
    "\n",
    "Example : Kivy framework\n",
    "\"\"\""
   ]
  },
  {
   "cell_type": "code",
   "execution_count": 6,
   "metadata": {},
   "outputs": [
    {
     "data": {
      "text/plain": [
       "''"
      ]
     },
     "execution_count": 6,
     "metadata": {},
     "output_type": "execute_result"
    }
   ],
   "source": [
    "\"\"\"\n",
    "Automated Jobs:\n",
    "    Python is extremely useful and widely used for automating CRON (Command Run ON) jobs. \n",
    "    Certain tasks like backups, defined in Python scripts can be scheduled to be invoked automatically by the \n",
    "    operating system scheduler to be executed at predefined times.\n",
    "\n",
    "\"\"\""
   ]
  },
  {
   "cell_type": "code",
   "execution_count": null,
   "metadata": {},
   "outputs": [],
   "source": [
    "\"\"\"\n",
    "Rapid Development Tool:\n",
    "\n",
    "    Standard distribution of Python as developed by Rossum and maintained by Python Software Foundation is called\n",
    "CPython which is a reference implementation. Its alternative implementations - Jython the JRE implementation of \n",
    "Python and IronPython - the .NET implementation, interact seamlessly with Java and C#\n",
    "\n",
    "\"\"\""
   ]
  }
 ],
 "metadata": {
  "kernelspec": {
   "display_name": "Python 3 (ipykernel)",
   "language": "python",
   "name": "python3"
  },
  "language_info": {
   "codemirror_mode": {
    "name": "ipython",
    "version": 3
   },
   "file_extension": ".py",
   "mimetype": "text/x-python",
   "name": "python",
   "nbconvert_exporter": "python",
   "pygments_lexer": "ipython3",
   "version": "3.9.7"
  }
 },
 "nbformat": 4,
 "nbformat_minor": 2
}

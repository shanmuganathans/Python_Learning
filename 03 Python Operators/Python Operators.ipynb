{
 "cells": [
  {
   "cell_type": "code",
   "execution_count": null,
   "metadata": {},
   "outputs": [],
   "source": [
    "\"\"\"\n",
    "What are operators in python?\n",
    "-----------------------------\n",
    "    Operators are special symbols in Python that carry out arithmetic or logical computation. \n",
    "    The value that the operator operates on is called the operand.\n",
    "\"\"\""
   ]
  },
  {
   "cell_type": "code",
   "execution_count": 1,
   "metadata": {},
   "outputs": [
    {
     "name": "stdout",
     "output_type": "stream",
     "text": [
      "Sum :  11\n",
      "Subtraction :  3\n",
      "Multiplication :  28\n",
      "Division (float) :  1.75\n",
      "Division (floor) :  1\n",
      "Modulus :  3\n",
      "Exponent :  2401\n"
     ]
    }
   ],
   "source": [
    "\"\"\"\n",
    "    Arithmetic Operators:\n",
    "\n",
    "    With arithmetic operators, we can do various arithmetic operations like addition, subtraction, multiplication, \n",
    "    division, modulus, exponent, etc. Python provides multiple ways for arithmetic calculations like eval function, \n",
    "    declare variable & calculate, or call functions.\n",
    "\n",
    "\n",
    "    Operator                Purpose                                     Usage\n",
    "    +            Addition – Sum of two operands                         a+b\n",
    "    –            Subtraction – Difference between the two operands      a-b\n",
    "    *            Multiplication – Product of the two operands           a*b\n",
    "    /            Float Division – Quotient of the two operands          a/b\n",
    "    //           Floor Division – Quotient of the two operands \n",
    "                 (Without fractional part)                              a//b\n",
    "    %            Modulus – Integer remainder after division of \n",
    "                ‘a’ by ‘b.’                                             a%b\n",
    "    **          Exponent – Product of ‘a’ by itself ‘b’ times \n",
    "                (a to the power of b)                                   a**b\n",
    "\"\"\"\n",
    "\n",
    "#Example\n",
    "\n",
    "a=7\n",
    "b=4\n",
    "\n",
    "print('Sum : ', a+b)\n",
    "print('Subtraction : ', a-b)\n",
    "print('Multiplication : ', a*b)\n",
    "print('Division (float) : ', a/b)\n",
    "print('Division (floor) : ', a//b)\n",
    "print('Modulus : ', a%b)\n",
    "print('Exponent : ', a**b)"
   ]
  },
  {
   "cell_type": "code",
   "execution_count": 2,
   "metadata": {},
   "outputs": [
    {
     "name": "stdout",
     "output_type": "stream",
     "text": [
      "a > b is True\n",
      "a < b is False\n",
      "a == b is False\n",
      "a != b is True\n",
      "a >= b is True\n",
      "a <= b is False\n"
     ]
    }
   ],
   "source": [
    "\"\"\"\n",
    "Comparison Operators:\n",
    "---------------------\n",
    "    In Python programming, comparison operators allow us to determine whether two values are equal or if one \n",
    "    is higher than the other and then make a decision based on the result.\n",
    "\n",
    "\n",
    "\n",
    "    Operator                             Purpose                                                     Usage\n",
    "    >               Greater than – if the left operand is greater than the right,\n",
    "                    then it returns true.                                                            a>b\n",
    "    <               Less than – if the left operand is less than the right, \n",
    "                    then it returns true.                                                            a<b\n",
    "    ==              Equal to – if two operands are equal, then it returns true.                      a==b\n",
    "    !=              Not equal to – if two operands are not equal, then it returns true.              a!=b\n",
    "    >=              Greater than or equal – if the left operand is greater than or equal to \n",
    "                    the right, then it returns true.                                                 a>=b\n",
    "    <=              Less than or equal – if the left operand is less than or equal to the right, \n",
    "                    then it returns true.                                                            a<=b\n",
    "\n",
    "\"\"\"\n",
    "\n",
    "#Example-\n",
    "\n",
    "a=7\n",
    "b=4\n",
    "\n",
    "print('a > b is',a>b)\n",
    "\n",
    "print('a < b is',a<b)\n",
    "\n",
    "print('a == b is',a==b)\n",
    "\n",
    "print('a != b is',a!=b)\n",
    "\n",
    "print('a >= b is',a>=b)\n",
    "\n",
    "print('a <= b is',a<=b)"
   ]
  },
  {
   "cell_type": "code",
   "execution_count": 1,
   "metadata": {},
   "outputs": [
    {
     "name": "stdout",
     "output_type": "stream",
     "text": [
      "a and b is 4\n",
      "a or b is 7\n",
      "not a is False\n"
     ]
    }
   ],
   "source": [
    "\"\"\"\n",
    "    Logical Operators:\n",
    "        \n",
    "        Logical Python operators enable us to make decisions based on multiple conditions.\n",
    "        The operands act as conditions that can result in a true or false value. \n",
    "        The outcome of such an operation is either true or false (i.e., a Boolean value).\n",
    " \n",
    "        However, not all of these operators return a boolean result. \n",
    "        The ‘and’ and ‘or’ operators do return one of their operands instead of pure boolean value. \n",
    "        Whereas the ‘not’ operator always gives a real boolean outcome.\n",
    "\n",
    "        Operator               Purpose                         Usage\n",
    "        and           if ‘a’ is false, then ‘a’, else ‘b’      a and b\n",
    "        or            if ‘a’ is false, then ‘b’, else ‘a’      a or b\n",
    "        not           if ‘a’ is false, then True, else False   not a\n",
    "\n",
    "\"\"\"\n",
    "#Example-\n",
    "\n",
    "a=7\n",
    "b=4\n",
    "\n",
    "# Result: a and b is 4\n",
    "print('a and b is',a and b)\n",
    "\n",
    "# Result: a or b is 7\n",
    "print('a or b is',a or b)\n",
    "\n",
    "# Result: not a is False\n",
    "print('not a is',not a)"
   ]
  },
  {
   "cell_type": "code",
   "execution_count": 4,
   "metadata": {},
   "outputs": [
    {
     "name": "stdout",
     "output_type": "stream",
     "text": [
      "a & b is 4\n"
     ]
    }
   ],
   "source": [
    "\"\"\"\n",
    "Bitwise Operators:\n",
    "-----------------\n",
    "    Bitwise Python operators process the individual bits of integer values. \n",
    "    They treat them as sequences of binary bits.\n",
    "\n",
    "    We can use bitwise operators to check whether a particular bit is set. \n",
    "    For example, IoT applications read data from the sensors based on a specific bit is set or not. \n",
    "    In such a situation, these operators can help.\n",
    "\n",
    "    Operator    Purpose                                                       Usage\n",
    "    &         Bitwise AND – compares two operands on a bit level\n",
    "              and returns 1 if both the corresponding bits are 1              a & b\n",
    "    |         Bitwise OR – compares two operands on a bit level and returns\n",
    "              1 if any of the corresponding bits is 1                         a | b\n",
    "    ~         Bitwise NOT – inverts all of the bits in a single operand       ~a\n",
    "    ^         Bitwise XOR – compares two operands on a bit level and returns \n",
    "              1 if any of the corresponding bits is 1, but not both           a ^ b\n",
    "    >>        Right shift – shifts the bits of ‘a’ to the right by ‘b’ no.\n",
    "              of times                                                        a >> b\n",
    "    <<        Left shift – shifts the bits of ‘a’ to the left by ‘b’ no. \n",
    "              of times                                                        a << b\n",
    "Example-\n",
    "\n",
    "Let’s consider the numbers 4 and 6 whose binary representations are ‘00000100’ and ‘00000110’.\n",
    "Now, we’ll perform the AND operation on these numbers.\n",
    "\n",
    "\n",
    "The below result is the outcome of following AND (‘&’) operation.\n",
    "\n",
    " 0 0 0 0 0 1 0 0 &\n",
    " 0 0 0 0 0 1 1 0\n",
    " ------------------\n",
    " 0 0 0 0 0 1 0 0 (the binary representation of the number 4)\n",
    "\"\"\"\n",
    "\n",
    "\n",
    "a=4\n",
    "b=6\n",
    "\n",
    "#Bitwise AND: The result of 'a & b' is 4\n",
    "print('a & b is',a & b)"
   ]
  },
  {
   "cell_type": "code",
   "execution_count": null,
   "metadata": {},
   "outputs": [],
   "source": [
    "\"\"\"\n",
    "    Assignment Operators:\n",
    "    ---------------------\n",
    "        In Python, we can use assignment operators to set values into variables.\n",
    "\n",
    "        The instruction a = 4 uses a primitive assignment operator that assigns the value 4 to the left operand.\n",
    "\n",
    "        Below is the list of available compound operators in Python. \n",
    "        For example, the statement a += 4 adds to the variable and then assigns the same. \n",
    "        It will evaluate to a = a + 4.\n",
    "\n",
    "        Operator            Example          Similar to\n",
    "        =                   a=4              a=4\n",
    "        +=                  a+=4             a=a+4\n",
    "        -=                  a-=4             a=a-4\n",
    "        *=                  a*=4             a=a*4\n",
    "        /=                  a/=4             a=a/4\n",
    "        %=                  a%=4             a=a%4\n",
    "        **=                 a**=4            a=a**4\n",
    "        &=                  a&=4             a=a&4\n",
    "        |=                  a|=4             a=a|4\n",
    "        ^=                  a^=4             a=a^4\n",
    "        >>=                 a>>=4            a=a>>4\n",
    "        <<=                 a<<=4            a=<<4\n",
    "\"\"\""
   ]
  },
  {
   "cell_type": "code",
   "execution_count": null,
   "metadata": {},
   "outputs": [],
   "source": [
    "\"\"\"\n",
    "    Advanced Python Operators:\n",
    "    --------------------------\n",
    "        Python also bundles a few operators for special purposes. These are known as advanced Python operators\n",
    "        like the identity operator or the membership operator.\n",
    "\"\"\""
   ]
  },
  {
   "cell_type": "code",
   "execution_count": 9,
   "metadata": {},
   "outputs": [
    {
     "name": "stdout",
     "output_type": "stream",
     "text": [
      "false\n",
      "true\n"
     ]
    }
   ],
   "source": [
    "\"\"\"\n",
    "    Identity Operators:\n",
    "    -------------------\n",
    "        These operators enable us to compare the memory locations of two Python objects/variables.\n",
    "        They can let us find if the objects share the same memory address. \n",
    "        The variables holding equal values are not necessarily identical.\n",
    "\n",
    "        Alternatively, we can use these operators to determine whether a value is of a specific class or type.\n",
    "\n",
    "\n",
    "        Operator                          Purpose                             Usage\n",
    "        is           True – if both the operands refer to the same object,    a is b (True if id(a) and id(b) are the same)\n",
    "                     else False\n",
    "        is not       True – if the operands refer to different objects,       a is not b  (True if id(a) and id(b) are different)\n",
    "                     else False\n",
    "\n",
    "\"\"\"\n",
    "\n",
    "# Using 'is' identity operator\n",
    "a = 7\n",
    "if (type(a) is int):\n",
    " print(\"true\")\n",
    "else:\n",
    " print(\"false\")\n",
    "\n",
    "# Using 'is not' identity operator\n",
    "b = 7.5\n",
    "if (type(b) is not int):\n",
    " print(\"true\")\n",
    "else:\n",
    " print(\"false\")"
   ]
  },
  {
   "cell_type": "code",
   "execution_count": 12,
   "metadata": {},
   "outputs": [
    {
     "name": "stdout",
     "output_type": "stream",
     "text": [
      "False\n",
      "True\n",
      "False\n",
      "True\n",
      "False\n"
     ]
    }
   ],
   "source": [
    "\"\"\"\n",
    "    Membership Operators:\n",
    "    --------------------\n",
    "        Membership operators enable us to test whether a value is a member of other Python objects such as strings, \n",
    "        lists, or tuples.\n",
    "\n",
    "        In C, a membership test requires iterating through a sequence and checking each value. \n",
    "        But Python makes it very easy to establish membership as compared to C.\n",
    "\n",
    "        Also, note that this operator can also test against a dictionary but only for the key, not the value.\n",
    "\n",
    "        Operator                             Purpose                            Usage\n",
    "        in              True – if the value exists in the sequence             7 in [3, 7, 9]\n",
    "        not in          True – if the value doesn’t found in the sequence      7 not in [3, 5, 9]\n",
    "\n",
    "\"\"\"\n",
    "#Example-\n",
    "\n",
    "# Using Membership operator\n",
    "str = 'Python operators'\n",
    "dict = {6:'June',12:'Dec'}\n",
    "\n",
    "print('Z' in str) \n",
    "print('Python' in str)\n",
    "print('Python' not in str)\n",
    "print(6 in dict) \n",
    "print('Dec' in dict)"
   ]
  },
  {
   "cell_type": "code",
   "execution_count": null,
   "metadata": {},
   "outputs": [],
   "source": []
  },
  {
   "cell_type": "code",
   "execution_count": null,
   "metadata": {},
   "outputs": [],
   "source": []
  },
  {
   "cell_type": "code",
   "execution_count": null,
   "metadata": {},
   "outputs": [],
   "source": []
  },
  {
   "cell_type": "code",
   "execution_count": null,
   "metadata": {},
   "outputs": [],
   "source": []
  },
  {
   "cell_type": "code",
   "execution_count": null,
   "metadata": {},
   "outputs": [],
   "source": []
  }
 ],
 "metadata": {
  "kernelspec": {
   "display_name": "Python 3 (ipykernel)",
   "language": "python",
   "name": "python3"
  },
  "language_info": {
   "codemirror_mode": {
    "name": "ipython",
    "version": 3
   },
   "file_extension": ".py",
   "mimetype": "text/x-python",
   "name": "python",
   "nbconvert_exporter": "python",
   "pygments_lexer": "ipython3",
   "version": "3.9.7"
  }
 },
 "nbformat": 4,
 "nbformat_minor": 2
}

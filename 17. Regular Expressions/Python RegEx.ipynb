{
 "cells": [
  {
   "cell_type": "code",
   "execution_count": 1,
   "id": "fbdab1e1",
   "metadata": {},
   "outputs": [
    {
     "data": {
      "text/plain": [
       "\"\\nA Regular Expression (RegEx) is a sequence of characters that defines a search pattern. For example,\\n\\n^a...s$\\nThe above code defines a RegEx pattern. The pattern is: any five letter string starting with a and ending with s.\\n\\nA pattern defined using RegEx can be used to match against a string.\\n\\nExpression\\t            String\\t          Matched?\\n^a...s$\\t                abs\\t               No match\\n                        alias\\t           Match\\n                        abyss\\t           Match\\n                        Alias\\t           No match\\n                        An abacus\\t       No match\\nPython has a module named re to work with RegEx. Here's an example:\""
      ]
     },
     "execution_count": 1,
     "metadata": {},
     "output_type": "execute_result"
    }
   ],
   "source": [
    "\"\"\"Python RegEx\"\"\"\n",
    "\"\"\"\n",
    "A Regular Expression (RegEx) is a sequence of characters that defines a search pattern. For example,\n",
    "\n",
    "^a...s$\n",
    "\n",
    "The above code defines a RegEx pattern. The pattern is: any five letter string starting with a and ending with s.\n",
    "\n",
    "A pattern defined using RegEx can be used to match against a string.\n",
    "\n",
    "Expression\t            String\t          Matched?\n",
    "^a...s$\t                abs\t               No match\n",
    "                        alias\t           Match\n",
    "                        abyss\t           Match\n",
    "                        Alias\t           No match\n",
    "                        An abacus\t       No match\n",
    "Python has a module named re to work with RegEx. Here's an example:\"\"\""
   ]
  },
  {
   "cell_type": "code",
   "execution_count": 5,
   "id": "1db4248a",
   "metadata": {},
   "outputs": [
    {
     "name": "stdout",
     "output_type": "stream",
     "text": [
      "Search unsuccessful.\n"
     ]
    }
   ],
   "source": [
    "import re\n",
    "\n",
    "pattern = '^a...s$'\n",
    "test_string = 'abyss'\n",
    "result = re.match(pattern, test_string)\n",
    "\n",
    "if result:\n",
    "  print(\"Search successful.\")\n",
    "else:\n",
    "  print(\"Search unsuccessful.\")\t\n"
   ]
  },
  {
   "cell_type": "code",
   "execution_count": 6,
   "id": "0fdaaf68",
   "metadata": {},
   "outputs": [
    {
     "data": {
      "text/plain": [
       "'Here, we used re.match() function to search pattern within the test_string. \\nThe method returns a match object if the search is successful. \\nIf not, it returns None.'"
      ]
     },
     "execution_count": 6,
     "metadata": {},
     "output_type": "execute_result"
    }
   ],
   "source": [
    "\"\"\"Here, we used re.match() function to search pattern within the test_string. \n",
    "The method returns a match object if the search is successful. \n",
    "If not, it returns None.\"\"\""
   ]
  },
  {
   "cell_type": "code",
   "execution_count": null,
   "id": "b5a738ce",
   "metadata": {},
   "outputs": [],
   "source": [
    "\"\"\"\n",
    "Specify Pattern Using RegEx\n",
    "===========================\n",
    "To specify regular expressions, metacharacters are used. \n",
    "In the above example, ^ and $ are metacharacters.\n",
    "\"\"\""
   ]
  },
  {
   "cell_type": "code",
   "execution_count": null,
   "id": "f005bbd1",
   "metadata": {},
   "outputs": [],
   "source": [
    "\"\"\"\n",
    "MetaCharacters:\n",
    "===============\n",
    "\n",
    "Metacharacters are characters that are interpreted in a special way by a RegEx engine.\n",
    "Here's a list of metacharacters:\n",
    "\n",
    "[] . ^ $ * + ? {} () \\ |\n",
    "\"\"\""
   ]
  },
  {
   "cell_type": "code",
   "execution_count": null,
   "id": "845077ab",
   "metadata": {},
   "outputs": [],
   "source": [
    "\"\"\"\n",
    "[] - Square brackets\n",
    "====================\n",
    "\n",
    "Square brackets specifies a set of characters you wish to match.\n",
    "\n",
    "Expression\t         String\t       Matched?\n",
    "[abc]               \ta           1 match\n",
    "                        aa          2 matches\n",
    "                     Hey Jude      No match\n",
    "                     abc de ca     5 matches\n",
    "\n",
    "\n",
    "Here, [abc] will match if the string you are trying to match contains any of the a, b or c.\n",
    "\n",
    "You can also specify a range of characters using - inside square brackets.\n",
    "\n",
    "[a-e] is the same as [abcde].\n",
    "[1-4] is the same as [1234].\n",
    "[0-39] is the same as [012,..39].\n",
    "You can complement (invert) the character set by using caret ^ symbol at the start of a square-bracket.\n",
    "\n",
    "[^abc] means any character except a or b or c.\n",
    "[^0-9] means any non-digit character.\n",
    "\"\"\""
   ]
  },
  {
   "cell_type": "code",
   "execution_count": 8,
   "id": "59e3433c",
   "metadata": {},
   "outputs": [
    {
     "data": {
      "text/plain": [
       "\"\\n. - Period\\n==========\\n\\nA period matches any single character (except newline '\\n').\\n\\nExpression        \\tString      \\tMatched?\\n..                  \\ta\\t        No match\\n                        ac       \\t1 match\\n                        acd     \\t1 match\\n                        acde    \\t2 matches (contains 4 characters)\\n\""
      ]
     },
     "execution_count": 8,
     "metadata": {},
     "output_type": "execute_result"
    }
   ],
   "source": [
    "\"\"\"\n",
    ". - Period\n",
    "==========\n",
    "\n",
    "A period matches any single character (except newline '\\n').\n",
    "\n",
    "Expression        \tString      \tMatched?\n",
    "..                  \ta\t        No match\n",
    "                        ac       \t1 match\n",
    "                        acd     \t1 match\n",
    "                        acde    \t2 matches (contains 4 characters)\n",
    "\"\"\""
   ]
  },
  {
   "cell_type": "code",
   "execution_count": null,
   "id": "dba82151",
   "metadata": {},
   "outputs": [],
   "source": [
    "\"\"\"\n",
    "^ - Caret:\n",
    "==========\n",
    "\n",
    "The caret symbol ^ is used to check if a string starts with a certain character.\n",
    "\n",
    "Expression      \tString    \tMatched?\n",
    "^a                 \ta         \t1 match\n",
    "                    abc      \t1 match\n",
    "                    bac     \tNo match\n",
    "^ab             \tabc     \t1 match\n",
    "                    acb     \tNo match (starts with a but not followed by b)\n",
    "\"\"\""
   ]
  },
  {
   "cell_type": "code",
   "execution_count": null,
   "id": "ec28ec12",
   "metadata": {},
   "outputs": [],
   "source": [
    "\"\"\"\n",
    "$ - Dollar\n",
    "==========\n",
    "\n",
    "The dollar symbol $ is used to check if a string ends with a certain character.\n",
    "\n",
    "Expression      \tString   \tMatched?\n",
    "a$                 \ta        \t1 match\n",
    "                    formula \t1 match\n",
    "                    cab     \tNo match\n",
    "\"\"\""
   ]
  },
  {
   "cell_type": "code",
   "execution_count": null,
   "id": "c23c0877",
   "metadata": {},
   "outputs": [],
   "source": [
    "\"\"\"\n",
    "* - Star\n",
    "========\n",
    "\n",
    "The star symbol * matches zero or more occurrences of the pattern left to it.\n",
    "\n",
    "Expression        \tString      \tMatched?\n",
    "ma*n               \tmn          \t1 match\n",
    "                    man          \t1 match\n",
    "                    maaan        \t1 match\n",
    "                    main        \tNo match (a is not followed by n)\n",
    "                    woman       \t1 match\n",
    "\"\"\""
   ]
  },
  {
   "cell_type": "code",
   "execution_count": null,
   "id": "9ed4acc2",
   "metadata": {},
   "outputs": [],
   "source": [
    "\"\"\"\n",
    "+ - Plus\n",
    "========\n",
    "\n",
    "The plus symbol + matches one or more occurrences of the pattern left to it.\n",
    "\n",
    "Expression        \tString          \tMatched?\n",
    "ma+n               \tmn              \tNo match (no a character)\n",
    "                    man             \t1 match\n",
    "                    maaan           \t1 match\n",
    "                    main            \tNo match (a is not followed by n)\n",
    "                    woman           \t1 match\n",
    "\"\"\""
   ]
  },
  {
   "cell_type": "code",
   "execution_count": null,
   "id": "3e0b9cfc",
   "metadata": {},
   "outputs": [],
   "source": [
    "\"\"\"\n",
    "? - Question Mark\n",
    "==================\n",
    "\n",
    "The question mark symbol ? matches zero or one occurrence of the pattern left to it.\n",
    "\n",
    "Expression          \tString     \tMatched?\n",
    "ma?n                \tmn        \t1 match\n",
    "                        man      \t1 match\n",
    "                        mann        1 match\n",
    "                        maaan    \tNo match (more than one a character)\n",
    "                        main    \tNo match (a is not followed by n)\n",
    "                        woman   \t1 match\n",
    "\"\"\""
   ]
  },
  {
   "cell_type": "code",
   "execution_count": null,
   "id": "d01de2db",
   "metadata": {},
   "outputs": [],
   "source": [
    "\"\"\"\n",
    "{} - Braces\n",
    "============\n",
    "\n",
    "Consider this code: {n,m}. This means at least n, and at most m repetitions of the pattern left to it.\n",
    "\n",
    "Expression      \tString      \tMatched?\n",
    "a{2,3}          \tabc dat     \tNo match\n",
    "                    abc daat    \t1 match (at daat)\n",
    "                    aabc daaat   \t2 matches (at aabc and daaat)\n",
    "                    aabc daaaat  \t2 matches (at aabc and daaaat)\n",
    "                    \n",
    "                    \n",
    "Let's try one more example. This RegEx [0-9]{2, 4} matches at least 2 digits but not more than 4 digits\n",
    "\n",
    "Expression          \tString          \tMatched?\n",
    "[0-9]{2,4}          \tab123csde        \t1 match (match at ab123csde)\n",
    "                        12 and 345673   \t3 matches (12, 3456, 73)\n",
    "                        1 and 2         \tNo match\n",
    "\"\"\""
   ]
  },
  {
   "cell_type": "code",
   "execution_count": null,
   "id": "46bcf6da",
   "metadata": {},
   "outputs": [],
   "source": [
    "\"\"\"\n",
    "| - Alternation\n",
    "===============\n",
    "\n",
    "Vertical bar | is used for alternation (or operator).\n",
    "\n",
    "Expression      \tString      \tMatched?\n",
    "a|b             \tcde         \tNo match\n",
    "                    ade         \t1 match (match at ade)\n",
    "                    acdbea      \t3 matches (at acdbea)\n",
    "Here, a|b match any string that contains either a or b\n",
    "\"\"\""
   ]
  },
  {
   "cell_type": "code",
   "execution_count": null,
   "id": "1d197614",
   "metadata": {},
   "outputs": [],
   "source": [
    "\"\"\"\n",
    "() - Group\n",
    "==========\n",
    "\n",
    "Parentheses () is used to group sub-patterns. \n",
    "For example, (a|b|c)xz match any string that matches either a or b or c followed by xz\n",
    "\n",
    "Expression              \tString             \tMatched?\n",
    "(a|b|c)xz               \tab xz           \tNo match\n",
    "                            abxz             \t1 match (match at abxz)\n",
    "                            axz cabxz        \t2 matches (at axzbc cabxz)\n",
    "\"\"\""
   ]
  },
  {
   "cell_type": "code",
   "execution_count": null,
   "id": "2084d25e",
   "metadata": {},
   "outputs": [],
   "source": [
    "\"\"\"\n",
    "\\ - Backslash\n",
    "=============\n",
    "\n",
    "Backlash \\ is used to escape various characters including all metacharacters. \n",
    "\n",
    "For example, \\$a match if a string contains $ followed by a. Here, $ is not interpreted by a RegEx engine\n",
    "in a special way.\n",
    "\n",
    "\n",
    "If you are unsure if a character has special meaning or not, you can put \\ in front of it. \n",
    "This makes sure the character is not treated in a special way.\n",
    "\"\"\""
   ]
  },
  {
   "cell_type": "code",
   "execution_count": null,
   "id": "1500b55f",
   "metadata": {},
   "outputs": [],
   "source": [
    "\"\"\"\n",
    "Special Sequences:\n",
    "=================\n",
    "\n",
    "Special sequences make commonly used patterns easier to write. Here's a list of special sequences:\n",
    "\n",
    "\\A - Matches if the specified characters are at the start of a string.\n",
    "\n",
    "Expression           \tString      \tMatched?\n",
    "\\Athe               \tthe sun     \tMatch\n",
    "                        In the sun   \tNo match\n",
    "\"\"\""
   ]
  },
  {
   "cell_type": "code",
   "execution_count": null,
   "id": "b1ec907c",
   "metadata": {},
   "outputs": [],
   "source": [
    "\"\"\"\n",
    "\\b - Matches if the specified characters are at the beginning or end of a word.\n",
    "\n",
    "Expression      \tString          \tMatched?\n",
    "\\bfoo           \tfootball        \tMatch\n",
    "                    a football      \tMatch\n",
    "                    afootball        \tNo match\n",
    "foo\\b           \tthe foo         \tMatch\n",
    "                    the afoo test   \tMatch\n",
    "                    the afootest    \tNo match\n",
    "\"\"\""
   ]
  },
  {
   "cell_type": "code",
   "execution_count": null,
   "id": "f81c44ea",
   "metadata": {},
   "outputs": [],
   "source": [
    "\"\"\"\n",
    "\\B - Opposite of \\b. Matches if the specified characters are not at the beginning or end of a word.\n",
    "\n",
    "Expression          \tString          \tMatched?\n",
    "\\Bfoo               \tfootball         \tNo match\n",
    "                        a football      \tNo match\n",
    "                        afootball        \tMatch\n",
    "                        foo\\B           \tthe foo\tNo match\n",
    "                        the afoo test    \tNo match\n",
    "                        the afootest    \tMatch\n",
    "\"\"\""
   ]
  },
  {
   "cell_type": "code",
   "execution_count": null,
   "id": "bafe7525",
   "metadata": {},
   "outputs": [],
   "source": [
    "\"\"\"\n",
    "\\d - Matches any decimal digit. Equivalent to [0-9]\n",
    "\n",
    "Expression        \tString    \tMatched?\n",
    "\\d               \t12abc3      3 matches (at 12abc3)\n",
    "                    Python   \tNo match\n",
    "\n",
    "\"\"\""
   ]
  },
  {
   "cell_type": "code",
   "execution_count": null,
   "id": "04b48e2f",
   "metadata": {},
   "outputs": [],
   "source": [
    "\"\"\"\n",
    "\\D - Matches any non-decimal digit. Equivalent to [^0-9]\n",
    "\n",
    "Expression               \tString          \tMatched?\n",
    "\\D                        \t1ab34\"50        \t3 matches (at 1ab34\"50)\n",
    "                            1345            \tNo match\n",
    "\n",
    "\"\"\""
   ]
  },
  {
   "cell_type": "code",
   "execution_count": null,
   "id": "2ee815e7",
   "metadata": {},
   "outputs": [],
   "source": [
    "\"\"\"\n",
    "\\s - Matches where a string contains any whitespace character. Equivalent to [ \\t\\n\\r\\f\\v].\n",
    "\n",
    "Expression          \tString          \tMatched?\n",
    "\\s                  \tPython RegEx    \t1 match\n",
    "                        PythonRegEx      \tNo match\n",
    "\n",
    "\n",
    "\\S - Matches where a string contains any non-whitespace character. Equivalent to [^ \\t\\n\\r\\f\\v].\n",
    "\n",
    "Expression           \tString         \tMatched?\n",
    "\\S                     \ta b             \t2matches (at  a b)\n",
    "                                           \tNo match\n",
    "\n",
    "\"\"\""
   ]
  },
  {
   "cell_type": "code",
   "execution_count": null,
   "id": "43c91941",
   "metadata": {},
   "outputs": [],
   "source": [
    "\"\"\"\n",
    "\\w - Matches any alphanumeric character (digits and alphabets). Equivalent to [a-zA-Z0-9_]. By the way, underscore _ is also considered an alphanumeric character.\n",
    "\n",
    "\n",
    "Expression      \tString      \tMatched?\n",
    "\\w              \t12&\": ;c     \t3 matches (at 12&\": ;c)\n",
    "                    %\"> !        \tNo match\n",
    "\n",
    "\n",
    "\n",
    "\\W - Matches any non-alphanumeric character. Equivalent to [^a-zA-Z0-9_]\n",
    "\n",
    "Expression       \tString   \tMatched?\n",
    "\\W               \t1a2%c    \t1 match (at 1a2%c)\n",
    "                    Python   \tNo match\n",
    "\n",
    "\"\"\""
   ]
  },
  {
   "cell_type": "code",
   "execution_count": null,
   "id": "6eacb161",
   "metadata": {},
   "outputs": [],
   "source": [
    "\"\"\"\n",
    "\\Z - Matches if the specified characters are at the end of a string.\n",
    "\n",
    "Expression      \tString                      \tMatched?\n",
    "Python\\Z        \tI like Python               \t1 match\n",
    "                    I like Python Programming   \tNo match\n",
    "                    Python is fun.              \tNo match\n",
    "\n",
    "\"\"\""
   ]
  },
  {
   "cell_type": "code",
   "execution_count": null,
   "id": "b8f7b814",
   "metadata": {},
   "outputs": [],
   "source": [
    "\"\"\"\n",
    "\n",
    "Tip: To build and test regular expressions, you can use RegEx tester tools such as regex101.com. \n",
    "This tool not only helps you in creating regular expressions, but it also helps you learn it.\n",
    "\n",
    "Now you understand the basics of RegEx, let's discuss how to use RegEx in your Python code.\n",
    "\"\"\""
   ]
  },
  {
   "cell_type": "code",
   "execution_count": null,
   "id": "f1412350",
   "metadata": {},
   "outputs": [],
   "source": [
    "\"\"\"\n",
    "Python RegEx\n",
    "=============\n",
    "Python has a module named re to work with regular expressions. To use it, we need to import the module.\n",
    "\n",
    "import re\n",
    "\n",
    "The module defines several functions and constants to work with RegEx\n",
    "\"\"\""
   ]
  },
  {
   "cell_type": "code",
   "execution_count": null,
   "id": "8c2b7df0",
   "metadata": {},
   "outputs": [],
   "source": [
    "\"\"\"\n",
    "re.findall()\n",
    "============\n",
    "\n",
    "The re.findall() method returns a list of strings containing all matches.\n",
    "\n",
    "\"\"\""
   ]
  },
  {
   "cell_type": "code",
   "execution_count": 8,
   "id": "ff691c7e",
   "metadata": {},
   "outputs": [
    {
     "name": "stdout",
     "output_type": "stream",
     "text": [
      "['12', '89', '34']\n"
     ]
    },
    {
     "data": {
      "text/plain": [
       "'\\nIf the pattern is not found, re.findall() returns an empty list.\\n\\n'"
      ]
     },
     "execution_count": 8,
     "metadata": {},
     "output_type": "execute_result"
    }
   ],
   "source": [
    "\n",
    "# Program to extract numbers from a string\n",
    "\n",
    "import re\n",
    "\n",
    "string = 'hello 12 hi 89. Howdy 34'\n",
    "pattern = '\\d+'\n",
    "\n",
    "result = re.findall(pattern, string) \n",
    "print(result)\n",
    "\n",
    "# Output: ['12', '89', '34']\n",
    "\n",
    "\"\"\"\n",
    "If the pattern is not found, re.findall() returns an empty list.\n",
    "\n",
    "\"\"\""
   ]
  },
  {
   "cell_type": "code",
   "execution_count": null,
   "id": "54be0dd2",
   "metadata": {},
   "outputs": [],
   "source": [
    "\"\"\"\n",
    "re.split():\n",
    "============\n",
    "The re.split method splits the string where there is a match and returns a list of strings \n",
    "where the splits have occurred.\n",
    "\"\"\""
   ]
  },
  {
   "cell_type": "code",
   "execution_count": 10,
   "id": "184f871a",
   "metadata": {},
   "outputs": [
    {
     "name": "stdout",
     "output_type": "stream",
     "text": [
      "['Twelve: Eighty nine:']\n"
     ]
    },
    {
     "data": {
      "text/plain": [
       "'If the pattern is not found, re.split() returns a list containing the original string.'"
      ]
     },
     "execution_count": 10,
     "metadata": {},
     "output_type": "execute_result"
    }
   ],
   "source": [
    "\n",
    "import re\n",
    "\n",
    "string = 'Twelve:12 Eighty nine:89'\n",
    "pattern = '\\d+'\n",
    "\n",
    "result = re.split(pattern, string) \n",
    "print(result)\n",
    "\n",
    "# Output: ['Twelve:', ' Eighty nine:', '.']\n",
    "\n",
    "\"\"\"If the pattern is not found, re.split() returns a list containing the original string.\"\"\"\n",
    "\n"
   ]
  },
  {
   "cell_type": "code",
   "execution_count": 5,
   "id": "7e499e71",
   "metadata": {},
   "outputs": [
    {
     "name": "stdout",
     "output_type": "stream",
     "text": [
      "['Twelve:', ' Eighty nine:89 Nine:9.']\n"
     ]
    }
   ],
   "source": [
    "\"\"\"You can pass maxsplit argument to the re.split() method. It's the maximum number of splits that will occur.\n",
    "By the way, the default value of maxsplit is 0; meaning all possible splits.\n",
    "\n",
    "\"\"\"\n",
    "\n",
    "import re\n",
    "\n",
    "string = 'Twelve:12 Eighty nine:89 Nine:9.'\n",
    "pattern = '\\d+'\n",
    "\n",
    "# maxsplit = 1\n",
    "# split only at the first occurrence\n",
    "result = re.split(pattern, string, 1) \n",
    "print(result)\n",
    "\n",
    "# Output: ['Twelve:', ' Eighty nine:89 Nine:9.']\n"
   ]
  },
  {
   "cell_type": "code",
   "execution_count": null,
   "id": "e6bfe6cc",
   "metadata": {},
   "outputs": [],
   "source": [
    "\"\"\"\n",
    "re.sub()\n",
    "=========\n",
    "The syntax of re.sub() is:\n",
    "\n",
    "re.sub(pattern, replace, string)\n",
    "The method returns a string where matched occurrences are replaced with the content of replace variable.\n",
    "\n",
    "\n",
    "\"\"\""
   ]
  },
  {
   "cell_type": "code",
   "execution_count": 27,
   "id": "5a468cbe",
   "metadata": {},
   "outputs": [
    {
     "name": "stdout",
     "output_type": "stream",
     "text": [
      "a-b-c-d-e-f\n"
     ]
    }
   ],
   "source": [
    "\"\"\"\n",
    "If the pattern is not found, re.sub() returns the original string.\n",
    "\n",
    "\"\"\"\n",
    "# Program to remove all whitespaces\n",
    "import re\n",
    "\n",
    "# multiline string\n",
    "string = 'abc 12\\\n",
    "de 23 \\n f45 6'\n",
    "\n",
    "# matches all whitespace characters\n",
    "pattern = '\\s+'\n",
    "\n",
    "# empty string\n",
    "replace = ''\n",
    "\n",
    "new_string = re.sub(pattern, replace, string) \n",
    "print(new_string)\n",
    "\n",
    "# Output: abc12de23f456\n"
   ]
  },
  {
   "cell_type": "code",
   "execution_count": null,
   "id": "5df7dc97",
   "metadata": {},
   "outputs": [],
   "source": [
    "\"\"\"\n",
    "re.search():\n",
    "============\n",
    "The re.search() method takes two arguments: a pattern and a string. The method looks for the \n",
    "first location where the RegEx pattern produces a match with the string.\n",
    "\n",
    "If the search is successful, re.search() returns a match object; if not, it returns None.\n",
    "\n",
    "match = re.search(pattern, str)\n",
    "\"\"\""
   ]
  },
  {
   "cell_type": "code",
   "execution_count": 11,
   "id": "cfcec6a7",
   "metadata": {},
   "outputs": [
    {
     "name": "stdout",
     "output_type": "stream",
     "text": [
      "<re.Match object; span=(0, 6), match='Python'>\n",
      "pattern found inside the string\n"
     ]
    }
   ],
   "source": [
    "\n",
    "import re\n",
    "\n",
    "string = \"Python is fun\"\n",
    "\n",
    "# check if 'Python' is at the beginning\n",
    "match = re.search('\\APython', string)\n",
    "\n",
    "print(match)\n",
    "if match:\n",
    "  print(\"pattern found inside the string\")\n",
    "else:\n",
    "  print(\"pattern not found\")  \n",
    "\n",
    "# Output: pattern found inside the string\n"
   ]
  },
  {
   "cell_type": "code",
   "execution_count": null,
   "id": "2a9beede",
   "metadata": {},
   "outputs": [],
   "source": [
    "\"\"\"\n",
    "match.group()\n",
    "=============\n",
    "The group() method returns the part of the string where there is a match.\n",
    "\"\"\""
   ]
  },
  {
   "cell_type": "code",
   "execution_count": 33,
   "id": "feded39b",
   "metadata": {},
   "outputs": [
    {
     "name": "stdout",
     "output_type": "stream",
     "text": [
      "<re.Match object; span=(2, 8), match='801 35'>\n",
      "801 35\n"
     ]
    }
   ],
   "source": [
    "\n",
    "import re\n",
    "\n",
    "string = '39801 356,2102 1111'\n",
    "\n",
    "# Three digit number followed by space followed by two digit number\n",
    "pattern = '(\\d{3}) (\\d{2})'\n",
    "\n",
    "# match variable contains a Match object.\n",
    "match = re.search(pattern, string) \n",
    "\n",
    "print(match)\n",
    "if match:\n",
    "  print(match.group())\n",
    "else:\n",
    "  print(\"pattern not found\")\n",
    "\n",
    "# Output: 801 35\n"
   ]
  },
  {
   "cell_type": "code",
   "execution_count": 1,
   "id": "ee8f5082",
   "metadata": {},
   "outputs": [
    {
     "data": {
      "text/plain": [
       "\"\\nHere, match variable contains a match object.\\n\\nOur pattern (\\\\d{3}) (\\\\d{2}) has two subgroups (\\\\d{3}) and (\\\\d{2}). \\nYou can get the part of the string of these parenthesized subgroups. Here's how:\\n\""
      ]
     },
     "execution_count": 1,
     "metadata": {},
     "output_type": "execute_result"
    }
   ],
   "source": [
    "\"\"\"\n",
    "Here, match variable contains a match object.\n",
    "\n",
    "Our pattern (\\d{3}) (\\d{2}) has two subgroups (\\d{3}) and (\\d{2}). \n",
    "You can get the part of the string of these parenthesized subgroups. Here's how:\n",
    "\"\"\""
   ]
  },
  {
   "cell_type": "code",
   "execution_count": 35,
   "id": "ce9897eb",
   "metadata": {},
   "outputs": [
    {
     "data": {
      "text/plain": [
       "'801'"
      ]
     },
     "execution_count": 35,
     "metadata": {},
     "output_type": "execute_result"
    }
   ],
   "source": [
    "match.group(1)"
   ]
  },
  {
   "cell_type": "code",
   "execution_count": 5,
   "id": "ae63baa9",
   "metadata": {},
   "outputs": [
    {
     "data": {
      "text/plain": [
       "'35'"
      ]
     },
     "execution_count": 5,
     "metadata": {},
     "output_type": "execute_result"
    }
   ],
   "source": [
    "match.group(2)"
   ]
  },
  {
   "cell_type": "code",
   "execution_count": 6,
   "id": "1c7bd3a7",
   "metadata": {},
   "outputs": [
    {
     "data": {
      "text/plain": [
       "('801', '35')"
      ]
     },
     "execution_count": 6,
     "metadata": {},
     "output_type": "execute_result"
    }
   ],
   "source": [
    "match.groups()"
   ]
  },
  {
   "cell_type": "code",
   "execution_count": 3,
   "id": "ebc64223",
   "metadata": {},
   "outputs": [
    {
     "name": "stdout",
     "output_type": "stream",
     "text": [
      "['this']\n"
     ]
    }
   ],
   "source": [
    "\"\"\"Wildcard\"\"\"\n",
    "import re\n",
    "regex = re.compile('th.s')\n",
    "l = ['this', 'is', 'just', 'a', 'test']\n",
    "matches = [string for string in l if re.match(regex, string)]\n",
    "print(matches)"
   ]
  },
  {
   "cell_type": "code",
   "execution_count": null,
   "id": "c3f9caf0",
   "metadata": {},
   "outputs": [],
   "source": []
  }
 ],
 "metadata": {
  "kernelspec": {
   "display_name": "Python 3 (ipykernel)",
   "language": "python",
   "name": "python3"
  },
  "language_info": {
   "codemirror_mode": {
    "name": "ipython",
    "version": 3
   },
   "file_extension": ".py",
   "mimetype": "text/x-python",
   "name": "python",
   "nbconvert_exporter": "python",
   "pygments_lexer": "ipython3",
   "version": "3.9.7"
  }
 },
 "nbformat": 4,
 "nbformat_minor": 5
}

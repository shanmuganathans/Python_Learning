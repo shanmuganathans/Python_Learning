{
 "cells": [
  {
   "cell_type": "code",
   "execution_count": null,
   "id": "21416f5a",
   "metadata": {},
   "outputs": [],
   "source": [
    "\"\"\"\n",
    "Default Dict:\n",
    "=============\n",
    "A common problem that you can face when working with Python dictionaries is to try to access or modify keys \n",
    "that don’t exist in the dictionary. This will raise a KeyError and break up your code execution.\n",
    "\n",
    "To handle these kinds of situations, the standard library provides the Python defaultdict type, \n",
    "a dictionary-like class that’s available for you in collections.\n",
    "\n",
    "The Python defaultdict type behaves almost exactly like a regular Python dictionary, \n",
    "but if you try to access or modify a missing key, then defaultdict will automatically create \n",
    "the key and generate a default value for it. This makes defaultdict a valuable option for handling missing \n",
    "keys in dictionaries\n",
    "\n",
    "1) defaultdict overrides the __missing__(), meaning that no KeyError is raised when a key doesn’t exist\n",
    "2) It adds a required instantiation variable, .default_factory, which must be provided\n",
    "\"\"\""
   ]
  },
  {
   "cell_type": "code",
   "execution_count": null,
   "id": "1141187f",
   "metadata": {},
   "outputs": [],
   "source": [
    "\"\"\"\n",
    "Advantages:\n",
    "===========\n",
    "* Simplifies code by eliminating the need to check whether a key exists before accessing it.\n",
    "* Useful for tasks like counting occurrences of elements, grouping items, or creating nested data structures.\n",
    "\n",
    "Considerations:\n",
    "===============\n",
    "* Be cautious when using mutable default values (e.g., lists, sets) as they can lead to unexpected behavior.\n",
    "* Ensure that the default factory you provide is callable (e.g., int, list, set, or a custom function).\n",
    "\"\"\""
   ]
  },
  {
   "cell_type": "code",
   "execution_count": null,
   "id": "b1d2497e",
   "metadata": {},
   "outputs": [],
   "source": [
    "from collections import defaultdict\n",
    "\n",
    "# Example 1: Creating a defaultdict with int as default factory\n",
    "d = defaultdict(int)\n",
    "d['a'] = 1\n",
    "d['b'] = 2\n",
    "print(d)\n",
    "print(d['c'])  # Output: 0 (default value for int)"
   ]
  },
  {
   "cell_type": "code",
   "execution_count": null,
   "id": "48c94407",
   "metadata": {},
   "outputs": [],
   "source": [
    "# Example 1.1 \n",
    "\n",
    "from collections import defaultdict\n",
    "d = defaultdict(int)\n",
    "d[\"scores\"] += 1\n",
    "d[\"scores\"] += 1\n",
    "print(d)\n",
    "print(d[\"names\"]) # missing key"
   ]
  },
  {
   "cell_type": "code",
   "execution_count": null,
   "id": "bed16d86",
   "metadata": {},
   "outputs": [],
   "source": [
    "from collections import defaultdict\n",
    "\n",
    "# Example 2: Creating a defaultdict with list as default factory\n",
    "d = defaultdict(list)\n",
    "d['a'].append(1)\n",
    "d['b'].append(2)\n",
    "print(d['c'])  # Output: [] (default value for list)\n",
    "print(d)"
   ]
  },
  {
   "cell_type": "code",
   "execution_count": null,
   "id": "1edb9040",
   "metadata": {},
   "outputs": [],
   "source": [
    "from collections import defaultdict\n",
    "\n",
    "# Example 3: Creating a defaultdict with set as default factory\n",
    "d = defaultdict(set)\n",
    "d['a'].add(1)\n",
    "d['b'].add(2)\n",
    "print(d['c'])  # Output: set() (default value for set)\n",
    "print(d)"
   ]
  },
  {
   "cell_type": "code",
   "execution_count": null,
   "id": "0d47285d",
   "metadata": {},
   "outputs": [],
   "source": [
    "#Example 4 : creating a defaultdict with custome function as default factory\n",
    "from collections import defaultdict\n",
    "\n",
    "def welcome():\n",
    "    return \"Welcome to shan's Python course\"\n",
    "\n",
    "my_dict = defaultdict(welcome)\n",
    "\n",
    "my_dict[\"Name\"] = \"Lisa\"\n",
    "my_dict[\"Age\"] = 20\n",
    "print(my_dict)\n",
    "\n",
    "print(my_dict[\"course\"])\n"
   ]
  },
  {
   "cell_type": "code",
   "execution_count": null,
   "id": "21a6cc0d",
   "metadata": {},
   "outputs": [],
   "source": [
    "#Example 5 : using lambda as defaultdic\n",
    "from collections import defaultdict\n",
    "emp_origin = defaultdict(lambda : \"USA\")\n",
    "emp_origin[\"Munna\"] = \"India\"\n",
    "print(emp_origin[\"Munna\"])\n",
    "print(emp_origin[\"Jackson\"])"
   ]
  },
  {
   "cell_type": "code",
   "execution_count": null,
   "id": "d64dd923",
   "metadata": {},
   "outputs": [],
   "source": [
    "\"\"\"\n",
    "Count Items in a List Using Python defaultdict:\n",
    "==============================================\n",
    "\n",
    "\"\"\"\n",
    "# Counting Items in a List\n",
    "names = ['Nik', 'Kate', 'Evan', 'Kyra', 'John', 'Nik', 'Kate', 'Nik']\n",
    "\n",
    "counts = {}\n",
    "for name in names:\n",
    "    if name in counts:\n",
    "        counts[name] += 1\n",
    "    else:\n",
    "        counts[name] = 1\n",
    "\n",
    "print(counts)\n",
    "\n",
    "# Returns: {'Nik': 3, 'Kate': 2, 'Evan': 1, 'Kyra': 1, 'John': 1}"
   ]
  },
  {
   "cell_type": "code",
   "execution_count": null,
   "id": "2a0f65b5",
   "metadata": {},
   "outputs": [],
   "source": [
    "# Counting Items in a List with defaultdict\n",
    "from collections import defaultdict\n",
    "\n",
    "names = ['Nik', 'Kate', 'Evan', 'Kyra', 'John', 'Nik', 'Kate', 'Nik']\n",
    "\n",
    "counts = defaultdict(int)\n",
    "for name in names:\n",
    "    counts[name] += 1\n",
    "\n",
    "print(counts)\n",
    "\n",
    "# Returns: defaultdict(<class 'int'>, {'Nik': 3, 'Kate': 2, 'Evan': 1, 'Kyra': 1, 'John': 1})"
   ]
  },
  {
   "cell_type": "code",
   "execution_count": null,
   "id": "37bd0551",
   "metadata": {},
   "outputs": [],
   "source": [
    "\"\"\"\n",
    "Group Data with Python defaultdict\n",
    "==================================\n",
    "\n",
    "We can use the defaultdict object to group data based on other data structures. With this, \n",
    "we can iterate over some object, such as a list of tuples, another dictionary, or a set of lists to \n",
    "group data in meaningful ways.\n",
    "\n",
    "Person                        \tHometown\n",
    "--------------------------------------------\n",
    "Nik              |            \tToronto\n",
    "Kate             |            \tToronto\n",
    "Evan             |             \tLondon\n",
    "Kyra             |            \tNew York\n",
    "Jane             |            \tNew York\n",
    "\n",
    "\n",
    "Expected output:\n",
    "==============\n",
    "Toronto      \t['Nik', 'Kate']\n",
    "London      \t['Kyra']\n",
    "New York    \t['Evan', 'Jane']\n",
    "\"\"\""
   ]
  },
  {
   "cell_type": "code",
   "execution_count": null,
   "id": "6fc41115",
   "metadata": {},
   "outputs": [],
   "source": [
    "# Grouping Items with Dictionaries\n",
    "people = {'Nik': 'Toronto', 'Kate': 'Toronto', 'Evan': 'London', 'Kyra': 'New York', 'Jane': 'New York'}\n",
    "locations = {}\n",
    "\n",
    "for person, location in people.items():\n",
    "    if location in locations:\n",
    "        locations[location].append(person)\n",
    "    else:\n",
    "        locations[location] = [person]\n",
    "\n",
    "print(locations)\n"
   ]
  },
  {
   "cell_type": "code",
   "execution_count": null,
   "id": "4a9b4cd0",
   "metadata": {},
   "outputs": [],
   "source": [
    "# Grouping Items with Dictionaries with defaultdict\n",
    "from collections import defaultdict\n",
    "people = {'Nik': 'Toronto', 'Kate': 'Toronto', 'Evan': 'London', 'Kyra': 'New York', 'Jane': 'New York'}\n",
    "locations = defaultdict(list)\n",
    "\n",
    "for person, location in people.items():\n",
    "    locations[location].append(person)\n",
    "\n",
    "print(locations)"
   ]
  },
  {
   "cell_type": "code",
   "execution_count": null,
   "id": "9dc31116",
   "metadata": {},
   "outputs": [],
   "source": [
    "\"\"\"\n",
    "Accumulate Data with Python defaultdict\n",
    "=======================================\n",
    "\n",
    "Your data is stored in a list of tuples, where the first value is the category and the second is the amount spent.\n",
    "Let’s take a look at how we can make this work.\n",
    "\"\"\""
   ]
  },
  {
   "cell_type": "code",
   "execution_count": null,
   "id": "8fcbf1cb",
   "metadata": {},
   "outputs": [],
   "source": [
    "# Accumulating Data with defaultdict\n",
    "from collections import defaultdict\n",
    "data = [('Groceries', 12.34), ('Entertainment', 5.40), ('Groceries', 53.45), \n",
    "        ('Video Games', 65.32), ('Groceries', 33.12), ('Entertainment', 15.44), \n",
    "        ('Groceries', 34.45), ('Video Games', 32.22)]\n",
    "\n",
    "accumulated = defaultdict(float)\n",
    "for category, amount in data:\n",
    "    accumulated[category] += amount\n",
    "\n",
    "print(accumulated)\n",
    "\n",
    "# Returns: defaultdict(<class 'int'>, {'Groceries': 133.36, 'Entertainment': 20.84, 'Video Games': 97.54})"
   ]
  },
  {
   "cell_type": "code",
   "execution_count": null,
   "id": "95759518",
   "metadata": {},
   "outputs": [],
   "source": [
    "\"\"\"\n",
    "__missing__(key):\n",
    "================\n",
    "We can use the magic method __missing__(key) to access the default value of missing keys.\"\"\"\n"
   ]
  },
  {
   "cell_type": "code",
   "execution_count": null,
   "id": "ccf3d83e",
   "metadata": {},
   "outputs": [],
   "source": [
    "#Example of using __missing__() in Python\n",
    "\n",
    "#Since the key “Python” is missing, defaultdict returned the default value “Welcomet to shan's python course”.\n",
    "\n",
    "from collections import defaultdict\n",
    "learning_sites = defaultdict(lambda : \"Welcomet to shan's python course\")\n",
    "print(learning_sites.__missing__(\"Python\"))"
   ]
  },
  {
   "cell_type": "code",
   "execution_count": null,
   "id": "48beaebf",
   "metadata": {},
   "outputs": [],
   "source": [
    "\"\"\"\n",
    "__getitem__():\n",
    "==============\n",
    "\n",
    "Usually, This method is invoked by another magic method __getitem__() when the key we try to access is \n",
    "not defined in the dictionary.\n",
    "\n",
    "Example of using  in Python\n",
    "\"\"\"\n",
    "from collections import defaultdict\n",
    "learning_sites = defaultdict(lambda : \"Welcomet to shan's python course\")\n",
    "print(learning_sites.__getitem__(\"Python\"))"
   ]
  },
  {
   "cell_type": "code",
   "execution_count": null,
   "id": "307b157b",
   "metadata": {},
   "outputs": [],
   "source": [
    "\"\"\"\n",
    "Questions:\n",
    "==========\n",
    "Q1. Create an empty dictionary that prints a value 5 when any key is called\n",
    "Q2. Create a defaultdict with default value “Hello”.\n",
    "Q3. Create a defaultdict with default value 100. The keyword def should not be used.\n",
    "Q4. Create a defaultdict with an empty tuple as the default value of all keys.\n",
    "Q5. Create a defaultdict by using int as a defaultfactory.\n",
    "Q6. Use default dict to resolve this question\n",
    "        fish_inventory = [\n",
    "            (\"Sammy\", \"shark\", \"tank-a\"),\n",
    "            (\"Jamie\", \"cuttlefish\", \"tank-b\"),\n",
    "            (\"Mary\", \"squid\", \"tank-a\"),\n",
    "        ]\n",
    "        \n",
    "        Expected output : {'tank-a': ['Sammy', 'Mary'], 'tank-b': ['Jamie']})\n",
    "\"\"\""
   ]
  }
 ],
 "metadata": {
  "kernelspec": {
   "display_name": "Python 3 (ipykernel)",
   "language": "python",
   "name": "python3"
  },
  "language_info": {
   "codemirror_mode": {
    "name": "ipython",
    "version": 3
   },
   "file_extension": ".py",
   "mimetype": "text/x-python",
   "name": "python",
   "nbconvert_exporter": "python",
   "pygments_lexer": "ipython3",
   "version": "3.9.7"
  }
 },
 "nbformat": 4,
 "nbformat_minor": 5
}

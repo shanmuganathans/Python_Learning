{
 "cells": [
  {
   "cell_type": "code",
   "execution_count": null,
   "metadata": {},
   "outputs": [],
   "source": [
    "\"\"\"\n",
    "    Modules in Python:\n",
    "    =================\n",
    "        Modules refer to a file containing Python statements and definitions.\n",
    "\n",
    "        A file containing Python code, for e.g.: addition.py, is called a module and its module name would be addition.\n",
    "\n",
    "        We use modules to break down large programs into small manageable and organized files.\n",
    "        Furthermore, modules provide reusability of code.\n",
    "\n",
    "        We can define our most used functions in a module and import it, instead \n",
    "        of copying their definitions into different programs.\n",
    "\"\"\""
   ]
  },
  {
   "cell_type": "code",
   "execution_count": null,
   "metadata": {},
   "outputs": [],
   "source": [
    "\"\"\"\n",
    "    Import modules in Python:\n",
    "    =========================\n",
    "    We can import the definitions inside a module to another module or the\n",
    "    interactive interpreter in Python.\n",
    "\n",
    "    We use the import keyword to do this. To import our previously defined \n",
    "    module addition we type the following in the Python promp\n",
    "\"\"\""
   ]
  },
  {
   "cell_type": "code",
   "execution_count": 3,
   "metadata": {},
   "outputs": [
    {
     "name": "stdout",
     "output_type": "stream",
     "text": [
      "14\n"
     ]
    }
   ],
   "source": [
    "# Example\n",
    "import addition\n",
    "\n",
    "result = addition.add(4,10)\n",
    "\n",
    "print(result)"
   ]
  },
  {
   "cell_type": "code",
   "execution_count": null,
   "metadata": {},
   "outputs": [],
   "source": [
    "\"\"\"\n",
    "    This does not enter the names of the functions defined in example directly in \n",
    "    the current symbol table. It only enters the module name addition there.\n",
    "\n",
    "    Using the module name we can access the function using the dot . operator.\n",
    "    \n",
    "    For example:\n",
    "        addition.add(4,10)\n",
    "\"\"\""
   ]
  },
  {
   "cell_type": "code",
   "execution_count": null,
   "metadata": {},
   "outputs": [],
   "source": [
    "\"\"\"\n",
    "    Python has a ton of standard modules available.\n",
    "\n",
    "    You can check out the full list of Python standard modules and what they are for.\n",
    "    These files are in the Lib directory inside the location where you installed Python.\n",
    "\n",
    "    Standard modules can be imported the same way as we import our user-defined modules.\n",
    "\n",
    "    There are various ways to import modules.\n",
    "    Please see below url for the python standard lib\n",
    "    https://docs.python.org/3/py-modindex.html\n",
    "\"\"\""
   ]
  },
  {
   "cell_type": "code",
   "execution_count": null,
   "metadata": {},
   "outputs": [],
   "source": [
    "\"\"\"\n",
    "    Python import statement:\n",
    "    =======================\n",
    "        We can import a module using import statement and access the definitions inside\n",
    "        it using the dot operator as described above. Here is an example.\n",
    "\"\"\""
   ]
  },
  {
   "cell_type": "code",
   "execution_count": 4,
   "metadata": {},
   "outputs": [
    {
     "name": "stdout",
     "output_type": "stream",
     "text": [
      "14\n"
     ]
    }
   ],
   "source": [
    "from addition import add\n",
    "result = add(10,4)\n",
    "print(result)"
   ]
  },
  {
   "cell_type": "code",
   "execution_count": null,
   "metadata": {},
   "outputs": [],
   "source": []
  },
  {
   "cell_type": "code",
   "execution_count": 6,
   "metadata": {},
   "outputs": [
    {
     "name": "stdout",
     "output_type": "stream",
     "text": [
      "14\n"
     ]
    }
   ],
   "source": [
    "\"\"\"\n",
    "    Import with renaming:\n",
    "    ====================\n",
    "        We can import a module by renaming it as follows.\n",
    "\"\"\"\n",
    "from addition import add as add_operation\n",
    "result = add_operation(10,4)\n",
    "print(result)"
   ]
  },
  {
   "cell_type": "code",
   "execution_count": 8,
   "metadata": {},
   "outputs": [
    {
     "name": "stdout",
     "output_type": "stream",
     "text": [
      "14\n"
     ]
    }
   ],
   "source": [
    "#Example\n",
    "import addition as add_op\n",
    "result = add_op.add(10,4)\n",
    "print(result)"
   ]
  },
  {
   "cell_type": "code",
   "execution_count": 15,
   "metadata": {},
   "outputs": [
    {
     "name": "stdout",
     "output_type": "stream",
     "text": [
      "The value of pi is 3.141592653589793\n",
      "The value of e is 2.718281828459045\n"
     ]
    }
   ],
   "source": [
    "\"\"\"\n",
    "    Example for Built in module:\n",
    "    ============================\n",
    "    1. math module\n",
    "    2. sys module\n",
    "\"\"\"\n",
    "# import statement example\n",
    "# to import standard module math\n",
    "\n",
    "import math\n",
    "print(\"The value of pi is\", math.pi)\n",
    "print(\"The value of e is\",math.e)"
   ]
  },
  {
   "cell_type": "code",
   "execution_count": 10,
   "metadata": {},
   "outputs": [
    {
     "name": "stdout",
     "output_type": "stream",
     "text": [
      "The value of pi is 3.141592653589793\n"
     ]
    }
   ],
   "source": [
    "import math as m\n",
    "print(\"The value of pi is\", m.pi)\n",
    "print(\"The value of e is\",m.e)"
   ]
  },
  {
   "cell_type": "code",
   "execution_count": 14,
   "metadata": {},
   "outputs": [
    {
     "name": "stdout",
     "output_type": "stream",
     "text": [
      "The value of pi is 3.141592653589793\n",
      "The value of e is 2.718281828459045\n"
     ]
    }
   ],
   "source": [
    "# import only pi from math module\n",
    "\n",
    "from math import pi,e\n",
    "print(\"The value of pi is\", pi)\n",
    "print(\"The value of e is\",e)"
   ]
  },
  {
   "cell_type": "code",
   "execution_count": 13,
   "metadata": {},
   "outputs": [
    {
     "name": "stdout",
     "output_type": "stream",
     "text": [
      "The value of pi is 3.141592653589793\n",
      "The value of e is 2.718281828459045\n"
     ]
    }
   ],
   "source": [
    "# import all names from the standard module math\n",
    "\n",
    "from math import *\n",
    "print(\"The value of pi is\", pi)\n",
    "print(\"The value of e is\",e)"
   ]
  },
  {
   "cell_type": "code",
   "execution_count": 16,
   "metadata": {},
   "outputs": [
    {
     "name": "stdout",
     "output_type": "stream",
     "text": [
      "['/Users/shanmuganathan.s/Documents/Bigziel/Python Modules', '//anaconda3/lib/python37.zip', '//anaconda3/lib/python3.7', '//anaconda3/lib/python3.7/lib-dynload', '', '//anaconda3/lib/python3.7/site-packages', '//anaconda3/lib/python3.7/site-packages/aeosa', '//anaconda3/lib/python3.7/site-packages/IPython/extensions', '/Users/shanmuganathan.s/.ipython']\n"
     ]
    }
   ],
   "source": [
    "\"\"\"\n",
    "    Python Module Search Path:\n",
    "    ==========================\n",
    "        While importing a module, Python looks at several places. Interpreter first \n",
    "        looks for a built-in module then (if not found) into a list of directories \n",
    "        defined in sys.path. The search is in this order.\n",
    "\n",
    "        The current directory.\n",
    "        PYTHONPATH (an environment variable with a list of directory).\n",
    "        The installation-dependent default directory.\n",
    "\"\"\"\n",
    "import sys\n",
    "print(sys.path)"
   ]
  },
  {
   "cell_type": "code",
   "execution_count": 17,
   "metadata": {},
   "outputs": [
    {
     "name": "stdout",
     "output_type": "stream",
     "text": [
      "Example for reloading\n"
     ]
    }
   ],
   "source": [
    "\"\"\"\n",
    "    Reloading a module:\n",
    "    ==================\n",
    "    The Python interpreter imports a module only once during a session. \n",
    "    This makes things more efficient. Here is an example to show how this works.\n",
    "\"\"\"\n",
    "import reloading"
   ]
  },
  {
   "cell_type": "code",
   "execution_count": 18,
   "metadata": {},
   "outputs": [],
   "source": [
    "import reloading"
   ]
  },
  {
   "cell_type": "code",
   "execution_count": 20,
   "metadata": {},
   "outputs": [
    {
     "name": "stdout",
     "output_type": "stream",
     "text": [
      "Example for reloading\n"
     ]
    },
    {
     "data": {
      "text/plain": [
       "<module 'reloading' from '/Users/shanmuganathan.s/Documents/Bigziel/Python Modules/reloading.py'>"
      ]
     },
     "execution_count": 20,
     "metadata": {},
     "output_type": "execute_result"
    }
   ],
   "source": [
    "\"\"\"\n",
    "    We can see that our code got executed only once. This goes to say that our \n",
    "    module was imported only once.\n",
    "\n",
    "    Now if our module changed during the course of the program, we would have\n",
    "    to reload it.One way to do this is to restart the interpreter.\n",
    "    But this does not help much.\n",
    "\n",
    "    Python provides a neat way of doing this. We can use the reload() function inside \n",
    "    the imp module to reload a module. This is how its done.\n",
    "\"\"\"\n",
    "import imp\n",
    "import reloading\n",
    "imp.reload(reloading)"
   ]
  },
  {
   "cell_type": "code",
   "execution_count": 22,
   "metadata": {},
   "outputs": [
    {
     "data": {
      "text/plain": [
       "'addition'"
      ]
     },
     "execution_count": 22,
     "metadata": {},
     "output_type": "execute_result"
    }
   ],
   "source": [
    "\"\"\"\n",
    "    The dir() built-in function:\n",
    "    ============================\n",
    "        We can use the dir() function to find out names that are defined inside a module.\n",
    "\"\"\"\n",
    "\n",
    "# For example, we have defined a function add() in the module addition that we had in the beginning.\n",
    "\n",
    "dir(addition)\n",
    "\n"
   ]
  },
  {
   "cell_type": "code",
   "execution_count": 23,
   "metadata": {},
   "outputs": [
    {
     "data": {
      "text/plain": [
       "'addition'"
      ]
     },
     "execution_count": 23,
     "metadata": {},
     "output_type": "execute_result"
    }
   ],
   "source": [
    "\"\"\"\n",
    "    Here, we can see a sorted list of names (along with add). All other names that\n",
    "    begin with an underscore are default Python attributes associated with the module \n",
    "    (we did not define them ourself).\n",
    "\"\"\"\n",
    "import addition\n",
    "addition.__name__"
   ]
  },
  {
   "cell_type": "code",
   "execution_count": null,
   "metadata": {},
   "outputs": [],
   "source": [
    "\"\"\"\n",
    "    Example for importing class\n",
    "\"\"\""
   ]
  },
  {
   "cell_type": "code",
   "execution_count": 6,
   "metadata": {},
   "outputs": [
    {
     "data": {
      "text/plain": [
       "0.5"
      ]
     },
     "execution_count": 6,
     "metadata": {},
     "output_type": "execute_result"
    }
   ],
   "source": [
    "# Example for access the object from the imported class\n",
    "import math_operation\n",
    "test_object = math_operation.MathOperation(1,2)\n",
    "test_object.div()"
   ]
  },
  {
   "cell_type": "code",
   "execution_count": 7,
   "metadata": {},
   "outputs": [
    {
     "data": {
      "text/plain": [
       "8"
      ]
     },
     "execution_count": 7,
     "metadata": {},
     "output_type": "execute_result"
    }
   ],
   "source": [
    "# Access the object that already created in class\n",
    "math_operation.obj.sub()"
   ]
  },
  {
   "cell_type": "code",
   "execution_count": 5,
   "metadata": {},
   "outputs": [
    {
     "name": "stdout",
     "output_type": "stream",
     "text": [
      "30\n"
     ]
    },
    {
     "data": {
      "text/plain": [
       "200"
      ]
     },
     "execution_count": 5,
     "metadata": {},
     "output_type": "execute_result"
    }
   ],
   "source": [
    "from math_operation import MathOperation\n",
    "\n",
    "# dir(MathOperation)\n",
    "# access the function and pass the input to the function after import\n",
    "result = MathOperation.new_add(10,20)\n",
    "print(result)\n",
    "\n",
    "# Create new object by using imported class name\n",
    "obj2 = MathOperation(100,100)\n",
    "obj2.add()\n"
   ]
  },
  {
   "cell_type": "code",
   "execution_count": null,
   "metadata": {},
   "outputs": [],
   "source": []
  }
 ],
 "metadata": {
  "kernelspec": {
   "display_name": "Python 3 (ipykernel)",
   "language": "python",
   "name": "python3"
  },
  "language_info": {
   "codemirror_mode": {
    "name": "ipython",
    "version": 3
   },
   "file_extension": ".py",
   "mimetype": "text/x-python",
   "name": "python",
   "nbconvert_exporter": "python",
   "pygments_lexer": "ipython3",
   "version": "3.9.7"
  }
 },
 "nbformat": 4,
 "nbformat_minor": 2
}

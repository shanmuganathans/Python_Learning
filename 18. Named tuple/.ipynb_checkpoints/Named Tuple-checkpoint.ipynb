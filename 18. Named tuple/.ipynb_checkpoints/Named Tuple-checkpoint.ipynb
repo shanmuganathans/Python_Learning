{
 "cells": [
  {
   "cell_type": "code",
   "execution_count": null,
   "id": "f12c345a",
   "metadata": {},
   "outputs": [],
   "source": [
    "\"\"\"\n",
    "Namedtuple:\n",
    "===========\n",
    "Python’s namedtuple() is a factory function available in collections. \n",
    "It allows you to create tuple subclasses with named fields. \n",
    "You can access the values in a given named tuple using the dot notation and the field names, like in obj.attr.\n",
    "\n",
    "Python’s namedtuple was created to improve code readability by providing a way to access values using \n",
    "descriptive field names instead of integer indices, which most of the time don’t provide any context \n",
    "on what the values are. This feature also makes the code cleaner and more maintainable.\n",
    "\n",
    "\"\"\""
   ]
  },
  {
   "cell_type": "code",
   "execution_count": null,
   "id": "81decea5",
   "metadata": {},
   "outputs": [],
   "source": [
    "\"\"\"\n",
    "Advantages of Using Named Tuples:\n",
    "==================================\n",
    "Named tuples are a powerful feature in Python that allow us to create tuple subclasses with named fields. \n",
    "They provide an easy way to define simple classes without the overhead of defining a full class. In this section, \n",
    "we will discuss the advantages of using named tuples in Python.\n",
    "\n",
    "1. Readability and Maintainability: \n",
    "    Named tuples provide more readable and maintainable code as compared to regular tuples or dictionaries.\n",
    "    With named tuples, you can access the elements by their names instead of using index numbers.\n",
    "    This makes the code more readable and less prone to errors.\n",
    "\n",
    "2. Immutable: \n",
    "        Like regular tuples, named tuples are immutable, which means that once they are created,\n",
    "        their values cannot be changed. This is an important feature when dealing with data that\n",
    "        should not be modified.\n",
    "\n",
    "3. Memory Efficient: \n",
    "        Named tuples are memory efficient as they do not require as much memory as regular classes. \n",
    "        This is because they use a single tuple instance to store the data for each instance of the named tuple.\n",
    "\n",
    "4. Default Values:\n",
    "        Named tuples allow you to set default values for their fields, which makes it easier \n",
    "        to handle missing data or optional arguments.\n",
    "\n",
    "5. Unpacking: \n",
    "        Named tuples can be easily unpacked into separate variables,\n",
    "        just like regular tuples.\n",
    "\n",
    "Overall, named tuples provide a convenient and efficient way to create simple classes with read-only \n",
    "attributes in Python. They offer better readability and maintainability than regular tuples or dictionaries,\n",
    "while also being memory-efficient and immutable.\n",
    "\"\"\""
   ]
  },
  {
   "cell_type": "code",
   "execution_count": null,
   "id": "78d71f82",
   "metadata": {},
   "outputs": [],
   "source": [
    "\"\"\"\n",
    "Define NamedTuple:\n",
    "==================\n",
    "\n",
    "In Python, a named tuple is a subclass of tuples that has named fields. \n",
    "It is a lightweight data structure that is similar to a struct in C or a class in Python. \n",
    "The named tuple provides an easy way to define a new class with some fixed properties. \n",
    "It is immutable, which means that once you create it, you cannot change its values.\n",
    "\n",
    "To define a named tuple in Python, you first need to import the “namedtuple” function from the “collections” module.\n",
    "\"\"\""
   ]
  },
  {
   "cell_type": "code",
   "execution_count": 2,
   "id": "d3e6ad94",
   "metadata": {},
   "outputs": [
    {
     "name": "stdout",
     "output_type": "stream",
     "text": [
      "1\n",
      "2\n",
      "1\n",
      "2\n"
     ]
    },
    {
     "ename": "TypeError",
     "evalue": "'builtin_function_or_method' object does not support item assignment",
     "output_type": "error",
     "traceback": [
      "\u001b[0;31m---------------------------------------------------------------------------\u001b[0m",
      "\u001b[0;31mTypeError\u001b[0m                                 Traceback (most recent call last)",
      "\u001b[0;32m/var/folders/rx/8t9n509n7674qhwkwcyyw7q40000gn/T/ipykernel_2395/3653406416.py\u001b[0m in \u001b[0;36m<module>\u001b[0;34m\u001b[0m\n\u001b[1;32m     15\u001b[0m \u001b[0;34m\u001b[0m\u001b[0m\n\u001b[1;32m     16\u001b[0m \u001b[0;34m\u001b[0m\u001b[0m\n\u001b[0;32m---> 17\u001b[0;31m \u001b[0mprint\u001b[0m\u001b[0;34m[\u001b[0m\u001b[0;36m0\u001b[0m\u001b[0;34m]\u001b[0m \u001b[0;34m=\u001b[0m \u001b[0;36m1\u001b[0m\u001b[0;34m\u001b[0m\u001b[0;34m\u001b[0m\u001b[0m\n\u001b[0m",
      "\u001b[0;31mTypeError\u001b[0m: 'builtin_function_or_method' object does not support item assignment"
     ]
    }
   ],
   "source": [
    "from collections import namedtuple\n",
    "\n",
    "# Define a named tuple for a point\n",
    "Point = namedtuple('Point', ['x', 'y'])\n",
    "\n",
    "# Create an instance of the Point\n",
    "p = Point(1, 2)\n",
    "\n",
    "# Access the values of the named tuple\n",
    "print(p.x)    # Output: 1\n",
    "print(p.y)    # Output: 2\n",
    "\n",
    "# print(p[0])\n",
    "# print(p[1])\n"
   ]
  },
  {
   "cell_type": "code",
   "execution_count": null,
   "id": "fe370660",
   "metadata": {},
   "outputs": [],
   "source": [
    "\"\"\"\n",
    "In the above example, we defined a named tuple called “Point” with two fields: “x” and “y”. \n",
    "The first argument of the “namedtuple” function is the name of the class, and the second argument\n",
    "is a list of field names.\n",
    "\n",
    "We then created an instance of the Point named tuple by passing two values to it, \n",
    "and assigned it to variable p. We can access the values of the named tuple using dot notation.\n",
    "\n",
    "\n",
    "\"\"\""
   ]
  },
  {
   "cell_type": "code",
   "execution_count": 3,
   "id": "e8e11bb4",
   "metadata": {},
   "outputs": [
    {
     "name": "stdout",
     "output_type": "stream",
     "text": [
      "255\n",
      "0\n",
      "0\n"
     ]
    }
   ],
   "source": [
    "\n",
    "from collections import namedtuple\n",
    "\n",
    "# Define a named tuple for a color\n",
    "Color = namedtuple('Color', 'red green blue')\n",
    "\n",
    "# Create an instance of the Color\n",
    "c = Color(255, 0, 0)\n",
    "\n",
    "# Access the values of the named tuple\n",
    "print(c.red)    # Output: 255\n",
    "print(c.green)  # Output: 0\n",
    "print(c.blue)   # Output: 0\n"
   ]
  },
  {
   "cell_type": "code",
   "execution_count": null,
   "id": "838dc4fd",
   "metadata": {},
   "outputs": [],
   "source": [
    "\"\"\"\n",
    "In the above example, we defined a named tuple called “Color” with three fields: “red”, “green”, and “blue”. \n",
    "We created an instance of the Color named tuple by passing three values to it, and assigned it to variable c.\n",
    "We can access the values of the named tuple using dot notation.\n",
    "\"\"\""
   ]
  },
  {
   "cell_type": "code",
   "execution_count": null,
   "id": "4b51b966",
   "metadata": {},
   "outputs": [],
   "source": [
    "\"\"\"\n",
    "Accessing Elements in a Named Tuple:\n",
    "====================================\n",
    "\n",
    "Once you have created a named tuple, you can access its elements using the dot notation. \n",
    "This is similar to accessing attributes of an object in Python.\n",
    "\n",
    "Let’s say we have a named tuple called `Person` with fields `name`, `age`, and `location`.\n",
    "We can create an instance of this named tuple as follows:\n",
    "\n",
    "\"\"\""
   ]
  },
  {
   "cell_type": "code",
   "execution_count": 4,
   "id": "73f0ac08",
   "metadata": {},
   "outputs": [],
   "source": [
    "\n",
    "from collections import namedtuple\n",
    "\n",
    "Person = namedtuple('Person', ['name', 'age', 'location'])\n",
    "\n",
    "person1 = Person(name='John', age=25, location='New York')\n"
   ]
  },
  {
   "cell_type": "code",
   "execution_count": null,
   "id": "4d34b0f4",
   "metadata": {},
   "outputs": [],
   "source": [
    "\"\"\"\n",
    "To access the elements of `person1`, we simply use the dot notation.\n",
    "For example, to access the name of the person, we use `person1.name`.\n",
    "\"\"\"\n",
    "\n",
    "print(person1.name)   # Output: John\n"
   ]
  },
  {
   "cell_type": "code",
   "execution_count": null,
   "id": "bf2d846f",
   "metadata": {},
   "outputs": [],
   "source": [
    "\"\"\"\n",
    "Similarly, we can access other fields like age and location.\n",
    "\"\"\"\n",
    "\n",
    "print(person1.age)       # Output: 25\n",
    "print(person1.location)  # Output: New York\n"
   ]
  },
  {
   "cell_type": "code",
   "execution_count": 6,
   "id": "c907bb39",
   "metadata": {},
   "outputs": [
    {
     "name": "stdout",
     "output_type": "stream",
     "text": [
      "John\n"
     ]
    }
   ],
   "source": [
    "\"\"\"\n",
    "We can also access elements by their index position, just like we would in a regular tuple.\n",
    "\"\"\"\n",
    "\n",
    "print(person1[0])   # Output: John\n"
   ]
  },
  {
   "cell_type": "code",
   "execution_count": null,
   "id": "10241ea8",
   "metadata": {},
   "outputs": [],
   "source": [
    "\"\"\"\n",
    "One advantage of using named tuples over regular tuples is that it makes code more readable by using \n",
    "meaningful names for each element. It also makes it less error-prone because you don’t have to remember \n",
    "which index corresponds to which element.\n",
    "\n",
    "In summary, accessing elements in a named tuple is straightforward and can be done using the dot notation or \n",
    "by indexing with integers.\n",
    "\"\"\""
   ]
  },
  {
   "cell_type": "code",
   "execution_count": null,
   "id": "d8dcb11c",
   "metadata": {},
   "outputs": [],
   "source": [
    "\"\"\"\n",
    "Modifying a Named Tuple:\n",
    "========================\n",
    "Named tuples are immutable, which means that once they are created, their values cannot be changed.\n",
    "However, there are some workarounds to modify a named tuple.\n",
    "\n",
    "One way to modify a named tuple is by creating a new instance of it with updated values. \n",
    "Another way to modify a named tuple is by converting it to a dictionary.\n",
    "\"\"\"\n"
   ]
  },
  {
   "cell_type": "code",
   "execution_count": 7,
   "id": "44a4bee5",
   "metadata": {},
   "outputs": [
    {
     "name": "stdout",
     "output_type": "stream",
     "text": [
      "Point(x=1, y=2)\n"
     ]
    }
   ],
   "source": [
    "\n",
    "from collections import namedtuple\n",
    "\n",
    "Point = namedtuple('Point', ['x', 'y'])\n",
    "p = Point(1, 2)\n",
    "print(p)"
   ]
  },
  {
   "cell_type": "code",
   "execution_count": 9,
   "id": "4fc2f8ee",
   "metadata": {},
   "outputs": [
    {
     "name": "stdout",
     "output_type": "stream",
     "text": [
      "Point(x=3, y=2)\n"
     ]
    }
   ],
   "source": [
    "\"\"\"\n",
    "If we want to modify the value of `x`, we can create a new instance of `Point` with the updated value:\n",
    "p = Point(3, p.y)\n",
    "Now `p.x` will be equal to 3 and `p.y` will still be equal to 2.\n",
    "\"\"\"\n",
    "p = Point(3, p.y)\n",
    "print(p)"
   ]
  },
  {
   "cell_type": "code",
   "execution_count": 13,
   "id": "a363167e",
   "metadata": {},
   "outputs": [
    {
     "name": "stdout",
     "output_type": "stream",
     "text": [
      "Point(x=4, y=2)\n"
     ]
    }
   ],
   "source": [
    "\"\"\"\n",
    "Another way to modify a named tuple is by converting it to a dictionary, modifying the dictionary,\n",
    "and then creating a new instance of the named tuple with the updated dictionary values. \n",
    "\"\"\"\n",
    "\n",
    "d = p._asdict()\n",
    "d['x'] = 4\n",
    "p = Point(**d)\n",
    "\n",
    "print(p)"
   ]
  },
  {
   "cell_type": "code",
   "execution_count": null,
   "id": "70c0d9b1",
   "metadata": {},
   "outputs": [],
   "source": [
    "\"\"\"\n",
    "In this example, we first convert `p` to a dictionary using the `_asdict()` method. \n",
    "Then we update the value of `x` in the dictionary. Finally, we create a new instance of `Point` using the \n",
    "updated dictionary values.\n",
    "\n",
    "It’s important to note that both of these methods create new instances of the named tuple rather than \n",
    "modifying the original instance. This is because named tuples are immutable and cannot be modified in place.\n",
    "\"\"\""
   ]
  },
  {
   "cell_type": "code",
   "execution_count": null,
   "id": "910102d4",
   "metadata": {},
   "outputs": [],
   "source": [
    "\"\"\"\n",
    "Converting a Named Tuple to Other Data Types\n",
    "============================================\n",
    "Once you have created a named tuple, you may need to convert it to other data types such as dictionaries or lists.\n",
    "This can be useful when working with APIs or databases that require specific data types.\n",
    "\n",
    "\"\"\""
   ]
  },
  {
   "cell_type": "code",
   "execution_count": null,
   "id": "712518d0",
   "metadata": {},
   "outputs": [],
   "source": [
    "\"\"\"\n",
    "_asdict()\n",
    "==========\n",
    "\n",
    "To convert a named tuple to a dictionary, you can simply use the `_asdict()` method. \n",
    "This method returns an ordered dictionary with the field names as keys and the field values as values.\n",
    "\"\"\""
   ]
  },
  {
   "cell_type": "code",
   "execution_count": 14,
   "id": "62483ef6",
   "metadata": {},
   "outputs": [
    {
     "name": "stdout",
     "output_type": "stream",
     "text": [
      "{'name': 'John', 'age': 30, 'gender': 'Male'}\n"
     ]
    }
   ],
   "source": [
    "\n",
    "from collections import namedtuple\n",
    "\n",
    "Person = namedtuple('Person', ['name', 'age', 'gender'])\n",
    "person = Person('John', 30, 'Male')\n",
    "\n",
    "person_dict = person._asdict()\n",
    "print(person_dict) # Output: OrderedDict([('name', 'John'), ('age', 30), ('gender', 'Male')])\n"
   ]
  },
  {
   "cell_type": "code",
   "execution_count": 18,
   "id": "549d5e00",
   "metadata": {},
   "outputs": [
    {
     "name": "stdout",
     "output_type": "stream",
     "text": [
      "['John', 30, 'Male']\n"
     ]
    }
   ],
   "source": [
    "\"\"\"To convert a named tuple to a list, you can use the `list()` function. \n",
    "This function takes any iterable as input and returns a list containing its elements.\"\"\"\n",
    "\n",
    "person_list = list(person)\n",
    "print(person_list) # Output: ['John', 30, 'Male']\n"
   ]
  },
  {
   "cell_type": "code",
   "execution_count": 21,
   "id": "629366aa",
   "metadata": {},
   "outputs": [
    {
     "name": "stdout",
     "output_type": "stream",
     "text": [
      "Person(name='John', age=30, gender='Male')\n",
      "Person(name='Jane', age=25, gender='Female')\n"
     ]
    }
   ],
   "source": [
    "\"\"\"\n",
    "Conversely, if you have a dictionary or a list and want to convert it to a named tuple, \n",
    "you can use the `**` operator to unpack the values into the constructor of the named tuple.\n",
    "\"\"\"\n",
    "\n",
    "person_dict = {'name': 'John', 'age': 30, 'gender': 'Male'}\n",
    "person = Person(**person_dict)\n",
    "print(person) # Output: Person(name='John', age=30, gender='Male')\n",
    "\n",
    "person_list = ['Jane', 25, 'Female']\n",
    "person = Person(*person_list)\n",
    "print(person) # Output: Person(name='Jane', age=25, gender='Female')\n"
   ]
  },
  {
   "cell_type": "code",
   "execution_count": null,
   "id": "3d77e612",
   "metadata": {},
   "outputs": [],
   "source": [
    "\"\"\"\n",
    "In the above examples, we use the `**` operator to unpack the dictionary into the named tuple constructor,\n",
    "and the `*` operator to unpack the list into the constructor. This allows us to create a named tuple from \n",
    "a dictionary or a list with ease.\n",
    "\"\"\""
   ]
  },
  {
   "cell_type": "code",
   "execution_count": null,
   "id": "cb3e137b",
   "metadata": {},
   "outputs": [],
   "source": [
    "\"\"\"\n",
    "Built-in Methods for Named Tuples\n",
    "=================================\n",
    "\n",
    "Named tuples in Python are a powerful tool that can greatly simplify your code by allowing you to \n",
    "create custom data types with named fields. In addition to the basic functionality provided by named tuples, \n",
    "there are also several built-in methods that you can use to further enhance their usefulness\n",
    "\n",
    "1) _asdict\n",
    "2) _replace\n",
    "3) _fields\n",
    "\"\"\"\n"
   ]
  },
  {
   "cell_type": "code",
   "execution_count": 22,
   "id": "306c95b2",
   "metadata": {},
   "outputs": [
    {
     "name": "stdout",
     "output_type": "stream",
     "text": [
      "{'name': 'John', 'age': 30, 'gender': 'male'}\n"
     ]
    }
   ],
   "source": [
    "\"\"\"\n",
    "One of the most useful built-in methods for named tuples is `_asdict()`. \n",
    "This method returns an ordered dictionary representation of the named tuple, where the keys are the field \n",
    "names and the values are the corresponding values in the tuple. \n",
    "This can be particularly helpful when you need to convert a named tuple into a format that is more easily \n",
    "consumed by other parts of your code.\n",
    "\n",
    "\"\"\"\n",
    "\n",
    "from collections import namedtuple\n",
    "\n",
    "Person = namedtuple('Person', ['name', 'age', 'gender'])\n",
    "p = Person(name='John', age=30, gender='male')\n",
    "\n",
    "# Using _asdict() method\n",
    "person_dict = p._asdict()\n",
    "print(person_dict)\n"
   ]
  },
  {
   "cell_type": "code",
   "execution_count": 23,
   "id": "6c818563",
   "metadata": {},
   "outputs": [
    {
     "name": "stdout",
     "output_type": "stream",
     "text": [
      "Person(name='John', age=35, gender='male')\n"
     ]
    }
   ],
   "source": [
    "\"\"\"\n",
    "Another useful built-in method for named tuples is `_replace()`. \n",
    "This method creates a new named tuple with one or more fields replaced with new values. \n",
    "This is particularly useful when you need to modify one or more fields in a named tuple without changing \n",
    "any of the other fields.\n",
    "\"\"\"\n",
    "\n",
    "from collections import namedtuple\n",
    "\n",
    "Person = namedtuple('Person', ['name', 'age', 'gender'])\n",
    "p = Person(name='John', age=30, gender='male')\n",
    "\n",
    "# Using _replace() method\n",
    "new_person = p._replace(age=35)\n",
    "print(new_person)\n"
   ]
  },
  {
   "cell_type": "code",
   "execution_count": null,
   "id": "86cb0a79",
   "metadata": {},
   "outputs": [],
   "source": [
    "\"\"\"\n",
    "Finally, there is also a built-in method called `_fields` which returns a tuple containing all of \n",
    "the field names for a given named tuple. This can be particularly useful when you need to iterate over \n",
    "all of the fields in a named tuple, or when you need to dynamically generate code based on the field names.\n",
    "\"\"\""
   ]
  }
 ],
 "metadata": {
  "kernelspec": {
   "display_name": "Python 3 (ipykernel)",
   "language": "python",
   "name": "python3"
  },
  "language_info": {
   "codemirror_mode": {
    "name": "ipython",
    "version": 3
   },
   "file_extension": ".py",
   "mimetype": "text/x-python",
   "name": "python",
   "nbconvert_exporter": "python",
   "pygments_lexer": "ipython3",
   "version": "3.9.7"
  }
 },
 "nbformat": 4,
 "nbformat_minor": 5
}

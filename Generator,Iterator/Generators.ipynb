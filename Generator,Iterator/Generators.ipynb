{
 "cells": [
  {
   "cell_type": "code",
   "execution_count": null,
   "id": "32a12dbf",
   "metadata": {},
   "outputs": [],
   "source": [
    "\"\"\"\n",
    "    Python Generators\n",
    "    =================\n",
    "        There is a lot of work in building an iterator in Python. We have to implement a class with __iter__()\n",
    "        and __next__() method, keep track of internal states, and raise StopIteration when there are no values \n",
    "        to be returned.\n",
    "\n",
    "        This is both lengthy and counterintuitive. Generator comes to the rescue in such situations.\n",
    "\n",
    "        Python generators are a simple way of creating iterators. All the work we mentioned above are automatically \n",
    "        handled by generators in Python.\n",
    "\n",
    "        Simply speaking, a generator is a function that returns an object (iterator) which we can iterate over \n",
    "        (one value at a time).\n",
    "\n",
    "\n",
    "\"\"\""
   ]
  },
  {
   "cell_type": "code",
   "execution_count": null,
   "id": "628555ce",
   "metadata": {},
   "outputs": [],
   "source": [
    "\"\"\"\n",
    "    Create Generators in Python\n",
    "    ===========================\n",
    "        It is fairly simple to create a generator in Python. It is as easy as defining a normal function,\n",
    "        but with a yield statement instead of a return statement.\n",
    "\n",
    "        If a function contains at least one yield statement (it may contain other yield or return statements), \n",
    "        it becomes a generator function. Both yield and return will return some value from a function.\n",
    "\n",
    "        The difference is that while a return statement terminates a function entirely, yield statement pauses the \n",
    "        function saving all its states and later continues from there on successive calls.\n",
    "\n",
    "\n",
    "\"\"\""
   ]
  },
  {
   "cell_type": "code",
   "execution_count": 7,
   "id": "523e460a",
   "metadata": {},
   "outputs": [],
   "source": [
    "def sample_gen():\n",
    "    \"\"\"sample function with print()\"\"\"\n",
    "    n = 0\n",
    "    print(\"First element of the generator\")\n",
    "    \n",
    "    n+=1\n",
    "    \n",
    "    print(\"Second element of the generator\")\n",
    "    \n",
    "    n+=1\n",
    "    \n",
    "    print(\"Thrid element of the generator\")"
   ]
  },
  {
   "cell_type": "code",
   "execution_count": 6,
   "id": "cd1fbd44",
   "metadata": {},
   "outputs": [
    {
     "name": "stdout",
     "output_type": "stream",
     "text": [
      "First element of the generator\n",
      "Second element of the generator\n",
      "Thrid element of the generator\n"
     ]
    }
   ],
   "source": [
    "sample_gen()"
   ]
  },
  {
   "cell_type": "code",
   "execution_count": 10,
   "id": "7b4fb74c",
   "metadata": {},
   "outputs": [
    {
     "name": "stdout",
     "output_type": "stream",
     "text": [
      "first element of the generator\n",
      "0\n"
     ]
    }
   ],
   "source": [
    "def sample_gen():\n",
    "    \"\"\"sample function with return\"\"\"\n",
    "    n = 0\n",
    "    print(\"first element of the generator\")\n",
    "    return n\n",
    "    \n",
    "    n = 1\n",
    "    print(\"Second element of the generator\")\n",
    "    return n\n",
    "\n",
    "test = sample_gen()\n",
    "print(test)"
   ]
  },
  {
   "cell_type": "code",
   "execution_count": 25,
   "id": "34a5b45f",
   "metadata": {},
   "outputs": [],
   "source": [
    "\"\"\" function with yield\"\"\"\n",
    "\n",
    "def sample_gen():\n",
    "    n = 0\n",
    "    print(\"first element of the generator\")\n",
    "    yield n\n",
    "    \n",
    "    n+=1\n",
    "    print(\"second element of the genereator\")\n",
    "    yield n\n",
    "    \n",
    "    n+=2\n",
    "    print(\"Third element of the generator\")\n",
    "    yield n\n",
    "    "
   ]
  },
  {
   "cell_type": "code",
   "execution_count": 26,
   "id": "c73b124e",
   "metadata": {},
   "outputs": [],
   "source": [
    "test_gen = sample_gen()"
   ]
  },
  {
   "cell_type": "code",
   "execution_count": 27,
   "id": "fceda5ff",
   "metadata": {},
   "outputs": [
    {
     "name": "stdout",
     "output_type": "stream",
     "text": [
      "first element of the generator\n"
     ]
    },
    {
     "data": {
      "text/plain": [
       "0"
      ]
     },
     "execution_count": 27,
     "metadata": {},
     "output_type": "execute_result"
    }
   ],
   "source": [
    "next(test_gen)"
   ]
  },
  {
   "cell_type": "code",
   "execution_count": 29,
   "id": "2c755cb4",
   "metadata": {},
   "outputs": [],
   "source": [
    "\"\"\"\n",
    "    Generator with infinite loop\n",
    "\"\"\"\n",
    "\n",
    "def my_generator():\n",
    "    \"\"\" Function for create infinity loop with generator\"\"\"\n",
    "    n = 0\n",
    "    while True:\n",
    "        n+=1\n",
    "        yield n\n",
    "        "
   ]
  },
  {
   "cell_type": "code",
   "execution_count": 30,
   "id": "86c5cc5f",
   "metadata": {},
   "outputs": [],
   "source": [
    "my_gen = my_generator()"
   ]
  },
  {
   "cell_type": "code",
   "execution_count": 39,
   "id": "3a6349b6",
   "metadata": {},
   "outputs": [
    {
     "data": {
      "text/plain": [
       "9"
      ]
     },
     "execution_count": 39,
     "metadata": {},
     "output_type": "execute_result"
    }
   ],
   "source": [
    "next(my_gen)"
   ]
  },
  {
   "cell_type": "code",
   "execution_count": null,
   "id": "ee96b874",
   "metadata": {},
   "outputs": [],
   "source": []
  }
 ],
 "metadata": {
  "kernelspec": {
   "display_name": "Python 3 (ipykernel)",
   "language": "python",
   "name": "python3"
  },
  "language_info": {
   "codemirror_mode": {
    "name": "ipython",
    "version": 3
   },
   "file_extension": ".py",
   "mimetype": "text/x-python",
   "name": "python",
   "nbconvert_exporter": "python",
   "pygments_lexer": "ipython3",
   "version": "3.9.7"
  }
 },
 "nbformat": 4,
 "nbformat_minor": 5
}

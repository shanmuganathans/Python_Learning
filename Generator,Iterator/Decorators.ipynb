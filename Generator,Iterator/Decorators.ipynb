{
 "cells": [
  {
   "cell_type": "code",
   "execution_count": null,
   "id": "84068ea0",
   "metadata": {
    "scrolled": true
   },
   "outputs": [],
   "source": [
    "\"\"\" What is decorators?\n",
    "            Decorators is function that used to add functionality to an existing code without modifing\n",
    "            \n",
    "            This is also called metaprogramming because a part of the program tries to modify another part of \n",
    "            the program at compile time.\n",
    "\n",
    "\"\"\""
   ]
  },
  {
   "cell_type": "code",
   "execution_count": 1,
   "id": "ecf42804",
   "metadata": {},
   "outputs": [
    {
     "name": "stdout",
     "output_type": "stream",
     "text": [
      "welcome to python decorators session.!\n",
      "welcome to python decorators session.!\n"
     ]
    }
   ],
   "source": [
    "\"\"\" Various different names can be bound to the same function object.\n",
    "    Everything in a python is an object.!\n",
    "\"\"\"\n",
    "def say_hello():\n",
    "    print(\"welcome to python decorators session.!\")\n",
    "  \n",
    "say_hello()\n",
    "\n",
    "test = say_hello\n",
    "\n",
    "test()"
   ]
  },
  {
   "cell_type": "code",
   "execution_count": null,
   "id": "88d2760a",
   "metadata": {},
   "outputs": [],
   "source": [
    "# pass functions as argments # First class objects # means functions can be passed around and used as a arguments\n",
    "\n",
    "def fun1(name):\n",
    "    return f\"{name}, this from function 1\"\n",
    "\n",
    "def fun2(name):\n",
    "    return f\"{name}, this from function 2\"\n",
    "\n",
    "def fun3(fun4):\n",
    "    return fun4(\"Shan..!\")"
   ]
  },
  {
   "cell_type": "code",
   "execution_count": null,
   "id": "c7e19e12",
   "metadata": {},
   "outputs": [],
   "source": [
    "print(fun3(fun1))\n",
    "\n",
    "print(fun3(fun2))"
   ]
  },
  {
   "cell_type": "code",
   "execution_count": 2,
   "id": "2a7d8369",
   "metadata": {},
   "outputs": [
    {
     "name": "stdout",
     "output_type": "stream",
     "text": [
      "Parenet with 2 child\n",
      "I'm the child 1\n",
      "I'm child 2\n"
     ]
    }
   ],
   "source": [
    "# inner functions\n",
    "\n",
    "def parent_function():\n",
    "    def child1():\n",
    "        print(\"I'm the child 1\")\n",
    "    def child2():\n",
    "        print(\"I'm child 2\")\n",
    "    print(\"Parenet with 2 child\")\n",
    "    child1()\n",
    "    child2()\n",
    "    \n",
    "parent_function()"
   ]
  },
  {
   "cell_type": "code",
   "execution_count": null,
   "id": "95837bb2",
   "metadata": {},
   "outputs": [],
   "source": [
    "# function can be passed as agruments - example\n",
    "\n",
    "def increment(n):\n",
    "    return n+1\n",
    "\n",
    "def decrement(n):\n",
    "    return n-1\n",
    "\n",
    "def math_operation(function,value):\n",
    "    return function(value)\n",
    "\n",
    "print(math_operation(increment,10))\n",
    "\n",
    "print(math_operation(decrement,10))"
   ]
  },
  {
   "cell_type": "code",
   "execution_count": null,
   "id": "e52a0dcb",
   "metadata": {},
   "outputs": [],
   "source": [
    "#python closure\n",
    "\n",
    "def add_100(num1):\n",
    "    def second_num(num2):\n",
    "        return num1+num2\n",
    "    return second_num\n",
    "b = add_100(100)\n",
    "b(400)"
   ]
  },
  {
   "cell_type": "code",
   "execution_count": null,
   "id": "223bdba2",
   "metadata": {},
   "outputs": [],
   "source": [
    "\n",
    "def display():\n",
    "    def say_hello():\n",
    "        print(\"hello\")\n",
    "    return say_hello\n",
    "\n",
    "test = display()\n",
    "test()"
   ]
  },
  {
   "cell_type": "code",
   "execution_count": 1,
   "id": "4693eb0d",
   "metadata": {},
   "outputs": [],
   "source": [
    "def add_celeration_name(function):\n",
    "    def inner():\n",
    "        print(f\"warm welcome to python camp\")\n",
    "        return function()\n",
    "    return inner\n",
    "\n",
    "#@add_celeration_name\n",
    "def welcome_msg():\n",
    "    print(f\"Hi, happy to see you.!\")       "
   ]
  },
  {
   "cell_type": "code",
   "execution_count": 2,
   "id": "3dbe4467",
   "metadata": {},
   "outputs": [
    {
     "name": "stdout",
     "output_type": "stream",
     "text": [
      "Hi, happy to see you.!\n"
     ]
    }
   ],
   "source": [
    "welcome_msg()"
   ]
  },
  {
   "cell_type": "code",
   "execution_count": 3,
   "id": "3d37b8c6",
   "metadata": {},
   "outputs": [
    {
     "name": "stdout",
     "output_type": "stream",
     "text": [
      "warm welcome to python camp\n",
      "Hi, happy to see you.!\n"
     ]
    }
   ],
   "source": [
    "# i need to add one more msg with modifing the actual function\n",
    "\n",
    "new_msg = add_celeration_name(welcome_msg)\n",
    "new_msg()"
   ]
  },
  {
   "cell_type": "code",
   "execution_count": 3,
   "id": "85e14682",
   "metadata": {},
   "outputs": [],
   "source": [
    "#closure\n",
    "def add_celeration_name(function):\n",
    "    def inner(name):\n",
    "        print(f\"{name} warm welcome to python camp\")\n",
    "        return function(name)\n",
    "    return inner\n",
    "@add_celeration_name\n",
    "def welcome_msg(name):\n",
    "    print(f\"Hi {name}, happy to see you.!\")       "
   ]
  },
  {
   "cell_type": "code",
   "execution_count": 4,
   "id": "d5a21eaa",
   "metadata": {},
   "outputs": [
    {
     "name": "stdout",
     "output_type": "stream",
     "text": [
      "shan warm welcome to python camp\n",
      "Hi shan, happy to see you.!\n"
     ]
    }
   ],
   "source": [
    "welcome_msg(\"shan\")"
   ]
  },
  {
   "cell_type": "code",
   "execution_count": 6,
   "id": "a3d4a8c6",
   "metadata": {},
   "outputs": [
    {
     "name": "stdout",
     "output_type": "stream",
     "text": [
      "shan warm welcome to python camp\n",
      "Hi shan, happy to see you.!\n"
     ]
    }
   ],
   "source": [
    "#new_msg = add_celeration_name(welcome_msg(\"shan\"))\n",
    "new_msg = add_celeration_name(welcome_msg)\n",
    "new_msg(\"shan\")"
   ]
  },
  {
   "cell_type": "code",
   "execution_count": 7,
   "id": "975883e0",
   "metadata": {},
   "outputs": [],
   "source": [
    "# with arguments\n",
    "def divide(num1,num2):\n",
    "    print(num1/num2)"
   ]
  },
  {
   "cell_type": "code",
   "execution_count": 11,
   "id": "f3b57377",
   "metadata": {},
   "outputs": [
    {
     "name": "stdout",
     "output_type": "stream",
     "text": [
      "10.0\n"
     ]
    }
   ],
   "source": [
    "#divide(10,0)\n",
    "divide(100,10)"
   ]
  },
  {
   "cell_type": "code",
   "execution_count": 12,
   "id": "18eb3188",
   "metadata": {},
   "outputs": [],
   "source": [
    "def check_num2(func):\n",
    "    def wrapper(num1,num2):\n",
    "        if num2 ==0:\n",
    "            print(\"can't divide by zero\")\n",
    "            return\n",
    "        return func(num1,num2)\n",
    "    return wrapper"
   ]
  },
  {
   "cell_type": "code",
   "execution_count": 13,
   "id": "dadce833",
   "metadata": {},
   "outputs": [],
   "source": [
    "def divide(num1,num2):\n",
    "    print(num1/num2)"
   ]
  },
  {
   "cell_type": "code",
   "execution_count": 14,
   "id": "b494c809",
   "metadata": {},
   "outputs": [],
   "source": [
    "check_and_divide = check_num2(divide)"
   ]
  },
  {
   "cell_type": "code",
   "execution_count": 16,
   "id": "2a6916c1",
   "metadata": {},
   "outputs": [
    {
     "name": "stdout",
     "output_type": "stream",
     "text": [
      "1.0\n",
      "can't divide by zero\n"
     ]
    }
   ],
   "source": [
    "check_and_divide(10,10)\n",
    "check_and_divide(10,0)"
   ]
  },
  {
   "cell_type": "code",
   "execution_count": 17,
   "id": "9ba581a1",
   "metadata": {},
   "outputs": [
    {
     "name": "stdout",
     "output_type": "stream",
     "text": [
      "can't divide by zero\n"
     ]
    }
   ],
   "source": [
    "def check_num2(func):\n",
    "    def wrapper(num1,num2):\n",
    "        if num2 ==0:\n",
    "            print(\"can't divide by zero\")\n",
    "            return\n",
    "        return func(num1,num2)\n",
    "    return wrapper\n",
    "\n",
    "@check_num2\n",
    "def divide(num1,num2):\n",
    "    print(num1/num2)\n",
    "\n",
    "divide(10,0)"
   ]
  },
  {
   "cell_type": "code",
   "execution_count": 44,
   "id": "abd60642",
   "metadata": {},
   "outputs": [
    {
     "name": "stdout",
     "output_type": "stream",
     "text": [
      "*args: (100, 0)\n",
      "*kwargs {}\n"
     ]
    },
    {
     "data": {
      "text/plain": [
       "\"Can't divide by zero\""
      ]
     },
     "execution_count": 44,
     "metadata": {},
     "output_type": "execute_result"
    }
   ],
   "source": [
    "# Example for *args in the function call\n",
    "def check_num2(func):\n",
    "    def wrapper(*args,**kwargs):\n",
    "        print(\"*args:\",args)\n",
    "        print(\"*kwargs\",kwargs)\n",
    "        if args[1] == 0:\n",
    "            return(\"Can't divide by zero\")\n",
    "        return func(*args,**kwargs)\n",
    "    return wrapper\n",
    "\n",
    "@check_num2\n",
    "def divide(num1,num2):\n",
    "    print(num1/num2)\n",
    "\n",
    "#divide\n",
    "divide(100,0)"
   ]
  },
  {
   "cell_type": "code",
   "execution_count": 51,
   "id": "86c7cd51",
   "metadata": {},
   "outputs": [
    {
     "name": "stdout",
     "output_type": "stream",
     "text": [
      "*args: ()\n",
      "*kwargs {'num1': 10, 'num2': 1}\n",
      "10.0\n",
      "*args: ()\n",
      "*kwargs {'num1': 100, 'num2': 0}\n"
     ]
    },
    {
     "data": {
      "text/plain": [
       "\"Can't divide by zero\""
      ]
     },
     "execution_count": 51,
     "metadata": {},
     "output_type": "execute_result"
    }
   ],
   "source": [
    "# function with **kwargs\n",
    "def check_num2(func):\n",
    "    def wrapper(*args,**kwargs):\n",
    "        print(\"*args:\",args)\n",
    "        print(\"*kwargs\",kwargs)\n",
    "        if kwargs['num2'] == 0:\n",
    "            return(\"Can't divide by zero\")\n",
    "        return func(*args,**kwargs)\n",
    "    return wrapper\n",
    "\n",
    "@check_num2\n",
    "def divide(num1=None,num2=None):\n",
    "    print(num1/num2)\n",
    "\n",
    "divide(num1=10,num2 =1)\n",
    "\n",
    "divide(num1=100,num2 = 0)"
   ]
  },
  {
   "cell_type": "code",
   "execution_count": 23,
   "id": "6fc76bef",
   "metadata": {},
   "outputs": [],
   "source": [
    "def check_age(func):\n",
    "    def wrapper(**kwargs):\n",
    "        #print(kwargs)\n",
    "        if kwargs.get('age') > 18:\n",
    "            return func(**kwargs)\n",
    "        else:\n",
    "            return \"Your are not having enough age.!\"\n",
    "    return wrapper\n",
    "\n",
    "@check_age\n",
    "def checking_visitors(name= None, age = None):\n",
    "    print(\"Hi ! welocme {name}.! your age is {age}.!\")        "
   ]
  },
  {
   "cell_type": "code",
   "execution_count": 24,
   "id": "96b13219",
   "metadata": {},
   "outputs": [
    {
     "data": {
      "text/plain": [
       "'Your are not having enough age.!'"
      ]
     },
     "execution_count": 24,
     "metadata": {},
     "output_type": "execute_result"
    }
   ],
   "source": [
    "checking_visitors(name= \"shan\", age = 0)"
   ]
  },
  {
   "cell_type": "code",
   "execution_count": null,
   "id": "7626d735",
   "metadata": {},
   "outputs": [],
   "source": []
  }
 ],
 "metadata": {
  "kernelspec": {
   "display_name": "Python 3 (ipykernel)",
   "language": "python",
   "name": "python3"
  },
  "language_info": {
   "codemirror_mode": {
    "name": "ipython",
    "version": 3
   },
   "file_extension": ".py",
   "mimetype": "text/x-python",
   "name": "python",
   "nbconvert_exporter": "python",
   "pygments_lexer": "ipython3",
   "version": "3.9.7"
  }
 },
 "nbformat": 4,
 "nbformat_minor": 5
}

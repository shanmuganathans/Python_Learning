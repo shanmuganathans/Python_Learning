{
 "cells": [
  {
   "cell_type": "code",
   "execution_count": null,
   "id": "bb1f3e05",
   "metadata": {},
   "outputs": [],
   "source": [
    "\"\"\"\n",
    "        Python Iterators\n",
    "\"\"\"\n",
    "\n",
    "\"\"\"\n",
    "        Iterators are everywhere in Python. They are elegantly implemented within for loops, comprehensions,\n",
    "        generators etc. but are hidden in plain sight.\n",
    "\n",
    "        Iterator in Python is simply an object that can be iterated upon. An object which will return data, \n",
    "        one element at a time.\n",
    "\n",
    "        Technically speaking, a Python iterator object must implement two special methods,\n",
    "        __iter__() and __next__(), collectively called the iterator protocol.\n",
    "\n",
    "        An object is called iterable if we can get an iterator from it. Most built-in containers in \n",
    "        Python like: list, tuple, string etc. are iterables.\n",
    "\n",
    "        The iter() function (which in turn calls the __iter__() method) returns an iterator from them.\n",
    "\"\"\""
   ]
  },
  {
   "cell_type": "code",
   "execution_count": null,
   "id": "7189c83e",
   "metadata": {},
   "outputs": [],
   "source": [
    "\"\"\"\n",
    "    Iterating Through an Iterator\n",
    "            We use the next() function to manually iterate through all the items of an iterator.\n",
    "            When we reach the end and there is no more data to be returned, \n",
    "            it will raise the StopIteration Exception.\n",
    "\"\"\""
   ]
  },
  {
   "cell_type": "code",
   "execution_count": 1,
   "id": "555477de",
   "metadata": {},
   "outputs": [],
   "source": [
    "my_list = [\"shan\",\"ganesh\",\"viki\",\"faizal\",\"vengat\",\"karthik\"]"
   ]
  },
  {
   "cell_type": "code",
   "execution_count": 10,
   "id": "f23159a2",
   "metadata": {},
   "outputs": [],
   "source": [
    "my_iter = iter(my_list)"
   ]
  },
  {
   "cell_type": "code",
   "execution_count": 11,
   "id": "f66cd381",
   "metadata": {},
   "outputs": [
    {
     "data": {
      "text/plain": [
       "'shan'"
      ]
     },
     "execution_count": 11,
     "metadata": {},
     "output_type": "execute_result"
    }
   ],
   "source": [
    "next(my_iter)"
   ]
  },
  {
   "cell_type": "code",
   "execution_count": 18,
   "id": "949464f6",
   "metadata": {},
   "outputs": [
    {
     "ename": "StopIteration",
     "evalue": "",
     "output_type": "error",
     "traceback": [
      "\u001b[0;31m---------------------------------------------------------------------------\u001b[0m",
      "\u001b[0;31mStopIteration\u001b[0m                             Traceback (most recent call last)",
      "\u001b[0;32m<ipython-input-18-56d779eb7d74>\u001b[0m in \u001b[0;36m<module>\u001b[0;34m\u001b[0m\n\u001b[0;32m----> 1\u001b[0;31m \u001b[0mmy_iter\u001b[0m\u001b[0;34m.\u001b[0m\u001b[0m__next__\u001b[0m\u001b[0;34m(\u001b[0m\u001b[0;34m)\u001b[0m\u001b[0;34m\u001b[0m\u001b[0;34m\u001b[0m\u001b[0m\n\u001b[0m",
      "\u001b[0;31mStopIteration\u001b[0m: "
     ]
    }
   ],
   "source": [
    "my_iter.__next__()"
   ]
  },
  {
   "cell_type": "code",
   "execution_count": 20,
   "id": "af86c44a",
   "metadata": {},
   "outputs": [
    {
     "name": "stdout",
     "output_type": "stream",
     "text": [
      "shan\n",
      "ganesh\n",
      "viki\n",
      "faizal\n",
      "vengat\n",
      "karthik\n",
      "Loop ended\n"
     ]
    }
   ],
   "source": [
    "\"\"\"\n",
    "    A more elegant way of automatically iterating is by using the for loop. \n",
    "    Using this, we can iterate over any object that can return an iterator, for example list, string, file etc.\n",
    "\"\"\"\n",
    "for name in my_list:\n",
    "    print(name)\n",
    "else:\n",
    "    print(\"Loop ended\")"
   ]
  },
  {
   "cell_type": "code",
   "execution_count": 22,
   "id": "e43b08a2",
   "metadata": {},
   "outputs": [
    {
     "name": "stdout",
     "output_type": "stream",
     "text": [
      "shan\n",
      "ganesh\n",
      "viki\n",
      "faizal\n",
      "vengat\n",
      "karthik\n",
      "Loop ended - No name in the list\n"
     ]
    }
   ],
   "source": [
    "\"\"\"\n",
    "        Working of for loop for Iterators\n",
    "\"\"\"\n",
    "\n",
    "my_iter = iter(my_list)\n",
    "\n",
    "while True:\n",
    "    try:        \n",
    "        name = next(my_iter)\n",
    "        print(name)\n",
    "    except StopIteration:\n",
    "        print(\"Loop ended - No name in the list\")\n",
    "        break"
   ]
  },
  {
   "cell_type": "code",
   "execution_count": 32,
   "id": "d191d8f7",
   "metadata": {},
   "outputs": [],
   "source": [
    "\"\"\"\n",
    "    Building Custom Iterators\n",
    "\"\"\"\n",
    "class Exponet:\n",
    "    \"\"\"\n",
    "    Class to implement an iterator\n",
    "    of exponet given series (5 -> 0,1,4,9,16,25)\n",
    "    \"\"\"\n",
    "    def __init__(self,num):\n",
    "        self.num = num\n",
    "        \n",
    "    def __iter__(self):\n",
    "        self.n = 0\n",
    "        return self\n",
    "    \n",
    "    def __next__(self):\n",
    "        if self.n <= self.num:\n",
    "            result = self.n ** 2\n",
    "            self.n +=1\n",
    "            return result\n",
    "        else:\n",
    "            raise StopIteration"
   ]
  },
  {
   "cell_type": "code",
   "execution_count": 33,
   "id": "8e189e78",
   "metadata": {},
   "outputs": [],
   "source": [
    "test = Exponet(5)"
   ]
  },
  {
   "cell_type": "code",
   "execution_count": 34,
   "id": "c3d8c348",
   "metadata": {},
   "outputs": [],
   "source": [
    "num = iter(test)"
   ]
  },
  {
   "cell_type": "code",
   "execution_count": 41,
   "id": "12ce00f3",
   "metadata": {},
   "outputs": [
    {
     "ename": "StopIteration",
     "evalue": "",
     "output_type": "error",
     "traceback": [
      "\u001b[0;31m---------------------------------------------------------------------------\u001b[0m",
      "\u001b[0;31mStopIteration\u001b[0m                             Traceback (most recent call last)",
      "\u001b[0;32m<ipython-input-41-c3aa4ea10659>\u001b[0m in \u001b[0;36m<module>\u001b[0;34m\u001b[0m\n\u001b[0;32m----> 1\u001b[0;31m \u001b[0mnext\u001b[0m\u001b[0;34m(\u001b[0m\u001b[0mnum\u001b[0m\u001b[0;34m)\u001b[0m\u001b[0;34m\u001b[0m\u001b[0;34m\u001b[0m\u001b[0m\n\u001b[0m",
      "\u001b[0;32m<ipython-input-32-eb6055a8469e>\u001b[0m in \u001b[0;36m__next__\u001b[0;34m(self)\u001b[0m\n\u001b[1;32m     16\u001b[0m             \u001b[0;32mreturn\u001b[0m \u001b[0mresult\u001b[0m\u001b[0;34m\u001b[0m\u001b[0;34m\u001b[0m\u001b[0m\n\u001b[1;32m     17\u001b[0m         \u001b[0;32melse\u001b[0m\u001b[0;34m:\u001b[0m\u001b[0;34m\u001b[0m\u001b[0;34m\u001b[0m\u001b[0m\n\u001b[0;32m---> 18\u001b[0;31m             \u001b[0;32mraise\u001b[0m \u001b[0mStopIteration\u001b[0m\u001b[0;34m\u001b[0m\u001b[0;34m\u001b[0m\u001b[0m\n\u001b[0m",
      "\u001b[0;31mStopIteration\u001b[0m: "
     ]
    }
   ],
   "source": [
    "next(num)"
   ]
  },
  {
   "cell_type": "code",
   "execution_count": 42,
   "id": "52f4a5f6",
   "metadata": {},
   "outputs": [
    {
     "name": "stdout",
     "output_type": "stream",
     "text": [
      "Exponet: 0\n",
      "Exponet: 1\n",
      "Exponet: 4\n",
      "Exponet: 9\n",
      "Exponet: 16\n",
      "Exponet: 25\n"
     ]
    }
   ],
   "source": [
    "for ex in Exponet(5):\n",
    "    print(\"Exponet:\",ex)"
   ]
  },
  {
   "cell_type": "code",
   "execution_count": 25,
   "id": "10e24c4c",
   "metadata": {},
   "outputs": [],
   "source": [
    "\"\"\"\n",
    "Create infinity loop\n",
    "\"\"\"\n",
    "\n",
    "class Infinity:\n",
    "    \"\"\" Class to create infinty loop using iterator\"\"\"\n",
    "    def __iter__(self):\n",
    "        self.n = -1\n",
    "        return self\n",
    "    \n",
    "    def __next__(self):\n",
    "        self.n = self.n+1\n",
    "        return self.n\n",
    "        "
   ]
  },
  {
   "cell_type": "code",
   "execution_count": 26,
   "id": "cf017888",
   "metadata": {},
   "outputs": [],
   "source": [
    "inif = iter(Infinity())"
   ]
  },
  {
   "cell_type": "code",
   "execution_count": 27,
   "id": "c4467238",
   "metadata": {},
   "outputs": [
    {
     "data": {
      "text/plain": [
       "0"
      ]
     },
     "execution_count": 27,
     "metadata": {},
     "output_type": "execute_result"
    }
   ],
   "source": [
    "next(inif)"
   ]
  },
  {
   "cell_type": "code",
   "execution_count": null,
   "id": "fbee97be",
   "metadata": {},
   "outputs": [],
   "source": []
  }
 ],
 "metadata": {
  "kernelspec": {
   "display_name": "Python 3 (ipykernel)",
   "language": "python",
   "name": "python3"
  },
  "language_info": {
   "codemirror_mode": {
    "name": "ipython",
    "version": 3
   },
   "file_extension": ".py",
   "mimetype": "text/x-python",
   "name": "python",
   "nbconvert_exporter": "python",
   "pygments_lexer": "ipython3",
   "version": "3.9.7"
  }
 },
 "nbformat": 4,
 "nbformat_minor": 5
}

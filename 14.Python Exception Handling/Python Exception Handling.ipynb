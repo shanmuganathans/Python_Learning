{
 "cells": [
  {
   "cell_type": "code",
   "execution_count": null,
   "metadata": {},
   "outputs": [],
   "source": [
    "\"\"\"\n",
    "    What is an Exception?:\n",
    "    =====================\n",
    "        An exception is an error that happens during execution of a program. When that\n",
    "        error occurs, Python generate an exception that can be handled, which avoids your\n",
    "        program to crash.\n",
    "\"\"\""
   ]
  },
  {
   "cell_type": "code",
   "execution_count": null,
   "metadata": {},
   "outputs": [],
   "source": [
    "\"\"\"\n",
    "    Why use Exceptions?:\n",
    "    ===================\n",
    "        Exceptions are convenient in many ways for handling errors and special conditions\n",
    "        in a program. When you think that you have a code which can produce an error then\n",
    "        you can use exception handling.\n",
    "\"\"\""
   ]
  },
  {
   "cell_type": "code",
   "execution_count": null,
   "metadata": {},
   "outputs": [],
   "source": [
    "\"\"\"\n",
    "    Raising an Exception:\n",
    "    ====================\n",
    "        You can raise an exception in your own program by using the raise exception\n",
    "        statement.\n",
    "\n",
    "        Raising an exception breaks current code execution and returns the exception\n",
    "        back until it is handled.\n",
    "\"\"\""
   ]
  },
  {
   "cell_type": "code",
   "execution_count": 5,
   "metadata": {},
   "outputs": [
    {
     "data": {
      "text/plain": [
       "'\\n    Exception Errors Examples:\\n    ==========================\\n    examples:\\n    --------\\n    except IOError:\\n        print(\\'An error occurred trying to read the file.\\')\\n\\n    except ValueError:\\n        print(\\'Non-numeric data found in the file.\\')\\n\\n    except ImportError:\\n        print \"NO module found\"\\n\\n    except EOFError:\\n        print(\\'Why did you do an EOF on me?\\')\\n\\n    except KeyboardInterrupt:\\n        print(\\'You cancelled the operation.\\')\\n\\n    except:\\n        print(\\'An error occurred.\\')\\n'"
      ]
     },
     "execution_count": 5,
     "metadata": {},
     "output_type": "execute_result"
    }
   ],
   "source": [
    "\"\"\"\n",
    "    Exception Errors Examples:\n",
    "    ==========================\n",
    "    examples:\n",
    "    --------\n",
    "    except IOError:\n",
    "        print('An error occurred trying to read the file.')\n",
    "\n",
    "    except ValueError:\n",
    "        print('Non-numeric data found in the file.')\n",
    "\n",
    "    except ImportError:\n",
    "        print \"NO module found\"\n",
    "\n",
    "    except EOFError:\n",
    "        print('Why did you do an EOF on me?')\n",
    "\n",
    "    except KeyboardInterrupt:\n",
    "        print('You cancelled the operation.')\n",
    "\n",
    "    except:\n",
    "        print('An error occurred.')\n",
    "\"\"\""
   ]
  },
  {
   "cell_type": "code",
   "execution_count": 4,
   "metadata": {},
   "outputs": [],
   "source": [
    "\"\"\"\n",
    "    Set up exception handling blocks:\n",
    "    =================================\n",
    "        To use exception handling in Python, you first need to have a catch-all except\n",
    "        clause. \n",
    "\n",
    "        The words \"try\" and \"except\" are Python keywords and are used to catch exceptions.\n",
    "\n",
    "        try-except [exception-name] blocks\n",
    "\n",
    "        The code within the try clause will be executed statement by statement.\n",
    "\n",
    "        If an exception occurs, the rest of the try block will be skipped and the\n",
    "        except clause will be executed.\n",
    "\"\"\""
   ]
  },
  {
   "cell_type": "code",
   "execution_count": null,
   "metadata": {},
   "outputs": [],
   "source": [
    "\"\"\"\n",
    "    Syntax:\n",
    "        try:\n",
    "            some statements here\n",
    "        except:\n",
    "            exception handling\n",
    "\"\"\""
   ]
  },
  {
   "cell_type": "code",
   "execution_count": 7,
   "metadata": {},
   "outputs": [
    {
     "name": "stdout",
     "output_type": "stream",
     "text": [
      "error\n"
     ]
    }
   ],
   "source": [
    "try:\n",
    "    print(1/0)\n",
    "except:\n",
    "    print(\"Error\")"
   ]
  },
  {
   "cell_type": "code",
   "execution_count": 10,
   "metadata": {},
   "outputs": [
    {
     "name": "stdout",
     "output_type": "stream",
     "text": [
      "You can't divide by zero, you're silly.\n"
     ]
    }
   ],
   "source": [
    "try:\n",
    "    print(1/0)\n",
    "except ZeroDivisionError:\n",
    "    print (\"You can't divide by zero, you're silly.\")"
   ]
  },
  {
   "cell_type": "code",
   "execution_count": 11,
   "metadata": {},
   "outputs": [
    {
     "ename": "KeyError",
     "evalue": "4",
     "output_type": "error",
     "traceback": [
      "\u001b[0;31m---------------------------------------------------------------------------\u001b[0m",
      "\u001b[0;31mKeyError\u001b[0m                                  Traceback (most recent call last)",
      "\u001b[0;32m/var/folders/rx/8t9n509n7674qhwkwcyyw7q40000gn/T/ipykernel_1682/2918639888.py\u001b[0m in \u001b[0;36m<module>\u001b[0;34m\u001b[0m\n\u001b[1;32m      1\u001b[0m \u001b[0mmy_dict\u001b[0m \u001b[0;34m=\u001b[0m \u001b[0;34m{\u001b[0m\u001b[0;36m1\u001b[0m\u001b[0;34m:\u001b[0m\u001b[0;34m'one'\u001b[0m\u001b[0;34m,\u001b[0m\u001b[0;36m2\u001b[0m\u001b[0;34m:\u001b[0m\u001b[0;34m'Two'\u001b[0m\u001b[0;34m,\u001b[0m\u001b[0;36m3\u001b[0m\u001b[0;34m:\u001b[0m\u001b[0;34m'Three'\u001b[0m\u001b[0;34m}\u001b[0m\u001b[0;34m\u001b[0m\u001b[0;34m\u001b[0m\u001b[0m\n\u001b[0;32m----> 2\u001b[0;31m \u001b[0mmy_dict\u001b[0m\u001b[0;34m[\u001b[0m\u001b[0;36m4\u001b[0m\u001b[0;34m]\u001b[0m\u001b[0;34m\u001b[0m\u001b[0;34m\u001b[0m\u001b[0m\n\u001b[0m",
      "\u001b[0;31mKeyError\u001b[0m: 4"
     ]
    }
   ],
   "source": [
    "my_dict = {1:'one',2:'Two',3:'Three'}\n",
    "my_dict[4]"
   ]
  },
  {
   "cell_type": "code",
   "execution_count": 12,
   "metadata": {},
   "outputs": [
    {
     "name": "stdout",
     "output_type": "stream",
     "text": [
      "Your looking key not present in the Dict\n"
     ]
    }
   ],
   "source": [
    "try:\n",
    "    my_dict = {1:'one',2:'Two',3:'Three'}\n",
    "    my_dict[4]\n",
    "except KeyError:\n",
    "    print(\"Your looking key not present in the Dict\")"
   ]
  },
  {
   "cell_type": "code",
   "execution_count": null,
   "metadata": {},
   "outputs": [],
   "source": [
    "\"\"\"\n",
    "    Try ... finally clause:\n",
    "    ======================\n",
    "        The finally clause is optional. It is intended to define clean-up actions that\n",
    "        must be executed under all circumstances\n",
    "        \n",
    "        Syntax:\n",
    "        ======\n",
    "            try:\n",
    "                raise KeyboardInterrupt\n",
    "            finally:\n",
    "                print 'Goodbye, world!'\n",
    "            ...\n",
    "            \n",
    "        A finally clause is always executed before leaving the try statement, whether an\n",
    "        exception has occurred or not.\n",
    "        \n",
    "        Remember that if you don't specify an exception type on the except line, it will\n",
    "        catch all exceptions, which is a bad idea, since it means your program will ignore\n",
    "        \n",
    "        unexpected errors as well as ones which the except block is actually prepared to\n",
    "        handle.\n",
    "    \"\"\""
   ]
  },
  {
   "cell_type": "code",
   "execution_count": 16,
   "metadata": {},
   "outputs": [
    {
     "name": "stdout",
     "output_type": "stream",
     "text": [
      "Your looking key not present in the Dict\n",
      "Good bye...! your programe running Successfully..!\n"
     ]
    }
   ],
   "source": [
    "try:\n",
    "    my_dict = {1:'one',2:'Two',3:'Three'}\n",
    "    my_dict[4]\n",
    "except KeyError:\n",
    "    print(\"Your looking key not present in the Dict\")\n",
    "finally:\n",
    "    print(\"Good bye...! your programe running Successfully..!\")"
   ]
  },
  {
   "cell_type": "code",
   "execution_count": 25,
   "metadata": {},
   "outputs": [
    {
     "name": "stdout",
     "output_type": "stream",
     "text": [
      "Good bye...! your programe running Successfully..!\n"
     ]
    }
   ],
   "source": [
    "try:\n",
    "    my_dict = {1:'one',2:'Two',3:'Three'}\n",
    "    my_dict[1]\n",
    "except KeyError:\n",
    "    print(\"Your looking key not present in the Dict\")\n",
    "finally:\n",
    "    print(\"Good bye...! your programe running Successfully..!\")"
   ]
  },
  {
   "cell_type": "code",
   "execution_count": 19,
   "metadata": {},
   "outputs": [
    {
     "name": "stdout",
     "output_type": "stream",
     "text": [
      "Please enter number::k\n"
     ]
    },
    {
     "ename": "TypeError",
     "evalue": "exceptions must derive from BaseException",
     "output_type": "error",
     "traceback": [
      "\u001b[0;31m---------------------------------------------------------------------------\u001b[0m",
      "\u001b[0;31mTypeError\u001b[0m                                 Traceback (most recent call last)",
      "\u001b[0;32m/var/folders/rx/8t9n509n7674qhwkwcyyw7q40000gn/T/ipykernel_1682/1622313313.py\u001b[0m in \u001b[0;36m<module>\u001b[0;34m\u001b[0m\n\u001b[1;32m      7\u001b[0m \u001b[0mmy_input\u001b[0m \u001b[0;34m=\u001b[0m \u001b[0minput\u001b[0m\u001b[0;34m(\u001b[0m\u001b[0;34m\"Please enter number::\"\u001b[0m\u001b[0;34m)\u001b[0m\u001b[0;34m\u001b[0m\u001b[0;34m\u001b[0m\u001b[0m\n\u001b[1;32m      8\u001b[0m \u001b[0;32mif\u001b[0m \u001b[0;32mnot\u001b[0m \u001b[0mmy_input\u001b[0m\u001b[0;34m.\u001b[0m\u001b[0misnumeric\u001b[0m\u001b[0;34m(\u001b[0m\u001b[0;34m)\u001b[0m\u001b[0;34m:\u001b[0m\u001b[0;34m\u001b[0m\u001b[0;34m\u001b[0m\u001b[0m\n\u001b[0;32m----> 9\u001b[0;31m     \u001b[0;32mraise\u001b[0m\u001b[0;34m(\u001b[0m\u001b[0;34m\"User entered non numberic..!!\"\u001b[0m\u001b[0;34m)\u001b[0m\u001b[0;34m\u001b[0m\u001b[0;34m\u001b[0m\u001b[0m\n\u001b[0m\u001b[1;32m     10\u001b[0m \u001b[0mprint\u001b[0m\u001b[0;34m(\u001b[0m\u001b[0;34m\"User entered numberic char\"\u001b[0m\u001b[0;34m)\u001b[0m\u001b[0;34m\u001b[0m\u001b[0;34m\u001b[0m\u001b[0m\n",
      "\u001b[0;31mTypeError\u001b[0m: exceptions must derive from BaseException"
     ]
    }
   ],
   "source": [
    "\"\"\"\n",
    "    Raising Exceptions:\n",
    "    ===================\n",
    "        In Python programming, exceptions are raised when corresponding errors occur at run time,\n",
    "        but we can forcefully raise it using the keyword raise.\n",
    "\"\"\"\n",
    "my_input = input(\"Please enter number::\")\n",
    "if not my_input.isnumeric():\n",
    "    raise(\"User entered non numberic..!!\")\n",
    "print(\"User entered numberic char\")"
   ]
  },
  {
   "cell_type": "code",
   "execution_count": 16,
   "metadata": {},
   "outputs": [
    {
     "name": "stdout",
     "output_type": "stream",
     "text": [
      "list index out of range\n",
      "Error occured\n"
     ]
    }
   ],
   "source": [
    "\"\"\"\n",
    "    How to find type of exception occur in program\n",
    "\"\"\"\n",
    "try:\n",
    "    my_str = '2'+1\n",
    "except Exception as err:\n",
    "    print(err)"
   ]
  },
  {
   "cell_type": "code",
   "execution_count": 22,
   "metadata": {},
   "outputs": [
    {
     "name": "stdout",
     "output_type": "stream",
     "text": [
      "Enter your age: 30\n",
      "Welcome, you are old enough.\n"
     ]
    },
    {
     "data": {
      "text/plain": [
       "'\\nEnter your age: a\\nYou have entered an invalid value.\\n>>> RESTART\\n>>> \\nEnter your age: 25\\nWelcome, you are old enough.\\n>>>RESTART\\n>>> \\nEnter your age: 13\\nYou are not allowed to enter, you are too young.\\n'"
      ]
     },
     "execution_count": 22,
     "metadata": {},
     "output_type": "execute_result"
    }
   ],
   "source": [
    "\"\"\"\n",
    "    try…except…else statements:\n",
    "    ===========================\n",
    "        you can include an else clause when catching exceptions with a try statement. \n",
    "        The statements inside the else block will be executed only if the code inside the try\n",
    "        block doesn’t generate an exception.\n",
    "        \n",
    "        Here is the syntax:\n",
    "\n",
    "        try:\n",
    "            statements # statements that can raise exceptions\n",
    "        except:\n",
    "            statements # statements that will be executed to handle exceptions\n",
    "        else:\n",
    "            statements # statements that will be executed if there is no exception\n",
    "\"\"\"\n",
    "try:\n",
    "    age=int(input('Enter your age: '))\n",
    "except:\n",
    "    print ('You have entered an invalid value.')\n",
    "else:\n",
    "    if age <= 21:\n",
    "        print('You are not allowed to enter, you are too young.')\n",
    "    else:\n",
    "        print('Welcome, you are old enough.')\n",
    "\n",
    "# Sample input\n",
    "\"\"\"\n",
    "Enter your age: a\n",
    "You have entered an invalid value.\n",
    ">>> RESTART\n",
    ">>> \n",
    "Enter your age: 25\n",
    "Welcome, you are old enough.\n",
    ">>>RESTART\n",
    ">>> \n",
    "Enter your age: 13\n",
    "You are not allowed to enter, you are too young.\n",
    "\"\"\""
   ]
  },
  {
   "cell_type": "code",
   "execution_count": 24,
   "metadata": {},
   "outputs": [
    {
     "name": "stdout",
     "output_type": "stream",
     "text": [
      "The value of the given key: Computer is: Python\n"
     ]
    }
   ],
   "source": [
    "my_dict = {1:{\"name\":\"Jo\",\"age\":25,\"marks\":{\"Tamil\":55,\"English\":80}},2:{\"Computer\":\"Python\"}}\n",
    "\n",
    "input_key = \"Computer\"\n",
    "\n",
    "def find_value(data, key):\n",
    "  \"\"\"\n",
    "  Recursively searches for the value associated with the given key in the nested dictionary.\n",
    "\n",
    "  Args:\n",
    "      data: The current dictionary or list to search.\n",
    "      key: The key to search for.\n",
    "\n",
    "  Returns:\n",
    "      The value associated with the key, or None if not found.\n",
    "  \"\"\"\n",
    "  if isinstance(data, dict):\n",
    "    # Check if key exists in current dictionary\n",
    "    if key in data:\n",
    "      return data[key]\n",
    "    # Recursively search nested dictionaries\n",
    "    for value in data.values():\n",
    "      nested_value = find_value(value, key)\n",
    "      if nested_value is not None:\n",
    "        return nested_value\n",
    "  return None\n",
    "\n",
    "try:\n",
    "  value = find_value(my_dict, input_key)\n",
    "  print(\"The value of the given key:\", input_key, \"is:\", value)\n",
    "\n",
    "except KeyError:\n",
    "  print(\"The key\", input_key, \"does not exist in the dictionary.\")\n"
   ]
  },
  {
   "cell_type": "code",
   "execution_count": null,
   "metadata": {},
   "outputs": [],
   "source": []
  },
  {
   "cell_type": "code",
   "execution_count": null,
   "metadata": {},
   "outputs": [],
   "source": []
  },
  {
   "cell_type": "code",
   "execution_count": null,
   "metadata": {},
   "outputs": [],
   "source": []
  }
 ],
 "metadata": {
  "kernelspec": {
   "display_name": "Python 3 (ipykernel)",
   "language": "python",
   "name": "python3"
  },
  "language_info": {
   "codemirror_mode": {
    "name": "ipython",
    "version": 3
   },
   "file_extension": ".py",
   "mimetype": "text/x-python",
   "name": "python",
   "nbconvert_exporter": "python",
   "pygments_lexer": "ipython3",
   "version": "3.9.7"
  }
 },
 "nbformat": 4,
 "nbformat_minor": 2
}

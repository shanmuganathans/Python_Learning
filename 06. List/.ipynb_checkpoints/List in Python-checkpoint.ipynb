{
 "cells": [
  {
   "cell_type": "code",
   "execution_count": null,
   "metadata": {},
   "outputs": [],
   "source": [
    "\"\"\"\n",
    "    List in Python:\n",
    "    --------------\n",
    "        The most commonly used data structure in Python is List. \n",
    "\n",
    "        Python list is an ordered sequence of objects just like an array in other languages. \n",
    "\n",
    "        The object can be anything from a string to a number or the data of any available type.\n",
    "        Such as Python Numbers,Python Strings and nested lists as well.\n",
    "        \n",
    "        A list can also be both homogenous as well as heterogeneous. \n",
    "        It means we can store only integers or strings or both depending on the need. Next, every element rests at some \n",
    "        position (i.e., index) in the list. \n",
    "        \n",
    "        The index can be used later to locate a particular item. \n",
    "        The first index begins at zero, next is one, and so forth.\n",
    "\n",
    "\"\"\""
   ]
  },
  {
   "cell_type": "code",
   "execution_count": null,
   "metadata": {},
   "outputs": [],
   "source": [
    "\"\"\"\n",
    "Create A List In Python:\n",
    "------------------------\n",
    "    There are multiple ways to form a list in Python. Let’s start with the most efficient one.\n",
    "    \n",
    "    Syntax:\n",
    "    \n",
    "            L1 = [] # An empty list\n",
    "            L2 = [a1, a2,...] # With elements\n",
    "\n",
    "\"\"\""
   ]
  },
  {
   "cell_type": "code",
   "execution_count": 2,
   "metadata": {},
   "outputs": [
    {
     "name": "stdout",
     "output_type": "stream",
     "text": [
      "[]\n",
      "[10, 20, 30]\n",
      "[1, 'Hello', 3.4]\n"
     ]
    }
   ],
   "source": [
    "\"\"\"\n",
    " Subscript Operator:\n",
    " ------------------\n",
    "        The square brackets [ ] represent the subscript operator in Python.\n",
    "        It doesn’t require a symbol lookup or a function call. \n",
    "\n",
    "        Hence, it turns out the fastest way to create a list in Python.\n",
    "        You can specify the elements inside [ ], separated by commas.        \n",
    "           \n",
    "The list can take any number of elements, and each may belong to a different type (a number or a string, etc.).\n",
    "\"\"\"\n",
    "# Create a Python list using subscript operator\n",
    "# blank list\n",
    "L1 = []\n",
    "print(L1)\n",
    "\n",
    "# list of integers\n",
    "L2 = [10, 20, 30]\n",
    "print(L2)\n",
    "\n",
    "# List of heterogenous data types\n",
    "L3 = [1, \"Hello\", 3.4]\n",
    "print(L3)\n"
   ]
  },
  {
   "cell_type": "code",
   "execution_count": null,
   "metadata": {},
   "outputs": [],
   "source": [
    "\"\"\"\n",
    "    Creating Multi-dimensional Lists in Python:\n",
    "    --------------------------------------------\n",
    "        A list can hold other lists as well which can result in multi-dimensional lists.\n",
    "            1) One-dimensional Lists\n",
    "            2) Two-dimensional Lists \n",
    "\n",
    "\"\"\"\n"
   ]
  },
  {
   "cell_type": "code",
   "execution_count": 3,
   "metadata": {},
   "outputs": [
    {
     "name": "stdout",
     "output_type": "stream",
     "text": [
      "[0, 0, 0]\n"
     ]
    }
   ],
   "source": [
    "\"\"\"\n",
    "    One-dimensional Lists in Python:\n",
    "    -------------------------------\n",
    "\"\"\"\n",
    "\n",
    "init_list = [0]*3\n",
    "print(init_list)\n",
    "\n",
    "# Output:\n",
    "# [0, 0, 0]"
   ]
  },
  {
   "cell_type": "code",
   "execution_count": 4,
   "metadata": {},
   "outputs": [
    {
     "name": "stdout",
     "output_type": "stream",
     "text": [
      "[[0, 0, 0], [0, 0, 0], [0, 0, 0]]\n"
     ]
    }
   ],
   "source": [
    "\"\"\"\n",
    "    Two-dimensional Lists In Python:\n",
    "    -------------------------------\n",
    "\"\"\"\n",
    "two_dim_list = [ [0]*3 ] *3\n",
    "print(two_dim_list)\n",
    "# Output: \n",
    "# [[0, 0, 0], [0, 0, 0], [0, 0, 0]]"
   ]
  },
  {
   "cell_type": "code",
   "execution_count": null,
   "metadata": {},
   "outputs": [],
   "source": [
    "\"\"\"\n",
    "    Three-dimensional Lists in Python:\n",
    "    ----------------------------------\n",
    "\"\"\"\n",
    "\n",
    "two_dim_list = [[ [0]*3 ] *3]*3\n",
    "print(two_dim_list)\n",
    "\n",
    "# Output: \n",
    "# [[[0, 0, 0], [0, 0, 0], [0, 0, 0]],\n",
    "# [[0, 0, 0], [0, 0, 0], [0, 0, 0]],\n",
    "# [[0, 0, 0], [0, 0, 0], [0, 0, 0]]]"
   ]
  },
  {
   "cell_type": "code",
   "execution_count": 5,
   "metadata": {},
   "outputs": [
    {
     "name": "stdout",
     "output_type": "stream",
     "text": [
      "[0, 1, 2, 3, 4]\n"
     ]
    }
   ],
   "source": [
    "\"\"\"\n",
    "Python List Comprehension:\n",
    "--------------------------\n",
    "    Python List comprehension helps in constructing lists in a completely natural and easy way.\n",
    "\n",
    "\"\"\"\n",
    "List = [1,2,3,4,5]\n",
    "List1 = [ i for i in range(5)]\n",
    "print(List1)\n",
    "\n",
    "# Output: \n",
    "# [0, 1, 2, 3, 4]"
   ]
  },
  {
   "cell_type": "code",
   "execution_count": null,
   "metadata": {},
   "outputs": [],
   "source": [
    "\"\"\"\n",
    "    Complicated Python List Comprehension Examples\n",
    "\"\"\""
   ]
  },
  {
   "cell_type": "code",
   "execution_count": 8,
   "metadata": {},
   "outputs": [
    {
     "name": "stdout",
     "output_type": "stream",
     "text": [
      "['ml', 'mi', 'md', 'ul', 'ui', 'ud', 'gl', 'gi', 'gd']\n"
     ]
    }
   ],
   "source": [
    "# Example 1:\n",
    "\n",
    "print ([a+b for a in 'mug' for b in 'lid'])\n",
    "\n",
    "#  Output: \n",
    "# [‘ml’, ‘mi’, ‘md’, ‘ul’, ‘ui’, ‘ud’, ‘gl’, ‘gi’, ‘gd’]\n"
   ]
  },
  {
   "cell_type": "code",
   "execution_count": 10,
   "metadata": {},
   "outputs": [
    {
     "name": "stdout",
     "output_type": "stream",
     "text": [
      "['A', 'M', 'B', 'A']\n"
     ]
    }
   ],
   "source": [
    "# Example 2:\n",
    "\n",
    "list_fruit = ['Apple','Mango','Banana','Avocado']\n",
    "first_letters = [ fruits[0] for fruits in list_fruit ]\n",
    "print(first_letters)\n",
    "\n",
    "# Output: \n",
    "# [‘A’, ‘M’, ‘B’, ‘A’]"
   ]
  },
  {
   "cell_type": "code",
   "execution_count": null,
   "metadata": {},
   "outputs": [],
   "source": [
    "\"\"\"\n",
    "    List() Constructor:\n",
    "    -------------------\n",
    "        Python includes a built-in list() method a.k.a constructor.\n",
    "\n",
    "        It accepts either a sequence or tuple as the argument and converts into a Python list.\n",
    "\n",
    "        Let’s start with an example to create a list without any element.\n",
    "\n",
    "        Create Python list using list()\n",
    "        \n",
    "        Syntax\n",
    "            theList = list([n1, n2, ...] or [n1, n2, [x1, x2, ...]])\n",
    "\n",
    "\"\"\""
   ]
  },
  {
   "cell_type": "code",
   "execution_count": 11,
   "metadata": {},
   "outputs": [
    {
     "data": {
      "text/plain": [
       "0"
      ]
     },
     "execution_count": 11,
     "metadata": {},
     "output_type": "execute_result"
    }
   ],
   "source": [
    "\"\"\"\n",
    "    We can supply a standard or nested sequence as the input argument to the list() function.\n",
    "    Let’s first create an empty list.\n",
    "    Note- The len() function returns the size of the list.\n",
    "\"\"\"\n",
    "\n",
    "theList = list() #empty list\n",
    "len(theList)"
   ]
  },
  {
   "cell_type": "code",
   "execution_count": 12,
   "metadata": {},
   "outputs": [
    {
     "name": "stdout",
     "output_type": "stream",
     "text": [
      "[1, 2]\n",
      "[1, 2, [1.1, 2.2]]\n",
      "3\n"
     ]
    }
   ],
   "source": [
    "\"\"\"\n",
    "    Below are some more examples demonstrating Python list() method.\n",
    "\"\"\"\n",
    "theList = list([1,2])\n",
    "print(theList)\n",
    "\n",
    "theList = list([1, 2, [1.1, 2.2]])\n",
    "print(theList)\n",
    "print(len(theList))"
   ]
  },
  {
   "cell_type": "code",
   "execution_count": null,
   "metadata": {},
   "outputs": [],
   "source": [
    "\"\"\"\n",
    "    List Extension:\n",
    "    --------------\n",
    "        Python allows lists to resize in many ways. We can do that just by adding two or more of them.\n",
    "            1) extend() method\n",
    "            2) append() method\n",
    "\"\"\""
   ]
  },
  {
   "cell_type": "code",
   "execution_count": 2,
   "metadata": {},
   "outputs": [
    {
     "name": "stdout",
     "output_type": "stream",
     "text": [
      "[1, 2, 'one', 'Two']\n"
     ]
    }
   ],
   "source": [
    "\"\"\"\n",
    "    we can do extension by using the extend() method.\n",
    "\"\"\"\n",
    "list1 = [1,2]\n",
    "list2 = [\"one\",\"Two\"]\n",
    "list1.extend(list2)\n",
    "print(list1)"
   ]
  },
  {
   "cell_type": "code",
   "execution_count": 3,
   "metadata": {},
   "outputs": [
    {
     "name": "stdout",
     "output_type": "stream",
     "text": [
      "[1, 2, ['one', 'Two']]\n"
     ]
    }
   ],
   "source": [
    "\"\"\"\n",
    "    we can append a value to a list by calling the append() method.\n",
    "    \n",
    "    It adds a new element to the end of the list.\n",
    "\"\"\"\n",
    "list1 = [1,2]\n",
    "list2 = [\"one\",\"Two\"]\n",
    "list1.append(list2)\n",
    "print(list1)"
   ]
  },
  {
   "cell_type": "code",
   "execution_count": 1,
   "metadata": {},
   "outputs": [
    {
     "name": "stdout",
     "output_type": "stream",
     "text": [
      "[1, 3, 5, 9, 7, 5]\n",
      "['re', 're', 're']\n"
     ]
    }
   ],
   "source": [
    "\"\"\"\n",
    "    We can also use + operator to combine two lists. This is also called concatenation.\n",
    "\n",
    "    The * operator repeats a list for the given number of times.\n",
    "\"\"\"\n",
    "odd = [1, 3, 5]\n",
    "# Output: [1, 3, 5, 9, 7, 5]\n",
    "print(odd + [9, 7, 5])\n",
    "#Output: [\"re\", \"re\", \"re\"]\n",
    "print([\"re\"] * 3)"
   ]
  },
  {
   "cell_type": "code",
   "execution_count": 2,
   "metadata": {},
   "outputs": [
    {
     "name": "stdout",
     "output_type": "stream",
     "text": [
      "[1, 3, 9]\n",
      "[1, 3, 5, 7, 9]\n"
     ]
    }
   ],
   "source": [
    "\"\"\"\n",
    "    Furthermore, we can insert one item at a desired location by using the method insert() or insert multiple\n",
    "    items by squeezing it into an empty slice of a list.\n",
    "\"\"\"\n",
    "odd = [1, 9]\n",
    "odd.insert(1,3)\n",
    "# Output: [1, 3, 9] \n",
    "print(odd)\n",
    "odd[2:2] = [5, 7]\n",
    "# Output: [1, 3, 5, 7, 9]\n",
    "print(odd)"
   ]
  },
  {
   "cell_type": "code",
   "execution_count": 3,
   "metadata": {},
   "outputs": [
    {
     "name": "stdout",
     "output_type": "stream",
     "text": [
      "['p', 'r', 'b', 'l', 'e', 'm']\n",
      "['p', 'm']\n"
     ]
    },
    {
     "ename": "NameError",
     "evalue": "name 'my_list' is not defined",
     "output_type": "error",
     "traceback": [
      "\u001b[0;31m---------------------------------------------------------------------------\u001b[0m",
      "\u001b[0;31mNameError\u001b[0m                                 Traceback (most recent call last)",
      "\u001b[0;32m<ipython-input-3-6d51ff2e8e24>\u001b[0m in \u001b[0;36m<module>\u001b[0;34m\u001b[0m\n\u001b[1;32m     17\u001b[0m \u001b[0;32mdel\u001b[0m \u001b[0mmy_list\u001b[0m\u001b[0;34m\u001b[0m\u001b[0;34m\u001b[0m\u001b[0m\n\u001b[1;32m     18\u001b[0m \u001b[0;31m# Error: List not defined\u001b[0m\u001b[0;34m\u001b[0m\u001b[0;34m\u001b[0m\u001b[0;34m\u001b[0m\u001b[0m\n\u001b[0;32m---> 19\u001b[0;31m \u001b[0mprint\u001b[0m\u001b[0;34m(\u001b[0m\u001b[0mmy_list\u001b[0m\u001b[0;34m)\u001b[0m\u001b[0;34m\u001b[0m\u001b[0;34m\u001b[0m\u001b[0m\n\u001b[0m",
      "\u001b[0;31mNameError\u001b[0m: name 'my_list' is not defined"
     ]
    }
   ],
   "source": [
    "\"\"\"\n",
    "    How to delete or remove elements from a list?\n",
    "        We can delete one or more items from a list using the keyword del. \n",
    "        It can even delete the list entirely.\n",
    "\"\"\"\n",
    "\n",
    "my_list = ['p','r','o','b','l','e','m']\n",
    "# delete one item\n",
    "del my_list[2]\n",
    "# Output: ['p', 'r', 'b', 'l', 'e', 'm']     \n",
    "print(my_list)\n",
    "# delete multiple items\n",
    "del my_list[1:5]  \n",
    "# Output: ['p', 'm']\n",
    "print(my_list)\n",
    "# delete entire list\n",
    "del my_list       \n",
    "# Error: List not defined\n",
    "print(my_list)\n"
   ]
  },
  {
   "cell_type": "code",
   "execution_count": 4,
   "metadata": {},
   "outputs": [
    {
     "name": "stdout",
     "output_type": "stream",
     "text": [
      "['r', 'o', 'b', 'l', 'e', 'm']\n",
      "o\n",
      "['r', 'b', 'l', 'e', 'm']\n",
      "m\n",
      "['r', 'b', 'l', 'e']\n",
      "[]\n"
     ]
    }
   ],
   "source": [
    "\"\"\"\n",
    "    We can use remove() method to remove the given item or pop() method to remove an item at the given index.\n",
    "\n",
    "    The pop() method removes and returns the last item if index is not provided. This helps us implement\n",
    "    lists as stacks (first in, last out data structure).\n",
    "\n",
    "    We can also use the clear() method to empty a list.\n",
    "\"\"\"\n",
    "\n",
    "my_list = ['p','r','o','b','l','e','m']\n",
    "my_list.remove('p')\n",
    "# Output: ['r', 'o', 'b', 'l', 'e', 'm']\n",
    "print(my_list)\n",
    "# Output: 'o'\n",
    "print(my_list.pop(1))\n",
    "# Output: ['r', 'b', 'l', 'e', 'm']\n",
    "print(my_list)\n",
    "# Output: 'm'\n",
    "print(my_list.pop())\n",
    "# Output: ['r', 'b', 'l', 'e']\n",
    "print(my_list)\n",
    "my_list.clear()\n",
    "# Output: []\n",
    "print(my_list)"
   ]
  },
  {
   "cell_type": "code",
   "execution_count": 5,
   "metadata": {},
   "outputs": [
    {
     "name": "stdout",
     "output_type": "stream",
     "text": [
      "['p', 'r', 'b', 'l', 'e', 'm']\n",
      "['p', 'r', 'm']\n"
     ]
    }
   ],
   "source": [
    "\"\"\"\n",
    "    Finally, we can also delete items in a list by assigning an empty list to a slice of elements.\n",
    "\"\"\"\n",
    "\n",
    "my_list = ['p','r','o','b','l','e','m']\n",
    "my_list[2:3] = []\n",
    "print(my_list)\n",
    "# ['p', 'r', 'b', 'l', 'e', 'm']\n",
    "my_list[2:5] = []\n",
    "\n",
    "print(my_list)\n",
    "\n",
    "#['p', 'r', 'm']\n"
   ]
  },
  {
   "cell_type": "code",
   "execution_count": null,
   "metadata": {},
   "outputs": [],
   "source": [
    "\"\"\"\n",
    "    Python List Methods:\n",
    "    ====================\n",
    "    Methods that are available with list object in Python programming are tabulated below.\n",
    "\n",
    "    They are accessed as list.method(). \n",
    "\"\"\"\n",
    "\"\"\"\n",
    "    append() - Add an element to the end of the list\n",
    "    extend() - Add all elements of a list to the another list\n",
    "    insert() - Insert an item at the defined index\n",
    "    remove() - Removes an item from the list\n",
    "    pop() - Removes and returns an element at the given index\n",
    "    clear() - Removes all items from the list\n",
    "    index() - Returns the index of the first matched item\n",
    "    count() - Returns the count of number of items passed as an argument\n",
    "    sort() - Sort items in a list in ascending order\n",
    "    reverse() - Reverse the order of items in the list\n",
    "    copy() - Returns a shallow copy of the list\n",
    "\"\"\""
   ]
  },
  {
   "cell_type": "code",
   "execution_count": 6,
   "metadata": {},
   "outputs": [
    {
     "name": "stdout",
     "output_type": "stream",
     "text": [
      "The index of e: 1\n",
      "The index of i: 2\n"
     ]
    }
   ],
   "source": [
    "\"\"\"\n",
    "    Python List index():\n",
    "    --------------------\n",
    "        In simple terms, index() method finds the given element in a list and returns its position.\n",
    "\"\"\"\n",
    "\n",
    "# vowels list\n",
    "vowels = ['a', 'e', 'i', 'o', 'i', 'u']\n",
    "\n",
    "# element 'e' is searched\n",
    "index = vowels.index('e')\n",
    "\n",
    "# index of 'e' is printed\n",
    "print('The index of e:', index)\n",
    "\n",
    "# element 'i' is searched\n",
    "index = vowels.index('i')\n",
    "\n",
    "# only the first index of the element is printed\n",
    "print('The index of i:', index)"
   ]
  },
  {
   "cell_type": "code",
   "execution_count": 7,
   "metadata": {},
   "outputs": [
    {
     "ename": "ValueError",
     "evalue": "'p' is not in list",
     "output_type": "error",
     "traceback": [
      "\u001b[0;31m---------------------------------------------------------------------------\u001b[0m",
      "\u001b[0;31mValueError\u001b[0m                                Traceback (most recent call last)",
      "\u001b[0;32m<ipython-input-7-8b09cafafb73>\u001b[0m in \u001b[0;36m<module>\u001b[0;34m\u001b[0m\n\u001b[1;32m      6\u001b[0m \u001b[0;34m\u001b[0m\u001b[0m\n\u001b[1;32m      7\u001b[0m \u001b[0;31m# element 'p' is searched\u001b[0m\u001b[0;34m\u001b[0m\u001b[0;34m\u001b[0m\u001b[0;34m\u001b[0m\u001b[0m\n\u001b[0;32m----> 8\u001b[0;31m \u001b[0mindex\u001b[0m \u001b[0;34m=\u001b[0m \u001b[0mvowels\u001b[0m\u001b[0;34m.\u001b[0m\u001b[0mindex\u001b[0m\u001b[0;34m(\u001b[0m\u001b[0;34m'p'\u001b[0m\u001b[0;34m)\u001b[0m\u001b[0;34m\u001b[0m\u001b[0;34m\u001b[0m\u001b[0m\n\u001b[0m\u001b[1;32m      9\u001b[0m \u001b[0;34m\u001b[0m\u001b[0m\n\u001b[1;32m     10\u001b[0m \u001b[0;31m# index is printed\u001b[0m\u001b[0;34m\u001b[0m\u001b[0;34m\u001b[0m\u001b[0;34m\u001b[0m\u001b[0m\n",
      "\u001b[0;31mValueError\u001b[0m: 'p' is not in list"
     ]
    }
   ],
   "source": [
    "\"\"\"\n",
    "    Index of element not present in the list\n",
    "\"\"\"\n",
    "# vowels list\n",
    "vowels = ['a', 'e', 'i', 'o', 'u']\n",
    "\n",
    "# element 'p' is searched\n",
    "index = vowels.index('p')\n",
    "\n",
    "# index is printed\n",
    "print('The index of p:', index)"
   ]
  },
  {
   "cell_type": "code",
   "execution_count": null,
   "metadata": {},
   "outputs": [],
   "source": [
    "\"\"\"\n",
    "    Python List count():\n",
    "    -------------------\n",
    "    \n",
    "    In simple terms, count() method counts how many times an element has occurred in a list and returns it.\n",
    "\n",
    "    The syntax of count() method is:\n",
    "\n",
    "        list.count(element)\n",
    "        \n",
    "    count() Parameters\n",
    "    ------------------\n",
    "        The count() method takes a single argument:\n",
    "\n",
    "        element - element whose count is to be found.\n",
    "\"\"\"\n"
   ]
  },
  {
   "cell_type": "code",
   "execution_count": 10,
   "metadata": {},
   "outputs": [
    {
     "name": "stdout",
     "output_type": "stream",
     "text": [
      "The count of i is: 2\n",
      "The count of p is: 0\n"
     ]
    }
   ],
   "source": [
    "\"\"\"\n",
    "    Count the occurrence of an element in the list\n",
    "\"\"\"\n",
    "# vowels list\n",
    "vowels = ['a', 'e', 'i', 'o', 'i', 'u']\n",
    "\n",
    "# count element 'i'\n",
    "count = vowels.count('i')\n",
    "\n",
    "# print count\n",
    "print('The count of i is:', count)\n",
    "\n",
    "# count element 'p'\n",
    "count = vowels.count('p')\n",
    "\n",
    "# print count\n",
    "print('The count of p is:', count)"
   ]
  },
  {
   "cell_type": "code",
   "execution_count": 11,
   "metadata": {},
   "outputs": [
    {
     "ename": "TypeError",
     "evalue": "count() takes exactly one argument (2 given)",
     "output_type": "error",
     "traceback": [
      "\u001b[0;31m---------------------------------------------------------------------------\u001b[0m",
      "\u001b[0;31mTypeError\u001b[0m                                 Traceback (most recent call last)",
      "\u001b[0;32m<ipython-input-11-ef1c0a854115>\u001b[0m in \u001b[0;36m<module>\u001b[0;34m\u001b[0m\n\u001b[1;32m      3\u001b[0m \"\"\"\n\u001b[1;32m      4\u001b[0m \u001b[0mvowels\u001b[0m \u001b[0;34m=\u001b[0m \u001b[0;34m[\u001b[0m\u001b[0;34m'a'\u001b[0m\u001b[0;34m,\u001b[0m \u001b[0;34m'e'\u001b[0m\u001b[0;34m,\u001b[0m \u001b[0;34m'i'\u001b[0m\u001b[0;34m,\u001b[0m \u001b[0;34m'o'\u001b[0m\u001b[0;34m,\u001b[0m \u001b[0;34m'i'\u001b[0m\u001b[0;34m,\u001b[0m \u001b[0;34m'u'\u001b[0m\u001b[0;34m]\u001b[0m\u001b[0;34m\u001b[0m\u001b[0;34m\u001b[0m\u001b[0m\n\u001b[0;32m----> 5\u001b[0;31m \u001b[0mcount\u001b[0m \u001b[0;34m=\u001b[0m \u001b[0mvowels\u001b[0m\u001b[0;34m.\u001b[0m\u001b[0mcount\u001b[0m\u001b[0;34m(\u001b[0m\u001b[0;34m'i'\u001b[0m\u001b[0;34m,\u001b[0m\u001b[0;34m'p'\u001b[0m\u001b[0;34m)\u001b[0m\u001b[0;34m\u001b[0m\u001b[0;34m\u001b[0m\u001b[0m\n\u001b[0m\u001b[1;32m      6\u001b[0m \u001b[0;31m# print count\u001b[0m\u001b[0;34m\u001b[0m\u001b[0;34m\u001b[0m\u001b[0;34m\u001b[0m\u001b[0m\n\u001b[1;32m      7\u001b[0m \u001b[0mprint\u001b[0m\u001b[0;34m(\u001b[0m\u001b[0;34m'The count of i is:'\u001b[0m\u001b[0;34m,\u001b[0m \u001b[0mcount\u001b[0m\u001b[0;34m)\u001b[0m\u001b[0;34m\u001b[0m\u001b[0;34m\u001b[0m\u001b[0m\n",
      "\u001b[0;31mTypeError\u001b[0m: count() takes exactly one argument (2 given)"
     ]
    }
   ],
   "source": [
    "\"\"\"\n",
    "    count takes single argument\n",
    "\"\"\"\n",
    "vowels = ['a', 'e', 'i', 'o', 'i', 'u']\n",
    "count = vowels.count('i','p')\n",
    "# print count\n",
    "print('The count of i is:', count)"
   ]
  },
  {
   "cell_type": "code",
   "execution_count": 12,
   "metadata": {},
   "outputs": [
    {
     "data": {
      "text/plain": [
       "\"\\n    Python List sort():\\n    -------------------\\n        The sort() method sorts the elements of a given list in a specific order - Ascending or Descending.\\n\\n    The syntax of sort() method is:\\n\\n        list.sort(key=..., reverse=...)\\n        \\n    Alternatively, you can also use Python's in-built function sorted() for the same purpose.\\n\\n        sorted(list, key=..., reverse=...)\\nNote: Simplest difference between sort() and sorted() is: sort() doesn't return any value while, sorted() returns an iterable list\\n\""
      ]
     },
     "execution_count": 12,
     "metadata": {},
     "output_type": "execute_result"
    }
   ],
   "source": [
    "\"\"\"\n",
    "    Python List sort():\n",
    "    -------------------\n",
    "        The sort() method sorts the elements of a given list in a specific order - Ascending or Descending.\n",
    "\n",
    "    The syntax of sort() method is:\n",
    "\n",
    "        list.sort(key=..., reverse=...)\n",
    "        \n",
    "    Alternatively, you can also use Python's in-built function sorted() for the same purpose.\n",
    "        sorted(list, key=..., reverse=...)\n",
    "\n",
    "Note: \n",
    "    Simplest difference between sort() and sorted() is: sort() doesn't return any value while,\n",
    "    sorted() returns an iterable list\n",
    "    \n",
    "    \n",
    "    sort() Parameters:\n",
    "    -----------------\n",
    "        By default, sort() doesn't require any extra parameters. However, it has two optional parameters:\n",
    "\n",
    "        reverse - If true, the sorted list is reversed (or sorted in Descending order)\n",
    "        key - function that serves as a key for the sort comparison\n",
    "\"\"\""
   ]
  },
  {
   "cell_type": "code",
   "execution_count": 13,
   "metadata": {},
   "outputs": [
    {
     "name": "stdout",
     "output_type": "stream",
     "text": [
      "Sorted list: ['a', 'e', 'i', 'o', 'u']\n"
     ]
    }
   ],
   "source": [
    "\"\"\"\n",
    "    Return value from sort():\n",
    "    -------------------------\n",
    "        sort() method doesn't return any value. Rather, it changes the original list.\n",
    "\n",
    "        If you want the original list, use sorted().\n",
    "\"\"\"\n",
    "# vowels list\n",
    "vowels = ['e', 'a', 'u', 'o', 'i']\n",
    "\n",
    "# sort the vowels\n",
    "vowels.sort()\n",
    "\n",
    "# print vowels\n",
    "print('Sorted list:', vowels)"
   ]
  },
  {
   "cell_type": "code",
   "execution_count": 14,
   "metadata": {},
   "outputs": [
    {
     "name": "stdout",
     "output_type": "stream",
     "text": [
      "Sorted list (in Descending): ['u', 'o', 'i', 'e', 'a']\n"
     ]
    }
   ],
   "source": [
    "\"\"\"\n",
    "    How to sort in Descending order?\n",
    "    --------------------------------\n",
    "        sort() method accepts a reverse parameter as an optional argument.\n",
    "        Setting reverse=True sorts the list in the descending order.\n",
    "\n",
    "        list.sort(reverse=True)\n",
    "        Alternately for sorted(), you can use the following code.\n",
    "\n",
    "        sorted(list, reverse=True)\n",
    "\"\"\"\n",
    "# Sort the list in Descending order\n",
    "# vowels list\n",
    "vowels = ['e', 'a', 'u', 'o', 'i']\n",
    "\n",
    "# sort the vowels\n",
    "vowels.sort(reverse=True)\n",
    "\n",
    "# print vowels\n",
    "print('Sorted list (in Descending):', vowels)"
   ]
  },
  {
   "cell_type": "code",
   "execution_count": 20,
   "metadata": {},
   "outputs": [
    {
     "name": "stdout",
     "output_type": "stream",
     "text": [
      "Sorted list: [(4, 1), (2, 2), (1, 3), (3, 4)]\n"
     ]
    }
   ],
   "source": [
    "\"\"\"\n",
    "    How to sort using your own function with key parameter?\n",
    "    -------------------------------------------------------\n",
    "\n",
    "    If you want your own implementation for sorting, sort() also accepts a key function as an optional parameter.\n",
    "\n",
    "    Based on the results of the key function, you can sort the given list.\n",
    "\n",
    "    list.sort(key=len)\n",
    "    \n",
    "    Alternatively for sorted\n",
    "\n",
    "    sorted(list, key=len)\n",
    "    Here, len is the Python's in-built function to count the length of an element.\n",
    "\n",
    "    The list is sorted based on the length of its each element, from lowest count to highest.\n",
    "\"\"\"\n",
    "\n",
    "# take second element for sort\n",
    "def takeSecond(elem):\n",
    "#     print(elem)\n",
    "#     print(elem[1])\n",
    "    return elem[1]\n",
    "\n",
    "# random list\n",
    "random = [(2, 2), (3, 4), (4, 1), (1, 3)]\n",
    "\n",
    "# sort list with key\n",
    "random.sort(key=takeSecond)\n",
    "\n",
    "# print list\n",
    "print('Sorted list:', random)"
   ]
  },
  {
   "cell_type": "code",
   "execution_count": null,
   "metadata": {},
   "outputs": [],
   "source": [
    "\"\"\"\n",
    "    Python sorted():\n",
    "    -------------\n",
    "        The sorted() method returns a sorted list from the given iterable.\n",
    "        \n",
    "        The sorted() method sorts the elements of a given iterable in a specific order - Ascending or Descending.\n",
    "\n",
    "        The syntax of sorted() method is:\n",
    "\n",
    "            sorted(iterable[, key][, reverse])\n",
    "\"\"\"\n",
    "\n",
    "\"\"\"\n",
    "    sorted() Parameters:\n",
    "    --------------------\n",
    "        \n",
    "        sorted() takes two three parameters:\n",
    "\n",
    "        iterable - sequence (string, tuple, list) or collection (set, dictionary, frozen set) or any iterator \n",
    "        reverse (Optional) - If true, the sorted list is reversed (or sorted in Descending order)\n",
    "        key (Optional) - function that serves as a key for the sort comparison\n",
    "\"\"\"\n"
   ]
  },
  {
   "cell_type": "code",
   "execution_count": 21,
   "metadata": {},
   "outputs": [
    {
     "name": "stdout",
     "output_type": "stream",
     "text": [
      "['a', 'e', 'i', 'o', 'u']\n",
      "['P', 'h', 'n', 'o', 't', 'y']\n",
      "['a', 'e', 'i', 'o', 'u']\n"
     ]
    }
   ],
   "source": [
    "\"\"\"\n",
    "    Sort a given sequence: string, list and tuple\n",
    "\"\"\"\n",
    "# vowels list\n",
    "pyList = ['e', 'a', 'u', 'o', 'i']\n",
    "print(sorted(pyList))\n",
    "\n",
    "# string \n",
    "pyString = 'Python'\n",
    "print(sorted(pyString))\n",
    "\n",
    "# vowels tuple\n",
    "pyTuple = ('e', 'a', 'u', 'o', 'i')\n",
    "print(sorted(pyTuple))"
   ]
  },
  {
   "cell_type": "code",
   "execution_count": 22,
   "metadata": {},
   "outputs": [
    {
     "name": "stdout",
     "output_type": "stream",
     "text": [
      "['u', 'o', 'i', 'e', 'a']\n",
      "['u', 'o', 'i', 'e', 'a']\n",
      "['u', 'o', 'i', 'e', 'a']\n"
     ]
    }
   ],
   "source": [
    "\"\"\"\n",
    "    Sort a given collection in descending order: set, dictionary and frozen set\n",
    "\"\"\"\n",
    "# set\n",
    "pySet = {'e', 'a', 'u', 'o', 'i'}\n",
    "print(sorted(pySet, reverse=True))\n",
    "\n",
    "# dictionary\n",
    "pyDict = {'e': 1, 'a': 2, 'u': 3, 'o': 4, 'i': 5}\n",
    "print(sorted(pyDict, reverse=True))\n",
    "\n",
    "# frozen set\n",
    "pyFSet = frozenset(('e', 'a', 'u', 'o', 'i'))\n",
    "print(sorted(pyFSet, reverse=True))"
   ]
  },
  {
   "cell_type": "code",
   "execution_count": 23,
   "metadata": {},
   "outputs": [
    {
     "name": "stdout",
     "output_type": "stream",
     "text": [
      "Sorted list: [(4, 1), (2, 2), (1, 3), (3, 4)]\n"
     ]
    }
   ],
   "source": [
    "\"\"\"\n",
    "    Sort the list using sorted() having a key function\n",
    "\"\"\"\n",
    "# take second element for sort\n",
    "def takeSecond(elem):\n",
    "    return elem[1]\n",
    "\n",
    "# random list\n",
    "random = [(2, 2), (3, 4), (4, 1), (1, 3)]\n",
    "\n",
    "# sort list with key\n",
    "sortedList = sorted(random, key=takeSecond)\n",
    "\n",
    "# print list\n",
    "print('Sorted list:', sortedList)"
   ]
  },
  {
   "cell_type": "code",
   "execution_count": null,
   "metadata": {},
   "outputs": [],
   "source": [
    "\"\"\"\n",
    "    Python List reverse():\n",
    "    ---------------------\n",
    "        The reverse() method reverses the elements of a given list.\n",
    "        \n",
    "        The syntax of reverse() method is:\n",
    "\n",
    "            list.reverse()\n",
    "        \n",
    "        reverse() parameter:\n",
    "            \n",
    "            The reverse() function doesn't take any argument.\n",
    "\"\"\""
   ]
  },
  {
   "cell_type": "code",
   "execution_count": 24,
   "metadata": {},
   "outputs": [
    {
     "name": "stdout",
     "output_type": "stream",
     "text": [
      "Original List: ['Windows', 'macOS', 'Linux']\n",
      "Updated List: ['Linux', 'macOS', 'Windows']\n"
     ]
    }
   ],
   "source": [
    "\"\"\"\n",
    "    Return Value from reverse():\n",
    "    \n",
    "        The reverse() function doesn't return any value. It only reverses the elements and updates the list.\n",
    "\"\"\"\n",
    "# Reverse a List\n",
    "\n",
    "# Operating System List\n",
    "os = ['Windows', 'macOS', 'Linux']\n",
    "print('Original List:', os)\n",
    "\n",
    "# List Reverse\n",
    "os.reverse()\n",
    "\n",
    "# updated list\n",
    "print('Updated List:', os)"
   ]
  },
  {
   "cell_type": "code",
   "execution_count": 25,
   "metadata": {},
   "outputs": [
    {
     "name": "stdout",
     "output_type": "stream",
     "text": [
      "Original List: ['Windows', 'macOS', 'Linux']\n",
      "Updated List: ['Linux', 'macOS', 'Windows']\n"
     ]
    }
   ],
   "source": [
    "\"\"\"\n",
    "    Reverse a List Using Slicing Operator     \n",
    "\"\"\"\n",
    "# Operating System List\n",
    "os = ['Windows', 'macOS', 'Linux']\n",
    "print('Original List:', os)\n",
    "\n",
    "# Reversing a list\t\n",
    "#Syntax: reversed_list = os[start:stop:step] \n",
    "reversed_list = os[::-1]\n",
    "\n",
    "# updated list\n",
    "print('Updated List:', reversed_list)"
   ]
  },
  {
   "cell_type": "code",
   "execution_count": 26,
   "metadata": {},
   "outputs": [
    {
     "name": "stdout",
     "output_type": "stream",
     "text": [
      "Linux\n",
      "macOS\n",
      "Windows\n"
     ]
    }
   ],
   "source": [
    "\"\"\"\n",
    "    Accessing Individual Elements in Reversed Order\n",
    "        \n",
    "        If you need to access individual elements of a list in reverse order, it's better to use reversed() method.\n",
    "\"\"\"\n",
    "# Operating System List\n",
    "os = ['Windows', 'macOS', 'Linux']\n",
    "\n",
    "# Printing Elements in Reversed Order\n",
    "for o in reversed(os):\n",
    "    print(o)"
   ]
  },
  {
   "cell_type": "code",
   "execution_count": 30,
   "metadata": {},
   "outputs": [
    {
     "name": "stdout",
     "output_type": "stream",
     "text": [
      "[1, 2, 3]\n",
      "[1, 2, 3]\n",
      "4464118600\n",
      "4464118600\n"
     ]
    }
   ],
   "source": [
    "\"\"\"\n",
    "    Python List copy():\n",
    "    \n",
    "        The copy() method returns a shallow copy of the list.\n",
    "\"\"\"\n",
    "# A list can be copied with = operator. For example:\n",
    "\n",
    "old_list = [1, 2, 3]\n",
    "new_list = old_list\n",
    "\n",
    "print(old_list)\n",
    "print(new_list)\n",
    "print(id(old_list))\n",
    "print(id(new_list))"
   ]
  },
  {
   "cell_type": "code",
   "execution_count": 32,
   "metadata": {},
   "outputs": [
    {
     "name": "stdout",
     "output_type": "stream",
     "text": [
      "New List: [1, 2, 3, 'a']\n",
      "Old List: [1, 2, 3, 'a']\n"
     ]
    }
   ],
   "source": [
    "\"\"\"\n",
    "    The problem with copying the list in this way is that if you modify the new_list, the old_list is also modified.\n",
    "\n",
    "\"\"\"\n",
    "old_list = [1, 2, 3]\n",
    "new_list = old_list\n",
    "\n",
    "# add element to list\n",
    "new_list.append('a')\n",
    "\n",
    "print('New List:', new_list )\n",
    "print('Old List:', old_list )"
   ]
  },
  {
   "cell_type": "code",
   "execution_count": null,
   "metadata": {},
   "outputs": [],
   "source": [
    "\"\"\"\n",
    "    shallow copy:\n",
    "    -----------\n",
    "    However, if you need the original list unchanged when the new list is modified, you can use copy() method. \n",
    "    This is called shallow copy.\n",
    "\n",
    "    The syntax of copy() method is:\n",
    "\n",
    "        new_list = list.copy()\n",
    "\"\"\""
   ]
  },
  {
   "cell_type": "code",
   "execution_count": null,
   "metadata": {},
   "outputs": [],
   "source": [
    "\"\"\"\n",
    "    copy() parameter:\n",
    "    ----------------\n",
    "        The copy() method doesn't take any parameters.\n",
    "    \n",
    "    Return Value from copy():\n",
    "    ------------------------\n",
    "        The copy() function returns a list. It doesn't modify the original list.\n",
    "\"\"\""
   ]
  },
  {
   "cell_type": "code",
   "execution_count": 34,
   "metadata": {},
   "outputs": [
    {
     "name": "stdout",
     "output_type": "stream",
     "text": [
      "Old List:  ['cat', 0, 6.7]\n",
      "New List:  ['cat', 0, 6.7, 'dog']\n"
     ]
    }
   ],
   "source": [
    "\"\"\"\n",
    "    Copying a List\n",
    "\"\"\"\n",
    "# mixed list\n",
    "list = ['cat', 0, 6.7]\n",
    "\n",
    "# copying a list\n",
    "new_list = list.copy()\n",
    "\n",
    "# Adding element to the new list\n",
    "new_list.append('dog')\n",
    "\n",
    "# Printing new and old list\n",
    "print('Old List: ', list)\n",
    "print('New List: ', new_list)"
   ]
  },
  {
   "cell_type": "code",
   "execution_count": 35,
   "metadata": {},
   "outputs": [
    {
     "name": "stdout",
     "output_type": "stream",
     "text": [
      "Old List:  ['cat', 0, 6.7]\n",
      "New List:  ['cat', 0, 6.7, 'dog']\n"
     ]
    }
   ],
   "source": [
    "\"\"\"\n",
    "    Shallow Copy of a List Using Slicing\n",
    "\"\"\"\n",
    "# mixed list\n",
    "list = ['cat', 0, 6.7]\n",
    "\n",
    "# copying a list using slicing\n",
    "new_list = list[:]\n",
    "\n",
    "# Adding element to the new list\n",
    "new_list.append('dog')\n",
    "\n",
    "# Printing new and old list\n",
    "print('Old List: ', list)\n",
    "print('New List: ', new_list)"
   ]
  },
  {
   "cell_type": "code",
   "execution_count": null,
   "metadata": {},
   "outputs": [],
   "source": [
    "\"\"\"\n",
    "    List Comprehension: Elegant way to create new List:\n",
    "    ---------------------------------------------------\n",
    "        List comprehension is an elegant and concise way to create new list from an existing list in Python.\n",
    "\n",
    "        List comprehension consists of an expression followed by for statement inside square brackets.\n",
    "\"\"\"\n"
   ]
  },
  {
   "cell_type": "code",
   "execution_count": 36,
   "metadata": {},
   "outputs": [
    {
     "name": "stdout",
     "output_type": "stream",
     "text": [
      "[1, 2, 4, 8, 16, 32, 64, 128, 256, 512]\n"
     ]
    }
   ],
   "source": [
    "# Example\n",
    "\n",
    "pow2 = [2 ** x for x in range(10)]\n",
    "# Output: [1, 2, 4, 8, 16, 32, 64, 128, 256, 512]\n",
    "print(pow2)"
   ]
  },
  {
   "cell_type": "code",
   "execution_count": 38,
   "metadata": {},
   "outputs": [
    {
     "name": "stdout",
     "output_type": "stream",
     "text": [
      "[1, 2, 4, 8, 16, 32, 64, 128, 256, 512]\n"
     ]
    }
   ],
   "source": [
    "# This code is equivalent to\n",
    "pow2 = []\n",
    "for x in range(10):\n",
    "   pow2.append(2 ** x)\n",
    "print(pow2)"
   ]
  },
  {
   "cell_type": "code",
   "execution_count": 40,
   "metadata": {},
   "outputs": [
    {
     "name": "stdout",
     "output_type": "stream",
     "text": [
      "[64, 128, 256, 512]\n",
      "[1, 3, 5, 7, 9, 11, 13, 15, 17, 19]\n"
     ]
    },
    {
     "data": {
      "text/plain": [
       "['Python Language', 'Python Programming', 'C Language', 'C Programming']"
      ]
     },
     "execution_count": 40,
     "metadata": {},
     "output_type": "execute_result"
    }
   ],
   "source": [
    "\"\"\"\n",
    "    A list comprehension can optionally contain more for or if statements. \n",
    "    An optional if statement can filter out items for the new list. Here are some examples.\n",
    "\"\"\"\n",
    "pow2 = [2 ** x for x in range(10) if x > 5]\n",
    "print(pow2)\n",
    "\n",
    "odd = [x for x in range(20) if x % 2 == 1]\n",
    "print(odd)\n",
    "\n",
    "[x+y for x in ['Python ','C '] for y in ['Language','Programming']]"
   ]
  },
  {
   "cell_type": "code",
   "execution_count": 41,
   "metadata": {},
   "outputs": [
    {
     "name": "stdout",
     "output_type": "stream",
     "text": [
      "True\n",
      "False\n",
      "True\n"
     ]
    }
   ],
   "source": [
    "\"\"\"\n",
    "    List Operations in Python\n",
    "\"\"\"\n",
    "# We can test if an item exists in a list or not, using the keyword in.\n",
    "my_list = ['p','r','o','b','l','e','m']\n",
    "# Output: True\n",
    "print('p' in my_list)\n",
    "# Output: False\n",
    "print('a' in my_list)\n",
    "# Output: True\n",
    "print('c' not in my_list)"
   ]
  },
  {
   "cell_type": "code",
   "execution_count": null,
   "metadata": {},
   "outputs": [],
   "source": [
    "\"\"\"\n",
    "    Iterating Through a List\n",
    "    Using a for loop we can iterate though each item in a list.\n",
    "\"\"\"\n",
    "for fruit in ['apple','banana','mango']:\n",
    "    print(\"I like\",fruit)"
   ]
  },
  {
   "cell_type": "code",
   "execution_count": 42,
   "metadata": {},
   "outputs": [
    {
     "name": "stdout",
     "output_type": "stream",
     "text": [
      "['a', ['bb', ['ccc', 'ddd'], 'ee', 'ff'], 'g', ['hh', 'ii'], 'j']\n"
     ]
    }
   ],
   "source": [
    "\"\"\"\n",
    "    Lists Can Be Nested:\n",
    "    --------------------\n",
    "        You have seen that an element in a list can be any sort of object. That includes another list.\n",
    "        A list can contain sublists, which in turn can contain sublists themselves, and so on to arbitrary depth.\n",
    "\"\"\"\n",
    "x = ['a', ['bb', ['ccc', 'ddd'], 'ee', 'ff'], 'g', ['hh', 'ii'], 'j']\n",
    "print(x)"
   ]
  },
  {
   "cell_type": "code",
   "execution_count": 43,
   "metadata": {},
   "outputs": [
    {
     "name": "stdout",
     "output_type": "stream",
     "text": [
      "['bb', ['ccc', 'ddd'], 'ee', 'ff']\n",
      "bb\n"
     ]
    }
   ],
   "source": [
    "\"\"\"\n",
    "    To access the items in a sublist, simply append an additional index\n",
    "\"\"\"\n",
    "print(x[1])\n",
    "\n",
    "print(x[1][0])\n",
    "\n",
    "print(x[1][1])\n",
    "\n",
    "print(x[1][3])"
   ]
  },
  {
   "cell_type": "code",
   "execution_count": null,
   "metadata": {},
   "outputs": [],
   "source": [
    "\"\"\"\n",
    "    Tell me the output for the below python statements\n",
    "    \n",
    "\"\"\"\n",
    "#print(x[3])\n",
    "\n",
    "#print(x[3][0], x[3][1])"
   ]
  },
  {
   "cell_type": "code",
   "execution_count": 44,
   "metadata": {},
   "outputs": [
    {
     "name": "stdout",
     "output_type": "stream",
     "text": [
      "5\n"
     ]
    }
   ],
   "source": [
    "\"\"\"\n",
    "    Find the length of the Given list\n",
    "\"\"\"\n",
    "sample  = [1,2,3,4,5]\n",
    "\n",
    "print(len(sample))"
   ]
  },
  {
   "cell_type": "code",
   "execution_count": 45,
   "metadata": {},
   "outputs": [
    {
     "name": "stdout",
     "output_type": "stream",
     "text": [
      "25\n",
      "35\n"
     ]
    }
   ],
   "source": [
    "\"\"\"\n",
    "    sum() function in Python:\n",
    "    ------------------------\n",
    "        Sum of numbers in the list is required everywhere. Python provide an inbuilt function sum() which sums up \n",
    "        the numbers in the list.\n",
    "\"\"\"\n",
    "numbers = [1,2,3,4,5,1,4,5] \n",
    "  \n",
    "# start parameter is not provided \n",
    "Sum = sum(numbers) \n",
    "print(Sum) \n",
    "  \n",
    "# start = 10 \n",
    "Sum = sum(numbers, 10) \n",
    "print(Sum) "
   ]
  },
  {
   "cell_type": "code",
   "execution_count": 47,
   "metadata": {},
   "outputs": [
    {
     "name": "stdout",
     "output_type": "stream",
     "text": [
      "1\n",
      "6\n",
      "a\n",
      "d\n"
     ]
    }
   ],
   "source": [
    "\"\"\"\n",
    "    min() and max() method in python list\n",
    "\"\"\"\n",
    "sample = [1,2,3,4,5,6]\n",
    "print(min(sample))\n",
    "\n",
    "print(max(sample))\n",
    "\n",
    "\n",
    "sample2 = ['a','b','c','d']\n",
    "print(min(sample2))\n",
    "print(max(sample2))"
   ]
  },
  {
   "cell_type": "code",
   "execution_count": null,
   "metadata": {},
   "outputs": [],
   "source": [
    "\"\"\"\n",
    "    Tasks:\n",
    "    -----\n",
    "    1) Create list with even numbers\n",
    "    2) Add element \"Hi\" into the list\n",
    "    3) Given 2D array calculate the sum of diagonal elements.\n",
    "        Ex: [[1,3,5],[1,4,6],[7,6,9] => sum of 1 + 4 + 9 => 14\n",
    "        \n",
    "    4)From given list\n",
    "\n",
    "        gadgets = [“Mobile”, “Laptop”, 100, “Camera”, 310.28, “Speakers”, 27.00,\n",
    "        “Television”, 1000, “Laptop Case”, “Camera Lens”]\n",
    "\n",
    "        a)create separate lists of strings and numbers.\n",
    "\n",
    "        b)Sort the strings list in ascending order\n",
    "\n",
    "        c)Sort the strings list in descending order\n",
    "\n",
    "        d)Sort the number list from lowest to highest\n",
    "\n",
    "        e)Sort the number list from highest to lowest\n",
    "    5)  Get first, second best scores from the list.\n",
    "\n",
    "        List may contain duplicates.\n",
    "\n",
    "        Ex: [86,86,85,85,85,83,23,45,84,1,2,0] => should get 86, 85\n",
    "    6) From the given list calculate total scores.\n",
    " \n",
    "\n",
    "        student_scores =[‘Alex|75 50 90 80 90 70’,\n",
    "        ‘Mary|76 72 71 68 85 69’,\n",
    "        ‘John|69 67 68 71 68 67’,\n",
    "        ‘Anne|80 69 59 82 71 81’,\n",
    "        ‘Mark|79 81 74 71 69 73’\n",
    "        ]\n",
    "\"\"\""
   ]
  }
 ],
 "metadata": {
  "kernelspec": {
   "display_name": "Python 3",
   "language": "python",
   "name": "python3"
  },
  "language_info": {
   "codemirror_mode": {
    "name": "ipython",
    "version": 3
   },
   "file_extension": ".py",
   "mimetype": "text/x-python",
   "name": "python",
   "nbconvert_exporter": "python",
   "pygments_lexer": "ipython3",
   "version": "3.7.3"
  }
 },
 "nbformat": 4,
 "nbformat_minor": 2
}

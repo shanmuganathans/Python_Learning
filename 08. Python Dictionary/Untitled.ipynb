{
 "cells": [
  {
   "cell_type": "code",
   "execution_count": 98,
   "metadata": {},
   "outputs": [
    {
     "name": "stdout",
     "output_type": "stream",
     "text": [
      "1 [1, 2, 3, 4]\n",
      "1\n",
      "2\n",
      "3\n",
      "4\n",
      "2 {'Name': 'Marie', 'Age': '22', 'Sex': 'Female'}\n",
      "Name\n",
      "Age\n",
      "Sex\n"
     ]
    }
   ],
   "source": [
    "1 = list\n",
    "2 = tuple\n",
    "3 = string\n",
    "4 = dict"
   ]
  },
  {
   "cell_type": "code",
   "execution_count": 99,
   "metadata": {},
   "outputs": [
    {
     "name": "stdout",
     "output_type": "stream",
     "text": [
      "('one', 'two', 'three', 1, 2, 3)\n"
     ]
    }
   ],
   "source": [
    "tup1 = (\"one\",\"two\",\"three\")\n",
    "tup2 = (1,2,3)\n",
    "tup3 = tup1 + tup2\n",
    "print (tup3)"
   ]
  },
  {
   "cell_type": "code",
   "execution_count": 69,
   "metadata": {},
   "outputs": [
    {
     "data": {
      "text/plain": [
       "60"
      ]
     },
     "execution_count": 69,
     "metadata": {},
     "output_type": "execute_result"
    }
   ],
   "source": [
    "people[1]['age']['max_age']"
   ]
  },
  {
   "cell_type": "code",
   "execution_count": null,
   "metadata": {},
   "outputs": [],
   "source": []
  }
 ],
 "metadata": {
  "kernelspec": {
   "display_name": "Python 3",
   "language": "python",
   "name": "python3"
  },
  "language_info": {
   "codemirror_mode": {
    "name": "ipython",
    "version": 3
   },
   "file_extension": ".py",
   "mimetype": "text/x-python",
   "name": "python",
   "nbconvert_exporter": "python",
   "pygments_lexer": "ipython3",
   "version": "3.7.3"
  }
 },
 "nbformat": 4,
 "nbformat_minor": 2
}

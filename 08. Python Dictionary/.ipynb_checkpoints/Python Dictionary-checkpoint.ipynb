{
 "cells": [
  {
   "cell_type": "code",
   "execution_count": null,
   "metadata": {},
   "outputs": [],
   "source": [
    "\"\"\"\n",
    "    Dictionaries in Python:\n",
    "    -----------------------\n",
    "        Use {} curly brackets to construct the dictionary, and [] square brackets to index it.\n",
    "        Separate the key and value with colons : and with commas , between each pair.\n",
    "        A dictionary maps a set of objects (keys) to another set of objects (values). \n",
    "        A Python dictionary is a mapping of unique keys to values. \n",
    "        Dictionaries are mutable, which means they can be changed. \n",
    "        The values that the keys point to can be any Python value.\n",
    "        Dictionaries are unordered, so the order that the keys are added doesn't necessarily reflect what order \n",
    "        they may be reported back.\n",
    "        \n",
    "        Syntax:\n",
    "            dict()\n",
    "            ex_dict = {'key1':'value1','key2':'value2'....}\n",
    "        \n",
    "\"\"\""
   ]
  },
  {
   "cell_type": "code",
   "execution_count": 1,
   "metadata": {},
   "outputs": [
    {
     "name": "stdout",
     "output_type": "stream",
     "text": [
      "{}\n",
      "{1: 'apple', 2: 'ball'}\n",
      "{'name': 'John', 1: [2, 4, 3]}\n",
      "{1: 'apple', 2: 'ball'}\n",
      "{1: 'apple', 2: 'ball'}\n"
     ]
    }
   ],
   "source": [
    "\"\"\"\n",
    "    How to create a dictionary?\n",
    "    ===========================\n",
    "        Creating a dictionary is as simple as placing items inside curly braces {} separated by comma.\n",
    "\n",
    "        An item has a key and the corresponding value expressed as a pair, key: value.\n",
    "        \n",
    "        While values can be of any data type and can repeat, keys must be of immutable type \n",
    "        (string, number or tuple with immutable elements) and must be unique.\n",
    "\"\"\"\n",
    "# empty dictionary\n",
    "my_dict = {}\n",
    "print(my_dict)\n",
    "# dictionary with integer keys\n",
    "my_dict = {1: 'apple', 2: 'ball'}\n",
    "print(my_dict)\n",
    "# dictionary with mixed keys\n",
    "my_dict = {'name': 'John', 1: [2, 4, 3]}\n",
    "print(my_dict)\n",
    "# using dict()\n",
    "my_dict = dict({1:'apple', 2:'ball'})\n",
    "print(my_dict)\n",
    "# from sequence having each item as a pair\n",
    "my_dict = dict([(1,'apple'), (2,'ball')])\n",
    "print(my_dict)"
   ]
  },
  {
   "cell_type": "code",
   "execution_count": 4,
   "metadata": {},
   "outputs": [
    {
     "name": "stdout",
     "output_type": "stream",
     "text": [
      "Jack\n",
      "26\n",
      "None\n"
     ]
    }
   ],
   "source": [
    "\"\"\"\n",
    "    How to access elements from a dictionary?\n",
    "    =========================================\n",
    "        While indexing is used with other container types to access values, dictionary uses keys.\n",
    "        Key can be used either inside square brackets or with the get() method.\n",
    "\n",
    "        The difference while using get() is that it returns None instead of KeyError, if the key is not found.\n",
    "\"\"\"\n",
    "my_dict = {'name':'Jack', 'age': 26}\n",
    "\n",
    "# Output: Jack\n",
    "print(my_dict['name'])\n",
    "\n",
    "# Output: 26\n",
    "print(my_dict.get('age'))\n",
    "\n",
    "\n",
    "# Trying to access keys which doesn't exist throws error\n",
    "print(my_dict.get('address'))\n",
    "\n",
    "#my_dict['address']\n"
   ]
  },
  {
   "cell_type": "code",
   "execution_count": 7,
   "metadata": {},
   "outputs": [
    {
     "name": "stdout",
     "output_type": "stream",
     "text": [
      "{'name': 'Jack', 'age': 27}\n",
      "{'name': 'Jack', 'age': 27, 'address': 'Downtown'}\n",
      "{'name': 'Jack', 'age': 25, 'address': 'Downtown'}\n"
     ]
    }
   ],
   "source": [
    "\"\"\"\n",
    "    How to change or add elements in a dictionary?\n",
    "    =============================================\n",
    "        Dictionary are mutable. We can add new items or change the value of existing items using assignment operator.\n",
    "\n",
    "        If the key is already present, value gets updated, else a new key: value pair is added to the dictionary.\n",
    "\"\"\"\n",
    "\n",
    "my_dict = {'name':'Jack', 'age': 26}\n",
    "\n",
    "# update value\n",
    "my_dict['age'] = 27\n",
    "\n",
    "#Output: {'age': 27, 'name': 'Jack'}\n",
    "print(my_dict)\n",
    "\n",
    "# add item\n",
    "my_dict['address'] = 'Downtown'  \n",
    "\n",
    "# Output: {'address': 'Downtown', 'age': 27, 'name': 'Jack'}\n",
    "print(my_dict)"
   ]
  },
  {
   "cell_type": "code",
   "execution_count": 1,
   "metadata": {},
   "outputs": [
    {
     "name": "stdout",
     "output_type": "stream",
     "text": [
      "16\n",
      "{1: 1, 2: 4, 3: 9, 5: 25}\n"
     ]
    }
   ],
   "source": [
    "\"\"\"\n",
    "    How to delete or remove elements from a dictionary?\n",
    "    ==================================================\n",
    "        We can remove a particular item in a dictionary by using the method pop(). \n",
    "        This method removes as item with the provided key and returns the value.\n",
    "\n",
    "        The method, popitem() can be used to remove and return an arbitrary item (key, value) form the dictionary. \n",
    "        All the items can be removed at once using the clear() method.\n",
    "\n",
    "        We can also use the del keyword to remove individual items or the entire dictionary itself.\n",
    "\n",
    "\n",
    "\"\"\"\n",
    "# pop() method\n",
    "# create a dictionary\n",
    "squares = {1:1, 2:4, 3:9, 4:16, 5:25}  \n",
    "\n",
    "# remove a particular item\n",
    "# Output: 16\n",
    "print(squares.pop(4))  \n",
    "\n",
    "# Output: {1: 1, 2: 4, 3: 9, 5: 25}\n",
    "print(squares)\n",
    "\n"
   ]
  },
  {
   "cell_type": "code",
   "execution_count": 8,
   "metadata": {},
   "outputs": [
    {
     "name": "stdout",
     "output_type": "stream",
     "text": [
      "(5, 25)\n",
      "{1: 1, 2: 4, 3: 9, 4: 16}\n"
     ]
    }
   ],
   "source": [
    "\"\"\"\n",
    "    popitem() method:\n",
    "    ================\n",
    "\"\"\"\n",
    "\n",
    "# create a dictionary\n",
    "squares = {1:1, 2:4, 3:9, 4:16, 5:25} \n",
    "# remove an arbitrary item\n",
    "\n",
    "# retrun (5, 25)\n",
    "print(squares.popitem())\n",
    "\n",
    "# Output: {1: 1, 2: 4, 3: 9, 4: 16}\n",
    "print(squares)\n",
    "\n"
   ]
  },
  {
   "cell_type": "code",
   "execution_count": null,
   "metadata": {},
   "outputs": [],
   "source": [
    "\"\"\"\n",
    "    del  and clear keyword in Dictionary:\n",
    "    --------------------------\n",
    "\"\"\"\n",
    "# create a dictionary\n",
    "squares = {1:1, 2:4, 3:9, 4:16, 5:25}  \n",
    "\n",
    "# delete a particular item\n",
    "del squares[1]  \n",
    "\n",
    "# Output: {2: 4, 3: 9, 4: 16, 5: 25}\n",
    "print(squares)\n",
    "\n",
    "# remove all items\n",
    "squares.clear()\n",
    "\n",
    "# Output: {}\n",
    "print(squares)\n",
    "\n",
    "# delete the dictionary itself\n",
    "del squares\n",
    "\n",
    "# Throws Error\n",
    "# print(squares)\n"
   ]
  },
  {
   "cell_type": "code",
   "execution_count": 9,
   "metadata": {},
   "outputs": [
    {
     "name": "stdout",
     "output_type": "stream",
     "text": [
      "4\n",
      "True\n",
      "False\n",
      "True\n",
      "False\n"
     ]
    }
   ],
   "source": [
    "\"\"\"\n",
    "    Operators on Dictionaries:\n",
    "    -------------------------\n",
    "        len(d)      --   returns the number of stored entries, i.e. the number of (key,value) pairs.\n",
    "        del d[k]    --   deletes the key k together with his value\n",
    "        k in d      --   True, if a key k exists in the dictionary d\n",
    "        k not in d  --   True, if a key k doesn't exist in the dictionary d\n",
    "\"\"\"\n",
    "\n",
    "sample = {'1':'one','2':'two',3:'Three',4:'four'}\n",
    "\n",
    "print(len(sample))\n",
    "\n",
    "print('1' in sample)\n",
    "\n",
    "print('one' in sample)\n",
    "\n",
    "print(2 not in sample)\n",
    "\n",
    "print('2' not in sample)"
   ]
  },
  {
   "cell_type": "code",
   "execution_count": 10,
   "metadata": {},
   "outputs": [
    {
     "name": "stdout",
     "output_type": "stream",
     "text": [
      "{'a': 10, 'b': 20, 'c': 30}\n",
      "{}\n"
     ]
    }
   ],
   "source": [
    "\"\"\"\n",
    "    Built-in Dictionary Methods:\n",
    "    ----------------------------\n",
    "    \n",
    "    Python Dictionary clear():\n",
    "    --------------------------\n",
    "        The clear() method removes all items from the dictionary.\n",
    "\n",
    "        The syntax of clear() is:\n",
    "\n",
    "            dict.clear()\n",
    "    clear() Parameters:\n",
    "    -------------------\n",
    "    \n",
    "        The clear() method doesn't take any parameters.\n",
    "\n",
    "    Return Value from clear():\n",
    "    -------------------------\n",
    "    \n",
    "        The clear() method doesn't return any value (returns None).\n",
    "\n",
    "\"\"\"\n",
    "d = {'a': 10, 'b': 20, 'c': 30}\n",
    "print(d)\n",
    "d.clear()\n",
    "print(d)"
   ]
  },
  {
   "cell_type": "code",
   "execution_count": 3,
   "metadata": {},
   "outputs": [
    {
     "name": "stdout",
     "output_type": "stream",
     "text": [
      "Removing items using clear()\n",
      "d = {}\n",
      "d1 = {}\n",
      "Removing items by assigning {}\n",
      "d = {}\n",
      "d1 = {1: 'one', 2: 'two'}\n"
     ]
    }
   ],
   "source": [
    "\"\"\"\n",
    "    You can also remove all elements from the dictionary by assigning empty dictionary {}.\n",
    "\n",
    "    However, there is a difference between calling clear() and assigning {} if there is another variable \n",
    "    referencing the dictionary.\n",
    "\"\"\"\n",
    "\n",
    "d = {1: \"one\", 2: \"two\"}\n",
    "d1 = d\n",
    "d.clear()\n",
    "print('Removing items using clear()')\n",
    "print('d =', d)\n",
    "print('d1 =', d1)\n",
    "\n",
    "d = {1: \"one\", 2: \"two\"}\n",
    "d1 = d\n",
    "d = {}\n",
    "print('Removing items by assigning {}')\n",
    "print('d =', d)\n",
    "print('d1 =', d1)"
   ]
  },
  {
   "cell_type": "code",
   "execution_count": 5,
   "metadata": {},
   "outputs": [
    {
     "name": "stdout",
     "output_type": "stream",
     "text": [
      "Orignal:  {1: 'one', 2: 'two'}\n",
      "New:  {1: 'one', 2: 'two'}\n",
      "4549612960\n",
      "4549613536\n"
     ]
    }
   ],
   "source": [
    "\"\"\"\n",
    "    Python Dictionary copy():\n",
    "    -------------------------\n",
    "        They copy() method returns a shallow copy of the dictionary.\n",
    "        \n",
    "        The syntax of copy() is:\n",
    "\n",
    "            dict.copy()\n",
    "        copy() Parameters:\n",
    "        ------------------\n",
    "        The copy() method doesn't take any parameters.\n",
    "\n",
    "        Return Value from copy()\n",
    "        ------------------------\n",
    "        \n",
    "        This method returns a shallow copy of the dictionary. It doesn't modify the original dictionary.\n",
    "\n",
    "\"\"\"\n",
    "original = {1:'one', 2:'two'}\n",
    "new = original.copy()\n",
    "\n",
    "print('Orignal: ', original)\n",
    "print('New: ', new)\n",
    "\n",
    "print(id(original))\n",
    "print(id(new))"
   ]
  },
  {
   "cell_type": "code",
   "execution_count": 6,
   "metadata": {},
   "outputs": [
    {
     "name": "stdout",
     "output_type": "stream",
     "text": [
      "new:  {}\n",
      "original:  {}\n"
     ]
    }
   ],
   "source": [
    "\"\"\"\n",
    "Difference in Using copy() method, and = Operator to Copy Dictionaries:\n",
    "-----------------------------------------------------------------------\n",
    "    When copy() method is used, a new dictionary is created which is filled with a copy of the\n",
    "    references from the original dictionary.\n",
    "\n",
    "    When = operator is used, a new reference to the original dictionary is created.\n",
    "\"\"\"\n",
    "original = {1:'one', 2:'two'}\n",
    "new = original\n",
    "\n",
    "# removing all elements from the list\n",
    "new.clear()\n",
    "\n",
    "print('new: ', new)\n",
    "print('original: ', original)"
   ]
  },
  {
   "cell_type": "code",
   "execution_count": 6,
   "metadata": {},
   "outputs": [
    {
     "name": "stdout",
     "output_type": "stream",
     "text": [
      "new:  {}\n",
      "original:  {1: 'one', 2: 'two'}\n"
     ]
    }
   ],
   "source": [
    "\"\"\"\n",
    "    Using copy() to Copy Dictionaries\n",
    "\"\"\"\n",
    "original = {1:'one', 2:'two'}\n",
    "new = original.copy()\n",
    "\n",
    "# removing all elements from the list\n",
    "new.clear()\n",
    "\n",
    "print('new: ', new)\n",
    "print('original: ', original)"
   ]
  },
  {
   "cell_type": "code",
   "execution_count": 30,
   "metadata": {},
   "outputs": [
    {
     "name": "stdout",
     "output_type": "stream",
     "text": [
      "{'i': None, 'a': None, 'o': None, 'u': None, 'e': None}\n"
     ]
    }
   ],
   "source": [
    "\"\"\"\n",
    "    Python Dictionary fromkeys():\n",
    "    -----------------------------\n",
    "    The fromkeys() method creates a new dictionary from the given sequence of elements with a value \n",
    "    provided by the user.\n",
    "\n",
    "    The syntax of fromkeys() method is:\n",
    "\n",
    "        dictionary.fromkeys(sequence[, value])\n",
    "    \n",
    "    fromkeys() Parameters:\n",
    "    ----------------------\n",
    "    The fromkeys() method takes two parameters:\n",
    "\n",
    "    sequence - sequence of elements which is to be used as keys for the new dictionary\n",
    "    value (Optional) - value which is set to each each element of the dictionary\n",
    "    \n",
    "    \n",
    "    Return value from fromkeys():\n",
    "    -----------------------------\n",
    "        The fromkeys() method returns a new dictionary with the given sequence of elements as the keys of \n",
    "        the dictionary.\n",
    "\n",
    "        If the value argument is set, each element of the newly created dictionary is set to the provided value.\n",
    "\n",
    "\"\"\"\n",
    "# vowels keys\n",
    "keys = {'a', 'e', 'i', 'o', 'u' }\n",
    "\n",
    "vowels = dict.fromkeys(keys)\n",
    "print(vowels)"
   ]
  },
  {
   "cell_type": "code",
   "execution_count": 10,
   "metadata": {},
   "outputs": [
    {
     "name": "stdout",
     "output_type": "stream",
     "text": [
      "{'e': 'vowel', 'i': 'vowel', 'u': 'vowel', 'a': 'vowel', 'o': 'vowel'}\n"
     ]
    }
   ],
   "source": [
    "\"\"\"\n",
    "    Create a dictionary from a sequence of keys with value:\n",
    "    --------------------------------------------------------\n",
    "    \n",
    "\"\"\"\n",
    "\n",
    "# vowels keys\n",
    "keys = {'a', 'e', 'i', 'o', 'u' }\n",
    "value = 'vowel'\n",
    "\n",
    "vowels = dict.fromkeys(keys, value)\n",
    "print(vowels)"
   ]
  },
  {
   "cell_type": "code",
   "execution_count": 8,
   "metadata": {},
   "outputs": [
    {
     "name": "stdout",
     "output_type": "stream",
     "text": [
      "{'e': [1], 'u': [1], 'i': [1], 'o': [1], 'a': [1]}\n",
      "{'e': [1, 2], 'u': [1, 2], 'i': [1, 2], 'o': [1, 2], 'a': [1, 2]}\n"
     ]
    }
   ],
   "source": [
    "\"\"\"\n",
    "     Create a dictionary from mutable object list:\n",
    "     ---------------------------------------------\n",
    "     \n",
    "     If the provided value is a mutable object (whose value can be modified) like list, dictionary, etc., \n",
    "     when the mutable object is modified, each element of the sequence also gets updated.\n",
    "\n",
    "     This is because, each element is assigned a reference to the same object (points to the same object in the memory).\n",
    "    \n",
    "     To avoid this issue, we use dictionary comprehension.\n",
    "\n",
    "     Here, for each key in keys, a new list from value is created and assigned to it.\n",
    " \n",
    "     In essence, value isn't assigned to the element but a new list is created from it, \n",
    "     which is then assigned to each element in the dictionary.\n",
    "\"\"\"\n",
    "\n",
    "# vowels keys\n",
    "keys = {'a', 'e', 'i', 'o', 'u' }\n",
    "value = [1]\n",
    "\n",
    "vowels = dict.fromkeys(keys, value)\n",
    "print(vowels)\n",
    "\n",
    "# updating the value\n",
    "value.append(2)\n",
    "print(vowels)"
   ]
  },
  {
   "cell_type": "code",
   "execution_count": 14,
   "metadata": {},
   "outputs": [
    {
     "name": "stdout",
     "output_type": "stream",
     "text": [
      "Name:  Phill\n",
      "Age:  22\n",
      "Salary:  None\n",
      "Salary:  0.0\n"
     ]
    }
   ],
   "source": [
    "\"\"\"\n",
    "    Python Dictionary get():\n",
    "    ------------------------\n",
    "        The get() method returns the value for the specified key if key is in dictionary.\n",
    "    \n",
    "    The syntax of get() is:\n",
    "\n",
    "        dict.get(key[, value])\n",
    "        \n",
    "    get() Parameters:\n",
    "    -----------------\n",
    "        The get() method takes maximum of two parameters:\n",
    "\n",
    "        key - key to be searched in the dictionary\n",
    "        value (optional) - Value to be returned if the key is not found. The default value is None.\n",
    "        Return Value from get()\n",
    "    \n",
    "    The get() method returns:\n",
    "    -------------------------\n",
    "    the value for the specified key if key is in dictionary.\n",
    "    None if the key is not found and value is not specified.\n",
    "    value if the key is not found and value is specified.\n",
    "\n",
    "\n",
    "\n",
    "\"\"\"\n",
    "person = {'name': 'Phill', 'age': 22}\n",
    "\n",
    "print('Name: ', person.get('name'))\n",
    "print('Age: ', person.get('age'))\n",
    "\n",
    "# value is not provided\n",
    "print('Salary: ', person.get('salary'))\n",
    "\n",
    "# value is provided\n",
    "print('Salary: ', person.get('salary', 0.0))"
   ]
  },
  {
   "cell_type": "code",
   "execution_count": 14,
   "metadata": {},
   "outputs": [
    {
     "name": "stdout",
     "output_type": "stream",
     "text": [
      "Salary:  None\n"
     ]
    },
    {
     "ename": "KeyError",
     "evalue": "'salary'",
     "output_type": "error",
     "traceback": [
      "\u001b[0;31m---------------------------------------------------------------------------\u001b[0m",
      "\u001b[0;31mKeyError\u001b[0m                                  Traceback (most recent call last)",
      "\u001b[0;32m<ipython-input-14-d6014db0fef0>\u001b[0m in \u001b[0;36m<module>\u001b[0;34m\u001b[0m\n\u001b[1;32m     10\u001b[0m \u001b[0;34m\u001b[0m\u001b[0m\n\u001b[1;32m     11\u001b[0m \u001b[0mprint\u001b[0m\u001b[0;34m(\u001b[0m\u001b[0;34m'Salary: '\u001b[0m\u001b[0;34m,\u001b[0m \u001b[0mperson\u001b[0m\u001b[0;34m.\u001b[0m\u001b[0mget\u001b[0m\u001b[0;34m(\u001b[0m\u001b[0;34m'salary'\u001b[0m\u001b[0;34m)\u001b[0m\u001b[0;34m)\u001b[0m\u001b[0;34m\u001b[0m\u001b[0;34m\u001b[0m\u001b[0m\n\u001b[0;32m---> 12\u001b[0;31m \u001b[0mprint\u001b[0m\u001b[0;34m(\u001b[0m\u001b[0mperson\u001b[0m\u001b[0;34m[\u001b[0m\u001b[0;34m'salary'\u001b[0m\u001b[0;34m]\u001b[0m\u001b[0;34m)\u001b[0m\u001b[0;34m\u001b[0m\u001b[0;34m\u001b[0m\u001b[0m\n\u001b[0m",
      "\u001b[0;31mKeyError\u001b[0m: 'salary'"
     ]
    }
   ],
   "source": [
    "\"\"\"\n",
    "    Python get() method Vs dict[key] to Access Elements:\n",
    "    ---------------------------------------------------\n",
    "    \n",
    "    The get() method returns a default value if the key is missing.\n",
    "\n",
    "    However, if the key is not found when you use dict[key], KeyError exception is raised.\n",
    "\n",
    "\"\"\"\n",
    "\n",
    "print('Salary: ', person.get('salary'))\n",
    "\n",
    "# KeyError\n",
    "print(person['salary'])"
   ]
  },
  {
   "cell_type": "code",
   "execution_count": 15,
   "metadata": {},
   "outputs": [
    {
     "name": "stdout",
     "output_type": "stream",
     "text": [
      "dict_items([('apple', 2), ('orange', 3), ('grapes', 4)])\n"
     ]
    }
   ],
   "source": [
    "\"\"\"\n",
    "    Python Dictionary items():\n",
    "    -------------------------\n",
    "    \n",
    "    The items() method returns a view object that displays a list of dictionary's (key, value) tuple pairs.\n",
    "\n",
    "    The syntax of items() method is:\n",
    "\n",
    "        dictionary.items()\n",
    "    \n",
    "    The items() method is similar to dictionary's viewitems() method in Python 2.7\n",
    "\n",
    "    items() Parameters:\n",
    "    -------------------\n",
    "        The items() method doesn't take any parameters.\n",
    "\n",
    "    Return value from items():\n",
    "    -------------------------\n",
    "        The items() method returns a view object that displays a list of a given dictionary's (key, value) tuple pair.\n",
    "\n",
    "\"\"\"\n",
    "# random sales dictionary\n",
    "sales = { 'apple': 2, 'orange': 3, 'grapes': 4 }\n",
    "\n",
    "print(sales.items())"
   ]
  },
  {
   "cell_type": "code",
   "execution_count": 16,
   "metadata": {},
   "outputs": [
    {
     "name": "stdout",
     "output_type": "stream",
     "text": [
      "Original items: dict_items([('apple', 2), ('orange', 3), ('grapes', 4)])\n",
      "Updated items: dict_items([('orange', 3), ('grapes', 4)])\n"
     ]
    }
   ],
   "source": [
    "\"\"\"\n",
    "    How items() works when a dictionary is modified?:\n",
    "    ------------------------------------------------\n",
    "\"\"\"\n",
    "# random sales dictionary\n",
    "sales = { 'apple': 2, 'orange': 3, 'grapes': 4 }\n",
    "\n",
    "items = sales.items()\n",
    "print('Original items:', items)\n",
    "\n",
    "# delete an item from dictionary\n",
    "del[sales['apple']]\n",
    "print('Updated items:', items)"
   ]
  },
  {
   "cell_type": "code",
   "execution_count": 18,
   "metadata": {},
   "outputs": [
    {
     "name": "stdout",
     "output_type": "stream",
     "text": [
      "dict_keys(['name', 'age', 'salary'])\n",
      "dict_keys([])\n"
     ]
    }
   ],
   "source": [
    "\"\"\"\n",
    "    Python Dictionary keys():\n",
    "    ------------------------\n",
    "        The keys() method returns a view object that displays a list of all the keys in the dictionary\n",
    "        \n",
    "    The syntax of keys() is:\n",
    "\n",
    "        dict.keys()\n",
    "        \n",
    "    keys() Parameters:\n",
    "    ------------------\n",
    "        The keys() doesn't take any parameters.\n",
    "\n",
    "    Return Value from keys():\n",
    "    -------------------------\n",
    "        The keys() returns a view object that displays a list of all the keys.\n",
    "\n",
    "    When the dictionary is changed, the view object also reflect these changes.\n",
    "\"\"\"\n",
    "person = {'name': 'Phill', 'age': 22, 'salary': 3500.0}\n",
    "print(person.keys())\n",
    "\n",
    "empty_dict = {}\n",
    "print(empty_dict.keys())"
   ]
  },
  {
   "cell_type": "code",
   "execution_count": 20,
   "metadata": {},
   "outputs": [
    {
     "name": "stdout",
     "output_type": "stream",
     "text": [
      "Before dictionary is updated\n",
      "dict_keys(['name', 'age'])\n",
      "\n",
      "After dictionary is updated\n",
      "dict_keys(['name', 'age', 'salary'])\n"
     ]
    }
   ],
   "source": [
    "\"\"\"\n",
    "     How keys() works when dictionary is updated?\n",
    "     --------------------------------------------\n",
    "         Here, when the dictionary is updated, keys is also automatically updated to reflect changes.\n",
    "\n",
    "\"\"\"\n",
    "person = {'name': 'Phill', 'age': 22, }\n",
    "\n",
    "print('Before dictionary is updated')\n",
    "keys = person.keys()\n",
    "print(keys)\n",
    "\n",
    "# adding an element to the dictionary\n",
    "person.update({'salary': 3500.0})\n",
    "print('\\nAfter dictionary is updated')\n",
    "print(keys)"
   ]
  },
  {
   "cell_type": "code",
   "execution_count": 21,
   "metadata": {},
   "outputs": [
    {
     "name": "stdout",
     "output_type": "stream",
     "text": [
      "dict_values([2, 3, 4])\n"
     ]
    }
   ],
   "source": [
    "\"\"\"\n",
    "    Python Dictionary values():\n",
    "    ---------------------------\n",
    "        The values() method returns a view object that displays a list of all the values in the dictionary.\n",
    "\n",
    "        The syntax of values() is:\n",
    "\n",
    "            dictionary.values()\n",
    "        \n",
    "        values() Parameters:\n",
    "        --------------------\n",
    "            The values() method doesn't take any parameters.\n",
    "\n",
    "        Return value from values():\n",
    "        ---------------------------\n",
    "            The values() method returns a view object that displays a list of all values in a given dictionary.\n",
    "\"\"\"\n",
    "# random sales dictionary\n",
    "sales = { 'apple': 2, 'orange': 3, 'grapes': 4 }\n",
    "\n",
    "print(sales.values())"
   ]
  },
  {
   "cell_type": "code",
   "execution_count": 23,
   "metadata": {},
   "outputs": [
    {
     "name": "stdout",
     "output_type": "stream",
     "text": [
      "Original items: dict_values([2, 3, 4])\n",
      "<class 'dict_values'>\n",
      "Updated items: dict_values([3, 4])\n"
     ]
    }
   ],
   "source": [
    "\"\"\"\n",
    "    How values() works when dictionary is modified?\n",
    "    -----------------------------------------------\n",
    "    The view object values doesn't itself return a list of sales item values but it returns a view of all \n",
    "    values of the dictionary.\n",
    "\n",
    "    If the list is updated at any time, the changes are reflected on to the view object itself,\n",
    "    as shown in the below program.\n",
    "    \n",
    "\"\"\"\n",
    "# random sales dictionary\n",
    "sales = { 'apple': 2, 'orange': 3, 'grapes': 4 }\n",
    "\n",
    "values = sales.values()\n",
    "print('Original items:', values)\n",
    "\n",
    "print(type(values))\n",
    "\n",
    "# delete an item from dictionary\n",
    "del[sales['apple']]\n",
    "print('Updated items:', values)"
   ]
  },
  {
   "cell_type": "code",
   "execution_count": 24,
   "metadata": {},
   "outputs": [
    {
     "name": "stdout",
     "output_type": "stream",
     "text": [
      "{1: 'one', 2: 'two'}\n",
      "{1: 'one', 2: 'two', 3: 'three'}\n"
     ]
    }
   ],
   "source": [
    "\"\"\"\n",
    "    Python Dictionary update():\n",
    "    --------------------------\n",
    "        The update() method updates the dictionary with the elements from the another dictionary object or \n",
    "        from an iterable of key/value pairs.\n",
    "\n",
    "        The update() method adds element(s) to the dictionary if the key is not in the dictionary.\n",
    "        If the key is in the dictionary, it updates the key with the new value.\n",
    "\n",
    "        The syntax of update() is:\n",
    "\n",
    "        dict.update([other])\n",
    "\n",
    "    update() Parameters:\n",
    "    --------------------\n",
    "        The update() method takes either a dictionary or an iterable object of key/value pairs (generally tuples).\n",
    "\n",
    "        If update() is called without passing parameters, the dictionary remains unchanged.\n",
    "\n",
    "    Return Value from update() \n",
    "    -------------------------\n",
    "\n",
    "        They update() method updates the dictionary with elements from a dictionary object or an iterable object\n",
    "        of key/value pairs.\n",
    "\n",
    "        It doesn't return any value (returns None).\n",
    "\"\"\"\n",
    "d = {1: \"one\", 2: \"three\"}\n",
    "d1 = {2: \"two\"}\n",
    "\n",
    "# updates the value of key 2\n",
    "d.update(d1)\n",
    "print(d)\n",
    "\n",
    "d1 = {3: \"three\"}\n",
    "\n",
    "# adds element with key 3\n",
    "d.update(d1)\n",
    "print(d)"
   ]
  },
  {
   "cell_type": "code",
   "execution_count": 25,
   "metadata": {},
   "outputs": [
    {
     "name": "stdout",
     "output_type": "stream",
     "text": [
      "{'x': 2, 'y': 3, 'z': 0}\n"
     ]
    }
   ],
   "source": [
    "# example \n",
    "\n",
    "d = {'x': 2}\n",
    "\n",
    "d.update(y = 3, z = 0)\n",
    "print(d)"
   ]
  },
  {
   "cell_type": "code",
   "execution_count": null,
   "metadata": {},
   "outputs": [],
   "source": [
    "\"\"\"\n",
    "    Python Dictionary setdefault():\n",
    "    ------------------------------\n",
    "        The setdefault() method returns the value of a key (if the key is in dictionary). \n",
    "        If not, it inserts key with a value to the dictionary.\n",
    "\n",
    "    The syntax of setdefault() is:\n",
    "\n",
    "        dict.setdefault(key[, default_value])\n",
    "\n",
    "    setdefault() Parameters:\n",
    "    -----------------------\n",
    "        The setdefault() takes maximum of two parameters:\n",
    "\n",
    "        key - key to be searched in the dictionary\n",
    "        default_value (optional) - key with a value default_value is inserted to the dictionary\n",
    "        if key is not in the dictionary.If not provided, the default_value will be None.\n",
    "    \n",
    "    Return Value from setdefault()\n",
    "    ------------------------------\n",
    "    \n",
    "    The setdefault() returns:\n",
    "\n",
    "        value of the key if it is in the dictionary\n",
    "        None if key is not in the dictionary and default_value is not specified\n",
    "        default_value if key is not in the dictionary and default_value is specified\n",
    "\"\"\""
   ]
  },
  {
   "cell_type": "code",
   "execution_count": 26,
   "metadata": {},
   "outputs": [
    {
     "name": "stdout",
     "output_type": "stream",
     "text": [
      "person =  {'name': 'Phill', 'age': 22}\n",
      "Age =  22\n"
     ]
    }
   ],
   "source": [
    "person = {'name': 'Phill', 'age': 22}\n",
    "\n",
    "age = person.setdefault('age')\n",
    "print('person = ',person)\n",
    "print('Age = ',age)"
   ]
  },
  {
   "cell_type": "code",
   "execution_count": 27,
   "metadata": {},
   "outputs": [
    {
     "name": "stdout",
     "output_type": "stream",
     "text": [
      "person =  {'name': 'Phill', 'salary': None}\n",
      "salary =  None\n",
      "person =  {'name': 'Phill', 'salary': None, 'age': 22}\n",
      "age =  22\n"
     ]
    }
   ],
   "source": [
    "\"\"\"\n",
    "    How setdefault() works when key is not in the dictionary?\n",
    "\"\"\"\n",
    "person = {'name': 'Phill'}\n",
    "\n",
    "# key is not in the dictionary\n",
    "salary = person.setdefault('salary')\n",
    "print('person = ',person)\n",
    "print('salary = ',salary)\n",
    "\n",
    "# key is not in the dictionary\n",
    "# default_value is provided\n",
    "age = person.setdefault('age', 22)\n",
    "print('person = ',person)\n",
    "print('age = ',age)"
   ]
  },
  {
   "cell_type": "code",
   "execution_count": 30,
   "metadata": {},
   "outputs": [
    {
     "ename": "AttributeError",
     "evalue": "'dict' object has no attribute 'has_key'",
     "output_type": "error",
     "traceback": [
      "\u001b[0;31m---------------------------------------------------------------------------\u001b[0m",
      "\u001b[0;31mAttributeError\u001b[0m                            Traceback (most recent call last)",
      "\u001b[0;32m<ipython-input-30-6666fbfc93e9>\u001b[0m in \u001b[0;36m<module>\u001b[0;34m\u001b[0m\n\u001b[1;32m     17\u001b[0m \"\"\"\n\u001b[1;32m     18\u001b[0m \u001b[0msample\u001b[0m \u001b[0;34m=\u001b[0m \u001b[0;34m{\u001b[0m\u001b[0;36m1\u001b[0m\u001b[0;34m:\u001b[0m\u001b[0;34m'one'\u001b[0m\u001b[0;34m,\u001b[0m\u001b[0;34m'2'\u001b[0m\u001b[0;34m:\u001b[0m\u001b[0;34m'two'\u001b[0m\u001b[0;34m,\u001b[0m\u001b[0;36m3\u001b[0m\u001b[0;34m:\u001b[0m\u001b[0;34m'three'\u001b[0m\u001b[0;34m,\u001b[0m\u001b[0;34m'4'\u001b[0m\u001b[0;34m:\u001b[0m\u001b[0;34m'four'\u001b[0m\u001b[0;34m}\u001b[0m\u001b[0;34m\u001b[0m\u001b[0;34m\u001b[0m\u001b[0m\n\u001b[0;32m---> 19\u001b[0;31m \u001b[0mprint\u001b[0m\u001b[0;34m(\u001b[0m\u001b[0msample\u001b[0m\u001b[0;34m.\u001b[0m\u001b[0mhas_key\u001b[0m\u001b[0;34m(\u001b[0m\u001b[0;36m1\u001b[0m\u001b[0;34m)\u001b[0m\u001b[0;34m)\u001b[0m\u001b[0;34m\u001b[0m\u001b[0;34m\u001b[0m\u001b[0m\n\u001b[0m",
      "\u001b[0;31mAttributeError\u001b[0m: 'dict' object has no attribute 'has_key'"
     ]
    }
   ],
   "source": [
    "\"\"\"\n",
    "    Python dictionary has_key() Method:\n",
    "    -----------------------------------\n",
    "        Python dictionary method has_key() returns true if a given key is available in the dictionary, \n",
    "        otherwise it returns a false.\n",
    "    \n",
    "    Syntax:\n",
    "        dict.has_key(key)\n",
    "    \n",
    "    Parameters:\n",
    "    ------------\n",
    "        key − This is the Key to be searched in the dictionary.\n",
    "\n",
    "    Return Value::\n",
    "    ---------------\n",
    "        This method return true if a given key is available in the dictionary, otherwise it returns a false.\n",
    "\"\"\"\n",
    "sample = {1:'one','2':'two',3:'three','4':'four'}\n",
    "print(sample.has_key(1))\n",
    "\n",
    "\"\"\"\n",
    "in is definitely more pythonic.\n",
    "\n",
    "In fact has_key() was removed in Python 3.x.\n",
    "\"\"\""
   ]
  },
  {
   "cell_type": "code",
   "execution_count": 33,
   "metadata": {},
   "outputs": [
    {
     "name": "stdout",
     "output_type": "stream",
     "text": [
      "1\n",
      "9\n",
      "25\n",
      "49\n",
      "81\n"
     ]
    }
   ],
   "source": [
    "\"\"\"\n",
    "    Iterating Through a Dictionary:\n",
    "    ------------------------------\n",
    "        Using a for loop we can iterate though each key in a dictionary.\n",
    "\"\"\"\n",
    "squares = {1: 1, 3: 9, 5: 25, 7: 49, 9: 81}\n",
    "for i in squares:\n",
    "    print(squares[i])"
   ]
  },
  {
   "cell_type": "code",
   "execution_count": 42,
   "metadata": {},
   "outputs": [
    {
     "name": "stdout",
     "output_type": "stream",
     "text": [
      "{1: 'one', 2.5: 'two.five'}\n",
      "<class 'str'>\n"
     ]
    }
   ],
   "source": [
    "\"\"\"\n",
    "    Python dictionary str() Method:\n",
    "    -------------------------------\n",
    "    \n",
    "    Description:\n",
    "    ------------\n",
    "        Python dictionary method str() produces a printable string representation of a dictionary.\n",
    "\n",
    "    Syntax:\n",
    "    ------\n",
    "        Following is the syntax for str() method −\n",
    "\n",
    "        str(dict)\n",
    "        Parameters\n",
    "        dict − This is the dictionary.\n",
    "\n",
    "    Return Value:\n",
    "    ------------\n",
    "        This method returns string representation.\n",
    "\"\"\"\n",
    "example = {1:'one',2.5:'two.five'}\n",
    "\n",
    "dict_into_str = str(example)\n",
    "\n",
    "print(dict_into_str)\n",
    "print(type(dict_into_str))"
   ]
  },
  {
   "cell_type": "code",
   "execution_count": 15,
   "metadata": {},
   "outputs": [
    {
     "name": "stdout",
     "output_type": "stream",
     "text": [
      "True\n"
     ]
    }
   ],
   "source": [
    "\"\"\"\n",
    "    Python dictionary cmp() Method:\n",
    "    -------------------------------\n",
    "    \n",
    "    Description:\n",
    "    -----------\n",
    "        Python dictionary method cmp() compares two dictionaries based on key and values.\n",
    "\n",
    "    Syntax:\n",
    "    ------\n",
    "        cmp(dict1, dict2)\n",
    "\n",
    "    Parameters:\n",
    "    ----------\n",
    "        dict1 − This is the first dictionary to be compared with dict2.\n",
    "\n",
    "        dict2 − This is the second dictionary to be compared with dict1.\n",
    "\n",
    "    Return Value:\n",
    "    -------------\n",
    "        This method returns 0 if both dictionaries are equal, -1 if dict1 < dict2 and 1 if dict1 > dic2.\n",
    "\n",
    "\"\"\"\n",
    "\n",
    "dict1 = {'Name': 'Shan', 'Age': 7};\n",
    "dict2 = {'Name': 'Sara', 'Age': 27};\n",
    "dict3 = {'Name': 'vivek', 'Age': 27};\n",
    "dict4 = {'Name': 'Saran', 'Age': 7};\n",
    "# print (\"Return Value : %d\" %  cmp (dict1, dict2))\n",
    "# print (\"Return Value : %d\" %  cmp (dict2, dict3))\n",
    "# print (\"Return Value : %d\" %  cmp (dict1, dict4))\n",
    "\n",
    "\n",
    "\"\"\"\n",
    "Python 3 does not have cmp.\n",
    "\n",
    "\"\"\"\n",
    "print(dict1 == dict2)"
   ]
  },
  {
   "cell_type": "code",
   "execution_count": 2,
   "metadata": {},
   "outputs": [
    {
     "name": "stdout",
     "output_type": "stream",
     "text": [
      "How many terms? 10\n",
      "Fibonacci sequence:\n",
      "0\n",
      "1\n",
      "1\n",
      "2\n",
      "3\n",
      "5\n",
      "8\n",
      "13\n",
      "21\n",
      "34\n"
     ]
    }
   ],
   "source": [
    "# Program to display the Fibonacci sequence up to n-th term\n",
    "\n",
    "nterms = int(input(\"How many terms? \"))\n",
    "\n",
    "# first two terms\n",
    "n1, n2 = 0, 1\n",
    "count = 0\n",
    "\n",
    "# check if the number of terms is valid\n",
    "if nterms <= 0:\n",
    "   print(\"Please enter a positive integer\")\n",
    "# if there is only one term, return n1\n",
    "elif nterms == 1:\n",
    "   print(\"Fibonacci sequence upto\",nterms,\":\")\n",
    "   print(n1)\n",
    "# generate fibonacci sequence\n",
    "else:\n",
    "   print(\"Fibonacci sequence:\")\n",
    "   while count < nterms:\n",
    "       print(n1)\n",
    "       nth = n1 + n2\n",
    "       # update values\n",
    "       n1 = n2\n",
    "       n2 = nth\n",
    "       count += 1"
   ]
  },
  {
   "cell_type": "code",
   "execution_count": 4,
   "metadata": {},
   "outputs": [
    {
     "name": "stdout",
     "output_type": "stream",
     "text": [
      "Fibonacci sequence:\n",
      "0\n",
      "1\n",
      "1\n",
      "2\n",
      "3\n",
      "5\n",
      "8\n",
      "13\n",
      "21\n",
      "34\n"
     ]
    }
   ],
   "source": [
    "# Python program to display the Fibonacci sequence\n",
    "\n",
    "def recur_fibo(n):\n",
    "   if n <= 1:\n",
    "       return n\n",
    "   else:\n",
    "       return(recur_fibo(n-1) + recur_fibo(n-2))\n",
    "\n",
    "nterms = 10\n",
    "\n",
    "# check if the number of terms is valid\n",
    "if nterms <= 0:\n",
    "   print(\"Plese enter a positive integer\")\n",
    "else:\n",
    "   print(\"Fibonacci sequence:\")\n",
    "   for i in range(nterms):\n",
    "       print(recur_fibo(i))\n"
   ]
  },
  {
   "cell_type": "code",
   "execution_count": null,
   "metadata": {},
   "outputs": [],
   "source": []
  },
  {
   "cell_type": "code",
   "execution_count": null,
   "metadata": {},
   "outputs": [],
   "source": []
  }
 ],
 "metadata": {
  "kernelspec": {
   "display_name": "Python 3 (ipykernel)",
   "language": "python",
   "name": "python3"
  },
  "language_info": {
   "codemirror_mode": {
    "name": "ipython",
    "version": 3
   },
   "file_extension": ".py",
   "mimetype": "text/x-python",
   "name": "python",
   "nbconvert_exporter": "python",
   "pygments_lexer": "ipython3",
   "version": "3.9.7"
  }
 },
 "nbformat": 4,
 "nbformat_minor": 2
}

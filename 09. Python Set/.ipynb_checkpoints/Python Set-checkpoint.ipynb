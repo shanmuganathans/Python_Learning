{
 "cells": [
  {
   "cell_type": "code",
   "execution_count": null,
   "metadata": {},
   "outputs": [],
   "source": [
    "\"\"\"\n",
    "    Python set():\n",
    "    =============\n",
    "        The set() constructor constructs a Python set from the given iterable and returns it.\n",
    "\n",
    "        The syntax of set() constructor is:\n",
    "        -----------------------------------\n",
    "            set([iterable])\n",
    "            \n",
    "        set() takes a single optional parameter:\n",
    "        ----------------------------------------\n",
    "\n",
    "        iterable (Optional) - a sequence (string, tuple, etc.) or collection (set, dictionary, etc.) or an iterator \n",
    "        object to be converted into a set\n",
    "        \n",
    "        Return value from set()\n",
    "        ---------------------\n",
    "        set() returns:\n",
    "\n",
    "        an empty set if no parameters are passed\n",
    "        a set constructed from the given iterable parameter\n",
    "        \n",
    "        \n",
    "        sets cannot have multiple occurrences of the same element, it makes sets highly useful to efficiently \n",
    "        remove duplicate values from a list or tuple and to perform common math operations like unions and \n",
    "        intersections.\n",
    "\"\"\""
   ]
  },
  {
   "cell_type": "code",
   "execution_count": null,
   "metadata": {},
   "outputs": [],
   "source": [
    "\"\"\"\n",
    "    How to create a set?:\n",
    "    ====================\n",
    "        A set is created by placing all the items (elements) inside curly braces {}, separated by comma or \n",
    "        by using the built-in function set().\n",
    "\n",
    "        It can have any number of items and they may be of different types (integer, float, tuple, string etc.).\n",
    "        But a set cannot have a mutable element, like list, set or dictionary, as its element.\n",
    "\"\"\""
   ]
  },
  {
   "cell_type": "code",
   "execution_count": 1,
   "metadata": {},
   "outputs": [
    {
     "name": "stdout",
     "output_type": "stream",
     "text": [
      "{1, 2, 3}\n",
      "{1.0, 'Hello', (1, 2, 3)}\n",
      "<class 'set'>\n"
     ]
    }
   ],
   "source": [
    "# set of integers\n",
    "my_set = {1, 2, 3}\n",
    "print(my_set)\n",
    "\n",
    "# set of mixed datatypes\n",
    "my_set = {1.0, \"Hello\", (1, 2, 3)}\n",
    "print(my_set)\n",
    "print(type(my_set))"
   ]
  },
  {
   "cell_type": "code",
   "execution_count": 3,
   "metadata": {},
   "outputs": [
    {
     "name": "stdout",
     "output_type": "stream",
     "text": [
      "set()\n",
      "{'n', 't', 'h', 'y', 'o', 'P'}\n",
      "{'a', 'i', 'u', 'e', 'o'}\n",
      "{'a', 'i', 'u', 'e', 'o'}\n",
      "{0, 1, 2, 3, 4}\n",
      "{0, 1, 2, 3, 4, 5}\n"
     ]
    }
   ],
   "source": [
    "# How set() works for a sequence: string, tuple, list, range?\n",
    "# empty set\n",
    "print(set())\n",
    "\n",
    "# from string\n",
    "print(set('Python'))\n",
    "\n",
    "# from tuple\n",
    "print(set(('a', 'e', 'i', 'o', 'u')))\n",
    "\n",
    "# from list\n",
    "print(set(['a', 'e', 'i', 'o', 'u']))\n",
    "\n",
    "# from range\n",
    "print(set(range(5)))\n",
    "\n",
    "print(set([1,2,3,4,5,0]))\n",
    "# Note: Empty sets cannot be created using {}, use set()"
   ]
  },
  {
   "cell_type": "code",
   "execution_count": 6,
   "metadata": {},
   "outputs": [
    {
     "name": "stdout",
     "output_type": "stream",
     "text": [
      "{1, 2, 3, 4}\n",
      "{1, 2, 3}\n"
     ]
    }
   ],
   "source": [
    "# set do not have duplicates\n",
    "# Output: {1, 2, 3, 4}\n",
    "my_set = {1,2,3,4,3,2}\n",
    "print(my_set)\n",
    "\n",
    "# set cannot have mutable items\n",
    "# here [3, 4] is a mutable list\n",
    "# If you uncomment line #12,\n",
    "# this will cause an error.\n",
    "# TypeError: unhashable type: 'list'\n",
    "\n",
    "#my_set = {1, 2, [3, 4]}\n",
    "\n",
    "# we can make set from a list\n",
    "# Output: {1, 2, 3}\n",
    "my_set = set([1,2,3,2])\n",
    "print(my_set)"
   ]
  },
  {
   "cell_type": "code",
   "execution_count": null,
   "metadata": {},
   "outputs": [],
   "source": [
    "\"\"\"\n",
    "    Creating an empty set is a bit tricky.\n",
    "\n",
    "    Empty curly braces {} will make an empty dictionary in Python.\n",
    "    To make a set without any elements we use the set() function without any argument.\n",
    "\"\"\""
   ]
  },
  {
   "cell_type": "code",
   "execution_count": 10,
   "metadata": {},
   "outputs": [
    {
     "name": "stdout",
     "output_type": "stream",
     "text": [
      "<class 'dict'>\n",
      "<class 'set'>\n"
     ]
    }
   ],
   "source": [
    "# initialize a with {}\n",
    "a = {}\n",
    "\n",
    "# check data type of a\n",
    "# Output: <class 'dict'>\n",
    "print(type(a))\n",
    "\n",
    "# initialize a with set()\n",
    "a = set()\n",
    "\n",
    "# check data type of a\n",
    "# Output: <class 'set'>\n",
    "print(type(a))"
   ]
  },
  {
   "cell_type": "code",
   "execution_count": 6,
   "metadata": {},
   "outputs": [
    {
     "name": "stdout",
     "output_type": "stream",
     "text": [
      "{'i', 'a', 'o', 'e', 'u'}\n",
      "{'i', 'a', 'o', 'e', 'u'}\n",
      "{'i', 'a', 'o', 'e', 'u'}\n"
     ]
    }
   ],
   "source": [
    "#  How set() works for a collection: set, dictionary and frozen set?\n",
    "# for set\n",
    "print(set({'a', 'e', 'i', 'o', 'u'}))\n",
    "\n",
    "# from dictionary\n",
    "print(set({'a':1, 'e': 2, 'i':3, 'o':4, 'u':5}))\n",
    "\n",
    "# from frozen set\n",
    "frozenSet = frozenset(('a', 'e', 'i', 'o', 'u'))\n",
    "print(set(frozenSet))\n",
    "\n",
    "# Note: Dictionary keys are used for set creation. And, ordering of the elements may not be the same."
   ]
  },
  {
   "cell_type": "code",
   "execution_count": null,
   "metadata": {},
   "outputs": [],
   "source": [
    "\"\"\"\n",
    "    How to change a set in Python?:\n",
    "    -============================\n",
    "        Sets are mutable. But since they are unordered, indexing have no meaning.\n",
    "\n",
    "        We cannot access or change an element of set using indexing or slicing. Set does not support it.\n",
    "\n",
    "        We can add single element using the add() method and multiple elements using the update() method.\n",
    "        The update() method can take tuples, lists, strings or other sets as its argument.\n",
    "        In all cases, duplicates are avoided.\n",
    "\"\"\""
   ]
  },
  {
   "cell_type": "code",
   "execution_count": 11,
   "metadata": {},
   "outputs": [
    {
     "name": "stdout",
     "output_type": "stream",
     "text": [
      "{1, 3}\n",
      "{1, 2, 3}\n",
      "{1, 2, 3, 4}\n",
      "{1, 2, 3, 4, 5, 6, 8}\n"
     ]
    }
   ],
   "source": [
    "# initialize my_set\n",
    "my_set = {1,3}\n",
    "print(my_set)\n",
    "\n",
    "# if you uncomment line 9,\n",
    "# you will get an error\n",
    "# TypeError: 'set' object does not support indexing\n",
    "\n",
    "#my_set[0]\n",
    "\n",
    "# add an element\n",
    "# Output: {1, 2, 3}\n",
    "my_set.add(2)\n",
    "print(my_set)\n",
    "\n",
    "# add multiple elements\n",
    "# Output: {1, 2, 3, 4}\n",
    "my_set.update([2,3,4])\n",
    "print(my_set)\n",
    "\n",
    "# add list and set\n",
    "# Output: {1, 2, 3, 4, 5, 6, 8}\n",
    "my_set.update([4,5], {1,6,8})\n",
    "print(my_set)"
   ]
  },
  {
   "cell_type": "code",
   "execution_count": null,
   "metadata": {},
   "outputs": [],
   "source": [
    "\"\"\"\n",
    "    How to remove elements from a set?:\n",
    "    ==================================\n",
    "\n",
    "        A particular item can be removed from set using methods, discard() and remove().\n",
    "\n",
    "        The only difference between the two is that, while using discard() if the item does not exist in the set,\n",
    "        it remains unchanged. But remove() will raise an error in such condition.\n",
    "\"\"\""
   ]
  },
  {
   "cell_type": "code",
   "execution_count": 8,
   "metadata": {},
   "outputs": [
    {
     "name": "stdout",
     "output_type": "stream",
     "text": [
      "{1, 3, 4, 5, 6}\n",
      "{1, 3, 5, 6}\n",
      "{1, 3, 5}\n",
      "{1, 3, 5}\n"
     ]
    }
   ],
   "source": [
    "# initialize my_set\n",
    "my_set = {1, 3, 4, 5, 6}\n",
    "print(my_set)\n",
    "\n",
    "# discard an element\n",
    "# Output: {1, 3, 5, 6}\n",
    "my_set.discard(4)\n",
    "print(my_set)\n",
    "\n",
    "# remove an element\n",
    "# Output: {1, 3, 5}\n",
    "my_set.remove(6)\n",
    "print(my_set)\n",
    "\n",
    "# discard an element\n",
    "# not present in my_set\n",
    "# Output: {1, 3, 5}\n",
    "my_set.discard(2)\n",
    "print(my_set)\n",
    "\n",
    "# remove an element\n",
    "# not present in my_set\n",
    "# If you uncomment line 27,\n",
    "# you will get an error.\n",
    "# Output: KeyError: 2\n",
    "\n",
    "# my_set.remove(2)"
   ]
  },
  {
   "cell_type": "code",
   "execution_count": 13,
   "metadata": {},
   "outputs": [
    {
     "name": "stdout",
     "output_type": "stream",
     "text": [
      "{'l', 'H', 'e', 'd', 'o', 'r', 'W'}\n",
      "l\n",
      "{'e', 'd', 'o', 'r', 'W'}\n",
      "set()\n"
     ]
    }
   ],
   "source": [
    "\"\"\"\n",
    "    Similarly, we can remove and return an item using the pop() method.\n",
    "\n",
    "    Set being unordered, there is no way of determining which item will be popped. It is completely arbitrary.\n",
    "\n",
    "    We can also remove all items from a set using clear().\n",
    "\"\"\"\n",
    "# initialize my_set\n",
    "# Output: set of unique elements\n",
    "my_set = set(\"HelloWorld\")\n",
    "print(my_set)\n",
    "\n",
    "# pop an element\n",
    "# Output: random element\n",
    "print(my_set.pop())\n",
    "\n",
    "# pop another element\n",
    "# Output: random element\n",
    "my_set.pop()\n",
    "print(my_set)\n",
    "\n",
    "# clear my_set\n",
    "#Output: set()\n",
    "my_set.clear()\n",
    "print(my_set)"
   ]
  },
  {
   "cell_type": "code",
   "execution_count": null,
   "metadata": {},
   "outputs": [],
   "source": [
    "\"\"\"\n",
    "    Python Set Operations:\n",
    "    =====================\n",
    "        Sets can be used to carry out mathematical set operations like union, intersection, difference and \n",
    "        symmetric difference. We can do this with operators or methods.\n",
    "\"\"\""
   ]
  },
  {
   "cell_type": "code",
   "execution_count": 17,
   "metadata": {},
   "outputs": [
    {
     "name": "stdout",
     "output_type": "stream",
     "text": [
      "{1, 2, 3, 4, 5, 6, 7, 8}\n",
      "{1, 2, 3, 4, 5, 6, 7, 8}\n"
     ]
    },
    {
     "data": {
      "text/plain": [
       "{1, 2, 3, 4, 5, 6, 7, 8}"
      ]
     },
     "execution_count": 17,
     "metadata": {},
     "output_type": "execute_result"
    }
   ],
   "source": [
    "\"\"\"\n",
    "    Union is performed using | operator. Same can be accomplished using the method union().\n",
    "\"\"\"\n",
    "# initialize A and B\n",
    "A = {1, 2, 3, 4, 5}\n",
    "B = {4, 5, 6, 7, 8}\n",
    "\n",
    "# use | operator\n",
    "# Output: {1, 2, 3, 4, 5, 6, 7, 8}\n",
    "print(A | B)\n",
    "\n",
    "print(A.union(B))\n",
    "# {1, 2, 3, 4, 5, 6, 7, 8}\n",
    "\n",
    "B.union(A)\n",
    "# {1, 2, 3, 4, 5, 6, 7, 8}"
   ]
  },
  {
   "cell_type": "code",
   "execution_count": 20,
   "metadata": {},
   "outputs": [
    {
     "name": "stdout",
     "output_type": "stream",
     "text": [
      "{4, 5}\n",
      "{4, 5}\n",
      "{4, 5}\n"
     ]
    }
   ],
   "source": [
    "\"\"\"\n",
    "    Set Intersection:\n",
    "    ================\n",
    "        Intersection is performed using & operator. Same can be accomplished using the method intersection().\n",
    "\"\"\"\n",
    "# initialize A and B\n",
    "A = {1, 2, 3, 4, 5}\n",
    "B = {4, 5, 6, 7, 8}\n",
    "\n",
    "# use & operator\n",
    "# Output: {4, 5}\n",
    "print(A & B)\n",
    "\n",
    "print(A.intersection(B))\n",
    "\n",
    "# {4, 5}\n",
    "\n",
    "print(B.intersection(A))\n",
    "# {4, 5}"
   ]
  },
  {
   "cell_type": "code",
   "execution_count": 24,
   "metadata": {},
   "outputs": [
    {
     "name": "stdout",
     "output_type": "stream",
     "text": [
      "{1, 2, 3}\n",
      "{1, 2, 3}\n",
      "{8, 6, 7}\n",
      "{8, 6, 7}\n"
     ]
    }
   ],
   "source": [
    "\"\"\"\n",
    "    Set Difference:\n",
    "    ==============\n",
    "    Difference is performed using - operator. Same can be accomplished using the method difference().\n",
    "\"\"\"\n",
    "# initialize A and B\n",
    "A = {1, 2, 3, 4, 5}\n",
    "B = {4, 5, 6, 7, 8}\n",
    "\n",
    "# use - operator on A\n",
    "# Output: {1, 2, 3}\n",
    "print(A - B)\n",
    "\n",
    "print(A.difference(B))\n",
    "# {1, 2, 3}\n",
    "\n",
    "print(B - A)\n",
    "# {8, 6, 7}\n",
    "\n",
    "print(B.difference(A))\n",
    "# {8, 6, 7}\n"
   ]
  },
  {
   "cell_type": "code",
   "execution_count": 25,
   "metadata": {},
   "outputs": [
    {
     "name": "stdout",
     "output_type": "stream",
     "text": [
      "{1, 2, 3, 6, 7, 8}\n"
     ]
    }
   ],
   "source": [
    "\"\"\"\n",
    "    Set Symmetric Difference:\n",
    "    ========================\n",
    "        Symmetric Difference of A and B is a set of elements in both A and B except those that are common in both.\n",
    "\n",
    "        Symmetric difference is performed using ^ operator. Same can be accomplished using the method \n",
    "        symmetric_difference().\n",
    "\"\"\"\n",
    "# initialize A and B\n",
    "A = {1, 2, 3, 4, 5}\n",
    "B = {4, 5, 6, 7, 8}\n",
    "\n",
    "# use ^ operator\n",
    "# Output: {1, 2, 3, 6, 7, 8}\n",
    "print(A ^ B)"
   ]
  },
  {
   "cell_type": "code",
   "execution_count": 26,
   "metadata": {},
   "outputs": [
    {
     "name": "stdout",
     "output_type": "stream",
     "text": [
      "{1, 2, 3, 6, 7, 8}\n",
      "{1, 2, 3, 6, 7, 8}\n"
     ]
    }
   ],
   "source": [
    "# use symmetric_difference function on A\n",
    "print(A.symmetric_difference(B))\n",
    "# {1, 2, 3, 6, 7, 8}\n",
    "# use symmetric_difference function on B\n",
    "print(B.symmetric_difference(A))\n",
    "# {1, 2, 3, 6, 7, 8}"
   ]
  },
  {
   "cell_type": "code",
   "execution_count": 10,
   "metadata": {},
   "outputs": [
    {
     "name": "stdout",
     "output_type": "stream",
     "text": [
      "{'a', 'e', 'l', 'p'}\n",
      "True\n",
      "False\n"
     ]
    }
   ],
   "source": [
    "\"\"\"\n",
    "    Set Membership Test:\n",
    "    ====================\n",
    "        We can test if an item exists in a set or not, using the keyword in.\n",
    "\"\"\"\n",
    "# initialize my_set\n",
    "my_set = set(\"apple\")\n",
    "# check if 'a' is present\n",
    "# Output: True\n",
    "print('a' in my_set)\n",
    "\n",
    "# check if 'p' is present\n",
    "# Output: False\n",
    "print('p' not in my_set)"
   ]
  },
  {
   "cell_type": "code",
   "execution_count": 27,
   "metadata": {},
   "outputs": [
    {
     "name": "stdout",
     "output_type": "stream",
     "text": [
      "e\n",
      "l\n",
      "p\n",
      "a\n"
     ]
    }
   ],
   "source": [
    "\"\"\"\n",
    "    Iterating Through a Set:\n",
    "    ========================\n",
    "        Using a for loop, we can iterate though each item in a set.\n",
    "\"\"\"\n",
    "for letter in set(\"apple\"):\n",
    "      print(letter)"
   ]
  },
  {
   "cell_type": "code",
   "execution_count": null,
   "metadata": {},
   "outputs": [],
   "source": [
    "\"\"\"\n",
    "    Built-in Functions with Set:\n",
    "    ===========================\n",
    "    Function              Description\n",
    "    all()               Return True if all elements of the set are true (or if the set is empty).\n",
    "    any()               Return True if any element of the set is true. If the set is empty, return False.\n",
    "    enumerate()         Return an enumerate object. It contains the index and value of all the items of set as a pair.\n",
    "    len()               Return the length (the number of items) in the set.\n",
    "    max()               Return the largest item in the set.\n",
    "    min()               Return the smallest item in the set.\n",
    "    sorted()            Return a new sorted list from elements in the set(does not sort the set itself).\n",
    "    sum()               Retrun the sum of all elements in the set.\n",
    "\"\"\""
   ]
  },
  {
   "cell_type": "code",
   "execution_count": 16,
   "metadata": {},
   "outputs": [
    {
     "data": {
      "text/plain": [
       "frozenset"
      ]
     },
     "execution_count": 16,
     "metadata": {},
     "output_type": "execute_result"
    }
   ],
   "source": [
    "\"\"\"\n",
    "    Python Frozenset:\n",
    "    =================\n",
    "        Frozenset is a new class that has the characteristics of a set, but its elements cannot be changed once \n",
    "        assigned. While tuples are immutable lists, frozensets are immutable sets.\n",
    "\n",
    "        Sets being mutable are unhashable, so they can't be used as dictionary keys. On the other hand, \n",
    "        frozensets are hashable and can be used as keys to a dictionary.\n",
    "\n",
    "        Frozensets can be created using the function frozenset().\n",
    "\n",
    "        This datatype supports methods like copy(), difference(), intersection(), isdisjoint(), issubset(), \n",
    "        issuperset(), symmetric_difference() and union(). Being immutable it does not have method that\n",
    "        add or remove elements.\n",
    "\"\"\"\n",
    "# initialize A and B\n",
    "A = frozenset([1, 2, 3, 4])\n",
    "B = frozenset([3, 4, 5, 6])"
   ]
  },
  {
   "cell_type": "code",
   "execution_count": 15,
   "metadata": {},
   "outputs": [
    {
     "name": "stdout",
     "output_type": "stream",
     "text": [
      "False\n",
      "frozenset({1, 2})\n",
      "frozenset({1, 2, 3, 4, 5, 6})\n"
     ]
    },
    {
     "ename": "AttributeError",
     "evalue": "'frozenset' object has no attribute 'add'",
     "output_type": "error",
     "traceback": [
      "\u001b[0;31m---------------------------------------------------------------------------\u001b[0m",
      "\u001b[0;31mAttributeError\u001b[0m                            Traceback (most recent call last)",
      "\u001b[0;32m<ipython-input-15-8550322126f3>\u001b[0m in \u001b[0;36m<module>\u001b[0;34m\u001b[0m\n\u001b[1;32m      5\u001b[0m \u001b[0mprint\u001b[0m \u001b[0;34m(\u001b[0m\u001b[0mA\u001b[0m \u001b[0;34m|\u001b[0m \u001b[0mB\u001b[0m\u001b[0;34m)\u001b[0m\u001b[0;34m\u001b[0m\u001b[0;34m\u001b[0m\u001b[0m\n\u001b[1;32m      6\u001b[0m \u001b[0;31m# frozenset({1, 2, 3, 4, 5, 6})\u001b[0m\u001b[0;34m\u001b[0m\u001b[0;34m\u001b[0m\u001b[0;34m\u001b[0m\u001b[0m\n\u001b[0;32m----> 7\u001b[0;31m \u001b[0mprint\u001b[0m\u001b[0;34m(\u001b[0m\u001b[0mA\u001b[0m\u001b[0;34m.\u001b[0m\u001b[0madd\u001b[0m\u001b[0;34m(\u001b[0m\u001b[0;36m3\u001b[0m\u001b[0;34m)\u001b[0m\u001b[0;34m)\u001b[0m\u001b[0;34m\u001b[0m\u001b[0;34m\u001b[0m\u001b[0m\n\u001b[0m",
      "\u001b[0;31mAttributeError\u001b[0m: 'frozenset' object has no attribute 'add'"
     ]
    }
   ],
   "source": [
    "print(A.isdisjoint(B))\n",
    "# False\n",
    "print(A.difference(B))\n",
    "# frozenset({1, 2})\n",
    "print (A | B)\n",
    "# frozenset({1, 2, 3, 4, 5, 6})\n",
    "print(A.add(3))"
   ]
  },
  {
   "cell_type": "code",
   "execution_count": null,
   "metadata": {},
   "outputs": [],
   "source": [
    "\"\"\"\n",
    "    isdisjoint()\tReturns True if two sets have a null intersection\n",
    "    issubset()\tReturns True if another set contains this set\n",
    "    issuperset()\tReturns True if this set contains another set\n",
    "\"\"\""
   ]
  },
  {
   "cell_type": "code",
   "execution_count": 31,
   "metadata": {},
   "outputs": [
    {
     "name": "stdout",
     "output_type": "stream",
     "text": [
      "Are A and B disjoint? True\n",
      "Are A and C disjoint? False\n"
     ]
    }
   ],
   "source": [
    "A = {1, 2, 3, 4}\n",
    "B = {5, 6, 7}\n",
    "C = {4, 5, 6}\n",
    "\n",
    "print('Are A and B disjoint?', A.isdisjoint(B))\n",
    "print('Are A and C disjoint?', A.isdisjoint(C))"
   ]
  },
  {
   "cell_type": "code",
   "execution_count": 32,
   "metadata": {},
   "outputs": [
    {
     "name": "stdout",
     "output_type": "stream",
     "text": [
      "True\n",
      "False\n",
      "False\n",
      "True\n"
     ]
    }
   ],
   "source": [
    "A = {1, 2, 3}\n",
    "B = {1, 2, 3, 4, 5}\n",
    "C = {1, 2, 4, 5}\n",
    "\n",
    "# Returns True\n",
    "print(A.issubset(B))\n",
    "\n",
    "# Returns False\n",
    "# B is not subset of A\n",
    "print(B.issubset(A))\n",
    "\n",
    "# Returns False\n",
    "print(A.issubset(C))\n",
    "\n",
    "# Returns True\n",
    "print(C.issubset(B))"
   ]
  },
  {
   "cell_type": "code",
   "execution_count": 33,
   "metadata": {},
   "outputs": [
    {
     "name": "stdout",
     "output_type": "stream",
     "text": [
      "True\n",
      "False\n",
      "True\n"
     ]
    }
   ],
   "source": [
    "A = {1, 2, 3, 4, 5}\n",
    "B = {1, 2, 3}\n",
    "C = {1, 2, 3}\n",
    "\n",
    "# Returns True\n",
    "print(A.issuperset(B))\n",
    "\n",
    "# Returns False\n",
    "print(B.issuperset(A))\n",
    "\n",
    "# Returns True\n",
    "print(C.issuperset(B))"
   ]
  },
  {
   "cell_type": "code",
   "execution_count": null,
   "metadata": {},
   "outputs": [],
   "source": []
  }
 ],
 "metadata": {
  "kernelspec": {
   "display_name": "Python 3",
   "language": "python",
   "name": "python3"
  },
  "language_info": {
   "codemirror_mode": {
    "name": "ipython",
    "version": 3
   },
   "file_extension": ".py",
   "mimetype": "text/x-python",
   "name": "python",
   "nbconvert_exporter": "python",
   "pygments_lexer": "ipython3",
   "version": "3.7.3"
  }
 },
 "nbformat": 4,
 "nbformat_minor": 2
}

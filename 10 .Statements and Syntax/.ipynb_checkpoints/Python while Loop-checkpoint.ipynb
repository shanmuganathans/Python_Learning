{
 "cells": [
  {
   "cell_type": "code",
   "execution_count": 1,
   "metadata": {},
   "outputs": [
    {
     "name": "stdout",
     "output_type": "stream",
     "text": [
      "The sum is 55\n"
     ]
    }
   ],
   "source": [
    "\"\"\"\n",
    "     while loop in Python?\n",
    "     --------------------\n",
    "        The while loop in Python is used to iterate over a block of code as long as the test expression (condition)\n",
    "        is true.\n",
    "\n",
    "        We generally use this loop when we don't know beforehand, the number of times to iterate.\n",
    "\n",
    "        Syntax of while Loop in Python\n",
    "            while test_expression:\n",
    "                Body of while\n",
    "                \n",
    "        In while loop, test expression is checked first. The body of the loop is entered only if the \n",
    "        test_expression evaluates to True. After one iteration, the test expression is checked again.\n",
    "        This process continues until the test_expression evaluates to False.\n",
    "\n",
    "        In Python, the body of the while loop is determined through indentation.\n",
    "\n",
    "        Body starts with indentation and the first unindented line marks the end.\n",
    "\n",
    "        Python interprets any non-zero value as True. None and 0 are interpreted as False\n",
    "\"\"\"\n",
    "\n",
    "# Program to add natural\n",
    "# numbers upto \n",
    "# sum = 1+2+3+...+n\n",
    "\n",
    "# To take input from the user,\n",
    "# n = int(input(\"Enter n: \"))\n",
    "\n",
    "n = 10\n",
    "\n",
    "# initialize sum and counter\n",
    "sum = 0\n",
    "i = 1\n",
    "\n",
    "while i <= n:\n",
    "    sum = sum + i\n",
    "    i = i+1    # update counter\n",
    "\n",
    "# print the sum\n",
    "print(\"The sum is\", sum)"
   ]
  },
  {
   "cell_type": "code",
   "execution_count": 2,
   "metadata": {},
   "outputs": [
    {
     "name": "stdout",
     "output_type": "stream",
     "text": [
      "Inside loop\n",
      "Inside loop\n",
      "Inside loop\n",
      "Inside else\n"
     ]
    }
   ],
   "source": [
    "\"\"\"\n",
    "    while loop with else:\n",
    "    ---------------------\n",
    "        Same as that of for loop, we can have an optional else block with while loop as well.\n",
    "\n",
    "        The else part is executed if the condition in the while loop evaluates to False.\n",
    "\n",
    "        The while loop can be terminated with a break statement. In such case, the else part is ignored. \n",
    "        Hence, a while loop's else part runs if no break occurs and the condition is false.\n",
    "        \n",
    "        \n",
    "        here use a counter variable to print the string Inside loop three times.\n",
    "\n",
    "        On the forth iteration, the condition in while becomes False. Hence, the else part is executed.\n",
    "\"\"\"\n",
    "\n",
    "# Example to illustrate\n",
    "# the use of else statement\n",
    "# with the while loop\n",
    "\n",
    "counter = 0\n",
    "\n",
    "while counter < 3:\n",
    "    print(\"Inside loop\")\n",
    "    counter = counter + 1\n",
    "else:\n",
    "    print(\"Inside else\")"
   ]
  },
  {
   "cell_type": "code",
   "execution_count": null,
   "metadata": {},
   "outputs": [],
   "source": []
  }
 ],
 "metadata": {
  "kernelspec": {
   "display_name": "Python 3",
   "language": "python",
   "name": "python3"
  },
  "language_info": {
   "codemirror_mode": {
    "name": "ipython",
    "version": 3
   },
   "file_extension": ".py",
   "mimetype": "text/x-python",
   "name": "python",
   "nbconvert_exporter": "python",
   "pygments_lexer": "ipython3",
   "version": "3.7.3"
  }
 },
 "nbformat": 4,
 "nbformat_minor": 2
}

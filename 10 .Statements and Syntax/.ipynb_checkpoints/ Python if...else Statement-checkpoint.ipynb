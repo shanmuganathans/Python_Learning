{
 "cells": [
  {
   "cell_type": "code",
   "execution_count": null,
   "metadata": {},
   "outputs": [],
   "source": [
    "\"\"\"\n",
    "    Python if...else Statement\n",
    "    --------------------------\n",
    "        Decision making is required when we want to execute a code only if a certain condition is satisfied.\n",
    "\n",
    "        The if…elif…else statement is used in Python for decision making.\n",
    "    \n",
    "        Python if Statement Syntax\n",
    "            if test expression:\n",
    "                statement(s)\n",
    "                \n",
    "        Here, the program evaluates the test expression and will execute statement(s) only \n",
    "        if the text expression is True.\n",
    "\n",
    "        If the text expression is False, the statement(s) is not executed.\n",
    "\n",
    "        In Python, the body of the if statement is indicated by the indentation. \n",
    "        Body starts with an indentation and the first unindented line marks the end.\n",
    "\n",
    "        Python interprets non-zero values as True. None and 0 are interpreted as False.\n",
    "\"\"\""
   ]
  },
  {
   "cell_type": "code",
   "execution_count": 2,
   "metadata": {},
   "outputs": [
    {
     "name": "stdout",
     "output_type": "stream",
     "text": [
      "3 is a positive number.\n",
      "This is always printed.\n",
      "This is also always printed.\n"
     ]
    }
   ],
   "source": [
    "\"\"\"\n",
    "    Example: Python if Statement\n",
    "\"\"\"\n",
    "# If the number is positive, we print an appropriate message\n",
    "\n",
    "num = 3\n",
    "if num > 0:\n",
    "    print(num, \"is a positive number.\")\n",
    "print(\"This is always printed.\")\n",
    "\n",
    "num = -1\n",
    "if num > 0:\n",
    "    print(num, \"is a positive number.\")\n",
    "print(\"This is also always printed.\")"
   ]
  },
  {
   "cell_type": "code",
   "execution_count": null,
   "metadata": {},
   "outputs": [],
   "source": [
    "\"\"\"\n",
    "    Python if...else Statement\n",
    "    -------------------------\n",
    "        Syntax of if...else:\n",
    "        --------------------\n",
    "            if test expression:\n",
    "                Body of if\n",
    "            else:\n",
    "                Body of else\n",
    "                \n",
    "        The if..else statement evaluates test expression and will execute body of if only when test condition is True.\n",
    "\n",
    "        If the condition is False, body of else is executed. Indentation is used to separate the blocks.\n",
    "\"\"\"\n"
   ]
  },
  {
   "cell_type": "code",
   "execution_count": 3,
   "metadata": {},
   "outputs": [
    {
     "name": "stdout",
     "output_type": "stream",
     "text": [
      "Positive or Zero\n"
     ]
    }
   ],
   "source": [
    "\"\"\"\n",
    "    Example of if...else\n",
    "\"\"\"\n",
    "# Program checks if the number is positive or negative\n",
    "# And displays an appropriate message\n",
    "\n",
    "num = 3\n",
    "\n",
    "# Try these two variations as well. \n",
    "# num = -5\n",
    "# num = 0\n",
    "\n",
    "if num >= 0:\n",
    "    print(\"Positive or Zero\")\n",
    "else:\n",
    "    print(\"Negative number\")"
   ]
  },
  {
   "cell_type": "code",
   "execution_count": null,
   "metadata": {},
   "outputs": [],
   "source": [
    "\"\"\"\n",
    "    Python if...elif...else Statement:\n",
    "    ---------------------------------\n",
    "        Syntax of if...elif...else:\n",
    "        --------------------------\n",
    "            if test expression:\n",
    "                Body of if\n",
    "            elif test expression:\n",
    "                Body of elif\n",
    "            else: \n",
    "                Body of else\n",
    "        The elif is short for else if. It allows us to check for multiple expressions.\n",
    "\n",
    "        If the condition for if is False, it checks the condition of the next elif block and so on.\n",
    "\n",
    "        If all the conditions are False, body of else is executed.\n",
    "\n",
    "        Only one block among the several if...elif...else blocks is executed according to the condition.\n",
    "\n",
    "        The if block can have only one else block. But it can have multiple elif blocks.\n",
    "\"\"\""
   ]
  },
  {
   "cell_type": "code",
   "execution_count": 4,
   "metadata": {},
   "outputs": [
    {
     "name": "stdout",
     "output_type": "stream",
     "text": [
      "Positive number\n"
     ]
    }
   ],
   "source": [
    "# In this program, \n",
    "# we check if the number is positive or\n",
    "# negative or zero and \n",
    "# display an appropriate message\n",
    "\n",
    "num = 3.4\n",
    "\n",
    "# Try these two variations as well:\n",
    "# num = 0\n",
    "# num = -4.5\n",
    "\n",
    "if num > 0:\n",
    "    print(\"Positive number\")\n",
    "elif num == 0:\n",
    "    print(\"Zero\")\n",
    "else:\n",
    "    print(\"Negative number\")"
   ]
  },
  {
   "cell_type": "code",
   "execution_count": null,
   "metadata": {},
   "outputs": [],
   "source": [
    "\"\"\"\n",
    "    Python Nested if statements:\n",
    "    ----------------------------\n",
    "        We can have a if...elif...else statement inside another if...elif...else statement.\n",
    "        This is called nesting in computer programming.\n",
    "\n",
    "        Any number of these statements can be nested inside one another. \n",
    "        Indentation is the only way to figure out the level of nesting. This can get confusing, \n",
    "        so must be avoided if we can.\n",
    "\"\"\""
   ]
  },
  {
   "cell_type": "code",
   "execution_count": 5,
   "metadata": {},
   "outputs": [
    {
     "name": "stdout",
     "output_type": "stream",
     "text": [
      "Enter a number: 10\n",
      "Positive number\n"
     ]
    }
   ],
   "source": [
    "# In this program, we input a number\n",
    "# check if the number is positive or\n",
    "# negative or zero and display\n",
    "# an appropriate message\n",
    "# This time we use nested if\n",
    "num = float(input(\"Enter a number: \"))\n",
    "if num >= 0:\n",
    "    if num == 0:\n",
    "        print(\"Zero\")\n",
    "    else:\n",
    "        print(\"Positive number\")\n",
    "else:\n",
    "    print(\"Negative number\")"
   ]
  },
  {
   "cell_type": "code",
   "execution_count": null,
   "metadata": {},
   "outputs": [],
   "source": []
  },
  {
   "cell_type": "code",
   "execution_count": null,
   "metadata": {},
   "outputs": [],
   "source": []
  }
 ],
 "metadata": {
  "kernelspec": {
   "display_name": "Python 3",
   "language": "python",
   "name": "python3"
  },
  "language_info": {
   "codemirror_mode": {
    "name": "ipython",
    "version": 3
   },
   "file_extension": ".py",
   "mimetype": "text/x-python",
   "name": "python",
   "nbconvert_exporter": "python",
   "pygments_lexer": "ipython3",
   "version": "3.7.3"
  }
 },
 "nbformat": 4,
 "nbformat_minor": 2
}

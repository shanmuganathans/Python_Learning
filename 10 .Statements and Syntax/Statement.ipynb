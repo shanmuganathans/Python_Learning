{
 "cells": [
  {
   "cell_type": "code",
   "execution_count": 1,
   "metadata": {},
   "outputs": [
    {
     "data": {
      "text/plain": [
       "'\\nPython Statement:\\n-----------------\\n    A statement in Python is a logical instruction which Python interpreter can read and execute. \\n    In Python, it could be an expression or an assignment statement.\\n\\n    The assignment statement is fundamental to Python. \\n    It defines the way an expression creates objects and preserve them.\\n'"
      ]
     },
     "execution_count": 1,
     "metadata": {},
     "output_type": "execute_result"
    }
   ],
   "source": [
    "\"\"\"\n",
    "Python Statement:\n",
    "-----------------\n",
    "    A statement in Python is a logical instruction which Python interpreter can read and execute. \n",
    "    In Python, it could be an expression or an assignment statement.\n",
    "\n",
    "    The assignment statement is fundamental to Python. \n",
    "    It defines the way an expression creates objects and preserve them.\n",
    "\"\"\""
   ]
  },
  {
   "cell_type": "code",
   "execution_count": null,
   "metadata": {},
   "outputs": [],
   "source": [
    "\"\"\"\n",
    "    What Is An Expression?:\n",
    "    -----------------------\n",
    "        An expression is a type Python statement which contains a logical sequence of numbers, strings, objects,\n",
    "        and operators. The value in itself is a valid expression and so is a variable.\n",
    "\n",
    "        Using expressions, we can perform operations like addition, subtraction, concatenation and so on. \n",
    "        It can also have a call to a function which evaluates results.\n",
    "\"\"\"\n",
    "# Examples\n",
    "\n",
    "# Using Arithmetic expressions\n",
    "((10 + 2) * 100 / 5 - 200)\n",
    "# 40.0\n",
    "# Using functions in an expression\n",
    "pow(2, 10)\n",
    "# 1024\n",
    "# Using eval in an expression\n",
    "eval( \"2.5+2.5\" )"
   ]
  },
  {
   "cell_type": "code",
   "execution_count": null,
   "metadata": {},
   "outputs": [],
   "source": [
    "\"\"\"\n",
    "Simple Assignment Statement:\n",
    "---------------------------\n",
    "    In a simple assignment, we create new variables, assign and change values. This statement provides an expression \n",
    "    and a variable name as a label to preserve the value of the expression.\n",
    "\n",
    "        # Syntax\n",
    "        variable = expression\n",
    "        # LHS <=> RHS\n",
    "        \n",
    "Let’s now take a close look at three types of assignment statements in Python and see what’s going on under the hood.\n",
    "\n",
    "\"\"\"\n",
    "\n",
    "\"\"\"\n",
    "    Case-1: Right-Hand Side (RHS) Is Just A Value-Based Expression.\n",
    "    Let’s consider the most basic form of assignment in Python.\n",
    "\"\"\"\n",
    "\n",
    "test = \"Learn Python\"\n",
    "# Python will create a string “Learn Python” in memory and assigns the name “test” to it. \n",
    "# You can confirm the memory address with the of a built-in function known as id().\n",
    "\n",
    "test = \"Learn Python\"\n",
    "id(test)\n",
    "# 6589040\n",
    "# The number is the address of the location where the data lives in memory. \n",
    "# Now, here comes a few interesting points which you should know.\n",
    "\n",
    "# 1. If you create another string with the same value, Python will create a new object and assign it to a \n",
    "#    different location in memory. So this rule would apply to most of the cases.\n",
    "\n",
    "test1 = \"Learn Python\"\n",
    "id(test1)\n",
    "# 6589104\n",
    "test2 = \"Learn Python\"\n",
    "id(test2)\n",
    "# 6589488\n"
   ]
  },
  {
   "cell_type": "code",
   "execution_count": null,
   "metadata": {},
   "outputs": [],
   "source": [
    "\"\"\"\n",
    "2. However, Python will also allocate the same memory address in the following two scenarios.\n",
    " \n",
    "        The strings don’t have whitespaces and contain less than 20 characters.\n",
    "        In case of Integers ranging between -5 to +255.\n",
    "\n",
    "This concept is known as Interning. Python does it to save memory.\n",
    "\"\"\""
   ]
  },
  {
   "cell_type": "code",
   "execution_count": 4,
   "metadata": {},
   "outputs": [
    {
     "name": "stdout",
     "output_type": "stream",
     "text": [
      "4577382320\n"
     ]
    },
    {
     "data": {
      "text/plain": [
       "4577382320"
      ]
     },
     "execution_count": 4,
     "metadata": {},
     "output_type": "execute_result"
    }
   ],
   "source": [
    "\"\"\"\n",
    "\n",
    "Case-2: \n",
    "-------\n",
    "    Right-Hand Side (RHS) Is A Current Python Variable.\n",
    "    Let’s take up the next type of assignment statement where the RHS is a current Python variable.\n",
    "\n",
    "    another_test = test\n",
    "    The above statement won’t trigger any new allocation in memory. \n",
    "    Both the variables would point to the same memory address. It’s like creating an alias to the existing object.\n",
    "    Let’s validate this by using the id() function.\n",
    "\n",
    "\n",
    "\"\"\"\n",
    "\n",
    "test = \"Learn Python\"\n",
    "print(id(test))\n",
    "# 6589424\n",
    "another_test = test\n",
    "id(another_test)\n",
    "# 6589424"
   ]
  },
  {
   "cell_type": "code",
   "execution_count": 5,
   "metadata": {},
   "outputs": [
    {
     "name": "stdout",
     "output_type": "stream",
     "text": [
      "1.0\n"
     ]
    },
    {
     "data": {
      "text/plain": [
       "float"
      ]
     },
     "execution_count": 5,
     "metadata": {},
     "output_type": "execute_result"
    }
   ],
   "source": [
    "\"\"\"\n",
    "    Case-3: Right-Hand Side (RHS) Is An Operation.\n",
    "    =============================================\n",
    "        In this type of statement, the result would depend on the outcome of the operation. \n",
    "\n",
    "        In the above example, the assignment would lead to the creation of a “float” variable.\n",
    "\n",
    "\"\"\"\n",
    "\n",
    "test = 2 * 5 / 10\n",
    "print(test)\n",
    "# 1.0\n",
    "type(test)\n",
    "# <class 'float'>"
   ]
  },
  {
   "cell_type": "code",
   "execution_count": 6,
   "metadata": {},
   "outputs": [
    {
     "name": "stdout",
     "output_type": "stream",
     "text": [
      "10\n"
     ]
    },
    {
     "data": {
      "text/plain": [
       "int"
      ]
     },
     "execution_count": 6,
     "metadata": {},
     "output_type": "execute_result"
    }
   ],
   "source": [
    "\"\"\"\n",
    "    In this example, the assignment would lead to the creation of an “int” variable.\n",
    "\"\"\"\n",
    "test = 2 * 5\n",
    "print(test)\n",
    "# 10\n",
    "type(test)\n",
    "# <class 'int'>\n",
    "\n"
   ]
  },
  {
   "cell_type": "code",
   "execution_count": null,
   "metadata": {},
   "outputs": [],
   "source": []
  },
  {
   "cell_type": "code",
   "execution_count": null,
   "metadata": {},
   "outputs": [],
   "source": []
  }
 ],
 "metadata": {
  "kernelspec": {
   "display_name": "Python 3",
   "language": "python",
   "name": "python3"
  },
  "language_info": {
   "codemirror_mode": {
    "name": "ipython",
    "version": 3
   },
   "file_extension": ".py",
   "mimetype": "text/x-python",
   "name": "python",
   "nbconvert_exporter": "python",
   "pygments_lexer": "ipython3",
   "version": "3.7.3"
  }
 },
 "nbformat": 4,
 "nbformat_minor": 2
}

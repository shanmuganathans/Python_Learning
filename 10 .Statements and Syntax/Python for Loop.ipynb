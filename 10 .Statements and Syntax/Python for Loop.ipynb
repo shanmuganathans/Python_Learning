{
 "cells": [
  {
   "cell_type": "code",
   "execution_count": 1,
   "metadata": {},
   "outputs": [
    {
     "name": "stdout",
     "output_type": "stream",
     "text": [
      "The sum is 48\n"
     ]
    }
   ],
   "source": [
    "\"\"\"\n",
    "    What is for loop in Python?\n",
    "    ---------------------------\n",
    "        The for loop in Python is used to iterate over a sequence (list, tuple, string) or other iterable objects.\n",
    "        Iterating over a sequence is called traversal.\n",
    "\n",
    "        Syntax of for Loop\n",
    "            for val in sequence:\n",
    "                Body of for\n",
    "        Here, val is the variable that takes the value of the item inside the sequence on each iteration.\n",
    "\n",
    "        Loop continues until we reach the last item in the sequence. The body of for loop is separated \n",
    "        from the rest of the code using indentation.\n",
    "\"\"\"\n",
    "\n",
    "# Program to find the sum of all numbers stored in a list\n",
    "\n",
    "# List of numbers\n",
    "numbers = [6, 5, 3, 8, 4, 2, 5, 4, 11]\n",
    "\n",
    "# variable to store the sum\n",
    "sum = 0\n",
    "\n",
    "# iterate over the list\n",
    "for val in numbers:\n",
    "\tsum = sum+val\n",
    "\n",
    "# Output: The sum is 48\n",
    "print(\"The sum is\", sum)"
   ]
  },
  {
   "cell_type": "code",
   "execution_count": 4,
   "metadata": {},
   "outputs": [
    {
     "name": "stdout",
     "output_type": "stream",
     "text": [
      "I like pop\n",
      "I like rock\n",
      "I like jazz\n"
     ]
    }
   ],
   "source": [
    "genre = ['pop', 'rock', 'jazz']\n",
    "\n",
    "# iterate over the list using index\n",
    "for i in range(len(genre)):\n",
    "    print(\"I like\", genre[i])"
   ]
  },
  {
   "cell_type": "code",
   "execution_count": 1,
   "metadata": {},
   "outputs": [
    {
     "name": "stdout",
     "output_type": "stream",
     "text": [
      "No items left.\n"
     ]
    }
   ],
   "source": [
    "\"\"\"\n",
    "    for loop with else:\n",
    "    -------------------\n",
    "        A for loop can have an optional else block as well. The else part is executed if the items in the sequence\n",
    "        used in for loop exhausts.\n",
    "\n",
    "        break statement can be used to stop a for loop. In such case, the else part is ignored.\n",
    "\n",
    "        Hence, a for loop's else part runs if no break occurs.\n",
    "\n",
    "\n",
    "\"\"\"\n",
    "digits = [0, 1, 5]\n",
    "\n",
    "for i in digits:\n",
    "    print(i)\n",
    "else:\n",
    "    print(\"No items left.\")"
   ]
  },
  {
   "cell_type": "code",
   "execution_count": null,
   "metadata": {},
   "outputs": [],
   "source": []
  }
 ],
 "metadata": {
  "kernelspec": {
   "display_name": "Python 3",
   "language": "python",
   "name": "python3"
  },
  "language_info": {
   "codemirror_mode": {
    "name": "ipython",
    "version": 3
   },
   "file_extension": ".py",
   "mimetype": "text/x-python",
   "name": "python",
   "nbconvert_exporter": "python",
   "pygments_lexer": "ipython3",
   "version": "3.7.3"
  }
 },
 "nbformat": 4,
 "nbformat_minor": 2
}

{
 "cells": [
  {
   "cell_type": "code",
   "execution_count": null,
   "metadata": {},
   "outputs": [],
   "source": [
    "\"\"\"\n",
    "    use of break and continue in Python:\n",
    "    -----------------------------------\n",
    "        In Python, break and continue statements can alter the flow of a normal loop.\n",
    "\n",
    "        Loops iterate over a block of code until test expression is false, but sometimes we wish to \n",
    "        terminate the current iteration or even the whole loop without checking test expression.\n",
    "\n",
    "        The break and continue statements are used in these cases.\n",
    "\"\"\""
   ]
  },
  {
   "cell_type": "code",
   "execution_count": 1,
   "metadata": {},
   "outputs": [
    {
     "name": "stdout",
     "output_type": "stream",
     "text": [
      "s\n",
      "t\n",
      "r\n",
      "The end\n"
     ]
    }
   ],
   "source": [
    "\"\"\"\n",
    "    Python break statement:\n",
    "    -----------------------\n",
    "        The break statement terminates the loop containing it. Control of the program flows to the statement \n",
    "        immediately after the body of the loop.\n",
    "\n",
    "        If break statement is inside a nested loop (loop inside another loop), break will terminate the innermost\n",
    "        loop.\n",
    "\n",
    "        Syntax of break\n",
    "            break\n",
    "\"\"\"\n",
    "\n",
    "\n",
    "for val in \"string\":\n",
    "    if val == \"i\":\n",
    "        break\n",
    "    print(val)\n",
    "\n",
    "print(\"The end\")"
   ]
  },
  {
   "cell_type": "code",
   "execution_count": 4,
   "metadata": {},
   "outputs": [
    {
     "name": "stdout",
     "output_type": "stream",
     "text": [
      "10\n",
      "9\n",
      "9\n",
      "8\n",
      "8\n",
      "7\n",
      "7\n",
      "6\n",
      "6\n",
      "5\n",
      "Before break\n"
     ]
    }
   ],
   "source": [
    "\"\"\"\n",
    "    Break statement in while\n",
    "\"\"\"\n",
    "count = 10\n",
    "while count > 0:\n",
    "    print(count)\n",
    "    count-=1\n",
    "    print(count)\n",
    "    if count == 5:\n",
    "        print(\"Before break\")\n",
    "        break\n",
    "        print(\"After break\")"
   ]
  },
  {
   "cell_type": "code",
   "execution_count": 5,
   "metadata": {},
   "outputs": [
    {
     "name": "stdout",
     "output_type": "stream",
     "text": [
      "s\n",
      "t\n",
      "r\n",
      "n\n",
      "g\n",
      "The end\n"
     ]
    }
   ],
   "source": [
    "\"\"\"\n",
    "    continue statement:\n",
    "    -------------------\n",
    "        The continue statement is used to skip the rest of the code inside a loop for the current iteration only. \n",
    "        Loop does not terminate but continues on with the next iteration.\n",
    "\n",
    "        Syntax of Continue\n",
    "            continue\n",
    "\"\"\"\n",
    "\n",
    "for val in \"string\":\n",
    "    if val == \"i\":\n",
    "        continue\n",
    "    print(val)\n",
    "\n",
    "print(\"The end\")"
   ]
  },
  {
   "cell_type": "code",
   "execution_count": 7,
   "metadata": {},
   "outputs": [
    {
     "name": "stdout",
     "output_type": "stream",
     "text": [
      "9\n",
      "8\n",
      "7\n",
      "6\n",
      "5\n",
      "Before Continue\n",
      "4\n",
      "3\n",
      "2\n",
      "1\n",
      "0\n"
     ]
    }
   ],
   "source": [
    "\"\"\"\n",
    "    Continue statement in while\n",
    "\"\"\"\n",
    "count = 10\n",
    "while count > 0:\n",
    "    #print(count)\n",
    "    count-=1\n",
    "    print(count)\n",
    "    if count == 5:\n",
    "        print(\"Before Continue\")\n",
    "        continue\n",
    "        print(\"After Continue\")"
   ]
  },
  {
   "cell_type": "code",
   "execution_count": null,
   "metadata": {},
   "outputs": [],
   "source": []
  },
  {
   "cell_type": "code",
   "execution_count": null,
   "metadata": {},
   "outputs": [],
   "source": []
  },
  {
   "cell_type": "code",
   "execution_count": null,
   "metadata": {},
   "outputs": [],
   "source": []
  },
  {
   "cell_type": "code",
   "execution_count": null,
   "metadata": {},
   "outputs": [],
   "source": []
  }
 ],
 "metadata": {
  "kernelspec": {
   "display_name": "Python 3",
   "language": "python",
   "name": "python3"
  },
  "language_info": {
   "codemirror_mode": {
    "name": "ipython",
    "version": 3
   },
   "file_extension": ".py",
   "mimetype": "text/x-python",
   "name": "python",
   "nbconvert_exporter": "python",
   "pygments_lexer": "ipython3",
   "version": "3.7.3"
  }
 },
 "nbformat": 4,
 "nbformat_minor": 2
}

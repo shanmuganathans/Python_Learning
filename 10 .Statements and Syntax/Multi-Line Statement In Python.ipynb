{
 "cells": [
  {
   "cell_type": "code",
   "execution_count": 1,
   "metadata": {},
   "outputs": [
    {
     "data": {
      "text/plain": [
       "'\\n    Multi-Line Statement In Python:\\n    ------------------------------\\n        Usually, every Python statement ends with a newline character. However, \\n        we can extend it over to multiple lines using the line continuation character (\\\\).\\n\\n        And Python gives us two ways to enable multi-line statements in a program.\\n\\n            1) Explicit Line Continuation\\n            2) Implicit Line Continuation\\n\\n'"
      ]
     },
     "execution_count": 1,
     "metadata": {},
     "output_type": "execute_result"
    }
   ],
   "source": [
    "\"\"\"\n",
    "    Multi-Line Statement In Python:\n",
    "    ------------------------------\n",
    "        Usually, every Python statement ends with a newline character. However, \n",
    "        we can extend it over to multiple lines using the line continuation character (\\).\n",
    "\n",
    "        And Python gives us two ways to enable multi-line statements in a program.\n",
    "\n",
    "            1) Explicit Line Continuation\n",
    "            2) Implicit Line Continuation\n",
    "\n",
    "\"\"\""
   ]
  },
  {
   "cell_type": "code",
   "execution_count": 3,
   "metadata": {},
   "outputs": [
    {
     "name": "stdout",
     "output_type": "stream",
     "text": [
      "[1, 2, 3, 4, 5]\n"
     ]
    }
   ],
   "source": [
    "\"\"\"\n",
    "    Explicit Line Continuation:\n",
    "    ---------------------------\n",
    "        When you right away use the line continuation character (\\) to split a statement into multiple lines.\n",
    "\"\"\"\n",
    "# Initializing a list using the multi-line statement\n",
    "my_list = [1, \\\n",
    "2, 3\\\n",
    ",4,5 \\\n",
    "]\n",
    "print(my_list)"
   ]
  },
  {
   "cell_type": "code",
   "execution_count": 5,
   "metadata": {},
   "outputs": [
    {
     "data": {
      "text/plain": [
       "6.0"
      ]
     },
     "execution_count": 5,
     "metadata": {},
     "output_type": "execute_result"
    }
   ],
   "source": [
    "\"\"\"\n",
    "    Evalulate an expression using a multi-line statement\n",
    "\"\"\"\n",
    "eval ( \\\n",
    "\" 2.5 \\\n",
    " + \\\n",
    " 3.5\")"
   ]
  },
  {
   "cell_type": "code",
   "execution_count": null,
   "metadata": {},
   "outputs": [],
   "source": [
    "\"\"\"\n",
    "    Implicit Line Continuation:\n",
    "    ---------------------------\n",
    "        Implicit line continuation is when you split a statement using either of parentheses ( ), brackets [ ] \n",
    "        and braces { }.\n",
    "        You need to enclose the target statement using the mentioned construct.\n",
    "\"\"\"\n"
   ]
  },
  {
   "cell_type": "code",
   "execution_count": 6,
   "metadata": {},
   "outputs": [
    {
     "name": "stdout",
     "output_type": "stream",
     "text": [
      "519.95\n"
     ]
    }
   ],
   "source": [
    "result = (10 + 100\n",
    "* 5 - 5\n",
    "/ 100 + 10\n",
    ")\n",
    "print(result)"
   ]
  },
  {
   "cell_type": "code",
   "execution_count": 7,
   "metadata": {},
   "outputs": [
    {
     "name": "stdout",
     "output_type": "stream",
     "text": [
      "['Maths', 'English', 'Science']\n"
     ]
    },
    {
     "data": {
      "text/plain": [
       "list"
      ]
     },
     "execution_count": 7,
     "metadata": {},
     "output_type": "execute_result"
    }
   ],
   "source": [
    "subjects = [\n",
    "'Maths',\n",
    " 'English',\n",
    " 'Science'\n",
    " ]\n",
    "print(subjects)\n",
    "# ['Maths', 'English', 'Science']\n",
    "type(subjects)\n",
    "# <class 'list'>"
   ]
  },
  {
   "cell_type": "code",
   "execution_count": 10,
   "metadata": {},
   "outputs": [
    {
     "name": "stdout",
     "output_type": "stream",
     "text": [
      "Enter a number:4\n",
      "I am a demo function\n",
      "4 is an even number\n"
     ]
    }
   ],
   "source": [
    "\"\"\"\n",
    "    Python Indentation:\n",
    "    ------------------\n",
    "    Many of the high-level programming languages like C, C++, C# use braces { } to mark a block of code. \n",
    "    Python does it via indentation.\n",
    "\n",
    "    A code block which represents the body of a function or a loop begins with the indentation and ends with the\n",
    "    first unindented line.\n",
    "    \n",
    "\n",
    "    How Many Spaces Is An Indent In Python?\n",
    "    --------------------------------------\n",
    "    Python style guidelines (PEP 8) states that you should keep indent size of four. However, \n",
    "    Google has its unique style guideline which limits indenting up to two spaces. \n",
    "    So you too can choose a different style, but we recommend to follow the PEP8.\n",
    "    \n",
    "\n",
    "    Why Is Indentation So Crucial In Python?\n",
    "    ----------------------------------------\n",
    "    Most of the programming languages provide indentation for better code formatting and don’t enforce to have it.\n",
    "\n",
    "    However, in Python, it is mandatory to obey the indentation rules. Typically, we indent each line by four spaces \n",
    "    (or by the same amount) in a block of code.\n",
    "\n",
    "    In the examples of the previous sections, you might have seen us writing simple expression statements \n",
    "    which didn’t have the indentation.\n",
    "\n",
    "    However, for creating compound statements, the indentation will be utmost necessary.\n",
    "\"\"\"\n",
    "def demo_routine(num):\n",
    "    print('I am a demo function')\n",
    "    if num % 2 == 0:\n",
    "        return True\n",
    "    else:\n",
    "        return False\n",
    "\n",
    "num = int(input('Enter a number:'))\n",
    "if demo_routine(num) is True:\n",
    "    print(num, 'is an even number')\n",
    "else:\n",
    "    print(num, 'is an odd number')"
   ]
  },
  {
   "cell_type": "code",
   "execution_count": 12,
   "metadata": {},
   "outputs": [
    {
     "data": {
      "text/plain": [
       "20"
      ]
     },
     "execution_count": 12,
     "metadata": {},
     "output_type": "execute_result"
    }
   ],
   "source": []
  },
  {
   "cell_type": "code",
   "execution_count": null,
   "metadata": {},
   "outputs": [],
   "source": []
  }
 ],
 "metadata": {
  "kernelspec": {
   "display_name": "Python 3",
   "language": "python",
   "name": "python3"
  },
  "language_info": {
   "codemirror_mode": {
    "name": "ipython",
    "version": 3
   },
   "file_extension": ".py",
   "mimetype": "text/x-python",
   "name": "python",
   "nbconvert_exporter": "python",
   "pygments_lexer": "ipython3",
   "version": "3.7.3"
  }
 },
 "nbformat": 4,
 "nbformat_minor": 2
}

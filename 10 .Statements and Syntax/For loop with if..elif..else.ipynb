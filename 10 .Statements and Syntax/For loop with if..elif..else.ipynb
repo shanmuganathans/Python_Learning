{
 "cells": [
  {
   "cell_type": "code",
   "execution_count": 9,
   "metadata": {},
   "outputs": [
    {
     "name": "stdout",
     "output_type": "stream",
     "text": [
      "[1, 3, 5, 7, 9]\n",
      "['apple', 'orange', 'grapes', 'cat']\n"
     ]
    }
   ],
   "source": [
    "\"\"\"\n",
    "    syntax:\n",
    "        [ EXP for x in seq if COND ]\n",
    "\"\"\"\n",
    "sample  = [x+1 for x in range(10) if x % 2 == 0]\n",
    "\n",
    "print(sample)\n"
   ]
  },
  {
   "cell_type": "code",
   "execution_count": 1,
   "metadata": {},
   "outputs": [
    {
     "name": "stdout",
     "output_type": "stream",
     "text": [
      "[11, 12, 13, 14, 15, 16]\n"
     ]
    }
   ],
   "source": [
    "\"\"\"\n",
    "     [EXP for x in seq ]\n",
    "\"\"\"\n",
    "sample  = [x+10 for x in [1,2,3,4,5,6]]\n",
    "print(sample)\n",
    "\n",
    "my_input = \"welcome\"\n",
    "\n",
    "output =['w','e','l','c','o','m','e']"
   ]
  },
  {
   "cell_type": "code",
   "execution_count": 16,
   "metadata": {},
   "outputs": [
    {
     "name": "stdout",
     "output_type": "stream",
     "text": [
      "[100, 2, 300, 4, 500, 6, 700, 8, 900]\n"
     ]
    }
   ],
   "source": [
    "sample = [ x if x%2==0 else x*100 for x in range(1, 10) ]\n",
    "print(sample)"
   ]
  },
  {
   "cell_type": "code",
   "execution_count": 23,
   "metadata": {},
   "outputs": [
    {
     "name": "stdout",
     "output_type": "stream",
     "text": [
      "Hello\n"
     ]
    }
   ],
   "source": [
    "a = \"Hello\" if True else \"Goodbye\"\n",
    "print(a)"
   ]
  },
  {
   "cell_type": "code",
   "execution_count": 27,
   "metadata": {},
   "outputs": [
    {
     "name": "stdout",
     "output_type": "stream",
     "text": [
      "2\n"
     ]
    }
   ],
   "source": [
    "\"\"\"\n",
    "    expr1 if condition1 else expr2 if condition2 else expr\n",
    "\"\"\"\n",
    "# i = 99\n",
    "i = 103\n",
    "# i = 99\n",
    "a = 1 if i<100 else 2 if i>100 else 0 \n",
    "print(a)"
   ]
  },
  {
   "cell_type": "code",
   "execution_count": 4,
   "metadata": {},
   "outputs": [
    {
     "name": "stdout",
     "output_type": "stream",
     "text": [
      "['w', 'e', 'l', 'c', 'o', 'm', 'e']\n"
     ]
    }
   ],
   "source": []
  },
  {
   "cell_type": "code",
   "execution_count": null,
   "metadata": {},
   "outputs": [],
   "source": []
  }
 ],
 "metadata": {
  "kernelspec": {
   "display_name": "Python 3 (ipykernel)",
   "language": "python",
   "name": "python3"
  },
  "language_info": {
   "codemirror_mode": {
    "name": "ipython",
    "version": 3
   },
   "file_extension": ".py",
   "mimetype": "text/x-python",
   "name": "python",
   "nbconvert_exporter": "python",
   "pygments_lexer": "ipython3",
   "version": "3.9.7"
  }
 },
 "nbformat": 4,
 "nbformat_minor": 2
}

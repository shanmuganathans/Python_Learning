{
 "cells": [
  {
   "cell_type": "code",
   "execution_count": null,
   "metadata": {},
   "outputs": [],
   "source": [
    "\"\"\"\n",
    "    Multiple assignment in Python:\n",
    "    -------- ---------- -- -------\n",
    "        Assign multiple values or the same value to multiple variables\n",
    "\"\"\"\n",
    "\n",
    "# In Python, use the = operator to assign values to variables.\n",
    "\n",
    "a = 100\n",
    "b = 200\n",
    "\n",
    "print(a)\n",
    "# 100\n",
    "\n",
    "print(b)\n",
    "# 200"
   ]
  },
  {
   "cell_type": "code",
   "execution_count": null,
   "metadata": {},
   "outputs": [],
   "source": [
    "\"\"\"\n",
    "    You can assign values to multiple variables in one line, instead of one at a time.\n",
    "\n",
    "    The following two cases will be described.\n",
    "\n",
    "        1. Assign multiple values to multiple variables\n",
    "        2. Assign the same value to multiple variables\n",
    "\"\"\""
   ]
  },
  {
   "cell_type": "code",
   "execution_count": 1,
   "metadata": {},
   "outputs": [
    {
     "name": "stdout",
     "output_type": "stream",
     "text": [
      "100\n",
      "200\n"
     ]
    }
   ],
   "source": [
    "\"\"\"\n",
    "    1. Assign multiple values to multiple variables:\n",
    "        You can assign multiple values to multiple variables by separating variables and values with commas ,.\n",
    "\"\"\"\n",
    "a, b = 100, 200\n",
    "\n",
    "print(a)\n",
    "# 100\n",
    "\n",
    "print(b)\n",
    "# 200"
   ]
  },
  {
   "cell_type": "code",
   "execution_count": null,
   "metadata": {},
   "outputs": [],
   "source": [
    "\"\"\"\n",
    "    You can assign to more than three variables. Moreover, it is also possible to assign to different types.\n",
    "\"\"\"\n",
    "a, b, c = 0.1, 100, 'string'\n",
    "\n",
    "print(a)\n",
    "# 0.1\n",
    "\n",
    "print(b)\n",
    "# 100\n",
    "\n",
    "print(c)\n",
    "# string"
   ]
  },
  {
   "cell_type": "code",
   "execution_count": 1,
   "metadata": {},
   "outputs": [
    {
     "name": "stdout",
     "output_type": "stream",
     "text": [
      "100\n",
      "<class 'int'>\n",
      "[200, 300]\n",
      "<class 'list'>\n",
      "[100, 200]\n",
      "<class 'list'>\n",
      "300\n",
      "<class 'int'>\n"
     ]
    }
   ],
   "source": [
    "\"\"\"\n",
    "    If the number of variables on the left and the number of values on the right do not match, a ValueError will occur,\n",
    "    but you can assign the rest as a list by appending * to the variable name.\n",
    "\"\"\"\n",
    "# a, b = 100, 200, 300\n",
    "# ValueError: too many values to unpack (expected 2)\n",
    "\n",
    "# a, b, c = 100, 200\n",
    "# ValueError: not enough values to unpack (expected 3, got 2)\n",
    "\n",
    "a, *b = 100, 200, 300\n",
    "\n",
    "print(a)\n",
    "print(type(a))\n",
    "# 100\n",
    "# <class 'int'>\n",
    "\n",
    "print(b)\n",
    "print(type(b))\n",
    "# [200, 300]\n",
    "# <class 'list'>\n",
    "\n",
    "*a, b = 100, 200, 300\n",
    "\n",
    "print(a)\n",
    "print(type(a))\n",
    "# [100, 200]\n",
    "# <class 'list'>\n",
    "\n",
    "print(b)\n",
    "print(type(b))\n",
    "# 300\n",
    "# <class 'int'>"
   ]
  },
  {
   "cell_type": "code",
   "execution_count": 1,
   "metadata": {},
   "outputs": [
    {
     "name": "stdout",
     "output_type": "stream",
     "text": [
      "100 [200, 300]\n"
     ]
    }
   ],
   "source": [
    "\"\"\"\n",
    "    Assign the same value to multiple variables:\n",
    "    ------ --- ---- ----- -- -------- ----------\n",
    "        you can assign the same value to multiple variables by using = consecutively.\n",
    "\n",
    "        This is useful, for example, when initializing multiple variables to the same value\n",
    "\"\"\"\n",
    "\n",
    "a = b = 100\n",
    "\n",
    "print(a)\n",
    "# 100\n",
    "\n",
    "print(b)\n",
    "# 100"
   ]
  },
  {
   "cell_type": "code",
   "execution_count": null,
   "metadata": {},
   "outputs": [],
   "source": [
    "\"\"\"\n",
    "    It is also possible to assign another value into one after assigning the same value.\n",
    "\"\"\"\n",
    "a = 200\n",
    "\n",
    "print(a)\n",
    "# 200\n",
    "\n",
    "print(b)\n",
    "# 100\n"
   ]
  },
  {
   "cell_type": "code",
   "execution_count": null,
   "metadata": {},
   "outputs": [],
   "source": [
    "\"\"\"\n",
    "    Even three or more can be written in the same way.\n",
    "\"\"\"\n",
    "a = b = c = 'string'\n",
    "\n",
    "print(a)\n",
    "# string\n",
    "\n",
    "print(b)\n",
    "# string\n",
    "\n",
    "print(c)\n",
    "# string"
   ]
  }
 ],
 "metadata": {
  "kernelspec": {
   "display_name": "Python 3 (ipykernel)",
   "language": "python",
   "name": "python3"
  },
  "language_info": {
   "codemirror_mode": {
    "name": "ipython",
    "version": 3
   },
   "file_extension": ".py",
   "mimetype": "text/x-python",
   "name": "python",
   "nbconvert_exporter": "python",
   "pygments_lexer": "ipython3",
   "version": "3.9.7"
  }
 },
 "nbformat": 4,
 "nbformat_minor": 2
}

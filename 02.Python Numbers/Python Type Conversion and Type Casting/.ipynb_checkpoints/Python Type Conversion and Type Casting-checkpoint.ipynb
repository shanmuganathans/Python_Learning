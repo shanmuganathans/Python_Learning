{
 "cells": [
  {
   "cell_type": "code",
   "execution_count": null,
   "metadata": {},
   "outputs": [],
   "source": [
    "\"\"\"\n",
    "Type Conversion:\n",
    "---- ----------\n",
    "    The process of converting the value of one data type (integer, string, float, etc.) \n",
    "    to another data type is called type conversion. Python has two types of type conversion.\n",
    "\n",
    "    Implicit Type Conversion\n",
    "    Explicit Type Conversion\n",
    "\"\"\""
   ]
  },
  {
   "cell_type": "code",
   "execution_count": null,
   "metadata": {},
   "outputs": [],
   "source": [
    "\"\"\"\n",
    "Implicit Type Conversion:\n",
    "-------------------------\n",
    "    In Implicit type conversion, Python automatically converts one data type to another data type. \n",
    "    This process doesn't need any user involvement.\n",
    "\n",
    "Let's see an example where Python promotes conversion of lower datatype (integer) to higher data type (float) to \n",
    "avoid data loss.\n",
    "\"\"\""
   ]
  },
  {
   "cell_type": "code",
   "execution_count": 1,
   "metadata": {},
   "outputs": [
    {
     "name": "stdout",
     "output_type": "stream",
     "text": [
      "datatype of num_int: <class 'int'>\n",
      "datatype of num_flo: <class 'float'>\n",
      "Value of num_new: 124.23\n",
      "datatype of num_new: <class 'float'>\n"
     ]
    }
   ],
   "source": [
    "num_int = 123\n",
    "num_flo = 1.23\n",
    "\n",
    "num_new = num_int + num_flo\n",
    "\n",
    "print(\"datatype of num_int:\",type(num_int))\n",
    "print(\"datatype of num_flo:\",type(num_flo))\n",
    "\n",
    "print(\"Value of num_new:\",num_new)\n",
    "print(\"datatype of num_new:\",type(num_new))"
   ]
  },
  {
   "cell_type": "code",
   "execution_count": null,
   "metadata": {},
   "outputs": [],
   "source": [
    "\"\"\"\n",
    "In the above program,\n",
    "\n",
    "    We add two variables num_int and num_flo, storing the value in num_new.\n",
    "    We will look at the data type of all three objects respectively.\n",
    "    In the output we can see the datatype of num_int is an integer, datatype of num_flo is a float.\n",
    "    Also, we can see the num_new has float data type because Python always converts smaller data type to larger data \n",
    "    type to avoid the loss of data.\n",
    "\"\"\""
   ]
  },
  {
   "cell_type": "code",
   "execution_count": 2,
   "metadata": {},
   "outputs": [
    {
     "name": "stdout",
     "output_type": "stream",
     "text": [
      "Data type of num_int: <class 'int'>\n",
      "Data type of num_str: <class 'str'>\n"
     ]
    },
    {
     "ename": "TypeError",
     "evalue": "unsupported operand type(s) for +: 'int' and 'str'",
     "output_type": "error",
     "traceback": [
      "\u001b[0;31m---------------------------------------------------------------------------\u001b[0m",
      "\u001b[0;31mTypeError\u001b[0m                                 Traceback (most recent call last)",
      "\u001b[0;32m<ipython-input-2-f98632d3e0ce>\u001b[0m in \u001b[0;36m<module>\u001b[0;34m\u001b[0m\n\u001b[1;32m      8\u001b[0m \u001b[0mprint\u001b[0m\u001b[0;34m(\u001b[0m\u001b[0;34m\"Data type of num_str:\"\u001b[0m\u001b[0;34m,\u001b[0m\u001b[0mtype\u001b[0m\u001b[0;34m(\u001b[0m\u001b[0mnum_str\u001b[0m\u001b[0;34m)\u001b[0m\u001b[0;34m)\u001b[0m\u001b[0;34m\u001b[0m\u001b[0;34m\u001b[0m\u001b[0m\n\u001b[1;32m      9\u001b[0m \u001b[0;34m\u001b[0m\u001b[0m\n\u001b[0;32m---> 10\u001b[0;31m \u001b[0mprint\u001b[0m\u001b[0;34m(\u001b[0m\u001b[0mnum_int\u001b[0m\u001b[0;34m+\u001b[0m\u001b[0mnum_str\u001b[0m\u001b[0;34m)\u001b[0m\u001b[0;34m\u001b[0m\u001b[0;34m\u001b[0m\u001b[0m\n\u001b[0m",
      "\u001b[0;31mTypeError\u001b[0m: unsupported operand type(s) for +: 'int' and 'str'"
     ]
    }
   ],
   "source": [
    "\"\"\"\n",
    "     Addition of string(higher) data type and integer(lower) datatype\n",
    "\"\"\"\n",
    "num_int = 123\n",
    "num_str = \"456\"\n",
    "\n",
    "print(\"Data type of num_int:\",type(num_int))\n",
    "print(\"Data type of num_str:\",type(num_str))\n",
    "\n",
    "print(num_int+num_str)"
   ]
  },
  {
   "cell_type": "code",
   "execution_count": null,
   "metadata": {},
   "outputs": [],
   "source": [
    "\"\"\"\n",
    "In the above program,\n",
    "\n",
    "    We add two variable num_int and num_str.\n",
    "    As we can see from the output, we got typeerror. Python is not able use Implicit Conversion in such condition.\n",
    "    However Python has the solution for this type of situation which is know as Explicit Conversion.\n",
    "\"\"\""
   ]
  },
  {
   "cell_type": "code",
   "execution_count": null,
   "metadata": {},
   "outputs": [],
   "source": [
    "\"\"\"\n",
    "Explicit Type Conversion:\n",
    "    In Explicit Type Conversion, users convert the data type of an object to required data type. \n",
    "    We use the predefined functions like int(), float(), str(), etc to perform explicit type conversion.\n",
    "\n",
    "    This type conversion is also called typecasting because the user casts (change) the data type of the objects.\n",
    "\n",
    "    Syntax :\n",
    "\n",
    "    (required_datatype)(expression)\n",
    "\n",
    "Typecasting can be done by assigning the required data type function to the expression.\n",
    "\"\"\""
   ]
  },
  {
   "cell_type": "code",
   "execution_count": 3,
   "metadata": {},
   "outputs": [
    {
     "name": "stdout",
     "output_type": "stream",
     "text": [
      "Data type of num_int: <class 'int'>\n",
      "Data type of num_str before Type Casting: <class 'str'>\n",
      "Data type of num_str after Type Casting: <class 'int'>\n",
      "Sum of num_int and num_str: 579\n",
      "Data type of the sum: <class 'int'>\n"
     ]
    }
   ],
   "source": [
    "\"\"\"\n",
    "    Addition of string and integer using explicit conversion\n",
    "\"\"\"\n",
    "num_int = 123\n",
    "num_str = \"456\"\n",
    "\n",
    "print(\"Data type of num_int:\",type(num_int))\n",
    "print(\"Data type of num_str before Type Casting:\",type(num_str))\n",
    "\n",
    "num_str = int(num_str)\n",
    "print(\"Data type of num_str after Type Casting:\",type(num_str))\n",
    "\n",
    "num_sum = num_int + num_str\n",
    "\n",
    "print(\"Sum of num_int and num_str:\",num_sum)\n",
    "print(\"Data type of the sum:\",type(num_sum))"
   ]
  },
  {
   "cell_type": "code",
   "execution_count": 4,
   "metadata": {},
   "outputs": [
    {
     "data": {
      "text/plain": [
       "'\\nIn above program,\\n\\n    We add num_str and num_int variable.\\n    We converted num_str from string(higher) to integer(lower) type using int() function to perform the addition.\\n    After converting num_str to a integer value Python is able to add these two variable.\\n    We got the num_sum value and data type to be integer.\\n'"
      ]
     },
     "execution_count": 4,
     "metadata": {},
     "output_type": "execute_result"
    }
   ],
   "source": [
    "\"\"\"\n",
    "In above program,\n",
    "\n",
    "    We add num_str and num_int variable.\n",
    "    We converted num_str from string(higher) to integer(lower) type using int() function to perform the addition.\n",
    "    After converting num_str to a integer value Python is able to add these two variable.\n",
    "    We got the num_sum value and data type to be integer.\n",
    "\"\"\""
   ]
  },
  {
   "cell_type": "code",
   "execution_count": null,
   "metadata": {},
   "outputs": [],
   "source": [
    "\"\"\"\n",
    "Key Points to Remember:\n",
    "----------------------\n",
    "    Type Conversion is the conversion of object from one data type to another data type.\n",
    "    Implicit Type Conversion is automatically performed by the Python interpreter.\n",
    "    Python avoids the loss of data in Implicit Type Conversion.\n",
    "    Explicit Type Conversion is also called Type Casting, the data types of object are converted using \n",
    "    predefined function by user.\n",
    "    In Type Casting loss of data may occur as we enforce the object to specific data type.\n",
    "\"\"\""
   ]
  },
  {
   "cell_type": "code",
   "execution_count": null,
   "metadata": {},
   "outputs": [],
   "source": [
    "\"\"\"\n",
    "Function                              Description\n",
    "int(y [base])               It converts y to an integer, and Base specifies the number base.\n",
    "                            For example, if you want to convert the string in decimal number then you’ll use 10 as base.\n",
    "float(y)                    It converts y to a floating-point number.\n",
    "complex(real [imag])        It creates a complex number.\n",
    "str(y)                      It converts y to a string.\n",
    "tuple(y)                    It converts y to a tuple.\n",
    "list(y)                     It converts y to a list.\n",
    "set(y)                      It converts y to a set.\n",
    "dict(y)                     It creates a dictionary and y should be a sequence of (key,value) tuples.\n",
    "ord(y)                      It converts a character into an integer.\n",
    "hex(y)                      It converts an integer to a hexadecimal string.\n",
    "oct(y)                      It converts an integer to an octal string\n",
    "\"\"\""
   ]
  }
 ],
 "metadata": {
  "kernelspec": {
   "display_name": "Python 3",
   "language": "python",
   "name": "python3"
  },
  "language_info": {
   "codemirror_mode": {
    "name": "ipython",
    "version": 3
   },
   "file_extension": ".py",
   "mimetype": "text/x-python",
   "name": "python",
   "nbconvert_exporter": "python",
   "pygments_lexer": "ipython3",
   "version": "3.7.3"
  }
 },
 "nbformat": 4,
 "nbformat_minor": 2
}

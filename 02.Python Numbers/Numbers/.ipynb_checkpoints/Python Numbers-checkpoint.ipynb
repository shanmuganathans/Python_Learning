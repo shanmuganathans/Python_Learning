{
 "cells": [
  {
   "cell_type": "code",
   "execution_count": 1,
   "metadata": {},
   "outputs": [
    {
     "data": {
      "text/plain": [
       "''"
      ]
     },
     "execution_count": 1,
     "metadata": {},
     "output_type": "execute_result"
    }
   ],
   "source": [
    "\"\"\"\n",
    "Python Numbers:\n",
    "    Python has three distinct numeric types: \n",
    "        1. Integers, \n",
    "        2. Floating point numbers, and \n",
    "        3. Complex numbers. \n",
    "Also, the boolean type is a subtype of the integer type.\n",
    "\n",
    "\"\"\""
   ]
  },
  {
   "cell_type": "code",
   "execution_count": null,
   "metadata": {},
   "outputs": [],
   "source": [
    "\"\"\"\n",
    "**********************************Integers*****************************************\n",
    "    Refers to an integer. An integer is a whole number (i.e. not a fraction). \n",
    "    Integers can be a positive number, a negative one, or zero. Examples of integers: -3, -2, -1, 0, 1, 2, 3\n",
    "    \n",
    "    Syntax : int(x)\n",
    "\n",
    "\"\"\"\n"
   ]
  },
  {
   "cell_type": "code",
   "execution_count": 1,
   "metadata": {},
   "outputs": [
    {
     "name": "stdout",
     "output_type": "stream",
     "text": [
      "Addition Value : 30\n"
     ]
    }
   ],
   "source": [
    "\"\"\"\n",
    "Arithmetic Operators:\n",
    "\n",
    "    + (Addition):\n",
    "    -------------\n",
    "     \n",
    "    Adds operands on either side of the operator.\n",
    "\n",
    "\"\"\"\n",
    "\"\"\"Sample Program\"\"\"\n",
    "a = 10\n",
    "b = 20\n",
    "c = a+b\n",
    "print(\"Addition Value :\",c)"
   ]
  },
  {
   "cell_type": "code",
   "execution_count": null,
   "metadata": {},
   "outputs": [],
   "source": [
    "\"\"\"\n",
    "- (Subtraction):\n",
    "----------------\n",
    "    Subtracts the right-hand operand from the left-hand operand.\n",
    "\"\"\"\n",
    "\n",
    "\"\"\"Sample Program\"\"\"\n",
    "a = 30\n",
    "b = 15\n",
    "c = a - b\n",
    "print(\"Subtraction: \", c)"
   ]
  },
  {
   "cell_type": "code",
   "execution_count": 17,
   "metadata": {},
   "outputs": [
    {
     "name": "stdout",
     "output_type": "stream",
     "text": [
      "Muliplication:  900\n"
     ]
    }
   ],
   "source": [
    "\"\"\"\n",
    "* (Multiplication):\n",
    "-------------------\n",
    "    Multiplies values on either side of the operator.\n",
    "\n",
    "\"\"\"\n",
    "\n",
    "\"\"\"Sample Program\"\"\"\n",
    "a = 30\n",
    "b = 30\n",
    "c = a*b\n",
    "print(\"Muliplication: \",c)"
   ]
  },
  {
   "cell_type": "code",
   "execution_count": 2,
   "metadata": {},
   "outputs": [
    {
     "name": "stdout",
     "output_type": "stream",
     "text": [
      "Division :  10.0 4.0\n"
     ]
    }
   ],
   "source": [
    "\"\"\"\n",
    "/ (Division):\n",
    "-------------\n",
    "    Divides the left-hand operand by the right-hand operand.\n",
    "\"\"\"\n",
    "\n",
    "\"\"\"Sample Program\"\"\"\n",
    "a = 100\n",
    "b = 10\n",
    "c = a/b\n",
    "print(\"Division : \",c)"
   ]
  },
  {
   "cell_type": "code",
   "execution_count": 3,
   "metadata": {},
   "outputs": [
    {
     "name": "stdout",
     "output_type": "stream",
     "text": [
      "Modulus:  1\n"
     ]
    }
   ],
   "source": [
    "\"\"\"\n",
    "% (Modulus) :\n",
    "-------------\n",
    "    Returns the remainder of the division of the left-hand operand by right-hand operand.\n",
    "\n",
    "\"\"\"\n",
    "\n",
    "\"\"\"Sample Program\"\"\"\n",
    "a = 21\n",
    "b = 10\n",
    "c = a%b\n",
    "print(\"Modulus: \", c)"
   ]
  },
  {
   "cell_type": "code",
   "execution_count": 16,
   "metadata": {},
   "outputs": [
    {
     "name": "stdout",
     "output_type": "stream",
     "text": [
      "Exponent :  27\n"
     ]
    }
   ],
   "source": [
    "\"\"\"\n",
    "** (Exponent):\n",
    "-------------\n",
    "Calculates the value of the left-operand raised to the right-operand.\n",
    "\n",
    "\"\"\"\n",
    "\"\"\"Sample Program\"\"\"\n",
    "a = 3\n",
    "b = 3\n",
    "c = a ** b\n",
    "\n",
    "print(\"Exponent : \", c)"
   ]
  },
  {
   "cell_type": "code",
   "execution_count": 5,
   "metadata": {},
   "outputs": [
    {
     "name": "stdout",
     "output_type": "stream",
     "text": [
      "Floor Division:  2\n"
     ]
    }
   ],
   "source": [
    "\"\"\"\n",
    "// (Floor Division):\n",
    "-------------------\n",
    "    The division of operands where the result is the quotient in which the digits after the decimal point are removed.\n",
    "    But if one of the operands is negative, the result is floored, \n",
    "    i.e., rounded away from zero (towards negative infinity):\n",
    "\"\"\"\n",
    "\"\"\"Sample Program\"\"\"\n",
    "a = 5\n",
    "b = 2\n",
    "c = a // b\n",
    "print(\"Floor Division: \", c)"
   ]
  },
  {
   "cell_type": "code",
   "execution_count": 2,
   "metadata": {},
   "outputs": [
    {
     "name": "stdout",
     "output_type": "stream",
     "text": [
      "Type your name:j\n",
      "Hi,j \n",
      "  Welcome to Bigziel. Python Class \n",
      "\n",
      " Type any number:3\n",
      "\n",
      " you have entered : 3\n"
     ]
    }
   ],
   "source": [
    "\"\"\"\n",
    "Input Function:\n",
    "---------------\n",
    "\n",
    "    Python has an input function which lets you ask a user for some text input. \n",
    "    You call this function to tell the program to stop and wait for the user to key in the data.\n",
    "    \n",
    "    In Python 2, you have a built-in function raw_input()\n",
    "    whereas in Python 3, you have input().\n",
    "    \n",
    "    The program will resume once the user presses the ENTER or RETURN key.\n",
    "    \n",
    "    Syntax  : input()\n",
    "\"\"\"\n",
    "\n",
    "\n",
    "\"\"\"Sample Program\"\"\"\n",
    "\n",
    "input_string = input(\"Type your name:\")\n",
    "print('Hi,%s \\n  Welcome to Bigziel. Python Class \\n' %(input_string))\n",
    "\n",
    "input_integer = int(input(\" Type any number:\"))\n",
    "print(\"\\n you have entered : %d\" %(input_integer))"
   ]
  },
  {
   "cell_type": "code",
   "execution_count": 35,
   "metadata": {},
   "outputs": [
    {
     "data": {
      "text/plain": [
       "'Python output function'"
      ]
     },
     "execution_count": 35,
     "metadata": {},
     "output_type": "execute_result"
    }
   ],
   "source": [
    "\"\"\"\n",
    "    Float:\n",
    "    ------\n",
    "        The float() method is used to return a floating point number from a number or a string.\n",
    "    \n",
    "    Syntax: float(x)\n",
    "\n",
    "    The method only accepts one parameter and that is also optional to use. \n",
    "    Let us look at the various types of argument, the method accepts:\n",
    "    \n",
    "        A number : \n",
    "            Can be an Integer or a floating point number.\n",
    "        \n",
    "        A String :\n",
    "            Must contain numbers of any type.\n",
    "            Any left or right whitespaces or a new line is ignored by the method.\n",
    "            Mathematical Operators can be used.\n",
    "            Can contain NaN, Infinity or inf (any cases)\n",
    "\n",
    "\n",
    "\"\"\""
   ]
  },
  {
   "cell_type": "code",
   "execution_count": 7,
   "metadata": {},
   "outputs": [
    {
     "name": "stdout",
     "output_type": "stream",
     "text": [
      "21.8\n",
      "0.0\n",
      "8.0\n",
      "23.0\n",
      "-16.54\n",
      "-24.45\n",
      "inf\n",
      "inf\n",
      "nan\n",
      "nan\n",
      "0.001\n",
      "1000000.0\n"
     ]
    }
   ],
   "source": [
    "\"\"\"\n",
    "    Values that the float() method can return depending upon the argument passed\n",
    "\"\"\"\n",
    "\n",
    "# If an argument is passed, then the equivalent floating point number is returned.\n",
    "print(float(21.8))\n",
    "\n",
    "# If no argument is passed then the method returns 0.0 .\n",
    "print(float())\n",
    "\n",
    "# for floating point numbers\n",
    "print(float(8))\n",
    "  \n",
    "# for integer type strings\n",
    "print(float(\"23\"))\n",
    "  \n",
    "# for floating type strings\n",
    "print(float(\"-16.54\"))\n",
    "  \n",
    "# for string floats with whitespaces\n",
    "print(float(\" \t-24.45   \\n\"))\n",
    "  \n",
    "# for inf/infinity\n",
    "print(float(\"InF\"))\n",
    "print(float(\"InFiNiTy\"))\n",
    "  \n",
    "# for NaN\n",
    "print(float(\"nan\"))\n",
    "print(float(\"NaN\"))\n",
    "\n",
    "#decimal point or scientific notation (E or e).\n",
    "print(float('1e-003'))\n",
    "print(float('+1E6'))"
   ]
  },
  {
   "cell_type": "code",
   "execution_count": 8,
   "metadata": {},
   "outputs": [
    {
     "ename": "ValueError",
     "evalue": "could not convert string to float: 'Bigziel'",
     "output_type": "error",
     "traceback": [
      "\u001b[0;31m---------------------------------------------------------------------------\u001b[0m",
      "\u001b[0;31mValueError\u001b[0m                                Traceback (most recent call last)",
      "\u001b[0;32m<ipython-input-8-04d917acb9bb>\u001b[0m in \u001b[0;36m<module>\u001b[0;34m\u001b[0m\n\u001b[1;32m      2\u001b[0m \u001b[0;31m#  above then an error will be raised.\u001b[0m\u001b[0;34m\u001b[0m\u001b[0;34m\u001b[0m\u001b[0;34m\u001b[0m\u001b[0m\n\u001b[1;32m      3\u001b[0m \u001b[0;31m# Error is generated at last\u001b[0m\u001b[0;34m\u001b[0m\u001b[0;34m\u001b[0m\u001b[0;34m\u001b[0m\u001b[0m\n\u001b[0;32m----> 4\u001b[0;31m \u001b[0mprint\u001b[0m\u001b[0;34m(\u001b[0m\u001b[0mfloat\u001b[0m\u001b[0;34m(\u001b[0m\u001b[0;34m\"Bigziel\"\u001b[0m\u001b[0;34m)\u001b[0m\u001b[0;34m)\u001b[0m\u001b[0;34m\u001b[0m\u001b[0;34m\u001b[0m\u001b[0m\n\u001b[0m",
      "\u001b[0;31mValueError\u001b[0m: could not convert string to float: 'Bigziel'"
     ]
    }
   ],
   "source": [
    "#  If any string is passed that is not a decimal point number or does not match to any cases mentioned \n",
    "#  above then an error will be raised.\n",
    "# Error is generated at last\n",
    "print(float(\"Bigziel\"))"
   ]
  },
  {
   "cell_type": "code",
   "execution_count": 9,
   "metadata": {},
   "outputs": [
    {
     "ename": "OverflowError",
     "evalue": "int too large to convert to float",
     "output_type": "error",
     "traceback": [
      "\u001b[0;31m---------------------------------------------------------------------------\u001b[0m",
      "\u001b[0;31mOverflowError\u001b[0m                             Traceback (most recent call last)",
      "\u001b[0;32m<ipython-input-9-804ff43bdac8>\u001b[0m in \u001b[0;36m<module>\u001b[0;34m\u001b[0m\n\u001b[1;32m      3\u001b[0m \"\"\"\n\u001b[1;32m      4\u001b[0m \u001b[0;32mimport\u001b[0m \u001b[0mmath\u001b[0m\u001b[0;34m\u001b[0m\u001b[0;34m\u001b[0m\u001b[0m\n\u001b[0;32m----> 5\u001b[0;31m \u001b[0mfloat\u001b[0m\u001b[0;34m(\u001b[0m\u001b[0mmath\u001b[0m\u001b[0;34m.\u001b[0m\u001b[0mfactorial\u001b[0m\u001b[0;34m(\u001b[0m\u001b[0;36m171\u001b[0m\u001b[0;34m)\u001b[0m\u001b[0;34m)\u001b[0m\u001b[0;34m\u001b[0m\u001b[0;34m\u001b[0m\u001b[0m\n\u001b[0m",
      "\u001b[0;31mOverflowError\u001b[0m: int too large to convert to float"
     ]
    }
   ],
   "source": [
    "\"\"\"\n",
    "Example: Float overflow Error\n",
    "\"\"\"\n",
    "import math\n",
    "float(math.factorial(171))"
   ]
  },
  {
   "cell_type": "code",
   "execution_count": 9,
   "metadata": {},
   "outputs": [
    {
     "name": "stdout",
     "output_type": "stream",
     "text": [
      "0.30000000000000004\n",
      "0.3333333333333333\n",
      "0.333\n"
     ]
    }
   ],
   "source": [
    "\"\"\"Float Issues and Limitations\"\"\"\n",
    "print(0.1 + 0.2)\n",
    "print(1/3)\n",
    "print(round(1/3,3))"
   ]
  },
  {
   "cell_type": "code",
   "execution_count": 60,
   "metadata": {},
   "outputs": [
    {
     "name": "stdout",
     "output_type": "stream",
     "text": [
      "<class 'complex'>\n",
      "(1+3j)\n",
      "(2+6j)\n",
      "True\n"
     ]
    }
   ],
   "source": [
    "\"\"\"\n",
    "Complex Numbers:\n",
    "----------------\n",
    "    A complex number is created from two real numbers. \n",
    "    Python complex number can be created using complex() function as well as using direct assignment statement.\n",
    "    Complex numbers are mostly used where we define something using two real numbers.\n",
    "\"\"\"\n",
    "#Let’s first learn how to create complex numbers in python.\n",
    "c = 1 + 3j\n",
    "print(type(c))\n",
    "print(c)\n",
    "\n",
    "c1 = complex(2, 6)\n",
    "print(c1)\n",
    "\n",
    "# check if the result is of class complex\n",
    "print(isinstance(c, complex))\n"
   ]
  },
  {
   "cell_type": "code",
   "execution_count": 52,
   "metadata": {},
   "outputs": [
    {
     "name": "stdout",
     "output_type": "stream",
     "text": [
      "Real Part = 1.0\n",
      "Imaginary Part = 2.0\n",
      "Complex conjugate = (1-2j)\n"
     ]
    }
   ],
   "source": [
    "\"\"\"\n",
    "Python Complex Numbers Attributes and Functions\n",
    "\"\"\"\n",
    "# Let’s look at some attributes and instance functions of complex numbers.\n",
    "c = 1 + 2j\n",
    "print('Real Part =', c.real)\n",
    "print('Imaginary Part =', c.imag)\n",
    "print('Complex conjugate =', c.conjugate())"
   ]
  },
  {
   "cell_type": "code",
   "execution_count": 56,
   "metadata": {},
   "outputs": [
    {
     "name": "stdout",
     "output_type": "stream",
     "text": [
      "Addition = (3+6j)\n",
      "Subtraction = (-1-2j)\n",
      "Multiplication = (-6+8j)\n",
      "Division = (2+0j)\n"
     ]
    }
   ],
   "source": [
    "\"\"\"\n",
    "Complex Numbers Mathematical Calculations\n",
    "\n",
    "\"\"\"\n",
    "# Complex numbers support mathematical caluclations such as addition, subtraction, multiplication and division.\n",
    "\n",
    "c = 1 + 2j\n",
    "c1 = 2 + 4j\n",
    "print('Addition =', c + c1)\n",
    "print('Subtraction =', c - c1)\n",
    "print('Multiplication =', c * c1)\n",
    "print('Division =', c1 / c)"
   ]
  },
  {
   "cell_type": "code",
   "execution_count": 57,
   "metadata": {},
   "outputs": [
    {
     "name": "stdout",
     "output_type": "stream",
     "text": [
      "3\n",
      "13\n",
      "14\n"
     ]
    }
   ],
   "source": [
    "\"\"\"\n",
    "Numbering Systems:\n",
    "--------- --------\n",
    "    In Python, you can specify the numbering system a number uses by using a two-digit prefix as follows:\n",
    "\n",
    "        Numbering System      Prefix\n",
    "        Binary                0b or 0B\n",
    "        Octal                 0o or 0O\n",
    "        Hexadecimal           0x or 0X\n",
    "        \n",
    "    The prefix can be uppercase or lowercase.\n",
    "\"\"\"\n",
    "# Binary\n",
    "print(0b11)\n",
    "\n",
    "# Octal\n",
    "print(0o15)\n",
    "\n",
    "# Hexadecimal\n",
    "print(0xe)"
   ]
  },
  {
   "cell_type": "code",
   "execution_count": 58,
   "metadata": {},
   "outputs": [
    {
     "name": "stdout",
     "output_type": "stream",
     "text": [
      "... 1 2 3 4 5 ...\n",
      "... 5 6 7 8 9 10 11 12 13 ...\n",
      "... 7 8 9 10 11 12 13 14 15 16 18 19 ...\n"
     ]
    }
   ],
   "source": [
    "\"\"\"\n",
    "    The following example prints out a range of numbers from each system.\n",
    "    You can see how each value in the code maps to a base-ten number in the output\n",
    "\"\"\"\n",
    "\n",
    "# Binary\n",
    "print(\"...\", 0b001, 0b010, 0b011, 0b100, 0b101, \"...\")\n",
    "\n",
    "# Octal\n",
    "print(\"...\", 0o05, 0o06, 0o07, 0o10, 0o11, 0o12, 0o13, 0o14, 0o15, \"...\")\n",
    "\n",
    "# Hexadecimal\n",
    "print(\"...\", 0x7, 0x8, 0x9, 0xa, 0xb, 0xc, 0xd, 0xe, 0xf, 0x10, 0x12, 0x13, \"...\")\n"
   ]
  },
  {
   "cell_type": "code",
   "execution_count": 3,
   "metadata": {},
   "outputs": [
    {
     "name": "stdout",
     "output_type": "stream",
     "text": [
      "0o144\n",
      "0x64\n",
      "0b1100100\n"
     ]
    }
   ],
   "source": [
    "\"\"\"\n",
    "    You can also use functions such as hex() and oct() to return an integer as a hexadecimal or octal number.\n",
    "\"\"\"\n",
    "a = 100\n",
    "print(oct(a))\n",
    "print(hex(a))\n",
    "print(bin(a))"
   ]
  },
  {
   "cell_type": "code",
   "execution_count": null,
   "metadata": {},
   "outputs": [],
   "source": []
  }
 ],
 "metadata": {
  "kernelspec": {
   "display_name": "Python 3",
   "language": "python",
   "name": "python3"
  },
  "language_info": {
   "codemirror_mode": {
    "name": "ipython",
    "version": 3
   },
   "file_extension": ".py",
   "mimetype": "text/x-python",
   "name": "python",
   "nbconvert_exporter": "python",
   "pygments_lexer": "ipython3",
   "version": "3.7.3"
  }
 },
 "nbformat": 4,
 "nbformat_minor": 2
}

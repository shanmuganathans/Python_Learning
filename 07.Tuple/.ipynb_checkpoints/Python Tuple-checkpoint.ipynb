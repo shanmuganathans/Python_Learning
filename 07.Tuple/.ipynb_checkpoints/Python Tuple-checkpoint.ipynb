{
 "cells": [
  {
   "cell_type": "code",
   "execution_count": null,
   "metadata": {},
   "outputs": [],
   "source": [
    "\"\"\"\n",
    "    Python Tuples:\n",
    "    -------------\n",
    "        Python provides another type that is an ordered collection of objects, called a tuple.\n",
    "\n",
    "        Pronunciation varies depending on whom you ask. Some pronounce it as though it were spelled \n",
    "        “too-ple” (rhyming with “Mott the Hoople”), and others as though it were spelled\n",
    "        “tup-ple” (rhyming with “supple”)\n",
    "        \n",
    "        A tuple in Python is similar to a list. The difference between the two is that we cannot change \n",
    "        the elements of a tuple once it is assigned whereas, in a list, elements can be changed.\n",
    "\n",
    "\"\"\""
   ]
  },
  {
   "cell_type": "code",
   "execution_count": 4,
   "metadata": {},
   "outputs": [
    {
     "name": "stdout",
     "output_type": "stream",
     "text": [
      "()\n",
      "(1, 2, 3)\n",
      "(1, 'Hello', 3.4)\n",
      "<class 'str'>\n",
      "('mouse', [8, 4, 6], (1, 2, 3))\n",
      "(1, 2, 3, 4, 5)\n",
      "<class 'tuple'>\n"
     ]
    }
   ],
   "source": [
    "\"\"\"\n",
    "    Defining and Using Tuples:\n",
    "    -------------------------\n",
    "        A tuple is created by placing all the items (elements) inside parentheses (),separated by commas\n",
    "        \n",
    "        Tuples are immutable.\n",
    "        \n",
    "        The parentheses are optional, however, it is a good practice to use them.\n",
    "        \n",
    "        A tuple can have any number of items and they may be of different types (integer, float, list, string, etc.).        \n",
    "        \n",
    "\"\"\"\n",
    "\n",
    "# Empty tuple\n",
    "my_tuple = ()\n",
    "print(my_tuple)  # Output: ()\n",
    "\n",
    "# Tuple having integers\n",
    "my_tuple = (1, 2, 3)\n",
    "print(my_tuple)  # Output: (1, 2, 3) \n",
    "\n",
    "# tuple with mixed datatypes\n",
    "my_tuple = (1, \"Hello\", 3.4)\n",
    "print(my_tuple)  # Output: (1, \"Hello\", 3.4)  \n",
    "\n",
    "# nested tuple\n",
    "my_tuple = (\"mouse\", [8, 4, 6], (1, 2, 3))\n",
    "print(type(my_tuple[0]))\n",
    "# Output: (\"mouse\", [8, 4, 6], (1, 2, 3)) \n",
    "print(my_tuple)\n",
    "\n",
    "# tuple without parentheses\n",
    "t = 1,2,3,4,5\n",
    "print(t)\n",
    "print(type(t))"
   ]
  },
  {
   "cell_type": "code",
   "execution_count": 1,
   "metadata": {},
   "outputs": [
    {
     "name": "stdout",
     "output_type": "stream",
     "text": [
      "<class 'str'>\n",
      "<class 'tuple'>\n",
      "<class 'tuple'>\n"
     ]
    }
   ],
   "source": [
    "\"\"\"\n",
    "    Creating a tuple with one element is a bit tricky.\n",
    "\n",
    "    Having one element within parentheses is not enough. We will need a trailing comma to indicate that it is, \n",
    "    in fact, a tuple.\n",
    "\"\"\"\n",
    "my_tuple = (\"hello\")\n",
    "print(type(my_tuple))  # <class 'str'>\n",
    "\n",
    "# Creating a tuple having one element\n",
    "my_tuple = (\"hello\",)  \n",
    "print(type(my_tuple))  # <class 'tuple'> \n",
    "\n",
    "# Parentheses is optional\n",
    "my_tuple = \"hello\",\n",
    "print(type(my_tuple))  # <class 'tuple'> "
   ]
  },
  {
   "cell_type": "code",
   "execution_count": null,
   "metadata": {},
   "outputs": [],
   "source": [
    "\"\"\"\n",
    "    Why use a tuple instead of a list?\n",
    "    ----------------------------------\n",
    "\n",
    "        Program execution is faster when manipulating a tuple than it is for the equivalent list.\n",
    "        (This is probably not going to be noticeable when the list or tuple is small.)\n",
    "\n",
    "        Sometimes you don’t want data to be modified. If the values in the collection are meant to remain\n",
    "        constant for the life of the program, using a tuple instead of a list guards against accidental modification.\n",
    "\n",
    "        There is another Python data type that you will encounter shortly called a dictionary, which requires as \n",
    "        one of its components a value that is of an immutable type. A tuple can be used for this purpose, \n",
    "        whereas a list can’t be.\n",
    "\"\"\""
   ]
  },
  {
   "cell_type": "code",
   "execution_count": 3,
   "metadata": {},
   "outputs": [
    {
     "name": "stdout",
     "output_type": "stream",
     "text": [
      "p\n",
      "t\n",
      "s\n",
      "4\n"
     ]
    }
   ],
   "source": [
    "\"\"\"\n",
    "    Access Tuple Elements:\n",
    "    ----------------------\n",
    "    1. Indexing\n",
    "    -----------\n",
    "        We can use the index operator [] to access an item in a tuple where the index starts from 0.\n",
    "\n",
    "        So, a tuple having 6 elements will have indices from 0 to 5. Trying to access an element outside of \n",
    "        tuple (for example, 6, 7,...) will raise an IndexError.\n",
    "\n",
    "        The index must be an integer; so we cannot use float or other types. This will result in TypeError.\n",
    "\"\"\"\n",
    "\n",
    "my_tuple = ('p','e','r','m','i','t')\n",
    "\n",
    "print(my_tuple[0])   # 'p' \n",
    "print(my_tuple[5])   # 't'\n",
    "\n",
    "# IndexError: list index out of range\n",
    "# print(my_tuple[6])\n",
    "\n",
    "# Index must be an integer\n",
    "# TypeError: list indices must be integers, not float\n",
    "# my_tuple[2.0]\n",
    "\n",
    "# nested tuple\n",
    "n_tuple = (\"mouse\", [8, 4, 6], (1, 2, 3))\n",
    "\n",
    "# nested index\n",
    "print(n_tuple[0][3])       # 's'\n",
    "print(n_tuple[1][1])       # 4"
   ]
  },
  {
   "cell_type": "code",
   "execution_count": 5,
   "metadata": {},
   "outputs": [
    {
     "name": "stdout",
     "output_type": "stream",
     "text": [
      "t\n",
      "p\n"
     ]
    }
   ],
   "source": [
    "\"\"\"\n",
    "    2. Negative Indexing :\n",
    "    ---------------------\n",
    "\n",
    "        Python allows negative indexing for its sequences.\n",
    "\n",
    "        The index of -1 refers to the last item, -2 to the second last item and so on.\n",
    "\n",
    "\"\"\"\n",
    "\n",
    "my_tuple = ('p','e','r','m','i','t')\n",
    "\n",
    "# Output: 't'\n",
    "print(my_tuple[-1])\n",
    "\n",
    "# Output: 'p'\n",
    "print(my_tuple[-6])\n"
   ]
  },
  {
   "cell_type": "code",
   "execution_count": 7,
   "metadata": {},
   "outputs": [
    {
     "name": "stdout",
     "output_type": "stream",
     "text": [
      "('E', 'L', 'C')\n",
      "('W', 'E', 'L', 'C', 'O', 'M', 'E', 'T', 'O', 'P', 'Y', 'T', 'H')\n",
      "('T', 'O', 'P', 'Y', 'T', 'H', 'O', 'N', 'C', 'L', 'A', 'S', 'S')\n"
     ]
    }
   ],
   "source": [
    "\"\"\"\n",
    "    3. Slicing :\n",
    "    -----------\n",
    "        We can access a range of items in a tuple by using the slicing operator - colon \":\".\n",
    "\"\"\"\n",
    "my_tuple = ('W','E','L','C','O','M','E','T','O','P','Y','T','H','O','N','C','L','A','S','S')\n",
    "\n",
    "# elements 2nd to 4th\n",
    "print(my_tuple[1:4])\n",
    "\n",
    "# elements beginning to 2nd\n",
    "print(my_tuple[:-7])\n",
    "\n",
    "# elements 8th to end\n",
    "\n",
    "print(my_tuple[7:])\n",
    "\n",
    "# elements beginning to end\n"
   ]
  },
  {
   "cell_type": "code",
   "execution_count": 8,
   "metadata": {},
   "outputs": [
    {
     "name": "stdout",
     "output_type": "stream",
     "text": [
      "(4, 2, 3, [9, 5])\n",
      "('W', 'E', 'L', 'C', 'O', 'M', 'E', 'T', 'O', 'P', 'Y', 'T', 'H', 'O', 'N', 'C', 'L', 'A', 'S', 'S')\n"
     ]
    }
   ],
   "source": [
    "\"\"\"\n",
    "    Changing a Tuple:\n",
    "    -----------------\n",
    "        Unlike lists, tuples are immutable.\n",
    "\n",
    "        This means that elements of a tuple cannot be changed once it has been assigned. But, \n",
    "        if the element is itself a mutable datatype like list, its nested items can be changed.\n",
    "\n",
    "        We can also assign a tuple to different values (reassignment).\n",
    "\"\"\"\n",
    "\n",
    "my_tuple = (4, 2, 3, [6, 5])\n",
    "\n",
    "\n",
    "# TypeError: 'tuple' object does not support item assignment\n",
    "# my_tuple[1] = 9\n",
    "\n",
    "# However, item of mutable element can be changed\n",
    "my_tuple[3][0] = 9    # Output: (4, 2, 3, [9, 5])\n",
    "print(my_tuple)\n",
    "\n",
    "# Tuples can be reassigned\n",
    "my_tuple = ('W','E','L','C','O','M','E','T','O','P','Y','T','H','O','N','C','L','A','S','S')\n",
    "\n",
    "# Output: ('p', 'r', 'o', 'g', 'r', 'a', 'm', 'i', 'z')\n",
    "print(my_tuple)\n"
   ]
  },
  {
   "cell_type": "code",
   "execution_count": 9,
   "metadata": {},
   "outputs": [
    {
     "name": "stdout",
     "output_type": "stream",
     "text": [
      "(1, 2, 3, 4, 5, 6)\n",
      "('Repeat', 'Repeat', 'Repeat')\n"
     ]
    }
   ],
   "source": [
    "\"\"\"\n",
    "    We can use + operator to combine two tuples. This is also called concatenation.\n",
    "\n",
    "    We can also repeat the elements in a tuple for a given number of times using the * operator.\n",
    "\n",
    "    Both + and * operations result in a new tuple.\n",
    "\"\"\"\n",
    "\n",
    "# Concatenation\n",
    "# Output: (1, 2, 3, 4, 5, 6)\n",
    "print((1, 2, 3) + (4, 5, 6))\n",
    "\n",
    "# Repeat\n",
    "# Output: ('Repeat', 'Repeat', 'Repeat')\n",
    "print((\"Repeat\",) * 3)"
   ]
  },
  {
   "cell_type": "code",
   "execution_count": 2,
   "metadata": {},
   "outputs": [
    {
     "ename": "NameError",
     "evalue": "name 'my_tuple' is not defined",
     "output_type": "error",
     "traceback": [
      "\u001b[0;31m---------------------------------------------------------------------------\u001b[0m",
      "\u001b[0;31mNameError\u001b[0m                                 Traceback (most recent call last)",
      "\u001b[0;32m<ipython-input-2-1562914bdc6d>\u001b[0m in \u001b[0;36m<module>\u001b[0;34m\u001b[0m\n\u001b[1;32m     18\u001b[0m \u001b[0;34m\u001b[0m\u001b[0m\n\u001b[1;32m     19\u001b[0m \u001b[0;31m# NameError: name 'my_tuple' is not defined\u001b[0m\u001b[0;34m\u001b[0m\u001b[0;34m\u001b[0m\u001b[0;34m\u001b[0m\u001b[0m\n\u001b[0;32m---> 20\u001b[0;31m \u001b[0mprint\u001b[0m\u001b[0;34m(\u001b[0m\u001b[0mmy_tuple\u001b[0m\u001b[0;34m)\u001b[0m\u001b[0;34m\u001b[0m\u001b[0;34m\u001b[0m\u001b[0m\n\u001b[0m",
      "\u001b[0;31mNameError\u001b[0m: name 'my_tuple' is not defined"
     ]
    }
   ],
   "source": [
    "\"\"\"\n",
    "    Deleting a Tuple:\n",
    "    -----------------\n",
    "        As discussed above, we cannot change the elements in a tuple. That also means we cannot delete or remove \n",
    "        items from a tuple.\n",
    "\n",
    "        But deleting a tuple entirely is possible using the keyword del.\n",
    "\"\"\"\n",
    "\n",
    "my_tuple = ('W','E','L','C','O','M','E','T','O','P','Y','T','H','O','N','C','L','A','S','S')\n",
    "\n",
    "# can't delete items\n",
    "# TypeError: 'tuple' object doesn't support item deletion\n",
    "# del my_tuple[3]\n",
    "\n",
    "# Can delete an entire tuple\n",
    "del my_tuple\n",
    "\n",
    "# NameError: name 'my_tuple' is not defined\n",
    "print(my_tuple)"
   ]
  },
  {
   "cell_type": "code",
   "execution_count": 5,
   "metadata": {},
   "outputs": [
    {
     "name": "stdout",
     "output_type": "stream",
     "text": [
      "2\n",
      "3\n",
      "5\n"
     ]
    }
   ],
   "source": [
    "\"\"\"\n",
    "    Tuple Methods\n",
    "    -------------\n",
    "    Methods that add items or remove items are not available with tuple. Only the following two methods are available.\n",
    "\n",
    "    Python Tuple Method:\n",
    "    ------------------\n",
    "            Method           Description\n",
    "            count(x)          Returns the number of items x\n",
    "            index(x)          Returns the index of the first item that is equal to x\n",
    "\"\"\"\n",
    "\n",
    "my_tuple = ('a','p','p','l','e',)\n",
    "\n",
    "print(my_tuple.count('p'))  # Output: 2\n",
    "print(my_tuple.index('l'))  # Output: 3\n"
   ]
  },
  {
   "cell_type": "code",
   "execution_count": 11,
   "metadata": {},
   "outputs": [
    {
     "name": "stdout",
     "output_type": "stream",
     "text": [
      "True\n",
      "False\n",
      "True\n"
     ]
    }
   ],
   "source": [
    "\"\"\"\n",
    "    Other Tuple Operations:\n",
    "    -----------------------\n",
    "        1. Tuple Membership Test\n",
    "        ------------------------\n",
    "            We can test if an item exists in a tuple or not, using the keyword in.\n",
    "\"\"\"\n",
    "my_tuple = ('a','p','p','l','e',)\n",
    "\n",
    "# In operation\n",
    "# Output: True\n",
    "print('a' in my_tuple)\n",
    "\n",
    "# Output: False\n",
    "print('b' in my_tuple)\n",
    "\n",
    "# Not in operation\n",
    "# Output: True\n",
    "print('g' not in my_tuple)"
   ]
  },
  {
   "cell_type": "code",
   "execution_count": 12,
   "metadata": {},
   "outputs": [
    {
     "name": "stdout",
     "output_type": "stream",
     "text": [
      "Hello John\n",
      "Hello Kate\n"
     ]
    }
   ],
   "source": [
    "\"\"\"\n",
    "    2. Iterating Through a Tuple\n",
    "    -----------------------------\n",
    "        Using a for loop we can iterate through each item in a tuple.\n",
    "\"\"\"\n",
    "\n",
    "# Output: \n",
    "# Hello John\n",
    "# Hello Kate\n",
    "for name in ('John','Kate'):\n",
    "     print(\"Hello\",name)    "
   ]
  },
  {
   "cell_type": "code",
   "execution_count": 3,
   "metadata": {},
   "outputs": [
    {
     "name": "stdout",
     "output_type": "stream",
     "text": [
      "('one', 'two', 'three', 1, 2, 3)\n"
     ]
    }
   ],
   "source": [
    "\"\"\"\n",
    "    Modifying Elements in a Python Tuple:\n",
    "\n",
    "    Again, since tuple is immutable, it is impossible to change or modify the value of a particular element. \n",
    "    Although, we can take some portion of an existing tuple and create a new tuple using the concatenating operator, \n",
    "    as shown in the example below:\n",
    "\"\"\"\n",
    "\n",
    "tup1 = (\"one\",\"two\",\"three\")\n",
    "tup2 = (1,2,3)\n",
    "tup3 = tup1 + tup2\n",
    "print (tup3)"
   ]
  },
  {
   "cell_type": "code",
   "execution_count": null,
   "metadata": {},
   "outputs": [],
   "source": [
    "\"\"\"\n",
    "Examples:\n",
    "\n",
    "1. Write a Python program to create a tuple with different data types.\n",
    "2. Write a Python program to find the repeated items of a tuple.\n",
    "3. Write a Python program to get the 4th element of a tuple\n",
    "4. Write a Python program to check whether an element exists within a tuple\n",
    "5. Write a Python program to slice a tuple.\n",
    "6. Write a Python program to find the index of an item of a tuple\n",
    "7. Write a Python program to reverse a tuple\n",
    "\n",
    "\"\"\""
   ]
  }
 ],
 "metadata": {
  "kernelspec": {
   "display_name": "Python 3",
   "language": "python",
   "name": "python3"
  },
  "language_info": {
   "codemirror_mode": {
    "name": "ipython",
    "version": 3
   },
   "file_extension": ".py",
   "mimetype": "text/x-python",
   "name": "python",
   "nbconvert_exporter": "python",
   "pygments_lexer": "ipython3",
   "version": "3.7.3"
  }
 },
 "nbformat": 4,
 "nbformat_minor": 2
}

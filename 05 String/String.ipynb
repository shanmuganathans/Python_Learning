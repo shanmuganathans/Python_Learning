{
 "cells": [
  {
   "cell_type": "code",
   "execution_count": 8,
   "metadata": {},
   "outputs": [
    {
     "data": {
      "text/plain": [
       "str"
      ]
     },
     "execution_count": 8,
     "metadata": {},
     "output_type": "execute_result"
    }
   ],
   "source": [
    "\"\"\"\n",
    "Introduction  String:\n",
    "------------ --------\n",
    "    A string is a sequence of characters.\n",
    "\n",
    "    A character is simply a symbol. For example, the English language has 26 characters.\n",
    "\n",
    "    Computers do not deal with characters, they deal with numbers (binary). \n",
    "    Even though you may see characters on your screen, internally it is stored and manipulated as a combination\n",
    "    of 0's and 1's.\n",
    "\n",
    "    This conversion of character to a number is called encoding, and the reverse process is decoding. \n",
    "    ASCII and Unicode are some of the popular encoding used.\n",
    "\n",
    "    In Python, string is a sequence of Unicode character. Unicode was introduced to include every character \n",
    "    in all languages and bring uniformity in encoding.\n",
    "    \n",
    "    There is a built-in class ‘str’ for handling Python string. You can prove this with the type() function.\n",
    "\n",
    "    Python doesn’t have the char data-type like C++ or Java does.\n",
    "    \n",
    "    Syntax : str(x)\n",
    "\"\"\"\n",
    "\n",
    "number = str(2)\n",
    "\n",
    "type(number)\n"
   ]
  },
  {
   "cell_type": "code",
   "execution_count": 6,
   "metadata": {},
   "outputs": [
    {
     "name": "stdout",
     "output_type": "stream",
     "text": [
      "Hello Everyone\n",
      "Hello , How are you?\n",
      "Hello, Nice \n",
      "to meet you..!\n",
      "Hello, welcome to\n",
      "           the Bigziel python class..!\n",
      "           \n"
     ]
    }
   ],
   "source": [
    "\"\"\"\n",
    "    Create / Declare a string in Python:\n",
    "    \n",
    "        Strings can be created by enclosing characters inside a single quote or double quotes.\n",
    "        Even triple quotes can be used in Python but generally used to represent multiline strings and docstrings.\n",
    "\"\"\"\n",
    "\n",
    "# all of the following are equivalent\n",
    "my_string = 'Hello Everyone'\n",
    "print(my_string)\n",
    "\n",
    "my_string = \"Hello , How are you?\"\n",
    "print(my_string)\n",
    "\n",
    "my_string = '''Hello, Nice to meet you..!'''\n",
    "print(my_string)\n",
    "\n",
    "# triple quotes string can extend multiple lines\n",
    "my_string = \"\"\"Hello, welcome to\n",
    "           the Bigziel python class..!\n",
    "           \"\"\"\n",
    "print(my_string)"
   ]
  },
  {
   "cell_type": "code",
   "execution_count": 10,
   "metadata": {},
   "outputs": [
    {
     "ename": "SyntaxError",
     "evalue": "EOL while scanning string literal (<ipython-input-10-f6d831a7311d>, line 6)",
     "output_type": "error",
     "traceback": [
      "\u001b[0;36m  File \u001b[0;32m\"<ipython-input-10-f6d831a7311d>\"\u001b[0;36m, line \u001b[0;32m6\u001b[0m\n\u001b[0;31m    sample = 'Bigziel\"\u001b[0m\n\u001b[0m                      ^\u001b[0m\n\u001b[0;31mSyntaxError\u001b[0m\u001b[0;31m:\u001b[0m EOL while scanning string literal\n"
     ]
    }
   ],
   "source": [
    "\"\"\"\n",
    "    SyntaxError: EOL:\n",
    "    -----------------\n",
    "        However, you cannot use a single quote to begin a string and a double quote to end it, and vice-versa.\n",
    "\"\"\"\n",
    "sample = 'Bigziel\""
   ]
  },
  {
   "cell_type": "code",
   "execution_count": 2,
   "metadata": {},
   "outputs": [],
   "source": [
    "\"\"\"\n",
    "    Use Quotes inside Python String:\n",
    "    --- ------ ----- ------- ------\n",
    "        Since we delimit strings using quotes, there are some things you need to take care of when using \n",
    "        them inside a string.\n",
    "\"\"\"\n",
    "# SyntaxError: invalid syntax\n",
    "sample = \"I am using '3.7.4''\n"
   ]
  },
  {
   "cell_type": "code",
   "execution_count": 14,
   "metadata": {},
   "outputs": [
    {
     "name": "stdout",
     "output_type": "stream",
     "text": [
      "I am using python \"3.7.2\"\n"
     ]
    }
   ],
   "source": [
    "\"\"\"\n",
    "    If you need to use double quotes inside a Python string, delimit the string with single quotes.\n",
    "\"\"\"\n",
    "sample = 'I am using python \"3.7.2\"'\n",
    "print(sample)\n",
    "\n"
   ]
  },
  {
   "cell_type": "code",
   "execution_count": 19,
   "metadata": {},
   "outputs": [
    {
     "name": "stdout",
     "output_type": "stream",
     "text": [
      "I am using 'Python-3.7.2'\n",
      "I am using 'Python-3.7.2' and 'Python 3.7.3'\n"
     ]
    }
   ],
   "source": [
    "\"\"\"\n",
    "    if you need to use single quotes inside a string, delimit it with double quotes.\n",
    "\"\"\"\n",
    "\n",
    "sample = \"I am using 'Python-3.7.2'\"\n",
    "print(sample)\n",
    "\n",
    "# You can use as many quotes as you want, then.\n",
    "\n",
    "sample = \"I am using 'Python-3.7.2' and 'Python 3.7.3'\"\n",
    "print(sample)"
   ]
  },
  {
   "cell_type": "code",
   "execution_count": 20,
   "metadata": {},
   "outputs": [
    {
     "name": "stdout",
     "output_type": "stream",
     "text": [
      "str =  PythonLover\n",
      "str[0] =  P\n",
      "str[-1] =  r\n",
      "str[1:5] =  ytho\n",
      "str[5:-2] =  nLov\n"
     ]
    }
   ],
   "source": [
    "\"\"\"\n",
    "    Access characters in a string (String Slicing):\n",
    "    ------ ---------- -- --------- ------ --------\n",
    "    \n",
    "    We can access individual characters using indexing and a range of characters using slicing.\n",
    "    Index starts from 0. Trying to access a character out of index range will raise an IndexError. \n",
    "    The index must be an integer. We can't use float or other types, this will result into TypeError.\n",
    "\n",
    "    Python allows negative indexing for its sequences.\n",
    "\n",
    "    The index of -1 refers to the last item, -2 to the second last item and so on. \n",
    "    We can access a range of items in a string by using the slicing operator (colon).\n",
    "\n",
    "\"\"\"\n",
    "str = 'PythonLover'\n",
    "print('str = ', str)\n",
    "\n",
    "#first character\n",
    "print('str[0] = ', str[0])\n",
    "\n",
    "#last character\n",
    "print('str[-1] = ', str[-1])\n",
    "\n",
    "#slicing 2nd to 5th character\n",
    "print('str[1:5] = ', str[1:5])\n",
    "\n",
    "#slicing 6th to 2nd last character\n",
    "print('str[5:-2] = ', str[5:-2])"
   ]
  },
  {
   "cell_type": "code",
   "execution_count": 2,
   "metadata": {},
   "outputs": [
    {
     "data": {
      "text/plain": [
       "'i'"
      ]
     },
     "execution_count": 2,
     "metadata": {},
     "output_type": "execute_result"
    }
   ],
   "source": [
    "\"\"\"\n",
    "    If we try to access index out of the range or use decimal number, we will get errors.\n",
    "\"\"\"\n",
    "my_string = \"welcome to Bigziel\"\n",
    "# index must be in range\n",
    "my_string[15] "
   ]
  },
  {
   "cell_type": "code",
   "execution_count": 3,
   "metadata": {},
   "outputs": [
    {
     "ename": "TypeError",
     "evalue": "string indices must be integers",
     "output_type": "error",
     "traceback": [
      "\u001b[0;31m---------------------------------------------------------------------------\u001b[0m",
      "\u001b[0;31mTypeError\u001b[0m                                 Traceback (most recent call last)",
      "\u001b[0;32m<ipython-input-3-0d7dda2590f7>\u001b[0m in \u001b[0;36m<module>\u001b[0;34m\u001b[0m\n\u001b[1;32m      3\u001b[0m \"\"\"\n\u001b[1;32m      4\u001b[0m \u001b[0;31m# index must be an integer\u001b[0m\u001b[0;34m\u001b[0m\u001b[0;34m\u001b[0m\u001b[0;34m\u001b[0m\u001b[0m\n\u001b[0;32m----> 5\u001b[0;31m \u001b[0mmy_string\u001b[0m\u001b[0;34m[\u001b[0m\u001b[0;36m1.5\u001b[0m\u001b[0;34m]\u001b[0m\u001b[0;34m\u001b[0m\u001b[0;34m\u001b[0m\u001b[0m\n\u001b[0m",
      "\u001b[0;31mTypeError\u001b[0m: string indices must be integers"
     ]
    }
   ],
   "source": [
    "\"\"\"\n",
    "    TypeError\n",
    "\"\"\"\n",
    "# index must be an integer\n",
    "my_string[1.5] "
   ]
  },
  {
   "cell_type": "code",
   "execution_count": 4,
   "metadata": {},
   "outputs": [
    {
     "ename": "TypeError",
     "evalue": "'str' object does not support item assignment",
     "output_type": "error",
     "traceback": [
      "\u001b[0;31m---------------------------------------------------------------------------\u001b[0m",
      "\u001b[0;31mTypeError\u001b[0m                                 Traceback (most recent call last)",
      "\u001b[0;32m<ipython-input-4-9f91d5d8e23d>\u001b[0m in \u001b[0;36m<module>\u001b[0;34m\u001b[0m\n\u001b[1;32m      9\u001b[0m \u001b[0;31m# TypeError: 'str' object does not support item assignment\u001b[0m\u001b[0;34m\u001b[0m\u001b[0;34m\u001b[0m\u001b[0;34m\u001b[0m\u001b[0m\n\u001b[1;32m     10\u001b[0m \u001b[0mmy_string\u001b[0m \u001b[0;34m=\u001b[0m \u001b[0;34m'Bigziel'\u001b[0m\u001b[0;34m\u001b[0m\u001b[0;34m\u001b[0m\u001b[0m\n\u001b[0;32m---> 11\u001b[0;31m \u001b[0mmy_string\u001b[0m\u001b[0;34m[\u001b[0m\u001b[0;36m5\u001b[0m\u001b[0;34m]\u001b[0m \u001b[0;34m=\u001b[0m \u001b[0;34m'a'\u001b[0m\u001b[0;34m\u001b[0m\u001b[0;34m\u001b[0m\u001b[0m\n\u001b[0m",
      "\u001b[0;31mTypeError\u001b[0m: 'str' object does not support item assignment"
     ]
    }
   ],
   "source": [
    "\"\"\"\n",
    "    Change or delete a string:\n",
    "    ------ -- ------ - -------\n",
    "        A string is immutable; it can’t be changed.\n",
    "        This means that elements of a string cannot be changed once it has been assigned.\n",
    "        We can simply reassign different strings to the same name.\n",
    "\"\"\"\n",
    "\n",
    "# TypeError: 'str' object does not support item assignment\n",
    "my_string = 'Bigziel'\n",
    "my_string[5] = 'a'"
   ]
  },
  {
   "cell_type": "code",
   "execution_count": 27,
   "metadata": {},
   "outputs": [
    {
     "name": "stdout",
     "output_type": "stream",
     "text": [
      "Python\n"
     ]
    }
   ],
   "source": [
    "# reassing different string\n",
    "my_string = 'Python'\n",
    "print(my_string)"
   ]
  },
  {
   "cell_type": "code",
   "execution_count": 5,
   "metadata": {},
   "outputs": [
    {
     "ename": "NameError",
     "evalue": "name 'my_string' is not defined",
     "output_type": "error",
     "traceback": [
      "\u001b[0;31m---------------------------------------------------------------------------\u001b[0m",
      "\u001b[0;31mNameError\u001b[0m                                 Traceback (most recent call last)",
      "\u001b[0;32m<ipython-input-5-58c0eb044db6>\u001b[0m in \u001b[0;36m<module>\u001b[0;34m\u001b[0m\n\u001b[1;32m      5\u001b[0m \u001b[0;31m# NameError: name 'my_string' is not defined\u001b[0m\u001b[0;34m\u001b[0m\u001b[0;34m\u001b[0m\u001b[0;34m\u001b[0m\u001b[0m\n\u001b[1;32m      6\u001b[0m \u001b[0;32mdel\u001b[0m \u001b[0mmy_string\u001b[0m\u001b[0;34m\u001b[0m\u001b[0;34m\u001b[0m\u001b[0m\n\u001b[0;32m----> 7\u001b[0;31m \u001b[0mmy_string\u001b[0m\u001b[0;34m\u001b[0m\u001b[0;34m\u001b[0m\u001b[0m\n\u001b[0m",
      "\u001b[0;31mNameError\u001b[0m: name 'my_string' is not defined"
     ]
    }
   ],
   "source": [
    "\"\"\"\n",
    "    We cannot delete or remove characters from a string. \n",
    "    But deleting the string entirely is possible using the keyword del.\n",
    "\"\"\"\n",
    "# NameError: name 'my_string' is not defined\n",
    "del my_string\n",
    "my_string"
   ]
  },
  {
   "cell_type": "code",
   "execution_count": 6,
   "metadata": {},
   "outputs": [
    {
     "ename": "NameError",
     "evalue": "name 'my_string' is not defined",
     "output_type": "error",
     "traceback": [
      "\u001b[0;31m---------------------------------------------------------------------------\u001b[0m",
      "\u001b[0;31mNameError\u001b[0m                                 Traceback (most recent call last)",
      "\u001b[0;32m<ipython-input-6-4cb00a5c00b1>\u001b[0m in \u001b[0;36m<module>\u001b[0;34m\u001b[0m\n\u001b[1;32m      1\u001b[0m \u001b[0;31m# TypeError: 'str' object doesn't support item deletion\u001b[0m\u001b[0;34m\u001b[0m\u001b[0;34m\u001b[0m\u001b[0;34m\u001b[0m\u001b[0m\n\u001b[0;32m----> 2\u001b[0;31m \u001b[0;32mdel\u001b[0m \u001b[0mmy_string\u001b[0m\u001b[0;34m[\u001b[0m\u001b[0;36m1\u001b[0m\u001b[0;34m]\u001b[0m\u001b[0;34m\u001b[0m\u001b[0;34m\u001b[0m\u001b[0m\n\u001b[0m",
      "\u001b[0;31mNameError\u001b[0m: name 'my_string' is not defined"
     ]
    }
   ],
   "source": [
    "# TypeError: 'str' object doesn't support item deletion\n",
    "del my_string[1]"
   ]
  },
  {
   "cell_type": "code",
   "execution_count": 8,
   "metadata": {},
   "outputs": [
    {
     "name": "stdout",
     "output_type": "stream",
     "text": [
      "str1 + str2 =  Hello Bigziel!\n",
      "str1 * 3 = HelloHelloHello\n"
     ]
    }
   ],
   "source": [
    "\"\"\"\n",
    "    Python String Operations:\n",
    "    ------- ------ ----------\n",
    "    There are many operations that can be performed with string which makes it one of the most used datatypes in Python.\n",
    "    \n",
    "    String Concatenation:\n",
    "    ------- -------------\n",
    "        Joining of two or more strings into a single one is called concatenation.\n",
    "\n",
    "        The + operator does this in Python. Simply writing two string literals together also concatenates them.\n",
    "\n",
    "        The * operator can be used to repeat the string for a given number of times.\n",
    "\"\"\"\n",
    "\n",
    "str1 = 'Hello'\n",
    "str2 ='Bigziel!'\n",
    "\n",
    "# using +\n",
    "print('str1 + str2 = ', str1 +\" \"+ str2)\n",
    "\n",
    "# using *\n",
    "print('str1 * 3 =', str1 * 3)\n"
   ]
  },
  {
   "cell_type": "code",
   "execution_count": 32,
   "metadata": {},
   "outputs": [
    {
     "data": {
      "text/plain": [
       "'Hello World!'"
      ]
     },
     "execution_count": 32,
     "metadata": {},
     "output_type": "execute_result"
    }
   ],
   "source": [
    "# If we want to concatenate strings in different lines, we can use parentheses.\n",
    "'Hello ''World!'"
   ]
  },
  {
   "cell_type": "code",
   "execution_count": 11,
   "metadata": {},
   "outputs": [
    {
     "name": "stdout",
     "output_type": "stream",
     "text": [
      "Hello World\n"
     ]
    }
   ],
   "source": [
    "# using parentheses\n",
    "s = ('Hello '\n",
    "    'World' )\n",
    "print(s)"
   ]
  },
  {
   "cell_type": "code",
   "execution_count": 36,
   "metadata": {
    "scrolled": true
   },
   "outputs": [
    {
     "ename": "TypeError",
     "evalue": "can only concatenate str (not \"int\") to str",
     "output_type": "error",
     "traceback": [
      "\u001b[0;31m---------------------------------------------------------------------------\u001b[0m",
      "\u001b[0;31mTypeError\u001b[0m                                 Traceback (most recent call last)",
      "\u001b[0;32m<ipython-input-36-0d092870cfeb>\u001b[0m in \u001b[0;36m<module>\u001b[0;34m\u001b[0m\n\u001b[1;32m      1\u001b[0m \u001b[0;31m# You cannot concatenate a string to a number.\u001b[0m\u001b[0;34m\u001b[0m\u001b[0;34m\u001b[0m\u001b[0;34m\u001b[0m\u001b[0m\n\u001b[0;32m----> 2\u001b[0;31m \u001b[0mprint\u001b[0m\u001b[0;34m(\u001b[0m\u001b[0;34m\"10\"\u001b[0m \u001b[0;34m+\u001b[0m \u001b[0;36m10\u001b[0m\u001b[0;34m)\u001b[0m\u001b[0;34m\u001b[0m\u001b[0;34m\u001b[0m\u001b[0m\n\u001b[0m",
      "\u001b[0;31mTypeError\u001b[0m: can only concatenate str (not \"int\") to str"
     ]
    }
   ],
   "source": [
    "# You cannot concatenate a string to a number.\n",
    "print(\"10\" + 10)"
   ]
  },
  {
   "cell_type": "code",
   "execution_count": 38,
   "metadata": {},
   "outputs": [
    {
     "name": "stdout",
     "output_type": "stream",
     "text": [
      "3 letters found\n"
     ]
    }
   ],
   "source": [
    "# Iterating Through String\n",
    "\"\"\"\n",
    "    Using for loop we can iterate through a string. Here is an example to count the number of 'l' in a string.\n",
    "\"\"\"\n",
    "count = 0\n",
    "for letter in 'Hello Bigziel':\n",
    "    if(letter == 'l'):\n",
    "        count += 1\n",
    "print(count,'letters found')"
   ]
  },
  {
   "cell_type": "code",
   "execution_count": 40,
   "metadata": {},
   "outputs": [
    {
     "name": "stdout",
     "output_type": "stream",
     "text": [
      "True\n",
      "False\n"
     ]
    }
   ],
   "source": [
    "\"\"\"\n",
    "    String Membership Test:\n",
    "    -----------------------\n",
    "        We can test if a sub string exists within a string or not, using the keyword \"in\".\n",
    "\"\"\"\n",
    "print('a' in 'program')\n",
    "print(\"bigziel\" in \"Hello Bigziel\")"
   ]
  },
  {
   "cell_type": "code",
   "execution_count": 41,
   "metadata": {},
   "outputs": [
    {
     "ename": "SyntaxError",
     "evalue": "invalid syntax (<ipython-input-41-900f1e35ecaf>, line 13)",
     "output_type": "error",
     "traceback": [
      "\u001b[0;36m  File \u001b[0;32m\"<ipython-input-41-900f1e35ecaf>\"\u001b[0;36m, line \u001b[0;32m13\u001b[0m\n\u001b[0;31m    print(\"He said, \"I'm fine.! what about you?\"\")\u001b[0m\n\u001b[0m                     ^\u001b[0m\n\u001b[0;31mSyntaxError\u001b[0m\u001b[0;31m:\u001b[0m invalid syntax\n"
     ]
    }
   ],
   "source": [
    "\"\"\"\n",
    "    Python String Formatting:\n",
    "    -------------------------\n",
    "        Escape Sequence:\n",
    "        ------ --------\n",
    "            An escape sequence starts with a backslash and is interpreted differently. \n",
    "            If we use single quote to represent a string, all the single quotes inside the string must be escaped. \n",
    "            Similar is the case with double quotes.\n",
    "            \n",
    "\"\"\"\n",
    "\n",
    "# if we want to print a text like -He said, \"i'm fine.! what about you?\"- we can neither use single quote or double quotes. \n",
    "# This will result into SyntaxError as the text itself contains both single and double quotes.\n",
    "\n",
    "print(\"He said, \"I'm fine.! what about you?\"\")\n",
    "\n",
    "print('He said, \"What's there?\"')\n"
   ]
  },
  {
   "cell_type": "code",
   "execution_count": 43,
   "metadata": {},
   "outputs": [
    {
     "name": "stdout",
     "output_type": "stream",
     "text": [
      "He said, \"i'm fine. what about you?\"\n",
      "He said, \"What's there?\"\n",
      "He said, \"What's there?\"\n"
     ]
    }
   ],
   "source": [
    "# sample for escape sequence\n",
    "\n",
    "# using triple quotes\n",
    "print('''He said, \"i'm fine. what about you?\"''')\n",
    "\n",
    "# escaping single quotes\n",
    "print('He said, \"What\\'s there?\"')\n",
    "\n",
    "# escaping double quotes\n",
    "print(\"He said, \\\"What's there?\\\"\")"
   ]
  },
  {
   "cell_type": "code",
   "execution_count": 2,
   "metadata": {},
   "outputs": [
    {
     "name": "stdout",
     "output_type": "stream",
     "text": [
      "C:\\Python32\\Lib\n",
      "This is printed\n",
      "in two lines\n",
      "This is HEX representation\n"
     ]
    }
   ],
   "source": [
    "\"\"\"\n",
    "    Task - Given an example string using the below escape sequence in string\n",
    "\"\"\"\n",
    "# Escape Sequence in Python\n",
    "#     Escape Sequence        Description\n",
    "#     \\newline               Backslash and newline ignored\n",
    "#     \\\\                     Backslash\n",
    "#     \\'                     Single quote\n",
    "#     \\\"                     Double quote\n",
    "#     \\a                     ASCII Bell\n",
    "#     \\b                     ASCII Backspace\n",
    "#     \\f                     ASCII Formfeed\n",
    "#     \\n                     ASCII Linefeed\n",
    "#     \\r                     ASCII Carriage Return\n",
    "#     \\t                     ASCII Horizontal Tab\n",
    "#     \\v                     ASCII Vertical Tab\n",
    "#     \\ooo                   Character with octal value ooo\n",
    "#     \\xHH                   Character with hexadecimal value HH\n",
    "\n",
    "\n",
    "# examples\n",
    "\n",
    "print(\"C:\\\\Python32\\\\Lib\")\n",
    "\n",
    "print(\"This is printed\\nin two lines\")\n",
    "\n",
    "print(\"This is \\x48\\x45\\x58 representation\")"
   ]
  },
  {
   "cell_type": "code",
   "execution_count": 47,
   "metadata": {},
   "outputs": [
    {
     "name": "stdout",
     "output_type": "stream",
     "text": [
      "This is a \n",
      "good example\n",
      "This is \\x61 \\ngood example\n"
     ]
    }
   ],
   "source": [
    "\"\"\"\n",
    "    Raw String to ignore escape sequence:\n",
    "    -------------------------------------\n",
    "        Sometimes we may wish to ignore the escape sequences inside a string.\n",
    "        To do this we can place r or R in front of the string.\n",
    "        This will imply that it is a raw string and any escape sequence inside it will be ignored.\n",
    "\"\"\"\n",
    "\n",
    "print(\"This is \\x61 \\ngood example\")\n",
    "\n",
    "print(r\"This is \\x61 \\ngood example\")"
   ]
  },
  {
   "cell_type": "code",
   "execution_count": 15,
   "metadata": {},
   "outputs": [
    {
     "name": "stdout",
     "output_type": "stream",
     "text": [
      "\n",
      "--- Default Order ---\n",
      "John, Bill and Sean\n",
      "\n",
      "--- Positional Order ---\n",
      "ONE, TWO and THREE\n",
      "\n",
      "--- Keyword Order ---\n",
      "Sean, Bill and John\n",
      "One third is: 0.333\n"
     ]
    }
   ],
   "source": [
    "\"\"\"\n",
    "    The format() Method for Formatting Strings:\n",
    "    -------------------------------------------\n",
    "        The format() method that is available with the string object is very versatile and powerful in \n",
    "        formatting strings. Format strings contains curly braces {} as placeholders or replacement fields \n",
    "        which gets replaced.\n",
    "\n",
    "        We can use positional arguments or keyword arguments to specify the order.\n",
    "\"\"\"\n",
    "# default(implicit) order\n",
    "default_order = \"{}, {} and {}\".format('John','Bill','Sean')\n",
    "print('\\n--- Default Order ---')\n",
    "print(default_order)\n",
    "\n",
    "# order using positional argument\n",
    "positional_order = \"{1}, {0} and {2}\".format('TWO','ONE','THREE')\n",
    "print('\\n--- Positional Order ---')\n",
    "print(positional_order)\n",
    "\n",
    "# order using keyword argument\n",
    "keyword_order = \"{s}, {b} and {j}\".format(j='John',b='Bill',s='Sean')\n",
    "print('\\n--- Keyword Order ---')\n",
    "print(keyword_order)\n",
    "\n",
    "# round off\n",
    "# 'One third is: 0.333'\n",
    "print(\"One third is: {0:.3f}\".format(1/3))\n",
    "\n"
   ]
  },
  {
   "cell_type": "code",
   "execution_count": 52,
   "metadata": {},
   "outputs": [
    {
     "name": "stdout",
     "output_type": "stream",
     "text": [
      "welcome to Bigziel\n"
     ]
    }
   ],
   "source": [
    "\"\"\"\n",
    "    f-strings:\n",
    "    ----------\n",
    "    The letter ‘f’ precedes the string, and the variables are mentioned in curly braces in their places.\n",
    "\"\"\"\n",
    "name = \"Bigziel\"\n",
    "print(f\"welcome to {name}\")"
   ]
  },
  {
   "cell_type": "code",
   "execution_count": 18,
   "metadata": {},
   "outputs": [
    {
     "name": "stdout",
     "output_type": "stream",
     "text": [
      "The value of x is 12.345679\n",
      "Welcome to Bigziel Python class\n"
     ]
    }
   ],
   "source": [
    "\"\"\"\n",
    "    Old style formatting:\n",
    "    --------------------\n",
    "    We can even format strings like the old sprintf() style used in C programming language.\n",
    "    We use the % operator to accomplish this.\n",
    "\"\"\"\n",
    "\n",
    "x = 12.3456789\n",
    "print('The value of x is %f' %x)\n",
    "#The value of x is 12.35\n",
    "\n",
    "string = \"Bigziel\"\n",
    "course = \"Python\"\n",
    "print(\"Welcome to %s %s class\" %(string,course))"
   ]
  },
  {
   "cell_type": "code",
   "execution_count": 21,
   "metadata": {},
   "outputs": [
    {
     "name": "stdout",
     "output_type": "stream",
     "text": [
      "python\n",
      "['This', 'will', 'split', 'all', 'words', 'into', 'a', 'list']\n",
      "This will join all words into a string\n",
      "8\n",
      "Brilliant New Year\n"
     ]
    }
   ],
   "source": [
    "\"\"\"\n",
    "    Common Python String Methods:\n",
    "    -----------------------------\n",
    "        There are numerous methods available with the string object.\n",
    "        The format() method that we mentioned above is one of them. \n",
    "        Some of the commonly used methods are lower(), upper(), join(), split(), find(), replace()\n",
    "\"\"\"\n",
    "print(\"PyTHoN\".lower())\n",
    "\n",
    "list_string = \"This will split all words into a list\".split()\n",
    "print(list_string)\n",
    "\n",
    "string_list = ' '.join(['This', 'will', 'join', 'all', 'words', 'into', 'a', 'string'])\n",
    "print(string_list)\n",
    "\n",
    "print('Happy New Year'.find('w'))\n",
    "\n",
    "print('Happy New Year'.replace('Happy','Brilliant'))"
   ]
  },
  {
   "cell_type": "code",
   "execution_count": 64,
   "metadata": {},
   "outputs": [
    {
     "name": "stdout",
     "output_type": "stream",
     "text": [
      "Old String:  python is Easy To LEarn.\n",
      "Capitalized String: Python is easy to learn.\n"
     ]
    }
   ],
   "source": [
    "\"\"\"\n",
    "    Python String capitalize():\n",
    "    ---------------------------\n",
    "        In Python, the capitalize() method converts first character of a string to uppercase letter and \n",
    "        lowercases all other characters\n",
    "        \n",
    "        The syntax of capitalize() is:\n",
    "\n",
    "                string.capitalize()\n",
    "        The capitalize() function doesn't take any parameter.\n",
    "\"\"\"\n",
    "\n",
    "string = \"python is Easy To LEarn.\"\n",
    "\n",
    "capitalized_string = string.capitalize()\n",
    "\n",
    "print('Old String: ', string)\n",
    "print('Capitalized String:', capitalized_string)"
   ]
  },
  {
   "cell_type": "code",
   "execution_count": 22,
   "metadata": {},
   "outputs": [
    {
     "name": "stdout",
     "output_type": "stream",
     "text": [
      "Centered String:               Python is easy to learn              \n"
     ]
    }
   ],
   "source": [
    "\"\"\"\n",
    "    String center():\n",
    "    ----------------\n",
    "        The center() method returns a string which is padded with the specified character.\n",
    "        \n",
    "        The syntax of center() method is:\n",
    "\n",
    "            string.center(width[, fillchar])\n",
    "        \n",
    "        center() Parameters\n",
    "        -------------------\n",
    "        The center() method takes two arguments:\n",
    "\n",
    "            width - length of the string with padded characters\n",
    "            fillchar (optional) - padding character\n",
    "            The fillchar argument is optional. If it's not provided, space is taken as default argument.\n",
    "        \n",
    "         Return Value:\n",
    "         -------------\n",
    "             The center() method returns a string padded with specified fillchar. \n",
    "             It doesn't modify the original string.\n",
    "\n",
    "\"\"\"\n",
    "\n",
    "string = \"Python is easy to learn\"\n",
    "\n",
    "new_string = string.center(50)\n",
    "\n",
    "print(\"Centered String: \", new_string)"
   ]
  },
  {
   "cell_type": "code",
   "execution_count": 3,
   "metadata": {},
   "outputs": [
    {
     "name": "stdout",
     "output_type": "stream",
     "text": [
      "Centered String:  ********Python is easy to learn*********\n",
      "40\n"
     ]
    }
   ],
   "source": [
    "\"\"\"\n",
    "    Example\n",
    "\"\"\"\n",
    "string = \"Python is easy to learn\"\n",
    "\n",
    "new_string = string.center(40, '*')\n",
    "\n",
    "print(\"Centered String: \", new_string)\n",
    "print(len(new_string))"
   ]
  },
  {
   "cell_type": "code",
   "execution_count": 26,
   "metadata": {},
   "outputs": [
    {
     "name": "stdout",
     "output_type": "stream",
     "text": [
      "The count is: 2\n"
     ]
    }
   ],
   "source": [
    "\"\"\"\n",
    "    Python String count():\n",
    "    ----------------------\n",
    "\n",
    "    The string count() method returns the number of occurrences of a substring in the given string.\n",
    "\n",
    "    In simple words, count() method searches the substring in the given string and returns \n",
    "    how many times the substring is present in it.\n",
    "\n",
    "    It also takes optional parameters start and end to specify the starting and ending positions in the string\n",
    "    respectively.\n",
    "\n",
    "    The syntax of count() method is:\n",
    "    --- ------ -- ------- ------ ---x\n",
    "\n",
    "        string.count(substring, start=..., end=...)\n",
    "        \n",
    "        String count() Parameters:\n",
    "        \n",
    "        count() method only requires a single parameter for execution. \n",
    "        However, it also has two optional parameters:\n",
    "\n",
    "        substring - string whose count is to be found.\n",
    "        start (Optional) - starting index within the string where search starts.\n",
    "        end (Optional) - ending index within the string where search ends.\n",
    "        Note: Index in Python starts from 0, not 1.\n",
    "\n",
    "    Return value from String count():\n",
    "    ------ ----- ----- ------ -------\n",
    "\n",
    "        count() method returns the number of occurrences of the substring in the given string.\n",
    "\"\"\"\n",
    "\n",
    "# define string\n",
    "string = \"Python is awesome, isn't it?\"\n",
    "substring = \"is\"\n",
    "\n",
    "count = string.count(substring)\n",
    "\n",
    "# print count\n",
    "print(\"The count is:\", count)"
   ]
  },
  {
   "cell_type": "code",
   "execution_count": 72,
   "metadata": {},
   "outputs": [
    {
     "name": "stdout",
     "output_type": "stream",
     "text": [
      "The count is: 1\n"
     ]
    }
   ],
   "source": [
    "\"\"\"\n",
    "    Example : Count number of occurrences of a given substring using start and end\n",
    "\"\"\"\n",
    "# define string\n",
    "string = \"Python is awesome, isn't it?\"\n",
    "substring = \"i\"\n",
    "\n",
    "# count after first 'i' and before the last 'i'\n",
    "count = string.count(substring, 8, 25)\n",
    "\n",
    "# print count\n",
    "print(\"The count is:\", count)"
   ]
  },
  {
   "cell_type": "code",
   "execution_count": 27,
   "metadata": {},
   "outputs": [
    {
     "name": "stdout",
     "output_type": "stream",
     "text": [
      "False\n",
      "True\n",
      "True\n"
     ]
    }
   ],
   "source": [
    "\"\"\"\n",
    "    Python String endswith():\n",
    "    -------------------------\n",
    "        The endswith() method returns True if a string ends with the specified suffix. If not, it returns False.\n",
    "\n",
    "    The syntax of endswith() is:\n",
    "    --- ------ -- ----------- --\n",
    "\n",
    "        str.endswith(suffix[, start[, end]])\n",
    "        endswith() Parameters\n",
    "        \n",
    "    The endswith() takes three parameters:\n",
    "    --- ---------- ----- ----- -----------\n",
    "\n",
    "        suffix - String or tuple of suffixes to be checked\n",
    "        start (optional) - Beginning position where suffix is to be checked within the string.\n",
    "        end (optional) - Ending position where suffix is to be checked within the string.\n",
    "        Return Value from endswith()\n",
    "    \n",
    "    The endswith() method returns a boolean.\n",
    "    --- ---------- ------ ------- -- ------\n",
    "        It returns True if strings ends with the specified suffix.\n",
    "        It returns False if string doesn't end with the specified suffix.\n",
    "\"\"\"\n",
    "\n",
    "text = \"Python is easy to learn.\"\n",
    "\n",
    "result = text.endswith('to learn')\n",
    "# returns False\n",
    "print(result)\n",
    "\n",
    "result = text.endswith('to learn.')\n",
    "# returns True\n",
    "print(result)\n",
    "\n",
    "result = text.endswith('Python is easy to learn.')\n",
    "# returns True\n",
    "print(result)"
   ]
  },
  {
   "cell_type": "code",
   "execution_count": 74,
   "metadata": {},
   "outputs": [
    {
     "name": "stdout",
     "output_type": "stream",
     "text": [
      "True\n",
      "False\n",
      "True\n"
     ]
    }
   ],
   "source": [
    "\"\"\"\n",
    "    Example : endswith() With start and end Parameters\n",
    "\"\"\"\n",
    "text = \"Python programming is easy to learn.\"\n",
    "\n",
    "# start parameter: 7\n",
    "# \"programming is easy to learn.\" string is searched\n",
    "result = text.endswith('learn.', 7)\n",
    "print(result)\n",
    "\n",
    "# Both start and end is provided\n",
    "# start: 7, end: 26\n",
    "# \"programming is easy\" string is searched\n",
    "\n",
    "result = text.endswith('is', 7, 26)\n",
    "# Returns False\n",
    "print(result)\n",
    "\n",
    "result = text.endswith('easy', 7, 26)\n",
    "# returns True\n",
    "print(result)"
   ]
  },
  {
   "cell_type": "code",
   "execution_count": 29,
   "metadata": {},
   "outputs": [
    {
     "name": "stdout",
     "output_type": "stream",
     "text": [
      "False\n",
      "False\n",
      "True\n"
     ]
    }
   ],
   "source": [
    "\"\"\"\n",
    "    Passing Tuple to endswith() :\n",
    "    ------- ----- -- ----------\n",
    "        It's possible to pass a tuple suffixes to the endswith() method in Python.\n",
    "\n",
    "        If the string ends with any item of the tuple, endswith() returns True. If not, it returns False\n",
    "\"\"\"\n",
    "text = \"programming is easy\"\n",
    "result = text.endswith(('programming', 'python'))\n",
    "\n",
    "# prints False\n",
    "print(result)\n",
    "\n",
    "result = text.endswith(('python', 'easy', 'java'))\n",
    "\n",
    "#prints True\n",
    "print(result)\n",
    "\n",
    "# With start and end parameter\n",
    "# 'programming is' string is checked\n",
    "result = text.endswith(('is', 'an'), 0, 14)\n",
    "\n",
    "# prints True\n",
    "print(result)"
   ]
  },
  {
   "cell_type": "code",
   "execution_count": 4,
   "metadata": {},
   "outputs": [
    {
     "name": "stdout",
     "output_type": "stream",
     "text": [
      "ok\n",
      "4\n",
      "2\n"
     ]
    }
   ],
   "source": [
    "\"\"\"\n",
    "    len():\n",
    "    ------\n",
    "    The len() function returns the length of a string.\n",
    "\"\"\"\n",
    "a='book'\n",
    "print(len(a))\n",
    "\n",
    "# You can also use it to find how long a slice of the string is.\n",
    "print(len(a[2:]))"
   ]
  },
  {
   "cell_type": "code",
   "execution_count": 30,
   "metadata": {},
   "outputs": [
    {
     "name": "stdout",
     "output_type": "stream",
     "text": [
      "(2+3j)\n",
      "['red', 'green', 'blue']\n"
     ]
    }
   ],
   "source": [
    "\"\"\"\n",
    "    str():\n",
    "    -----\n",
    "    This function converts any data type into a string.\n",
    "\"\"\"\n",
    "print(str(2+3j))\n",
    "print(str(['red','green','blue']))"
   ]
  },
  {
   "cell_type": "code",
   "execution_count": 31,
   "metadata": {},
   "outputs": [
    {
     "name": "stdout",
     "output_type": "stream",
     "text": [
      "book\n",
      "BOOK\n"
     ]
    }
   ],
   "source": [
    "\"\"\"\n",
    "    lower() and upper():\n",
    "    --------------------\n",
    "    These methods return the string in lowercase and uppercase, respectively.\n",
    "\"\"\"\n",
    "\n",
    "a='Book'\n",
    "print(a.lower())\n",
    "\n",
    "print(a.upper())"
   ]
  },
  {
   "cell_type": "code",
   "execution_count": 35,
   "metadata": {},
   "outputs": [
    {
     "data": {
      "text/plain": [
       "'Book'"
      ]
     },
     "execution_count": 35,
     "metadata": {},
     "output_type": "execute_result"
    }
   ],
   "source": [
    "\"\"\"\n",
    "    strip():\n",
    "    -------\n",
    "    It removes whitespaces from the beginning and end of the string.\n",
    "\"\"\"\n",
    "a='  Book       '\n",
    "a.strip()"
   ]
  },
  {
   "cell_type": "code",
   "execution_count": 8,
   "metadata": {},
   "outputs": [
    {
     "name": "stdout",
     "output_type": "stream",
     "text": [
      "True\n",
      "False\n"
     ]
    }
   ],
   "source": [
    "\"\"\"\n",
    "    isdigit():\n",
    "    --------\n",
    "    Returns True if all characters in a string are digits.\n",
    "\"\"\"\n",
    "a='777'\n",
    "print(a.isdigit())\n",
    "\n",
    "a='77a'\n",
    "print(a.isdigit())"
   ]
  },
  {
   "cell_type": "code",
   "execution_count": null,
   "metadata": {},
   "outputs": [],
   "source": [
    "\"\"\"\"\"\"The isalnum() method returns True if all the characters are alphanumeric, meaning alphabet letter (a-z) and numbers (0-9).\n",
    "\n",
    "Example of characters that are not alphanumeric: (space)!#%&? etc."
   ]
  },
  {
   "cell_type": "code",
   "execution_count": 9,
   "metadata": {},
   "outputs": [
    {
     "name": "stdout",
     "output_type": "stream",
     "text": [
      "True\n",
      "False\n"
     ]
    }
   ],
   "source": [
    "\"\"\"\n",
    "    isalpha():\n",
    "    ----------\n",
    "    Returns True if all characters in a string are characters from an alphabet.\n",
    "\"\"\"\n",
    "a='abc'\n",
    "print(a.isalpha())\n",
    "\n",
    "a='ab7'\n",
    "print(a.isalpha())"
   ]
  },
  {
   "cell_type": "code",
   "execution_count": 11,
   "metadata": {},
   "outputs": [
    {
     "name": "stdout",
     "output_type": "stream",
     "text": [
      "True\n",
      "False\n"
     ]
    }
   ],
   "source": [
    "\"\"\"\n",
    "    isspace():\n",
    "    ----------\n",
    "    Returns True if all characters in a string are spaces. \n",
    "\"\"\"\n",
    "a='   '\n",
    "print(a.isspace())\n",
    "\n",
    "\n",
    "a=' \\'  '\n",
    "print(a.isspace())"
   ]
  },
  {
   "cell_type": "code",
   "execution_count": 13,
   "metadata": {},
   "outputs": [
    {
     "name": "stdout",
     "output_type": "stream",
     "text": [
      "True\n",
      "False\n"
     ]
    }
   ],
   "source": [
    "\"\"\"\n",
    "    startswith():\n",
    "    -------------\n",
    "    It takes a string as an argument, and returns True is the string it is applied on begins with the string \n",
    "    in the argument.\n",
    "\"\"\"\n",
    "a = 'unhappy'\n",
    "print(a.startswith('un'))\n",
    "\n",
    "a = \"happy\"\n",
    "print(a.startswith('un'))"
   ]
  },
  {
   "cell_type": "code",
   "execution_count": 14,
   "metadata": {},
   "outputs": [
    {
     "name": "stdout",
     "output_type": "stream",
     "text": [
      "True\n"
     ]
    }
   ],
   "source": [
    "\"\"\"\n",
    "    endswith():\n",
    "    -----------\n",
    "    It takes a string as an argument, and returns True if the string it is applied on ends with the \n",
    "    string in the argument.\n",
    "\"\"\"\n",
    "a='therefore'\n",
    "print(a.endswith('fore'))"
   ]
  },
  {
   "cell_type": "code",
   "execution_count": 15,
   "metadata": {},
   "outputs": [
    {
     "name": "stdout",
     "output_type": "stream",
     "text": [
      "2\n",
      "-1\n"
     ]
    }
   ],
   "source": [
    "\"\"\"\n",
    "    find():\n",
    "    -------\n",
    "    It takes an argument and searches for it in the string on which it is applied. \n",
    "    It then returns the index of the substring.\n",
    "\n",
    "    If the string doesn’t exist in the main string, then the index it returns is 1.\n",
    "\n",
    "\"\"\"\n",
    "\n",
    "print('homeowner'.find('meow'))\n",
    "\n",
    "print('homeowner'.find('wow'))"
   ]
  },
  {
   "cell_type": "code",
   "execution_count": 16,
   "metadata": {},
   "outputs": [
    {
     "name": "stdout",
     "output_type": "stream",
     "text": [
      "True\n",
      "True\n",
      "True\n"
     ]
    }
   ],
   "source": [
    "\"\"\"\n",
    "    Comparison:\n",
    "    -----------\n",
    "    Python Strings can compare using the relational operators.\n",
    "\n",
    "\"\"\"\n",
    "\n",
    "# hey’ is lesser than ‘hi lexicographically (because i comes after e in the dictionary)\n",
    "print('hey'<'hi')\n",
    "\n",
    "a='check'\n",
    "print(a=='check')\n",
    "\n",
    "\n",
    "print('yes'!='no')\n"
   ]
  },
  {
   "cell_type": "code",
   "execution_count": 17,
   "metadata": {},
   "outputs": [
    {
     "name": "stdout",
     "output_type": "stream",
     "text": [
      "banana\n"
     ]
    }
   ],
   "source": [
    "\"\"\"\n",
    "    Arithmetic:\n",
    "    -----------\n",
    "    Some arithmetic operations can be applied on strings.\n",
    "\n",
    "\"\"\"\n",
    "print('ba'+'na'*2)"
   ]
  },
  {
   "cell_type": "code",
   "execution_count": 18,
   "metadata": {},
   "outputs": [
    {
     "name": "stdout",
     "output_type": "stream",
     "text": [
      "True\n",
      "False\n"
     ]
    }
   ],
   "source": [
    "\"\"\"\n",
    "    Membership:\n",
    "    -----------\n",
    "    The membership operators of Python can be used to check if string is a substring to another.\n",
    "\"\"\"\n",
    "print('na' in 'banana')\n",
    "print('less' not in 'helpless')"
   ]
  },
  {
   "cell_type": "code",
   "execution_count": 4,
   "metadata": {},
   "outputs": [
    {
     "name": "stdout",
     "output_type": "stream",
     "text": [
      "False\n",
      "True\n"
     ]
    },
    {
     "name": "stderr",
     "output_type": "stream",
     "text": [
      "<>:6: SyntaxWarning: \"is\" with a literal. Did you mean \"==\"?\n",
      "<>:7: SyntaxWarning: \"is not\" with a literal. Did you mean \"!=\"?\n",
      "<>:6: SyntaxWarning: \"is\" with a literal. Did you mean \"==\"?\n",
      "<>:7: SyntaxWarning: \"is not\" with a literal. Did you mean \"!=\"?\n",
      "/var/folders/rx/8t9n509n7674qhwkwcyyw7q40000gn/T/ipykernel_1307/3817662766.py:6: SyntaxWarning: \"is\" with a literal. Did you mean \"==\"?\n",
      "  print('Hey' is 'Hi')\n",
      "/var/folders/rx/8t9n509n7674qhwkwcyyw7q40000gn/T/ipykernel_1307/3817662766.py:7: SyntaxWarning: \"is not\" with a literal. Did you mean \"!=\"?\n",
      "  print('Yo' is not 'yo')\n"
     ]
    }
   ],
   "source": [
    "\"\"\"\n",
    "    Identity:\n",
    "    ---------\n",
    "    Python’s identity operators ‘is’ and ‘is not’ can be used on strings.\n",
    "\"\"\"\n",
    "print('Hey' is 'Hi')\n",
    "print('Yo' is not 'yo')"
   ]
  },
  {
   "cell_type": "code",
   "execution_count": 36,
   "metadata": {},
   "outputs": [
    {
     "name": "stdout",
     "output_type": "stream",
     "text": [
      "True\n"
     ]
    }
   ],
   "source": [
    "\"\"\"\n",
    "    Logical:\n",
    "    --------\n",
    "    Python’s and, or, and not operators can be applied too. An empty string has a Boolean value of False.\n",
    "\n",
    "\"\"\"\n",
    "\n",
    "\"\"\"\n",
    "    1. and- If the value on the left is True it returns the value on the right. \n",
    "    Otherwise, the value on the left is False, it returns False.\n",
    "\"\"\"\n",
    "\n",
    "if '' and '1':\n",
    "    print(True)\n",
    "else:\n",
    "    print(False)"
   ]
  },
  {
   "cell_type": "code",
   "execution_count": 22,
   "metadata": {},
   "outputs": [
    {
     "name": "stdout",
     "output_type": "stream",
     "text": [
      "False\n",
      "True\n"
     ]
    }
   ],
   "source": [
    "\"\"\"\n",
    "2. not- As we said earlier, an empty string has a Boolean value of False.\n",
    "\"\"\"\n",
    "print(not('1'))\n",
    "print(not(''))"
   ]
  },
  {
   "cell_type": "code",
   "execution_count": 37,
   "metadata": {},
   "outputs": [
    {
     "name": "stdout",
     "output_type": "stream",
     "text": [
      "\n",
      "welcome\n"
     ]
    }
   ],
   "source": [
    "\"\"\"\n",
    "or- If the value on the left is True, it returns True. Otherwise, the value on the right is returned.\n",
    "\"\"\"\n",
    "foo = 'bar'\n",
    "print(foo and (True) or \"\")\n",
    "\n",
    "print(foo and ('') or (\"welcome\"))\n"
   ]
  },
  {
   "cell_type": "code",
   "execution_count": 44,
   "metadata": {},
   "outputs": [
    {
     "name": "stdout",
     "output_type": "stream",
     "text": [
      "<reversed object at 0x10c464e80>\n",
      "['n', 'o', 'h', 't', 'y', 'P']\n",
      "[8, 7, 6, 5]\n",
      "[5, 3, 4, 2, 1]\n"
     ]
    }
   ],
   "source": [
    "\"\"\"\n",
    "    Python reversed():\n",
    "    -----------------\n",
    "    he reversed() method takes a single parameter:\n",
    "\n",
    "    seq - sequence that should be reversed\n",
    "    Could be an object that supports sequence protocol \n",
    "    (__len__() and __getitem__() methods) as tuple, string, list or range\n",
    "    Could be an object that has implemented __reversed__()\n",
    "    \n",
    "    Return value from reversed():\n",
    "    ------ ----- ---- ----------\n",
    "        The reversed() method returns an iterator that accesses the given sequence in the reverse order.\n",
    "\n",
    "\"\"\"\n",
    "\n",
    "# for string\n",
    "seqString = 'Python'\n",
    "print(str(reversed(seqString)))\n",
    "\n",
    "# for tuple\n",
    "seqTuple = ('P', 'y', 't', 'h', 'o', 'n')\n",
    "print(list(reversed(seqTuple)))\n",
    "\n",
    "# for range\n",
    "seqRange = range(5, 9)\n",
    "print(list(reversed(seqRange)))\n",
    "\n",
    "# for list\n",
    "seqList = [1, 2, 4, 3, 5]\n",
    "print(list(reversed(seqList)))"
   ]
  },
  {
   "cell_type": "code",
   "execution_count": 1,
   "metadata": {},
   "outputs": [
    {
     "data": {
      "text/plain": [
       "'\\n    Task:\\n    1. Write a Python program to calculate the length of a string.\\n    2. Write a Python program to get a string made of the first 2 and the last 2 chars from a given a string. \\n        If the string length is less than 2, return instead of the empty string. Go to the editor\\n        Sample String : \\'Bigziel\\'\\n        Expected Result : \\'Biel\\'\\n        Sample String : \\'Bi\\'\\n        Expected Result : \\'BiBi\\'\\n        Sample String : \\' B\\'\\n        Expected Result : Empty String\\n    3. Write a program to check if the letter \\'e\\' is present in the word \\'Umbrella\\'.\\n    4. Write a program to check if the word \\'orange\\' is present in the \"This is orange juice\".\\n    5. Write a program that takes your full name as input and displays the abbreviations of the first and middle names\\n       except the last name which is displayed as it is.\\n       For example, if your name is Michale John David, then the output should be M.J.David.\\n    6. Check the occurrence of the letter \\'e\\' and the word \\'is\\' in the sentence \"This is umbrella\".\\n    7. Write a program to find the number of vowels, consonents, digits and white space characters in a string.\\n    8. Write a program to find out the largest and smallest word in the string \"This is an umbrella\".\\n    9. Write a program to check if a given string is a Palindrome.\\n        A palindrome reads same from front and back e.g.- aba, ccaacc, mom, etc.\\n    10. Write a Python program to remove the characters which have odd index values of a given string\\n    11. Write a Python script that takes input from the user and displays that input back in upper and lower cases\\n    12. Write a Python program to count Uppercase, Lowercase, special character and numeric values in a given string. \\n    13. You are given a string and your task is to swap cases. \\n        In other words, convert all lowercase letters to uppercase letters and vice versa.\\n    14. check if a String contains only digits or not\\n    15. remove duplicate characters from String.\\n        \\n        NOT NEED TO COMPLETE NOW\\n    16. Write a program that accepts sequence of lines as input and prints the lines after making all characters in the sentence capitalized.\\n            Suppose the following input is supplied to the program:\\n            Hello world\\n            Practice makes perfect\\n            Then, the output should be:\\n            HELLO WORLD\\n            PRACTICE MAKES PERFECT\\n            \\n'"
      ]
     },
     "execution_count": 1,
     "metadata": {},
     "output_type": "execute_result"
    }
   ],
   "source": [
    "\"\"\"\n",
    "    Task:\n",
    "    1. Write a Python program to calculate the length of a string.\n",
    "    2. Write a Python program to get a string made of the first 2 and the last 2 chars from a given a string. \n",
    "        If the string length is less than 2, return instead of the empty string. Go to the editor\n",
    "        Sample String : 'Bigziel'\n",
    "        Expected Result : 'Biel'\n",
    "        Sample String : 'Bi'\n",
    "        Expected Result : 'BiBi'\n",
    "        Sample String : ' B'\n",
    "        Expected Result : Empty String\n",
    "    3. Write a program to check if the letter 'e' is present in the word 'Umbrella'.\n",
    "    4. Write a program to check if the word 'orange' is present in the \"This is orange juice\".\n",
    "    5. Write a program that takes your full name as input and displays the abbreviations of the first and middle names\n",
    "       except the last name which is displayed as it is.\n",
    "       For example, if your name is Michale John David, then the output should be M.J.David.\n",
    "    6. Check the occurrence of the letter 'e' and the word 'is' in the sentence \"This is umbrella\".\n",
    "    7. Write a program to find the number of vowels, consonents, digits and white space characters in a string.\n",
    "    8. Write a program to find out the largest and smallest word in the string \"This is an umbrella\".\n",
    "    9. Write a program to check if a given string is a Palindrome.\n",
    "        A palindrome reads same from front and back e.g.- aba, ccaacc, mom, etc.\n",
    "    10. Write a Python program to remove the characters which have odd index values of a given string\n",
    "    11. Write a Python script that takes input from the user and displays that input back in upper and lower cases\n",
    "    12. Write a Python program to count Uppercase, Lowercase, special character and numeric values in a given string. \n",
    "    13. You are given a string and your task is to swap cases. \n",
    "        In other words, convert all lowercase letters to uppercase letters and vice versa.\n",
    "    14. check if a String contains only digits or not\n",
    "    15. remove duplicate characters from String.\n",
    "        \n",
    "        NOT NEED TO COMPLETE NOW\n",
    "    16. Write a program that accepts sequence of lines as input and prints the lines after making all characters in the sentence capitalized.\n",
    "            Suppose the following input is supplied to the program:\n",
    "            Hello world\n",
    "            Practice makes perfect\n",
    "            Then, the output should be:\n",
    "            HELLO WORLD\n",
    "            PRACTICE MAKES PERFECT\n",
    "            \n",
    "\"\"\""
   ]
  },
  {
   "cell_type": "code",
   "execution_count": null,
   "metadata": {},
   "outputs": [],
   "source": []
  }
 ],
 "metadata": {
  "kernelspec": {
   "display_name": "Python 3 (ipykernel)",
   "language": "python",
   "name": "python3"
  },
  "language_info": {
   "codemirror_mode": {
    "name": "ipython",
    "version": 3
   },
   "file_extension": ".py",
   "mimetype": "text/x-python",
   "name": "python",
   "nbconvert_exporter": "python",
   "pygments_lexer": "ipython3",
   "version": "3.9.7"
  }
 },
 "nbformat": 4,
 "nbformat_minor": 2
}

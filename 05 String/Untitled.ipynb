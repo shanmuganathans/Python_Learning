{
 "cells": [
  {
   "cell_type": "code",
   "execution_count": 1,
   "metadata": {},
   "outputs": [],
   "source": [
    "a = \"1223\""
   ]
  },
  {
   "cell_type": "code",
   "execution_count": 2,
   "metadata": {},
   "outputs": [],
   "source": [
    "a = \"2\"+ a"
   ]
  },
  {
   "cell_type": "code",
   "execution_count": 3,
   "metadata": {},
   "outputs": [
    {
     "name": "stdout",
     "output_type": "stream",
     "text": [
      "21223\n"
     ]
    }
   ],
   "source": [
    "print(a)"
   ]
  },
  {
   "cell_type": "code",
   "execution_count": 5,
   "metadata": {},
   "outputs": [
    {
     "data": {
      "text/plain": [
       "'213'"
      ]
     },
     "execution_count": 5,
     "metadata": {},
     "output_type": "execute_result"
    }
   ],
   "source": [
    "a[0:2]+\"3\"+a[3:0]"
   ]
  },
  {
   "cell_type": "code",
   "execution_count": 6,
   "metadata": {},
   "outputs": [
    {
     "name": "stdout",
     "output_type": "stream",
     "text": [
      "w\n",
      "e\n",
      "l\n",
      "c\n",
      "o\n",
      "m\n",
      "e\n",
      " \n",
      "a\n",
      "l\n",
      "l\n"
     ]
    }
   ],
   "source": [
    "ex = \"welcome all\"\n",
    "for i in ex:\n",
    "    print(i)"
   ]
  },
  {
   "cell_type": "code",
   "execution_count": 13,
   "metadata": {},
   "outputs": [
    {
     "ename": "SyntaxError",
     "evalue": "invalid syntax (<ipython-input-13-5c6702031631>, line 1)",
     "output_type": "error",
     "traceback": [
      "\u001b[0;36m  File \u001b[0;32m\"<ipython-input-13-5c6702031631>\"\u001b[0;36m, line \u001b[0;32m1\u001b[0m\n\u001b[0;31m    print('He said, \"What's there?\"')\u001b[0m\n\u001b[0m                          ^\u001b[0m\n\u001b[0;31mSyntaxError\u001b[0m\u001b[0;31m:\u001b[0m invalid syntax\n"
     ]
    }
   ],
   "source": [
    "print('He said, \"What's there?\"')"
   ]
  },
  {
   "cell_type": "code",
   "execution_count": 33,
   "metadata": {},
   "outputs": [
    {
     "name": "stdout",
     "output_type": "stream",
     "text": [
      "['This will split', ' all words ', 'into a list']\n"
     ]
    }
   ],
   "source": [
    "list_string = \"This will split, all words ,into a list\".split(',')\n",
    "print(list_string)"
   ]
  },
  {
   "cell_type": "code",
   "execution_count": 30,
   "metadata": {},
   "outputs": [
    {
     "name": "stdout",
     "output_type": "stream",
     "text": [
      "Input string: Python\n",
      "<reversed object at 0x10c5de0f0>\n",
      "['n', 'o', 'h', 't', 'y', 'P']\n",
      "nohtyP\n"
     ]
    }
   ],
   "source": [
    "seqString = 'Python'\n",
    "print(\"Input string:\",seqString)\n",
    "print(reversed(seqString))\n",
    "sample = list(reversed(seqString))\n",
    "print(sample)\n",
    "sample1 = ''.join(sample)\n",
    "print(sample1)"
   ]
  },
  {
   "cell_type": "code",
   "execution_count": 64,
   "metadata": {},
   "outputs": [
    {
     "name": "stdout",
     "output_type": "stream",
     "text": [
      "\n",
      "--- Keyword Order ---\n",
      "Sean, John and 2\n"
     ]
    }
   ],
   "source": [
    "# order using keyword argument\n",
    "keyword_order = \"{s}, {j} and {b}\".format(j='John',b=2,s='Sean')\n",
    "print('\\n--- Keyword Order ---')\n",
    "print(keyword_order)"
   ]
  },
  {
   "cell_type": "code",
   "execution_count": 74,
   "metadata": {},
   "outputs": [
    {
     "name": "stdout",
     "output_type": "stream",
     "text": [
      "['l', 'e', 'i', 'z', 'g', 'i', 'B']\n"
     ]
    }
   ],
   "source": [
    "name = \"Bigziel\"\n",
    "name = list(reversed(name))\n",
    "print(name)"
   ]
  },
  {
   "cell_type": "raw",
   "metadata": {},
   "source": [
    "name = \"Bigziel\"\n",
    "print(f\"welcome to {name}\")"
   ]
  }
 ],
 "metadata": {
  "kernelspec": {
   "display_name": "Python 3",
   "language": "python",
   "name": "python3"
  },
  "language_info": {
   "codemirror_mode": {
    "name": "ipython",
    "version": 3
   },
   "file_extension": ".py",
   "mimetype": "text/x-python",
   "name": "python",
   "nbconvert_exporter": "python",
   "pygments_lexer": "ipython3",
   "version": "3.7.3"
  }
 },
 "nbformat": 4,
 "nbformat_minor": 2
}

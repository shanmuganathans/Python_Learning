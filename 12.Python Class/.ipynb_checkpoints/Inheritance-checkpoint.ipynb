{
 "cells": [
  {
   "cell_type": "code",
   "execution_count": null,
   "id": "89dce16a",
   "metadata": {},
   "outputs": [],
   "source": [
    "\"\"\"\n",
    "    Inheritance\n",
    "    ===========\n",
    "        Inheritance is a way of creating a new class for using details of an existing class without modifying it. \n",
    "        The newly formed class is a derived class (or child class).\n",
    "        Similarly, the existing class is a base class (or parent class).\n",
    "\"\"\""
   ]
  },
  {
   "cell_type": "code",
   "execution_count": 1,
   "id": "6ea8157c",
   "metadata": {},
   "outputs": [
    {
     "data": {
      "text/plain": [
       "'\\nSingle Inheritance:\\nSingle inheritance is the simplest form of inheritance where a class inherits from only one superclass (parent class). In single inheritance, a subclass can have only one direct superclass.\\n'"
      ]
     },
     "execution_count": 1,
     "metadata": {},
     "output_type": "execute_result"
    }
   ],
   "source": [
    "\"\"\"\n",
    "Single Inheritance:\n",
    "Single inheritance is the simplest form of inheritance where a class inherits from only one superclass (parent class).\n",
    "In single inheritance, a subclass can have only one direct superclass.\n",
    "\"\"\""
   ]
  },
  {
   "cell_type": "code",
   "execution_count": 2,
   "id": "ef2cb534",
   "metadata": {},
   "outputs": [
    {
     "name": "stdout",
     "output_type": "stream",
     "text": [
      "Method 1 from Parent class\n",
      "Method 2 from Child class\n"
     ]
    }
   ],
   "source": [
    "class Parent:\n",
    "    def method1(self):\n",
    "        print(\"Method 1 from Parent class\")\n",
    "\n",
    "class Child(Parent):\n",
    "    def method2(self):\n",
    "        print(\"Method 2 from Child class\")\n",
    "\n",
    "child_obj = Child()\n",
    "child_obj.method1()  # Output: \"Method 1 from Parent class\"\n",
    "child_obj.method2()  # Output: \"Method 2 from Child class\""
   ]
  },
  {
   "cell_type": "code",
   "execution_count": null,
   "id": "fc98ee2f",
   "metadata": {},
   "outputs": [],
   "source": [
    "\"\"\"\n",
    "Multiple Inheritance:\n",
    "Multiple inheritance is when a class inherits from more than one superclass (parent class). \n",
    "In this type of inheritance, a subclass can have multiple direct superclasses.\n",
    "\"\"\""
   ]
  },
  {
   "cell_type": "code",
   "execution_count": null,
   "id": "45174b35",
   "metadata": {},
   "outputs": [],
   "source": [
    "class ClassA:\n",
    "    def method1(self):\n",
    "        print(\"Method 1 from ClassA\")\n",
    "\n",
    "class ClassB:\n",
    "    def method2(self):\n",
    "        print(\"Method 2 from ClassB\")\n",
    "\n",
    "class ClassC(ClassA, ClassB):\n",
    "    def method3(self):\n",
    "        print(\"Method 3 from ClassC\")\n",
    "\n",
    "obj_c = ClassC()\n",
    "obj_c.method1()  # Output: \"Method 1 from ClassA\"\n",
    "obj_c.method2()  # Output: \"Method 2 from ClassB\"\n",
    "obj_c.method3()  # Output: \"Method 3 from ClassC\"\n"
   ]
  },
  {
   "cell_type": "code",
   "execution_count": 3,
   "id": "890c9b2a",
   "metadata": {},
   "outputs": [
    {
     "data": {
      "text/plain": [
       "'\\nMultilevel Inheritance:\\nMultilevel inheritance is when a class inherits from another class, \\nwhich in turn inherits from another class. It creates a chain of inheritance.\\n'"
      ]
     },
     "execution_count": 3,
     "metadata": {},
     "output_type": "execute_result"
    }
   ],
   "source": [
    "\"\"\"\n",
    "Multilevel Inheritance:\n",
    "=======================\n",
    "Multilevel inheritance is when a class inherits from another class, \n",
    "which in turn inherits from another class. It creates a chain of inheritance.\n",
    "\"\"\"\n",
    "\n",
    "\"\"\"\n",
    "Note: Python supports multiple inheritance, but it's important to use it with care to avoid potential issues \n",
    "like the diamond problem (a problem that arises when two superclasses have a common superclass). \n",
    "It is recommended to favor composition \n",
    "over multiple inheritance in situations where complex inheritance chains can lead to code maintainability problems.\n",
    "\"\"\""
   ]
  },
  {
   "cell_type": "code",
   "execution_count": 4,
   "id": "c3e4a704",
   "metadata": {},
   "outputs": [
    {
     "name": "stdout",
     "output_type": "stream",
     "text": [
      "Method 1 from Grandparent class\n",
      "Method 2 from Parent class\n",
      "Method 3 from Child class\n"
     ]
    }
   ],
   "source": [
    "class Grandparent:\n",
    "    def method1(self):\n",
    "        print(\"Method 1 from Grandparent class\")\n",
    "\n",
    "class Parent(Grandparent):\n",
    "    def method2(self):\n",
    "        print(\"Method 2 from Parent class\")\n",
    "\n",
    "class Child(Parent):\n",
    "    def method3(self):\n",
    "        print(\"Method 3 from Child class\")\n",
    "\n",
    "child_obj = Child()\n",
    "child_obj.method1()  # Output: \"Method 1 from Grandparent class\"\n",
    "child_obj.method2()  # Output: \"Method 2 from Parent class\"\n",
    "child_obj.method3()  # Output: \"Method 3 from Child class\"\n"
   ]
  },
  {
   "cell_type": "code",
   "execution_count": null,
   "id": "45046f26",
   "metadata": {},
   "outputs": [],
   "source": [
    "\"\"\"\n",
    "In Python, the `super()` function is used to call methods from the parent class (superclass) in an\n",
    "object-oriented inheritance hierarchy. It is particularly useful when working with multiple inheritance, \n",
    "where a subclass inherits from more than one superclass, and you want to explicitly call a method from one of \n",
    "the parent classes.\n",
    "\n",
    "The `super()` function provides a way to navigate through the Method Resolution Order (MRO), \n",
    "which is the order in which Python looks up and executes methods in a class hierarchy. \n",
    "The MRO is based on the C3 linearization algorithm and is used to determine the sequence of classes to search for\n",
    "a method when it is called.\n",
    "\n",
    "Syntax:\n",
    "```python\n",
    "super([current_class[, object]])\n",
    "```\n",
    "\n",
    "- `current_class`: Optional argument. Specifies the class whose superclass is to be accessed. \n",
    "If not provided, Python will automatically use the class in which `super()` is called.\n",
    "\n",
    "- `object`: Optional argument. Specifies the object on which the method is to be called. \n",
    "If not provided, the first argument (`current_class`) is used to determine the object.\n",
    "\n",
    "The `super()` function returns a temporary object of the superclass, \n",
    "which can be used to access methods and attributes of the parent class. When a method is called through `super()`, \n",
    "Python searches for the method in the superclass following the MRO.\n",
    "\n",
    "\n",
    "\n",
    "\n",
    "In this example, the `Child` class inherits from the `Parent` class. Inside the `method` of the `Child` class, \n",
    "we use `super().method()` to call the `method` from the `Parent` class. The `super()` function allows \n",
    "us to execute the method from the parent class even though it has been overridden in the child class.\n",
    "\n",
    "Using `super()` ensures that the correct method from the superclass is called according to the MRO, \n",
    "and it is an essential tool for working with inheritance and maintaining the proper method resolution \n",
    "order in complex class hierarchies.\n",
    "\"\"\""
   ]
  },
  {
   "cell_type": "code",
   "execution_count": 12,
   "id": "a5e40b30",
   "metadata": {},
   "outputs": [
    {
     "name": "stdout",
     "output_type": "stream",
     "text": [
      "Method from Child class\n",
      "Method from Parent class\n"
     ]
    }
   ],
   "source": [
    "class Parent:\n",
    "    def method(self):\n",
    "        print(\"Method from Parent class\")\n",
    "\n",
    "class Child(Parent):\n",
    "    def method(self):\n",
    "        print(\"Method from Child class\")\n",
    "        super().method()  # Call the method from the Parent class\n",
    "\n",
    "child_obj = Child()\n",
    "child_obj.method()"
   ]
  },
  {
   "cell_type": "code",
   "execution_count": null,
   "id": "505b5149",
   "metadata": {},
   "outputs": [],
   "source": [
    "\"\"\"\n",
    "To access the __init__ method of the parent class from the child class in Python, you can use the super() function. \n",
    "The super() function allows you to call a method from the parent class in the context of the child class.\n",
    "\n",
    "Here's how you can use super() to access the __init__ method of the parent class:\n",
    "\"\"\""
   ]
  },
  {
   "cell_type": "code",
   "execution_count": null,
   "id": "edbc4c97",
   "metadata": {},
   "outputs": [],
   "source": [
    "class Parent:\n",
    "    def __init__(self, name):\n",
    "        self.name = name\n",
    "\n",
    "    def greet(self):\n",
    "        print(f\"Hello, I'm {self.name}\")\n",
    "\n",
    "class Child(Parent):\n",
    "    def __init__(self, name, age):\n",
    "        super().__init__(name)  # Call the __init__ method of the parent class\n",
    "        self.age = age\n",
    "\n",
    "    def greet(self):  # Override the greet method of the parent class\n",
    "        print(f\"Hi, I'm {self.name} and I'm {self.age} years old.\")\n",
    "\n",
    "child_obj = Child(\"Alice\", 25)\n",
    "child_obj.greet()  # Output: \"Hi, I'm Alice and I'm 25 years old.\"\n"
   ]
  },
  {
   "cell_type": "code",
   "execution_count": null,
   "id": "e9465648",
   "metadata": {},
   "outputs": [],
   "source": [
    "class Shiva():\n",
    "    \n",
    "    \"\"\"Example for Inheritance\"\"\"\n",
    "    \n",
    "    def __init__(self):\n",
    "        self.name = \"Shivan\"\n",
    "        self.age = 27\n",
    "        \n",
    "    def show_name(self):\n",
    "        print(self.name)\n",
    "        \n",
    "    def show_age(self):\n",
    "        print(self.age)\n",
    "    \n",
    "    def who_is_father(self):\n",
    "        print(self.name)"
   ]
  },
  {
   "cell_type": "code",
   "execution_count": 3,
   "id": "e27b0f44",
   "metadata": {},
   "outputs": [],
   "source": [
    "p = Shiva()"
   ]
  },
  {
   "cell_type": "code",
   "execution_count": 18,
   "id": "13b6e20f",
   "metadata": {},
   "outputs": [
    {
     "name": "stdout",
     "output_type": "stream",
     "text": [
      "Shivan\n"
     ]
    }
   ],
   "source": [
    "p.show_name()\n",
    "# p.show_age()\n",
    "# p.age\n",
    "# p.name"
   ]
  },
  {
   "cell_type": "code",
   "execution_count": 4,
   "id": "9fbed34a",
   "metadata": {},
   "outputs": [],
   "source": [
    "class Parvathy:\n",
    "    \n",
    "    def __init__(self):\n",
    "        self.mname = \"Parvathy\"\n",
    "        self.mage = \"50000\"\n",
    "    \n",
    "    def mother(self):\n",
    "        print(self.mname)"
   ]
  },
  {
   "cell_type": "code",
   "execution_count": 8,
   "id": "25100e9f",
   "metadata": {},
   "outputs": [],
   "source": [
    "class Murugan(Shiva):\n",
    "    def __init__(self):\n",
    "        super().__init__()\n",
    "        self.my_name = \"Murugan\"\n",
    "        self.my_age = 2\n",
    "    \n",
    "    def show_name(self):\n",
    "        print(\"My Name:\",self.my_name)\n",
    "        #print(\"Parent name:\",self.name)\n",
    "        print(\"Parent Name_access from class:\")\n",
    "        Shiva.show_age(self)\n",
    "    \n",
    "    def show_age(self):\n",
    "        print(\"My age:\",self.age)\n",
    "        print(\"Parent age:\",self.age)\n",
    "#         print(\"parent age(class):\")\n",
    "#         Shiva.show_age(self)"
   ]
  },
  {
   "cell_type": "code",
   "execution_count": 9,
   "id": "d69f4cd4",
   "metadata": {},
   "outputs": [],
   "source": [
    "c = Murugan()"
   ]
  },
  {
   "cell_type": "code",
   "execution_count": 10,
   "id": "204e22d5",
   "metadata": {},
   "outputs": [
    {
     "name": "stdout",
     "output_type": "stream",
     "text": [
      "My Name: Murugan\n",
      "Parent Name_access from class:\n",
      "27\n",
      "Shivan\n"
     ]
    }
   ],
   "source": [
    "c.show_name()\n",
    "c.who_is_father()"
   ]
  },
  {
   "cell_type": "code",
   "execution_count": 5,
   "id": "c9c4cef4",
   "metadata": {},
   "outputs": [
    {
     "name": "stdout",
     "output_type": "stream",
     "text": [
      "My age: 27\n",
      "Parent age: 27\n"
     ]
    }
   ],
   "source": [
    "c.show_age()"
   ]
  },
  {
   "cell_type": "code",
   "execution_count": 5,
   "id": "ccb59298",
   "metadata": {},
   "outputs": [],
   "source": [
    "class Murugan(Shiva,Parvathy):\n",
    "    def __init__(self):\n",
    "        super().__init__()\n",
    "        Parvathy.__init__(self)\n",
    "        self.my_name = \"Murugan\"\n",
    "        self.my_age = 2"
   ]
  },
  {
   "cell_type": "code",
   "execution_count": 6,
   "id": "954f561c",
   "metadata": {},
   "outputs": [
    {
     "name": "stdout",
     "output_type": "stream",
     "text": [
      "Parvathy\n"
     ]
    }
   ],
   "source": [
    "son = Murugan()\n",
    "\n",
    "son.mother()"
   ]
  },
  {
   "cell_type": "code",
   "execution_count": null,
   "id": "80bd7b3e",
   "metadata": {},
   "outputs": [],
   "source": [
    "\"\"\"\n",
    "Method Resolution Order (MRO):\n",
    "==============================\n",
    "    Method Resolution Order (MRO) is a mechanism used by Python to determine the order in which methods are \n",
    "searched for and called in a class hierarchy with multiple inheritance. When a class inherits from multiple \n",
    "base classes, Python follows a specific order to look up and execute methods, ensuring that the correct method \n",
    "is called in case of method name conflicts or overrides.\n",
    "\n",
    "The MRO is important to avoid ambiguity and to maintain consistency in method lookup. \n",
    "It is primarily used in cases of diamond inheritance, where a subclass inherits from two or more classes that have \n",
    "a common base class. In such scenarios, the MRO helps determine the order in which the methods will be executed \n",
    "to avoid redundant method calls.\n",
    "\n",
    "The MRO is calculated using the C3 linearization algorithm, which is a variation of the C3 superclass linearization \n",
    "algorithm used in Dylan programming language. The C3 algorithm produces a linearization list that preserves \n",
    "the order of base classes while eliminating repetitions.\n",
    "\n",
    "To view the MRO of a class in Python, you can use the mro() method or the __mro__ attribute.\n",
    "\"\"\""
   ]
  },
  {
   "cell_type": "code",
   "execution_count": 10,
   "id": "5a83a8b2",
   "metadata": {},
   "outputs": [
    {
     "name": "stdout",
     "output_type": "stream",
     "text": [
      "[<class '__main__.D'>, <class '__main__.B'>, <class '__main__.C'>, <class '__main__.A'>, <class 'object'>]\n",
      "B method\n"
     ]
    }
   ],
   "source": [
    "class A:\n",
    "    def method(self):\n",
    "        print(\"A method\")\n",
    "\n",
    "class B(A):\n",
    "    def method(self):\n",
    "        print(\"B method\")\n",
    "\n",
    "class C(A):\n",
    "    def method(self):\n",
    "        print(\"C method\")\n",
    "\n",
    "class D(B, C):\n",
    "    pass\n",
    "\n",
    "# Get the Method Resolution Order (MRO) of class D\n",
    "print(D.mro())\n",
    "\n",
    "obj = D()\n",
    "obj.method()"
   ]
  },
  {
   "cell_type": "code",
   "execution_count": 9,
   "id": "0d757fc7",
   "metadata": {},
   "outputs": [
    {
     "name": "stdout",
     "output_type": "stream",
     "text": [
      "B method\n"
     ]
    }
   ],
   "source": [
    "class A:\n",
    "    def method(self):\n",
    "        print(\"A method\")\n",
    "\n",
    "class B(A):\n",
    "    def method(self):\n",
    "        print(\"B method\")\n",
    "\n",
    "class C(A):\n",
    "    def method(self):\n",
    "        print(\"C method\")\n",
    "\n",
    "class D(B, C):\n",
    "    pass\n",
    "\n",
    "# Create an object of Class D\n",
    "obj_d = D()\n",
    "\n",
    "# Call the method using the object\n",
    "obj_d.method()\n"
   ]
  },
  {
   "cell_type": "code",
   "execution_count": null,
   "id": "caac508e",
   "metadata": {},
   "outputs": [],
   "source": [
    "\"\"\"\n",
    "To call all class methods of classes A, B, C, and D using the object obj_d of Class D, \n",
    "you can explicitly call each method individually. Since Class D inherits from Class B and Class C, and both Class B\n",
    "and Class C inherit from Class A, you can access and call methods from all classes in the inheritance hierarchy.\n",
    "\n",
    "\"\"\" "
   ]
  },
  {
   "cell_type": "code",
   "execution_count": 11,
   "id": "1690bcb8",
   "metadata": {},
   "outputs": [
    {
     "name": "stdout",
     "output_type": "stream",
     "text": [
      "B method\n",
      "B method\n",
      "C method\n",
      "A method\n"
     ]
    }
   ],
   "source": [
    "class A:\n",
    "    def method(self):\n",
    "        print(\"A method\")\n",
    "\n",
    "class B(A):\n",
    "    def method(self):\n",
    "        print(\"B method\")\n",
    "\n",
    "class C(A):\n",
    "    def method(self):\n",
    "        print(\"C method\")\n",
    "\n",
    "class D(B, C):\n",
    "    pass\n",
    "\n",
    "# Create an object of Class D\n",
    "obj_d = D()\n",
    "\n",
    "# Call the method from Class A\n",
    "obj_d.method()\n",
    "\n",
    "# Call the method from Class B (use super() to access Class B method explicitly)\n",
    "super(D, obj_d).method()\n",
    "\n",
    "# Call the method from Class C (use super() to access Class C method explicitly)\n",
    "super(B, obj_d).method()\n",
    "\n",
    "# Call the method from Class D (use super() to access Class D method explicitly)\n",
    "super(C, obj_d).method()\n"
   ]
  },
  {
   "cell_type": "code",
   "execution_count": null,
   "id": "a7baf6b4",
   "metadata": {},
   "outputs": [],
   "source": [
    "\"\"\"\n",
    "obj_d.method(): Calls the method from Class D. Since Class D inherits from both Class B and Class C, \n",
    "Python follows the Method Resolution Order (MRO) to decide which method to execute. \n",
    "The MRO is [D, B, C, A, object], so it executes the method from Class B, resulting in \"B method\" as the output.\n",
    "\n",
    "super(D, obj_d).method(): Calls the method from Class B explicitly using super() on Class D. This bypasses \n",
    "the MRO and directly accesses the method from Class B, resulting in \"C method\" as the output.\n",
    "\n",
    "super(B, obj_d).method(): Calls the method from Class C explicitly using super() on Class B. \n",
    "This bypasses the MRO and directly accesses the method from Class C, resulting in \"B method\" as the output.\n",
    "\n",
    "super(C, obj_d).method(): Calls the method from Class A explicitly using super() on Class C. \n",
    "This bypasses the MRO and directly accesses the method from Class A, resulting in \"A method\" as the output.\n",
    "\"\"\""
   ]
  },
  {
   "cell_type": "code",
   "execution_count": 8,
   "id": "cdc5ca10",
   "metadata": {},
   "outputs": [
    {
     "name": "stdout",
     "output_type": "stream",
     "text": [
      "A_value\n",
      "B_value\n",
      "C_value\n",
      "D_value\n"
     ]
    }
   ],
   "source": [
    "\"\"\"\n",
    "Here's an example of how to access the __init__ method of each class in a multiple inheritance hierarchy:\n",
    "\"\"\"\n",
    "class A:\n",
    "    def __init__(self, variable_a):\n",
    "        self.variable_a = variable_a\n",
    "\n",
    "class B:\n",
    "    def __init__(self, variable_b):\n",
    "        self.variable_b = variable_b\n",
    "\n",
    "class C:\n",
    "    def __init__(self, variable_c):\n",
    "        self.variable_c = variable_c\n",
    "\n",
    "class D(A, B, C):\n",
    "    def __init__(self, variable_a, variable_b, variable_c, variable_d):\n",
    "        super().__init__(variable_a)  # Call the __init__ method of class A\n",
    "        B.__init__(self, variable_b)  # Call the __init__ method of class B explicitly\n",
    "        C.__init__(self, variable_c)  # Call the __init__ method of class C explicitly\n",
    "        self.variable_d = variable_d\n",
    "\n",
    "# Create an object of Class D and pass variables to the __init__ methods of all classes\n",
    "obj_d = D(\"A_value\", \"B_value\", \"C_value\", \"D_value\")\n",
    "\n",
    "# Access the variables from each class in the object\n",
    "print(obj_d.variable_a)  # Output: \"A_value\"\n",
    "print(obj_d.variable_b)  # Output: \"B_value\"\n",
    "print(obj_d.variable_c)  # Output: \"C_value\"\n",
    "print(obj_d.variable_d)  # Output: \"D_value\"\n"
   ]
  },
  {
   "cell_type": "code",
   "execution_count": null,
   "id": "85b0a1fa",
   "metadata": {},
   "outputs": [],
   "source": [
    "class Father:\n",
    "    def __init__(self, fname, fage):\n",
    "        self.fname = fname\n",
    "        self.fage = fage\n",
    "    \n",
    "    def display_father(self):\n",
    "        print(f\"Hi,I'm {self.fname} and my age is {self.fage}\")\n",
    "\n",
    "class Mother:\n",
    "    def __init__(self, mname, mage):\n",
    "        self.mname = mname\n",
    "        self.mage = mage\n",
    "        \n",
    "    def dispaly_mother(self):\n",
    "        print(f\"Hi,I'm {self.mname} and my age is {self.mage}\")\n",
    "\n",
    "\n",
    "class Child(Father, Mother):\n",
    "    def __init__(self,name, age, fname, fage, mname, mage):\n",
    "        super().__init__(fname, fage)\n",
    "        Mother.__init__(self,mname, mage)\n",
    "        self.name = name\n",
    "        self.age = age\n",
    "        \n",
    "    def display(self):\n",
    "        print(f\"Hi,I'm {self.name} and my age is {self.age}\")\n",
    "        \n",
    "Child.mro()\n",
    "murugan = Child(\"Murugan\", \"500\", \"Shivan\", \"1000\", \"Parvathy\", \"900\")\n"
   ]
  },
  {
   "cell_type": "code",
   "execution_count": null,
   "id": "d00b0700",
   "metadata": {},
   "outputs": [],
   "source": [
    "\"\"\"Encapsulation\n",
    "\"\"\""
   ]
  },
  {
   "cell_type": "code",
   "execution_count": null,
   "id": "e9e3d61e",
   "metadata": {},
   "outputs": [],
   "source": [
    "\"\"\"\n",
    "Using OOP in Python, we can restrict access to methods and variables. \n",
    "This prevents data from direct modification which is called encapsulation. \n",
    "In Python, we denote private attributes using underscore as the prefix i.e single _ or double _\n",
    "\"\"\"\n"
   ]
  },
  {
   "cell_type": "code",
   "execution_count": 11,
   "id": "c2ac19ef",
   "metadata": {},
   "outputs": [
    {
     "name": "stdout",
     "output_type": "stream",
     "text": [
      "Selling Price: 900\n",
      "Selling Price: 900\n",
      "Selling Price: 1000\n"
     ]
    }
   ],
   "source": [
    "class Computer:\n",
    "\n",
    "    def __init__(self):\n",
    "        self.__maxprice = 900\n",
    "\n",
    "    def sell(self):\n",
    "        print(\"Selling Price: {}\".format(self.__maxprice))\n",
    "\n",
    "    def setMaxPrice(self, price):\n",
    "        self.__maxprice = price\n",
    "\n",
    "c = Computer()\n",
    "c.sell()\n",
    "\n",
    "# change the price\n",
    "c.__maxprice = 1000\n",
    "c.sell()\n",
    "\n",
    "# using setter function\n",
    "c.setMaxPrice(1000)\n",
    "c.sell()"
   ]
  },
  {
   "cell_type": "code",
   "execution_count": 9,
   "id": "7f27d4cc",
   "metadata": {},
   "outputs": [
    {
     "name": "stdout",
     "output_type": "stream",
     "text": [
      "Width: 10\n",
      "Height: 5\n",
      "Area: 50\n",
      "Updated Width: 15\n",
      "Updated Height: 7\n",
      "Updated Area: 105\n"
     ]
    }
   ],
   "source": [
    "class Rectangle:\n",
    "    def __init__(self, width, height):\n",
    "        self._width = width  # Protected attribute\n",
    "        self._height = height  # Protected attribute\n",
    "\n",
    "    # Getter method for width\n",
    "    @property\n",
    "    def width(self):\n",
    "        return self._width\n",
    "\n",
    "    # Setter method for width\n",
    "    @width.setter\n",
    "    def width(self, value):\n",
    "        if value > 0:\n",
    "            self._width = value\n",
    "\n",
    "    # Getter method for height\n",
    "    @property\n",
    "    def height(self):\n",
    "        return self._height\n",
    "\n",
    "    # Setter method for height\n",
    "    @height.setter\n",
    "    def height(self, value):\n",
    "        if value > 0:\n",
    "            self._height = value\n",
    "\n",
    "    # Getter method for area (calculated property)\n",
    "    @property\n",
    "    def area(self):\n",
    "        return self._width * self._height\n",
    "\n",
    "# Create a Rectangle object\n",
    "rect = Rectangle(10, 5)\n",
    "\n",
    "# Access the width and height using the properties\n",
    "print(\"Width:\", rect.width)  # Output: Width: 10\n",
    "print(\"Height:\", rect.height)  # Output: Height: 5\n",
    "\n",
    "# Access the area using the calculated property\n",
    "print(\"Area:\", rect.area)  # Output: Area: 50\n",
    "\n",
    "# Modify the width and height using the properties\n",
    "rect.width = 15\n",
    "rect.height = 7\n",
    "\n",
    "# Access the updated width and height\n",
    "print(\"Updated Width:\", rect.width)  # Output: Updated Width: 15\n",
    "print(\"Updated Height:\", rect.height)  # Output: Updated Height: 7\n",
    "\n",
    "# Access the updated area using the calculated property\n",
    "print(\"Updated Area:\", rect.area)  # Output: Updated Area: 105\n"
   ]
  },
  {
   "cell_type": "code",
   "execution_count": 12,
   "id": "5dad5299",
   "metadata": {},
   "outputs": [
    {
     "data": {
      "text/plain": [
       "'Polymorphism'"
      ]
     },
     "execution_count": 12,
     "metadata": {},
     "output_type": "execute_result"
    }
   ],
   "source": [
    "\"\"\"Polymorphism\"\"\""
   ]
  },
  {
   "cell_type": "code",
   "execution_count": 13,
   "id": "0809d3ff",
   "metadata": {},
   "outputs": [
    {
     "data": {
      "text/plain": [
       "'Polymorphism is an ability (in OOP) to use a common interface for multiple forms (data types).\\n\\nSuppose, we need to color a shape, there are multiple shape options (rectangle, square, circle). \\nHowever we could use the same method to color any shape. This concept is called Polymorphism.'"
      ]
     },
     "execution_count": 13,
     "metadata": {},
     "output_type": "execute_result"
    }
   ],
   "source": [
    "\"\"\"Polymorphism is an ability (in OOP) to use a common interface for multiple forms (data types).\n",
    "\n",
    "Suppose, we need to color a shape, there are multiple shape options (rectangle, square, circle). \n",
    "However we could use the same method to color any shape. This concept is called Polymorphism.\"\"\""
   ]
  },
  {
   "cell_type": "code",
   "execution_count": 14,
   "id": "6a0075b7",
   "metadata": {},
   "outputs": [
    {
     "name": "stdout",
     "output_type": "stream",
     "text": [
      "Parrot can fly\n",
      "Penguin can't fly\n"
     ]
    }
   ],
   "source": [
    "class Parrot:\n",
    "\n",
    "    def fly(self):\n",
    "        print(\"Parrot can fly\")\n",
    "    \n",
    "    def swim(self):\n",
    "        print(\"Parrot can't swim\")\n",
    "\n",
    "class Penguin:\n",
    "\n",
    "    def fly(self):\n",
    "        print(\"Penguin can't fly\")\n",
    "    \n",
    "    def swim(self):\n",
    "        print(\"Penguin can swim\")\n",
    "\n",
    "# common interface\n",
    "def flying_test(bird):\n",
    "    bird.fly()\n",
    "\n",
    "#instantiate objects\n",
    "blu = Parrot()\n",
    "peggy = Penguin()\n",
    "\n",
    "# passing the object\n",
    "flying_test(blu)\n",
    "flying_test(peggy)"
   ]
  },
  {
   "cell_type": "code",
   "execution_count": null,
   "id": "5fa56973",
   "metadata": {},
   "outputs": [],
   "source": []
  },
  {
   "cell_type": "code",
   "execution_count": null,
   "id": "4028b353",
   "metadata": {},
   "outputs": [],
   "source": []
  }
 ],
 "metadata": {
  "kernelspec": {
   "display_name": "Python 3 (ipykernel)",
   "language": "python",
   "name": "python3"
  },
  "language_info": {
   "codemirror_mode": {
    "name": "ipython",
    "version": 3
   },
   "file_extension": ".py",
   "mimetype": "text/x-python",
   "name": "python",
   "nbconvert_exporter": "python",
   "pygments_lexer": "ipython3",
   "version": "3.9.7"
  }
 },
 "nbformat": 4,
 "nbformat_minor": 5
}

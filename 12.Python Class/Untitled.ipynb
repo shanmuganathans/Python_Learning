{
 "cells": [
  {
   "cell_type": "code",
   "execution_count": 1,
   "metadata": {},
   "outputs": [],
   "source": [
    "class Test:\n",
    "    \n",
    "    def __init__(self,name,age):\n",
    "        self.name = name\n",
    "        self.age = age\n",
    "        \n",
    "    def display_name(self):\n",
    "        print(self.name)"
   ]
  },
  {
   "cell_type": "code",
   "execution_count": 2,
   "metadata": {},
   "outputs": [],
   "source": [
    "obj = Test(\"shan\", 22)"
   ]
  },
  {
   "cell_type": "code",
   "execution_count": 3,
   "metadata": {},
   "outputs": [
    {
     "data": {
      "text/plain": [
       "'shan'"
      ]
     },
     "execution_count": 3,
     "metadata": {},
     "output_type": "execute_result"
    }
   ],
   "source": [
    "obj.name\n"
   ]
  },
  {
   "cell_type": "code",
   "execution_count": 4,
   "metadata": {},
   "outputs": [
    {
     "name": "stdout",
     "output_type": "stream",
     "text": [
      "shan\n"
     ]
    }
   ],
   "source": [
    "obj.display_name()"
   ]
  },
  {
   "cell_type": "code",
   "execution_count": 8,
   "metadata": {},
   "outputs": [
    {
     "data": {
      "text/plain": [
       "<function __main__.Test.display_name(self)>"
      ]
     },
     "execution_count": 8,
     "metadata": {},
     "output_type": "execute_result"
    }
   ],
   "source": [
    "Test.display_name"
   ]
  },
  {
   "cell_type": "code",
   "execution_count": 9,
   "metadata": {},
   "outputs": [
    {
     "name": "stdout",
     "output_type": "stream",
     "text": [
      "division by zero\n"
     ]
    }
   ],
   "source": [
    "try:\n",
    "    n = 1/0\n",
    "except Exception as e:\n",
    "    print(e)"
   ]
  },
  {
   "cell_type": "code",
   "execution_count": 22,
   "metadata": {},
   "outputs": [],
   "source": [
    "def welcome_msg(func):\n",
    "    def wrapper(func):\n",
    "        print(f\"welcome.!\")\n",
    "        return func\n",
    "    return wrapper\n",
    "\n",
    "@welcome_msg\n",
    "def display(name):\n",
    "    print(name)"
   ]
  },
  {
   "cell_type": "code",
   "execution_count": 23,
   "metadata": {},
   "outputs": [
    {
     "name": "stdout",
     "output_type": "stream",
     "text": [
      "welcome.!\n"
     ]
    },
    {
     "data": {
      "text/plain": [
       "'shan'"
      ]
     },
     "execution_count": 23,
     "metadata": {},
     "output_type": "execute_result"
    }
   ],
   "source": [
    "display(\"shan\")"
   ]
  },
  {
   "cell_type": "code",
   "execution_count": 32,
   "metadata": {},
   "outputs": [],
   "source": [
    "def check_age_not_zero_negative(func):\n",
    "    def wrapper(**kwargs):\n",
    "        if kwargs.get(\"age\") <=0:\n",
    "            print(\"Not valid\")\n",
    "        else:\n",
    "            return func(**kwargs)\n",
    "    return wrapper\n",
    "\n",
    "@check_age_not_zero_negative\n",
    "def check_age(age = None):\n",
    "    print(age)\n",
    "    "
   ]
  },
  {
   "cell_type": "code",
   "execution_count": 33,
   "metadata": {},
   "outputs": [
    {
     "name": "stdout",
     "output_type": "stream",
     "text": [
      "Not valid\n"
     ]
    }
   ],
   "source": [
    "check_age(age =0)"
   ]
  },
  {
   "cell_type": "code",
   "execution_count": 34,
   "metadata": {},
   "outputs": [],
   "source": [
    "def check_age_not_zero_negative(func):\n",
    "    def wrapper(age):\n",
    "        if age <=0:\n",
    "            print(\"Not valid\")\n",
    "        else:\n",
    "            return func(age)\n",
    "    return wrapper\n",
    "\n",
    "@check_age_not_zero_negative\n",
    "def check_age(age):\n",
    "    print(age)\n",
    "    "
   ]
  },
  {
   "cell_type": "code",
   "execution_count": 35,
   "metadata": {},
   "outputs": [
    {
     "name": "stdout",
     "output_type": "stream",
     "text": [
      "Not valid\n"
     ]
    }
   ],
   "source": [
    "check_age(age =0)"
   ]
  },
  {
   "cell_type": "code",
   "execution_count": 48,
   "metadata": {},
   "outputs": [],
   "source": [
    "def check_age_not_zero_negative(func):\n",
    "    def wrapper(*args):\n",
    "        if args[0] <=0:\n",
    "            print(\"Not valid\")\n",
    "        else:\n",
    "            return func(*args)\n",
    "    return wrapper\n",
    "\n",
    "@check_age_not_zero_negative\n",
    "def check_age(age):\n",
    "    print(age)"
   ]
  },
  {
   "cell_type": "code",
   "execution_count": 47,
   "metadata": {},
   "outputs": [
    {
     "name": "stdout",
     "output_type": "stream",
     "text": [
      "Not valid\n"
     ]
    }
   ],
   "source": [
    "check_age(0)"
   ]
  },
  {
   "cell_type": "code",
   "execution_count": 49,
   "metadata": {},
   "outputs": [],
   "source": [
    "def check_age_not_zero_negative(func):\n",
    "    def wrapper(*args):\n",
    "        if args[0] <=0:\n",
    "            print(\"Not valid\")\n",
    "        else:\n",
    "            return func(*args)\n",
    "    return wrapper\n",
    "\n",
    "def msg_display(func):\n",
    "    def wrapper(func):\n",
    "        print(\"testiing age\")\n",
    "        return func\n",
    "    return wrapper\n",
    "@check_age_not_zero_negative\n",
    "@msg_display\n",
    "def check_age(age):\n",
    "    print(age)"
   ]
  },
  {
   "cell_type": "code",
   "execution_count": 50,
   "metadata": {},
   "outputs": [
    {
     "name": "stdout",
     "output_type": "stream",
     "text": [
      "testiing age\n"
     ]
    },
    {
     "data": {
      "text/plain": [
       "10"
      ]
     },
     "execution_count": 50,
     "metadata": {},
     "output_type": "execute_result"
    }
   ],
   "source": [
    "check_age(10)"
   ]
  },
  {
   "cell_type": "code",
   "execution_count": 18,
   "metadata": {},
   "outputs": [
    {
     "name": "stdout",
     "output_type": "stream",
     "text": [
      "Valid user\n",
      "20\n"
     ]
    }
   ],
   "source": [
    "def test_age(func):\n",
    "    def wrapper(age):\n",
    "        if age == 20:\n",
    "            print(\"Valid user\")\n",
    "            return func(age)\n",
    "        else:\n",
    "            print(\"Not valid user\")\n",
    "            \n",
    "    return wrapper\n",
    "\n",
    "@test_age\n",
    "def test_my_age(age):\n",
    "    print(age)\n",
    "test_my_age(20)"
   ]
  },
  {
   "cell_type": "code",
   "execution_count": null,
   "metadata": {},
   "outputs": [],
   "source": []
  },
  {
   "cell_type": "code",
   "execution_count": null,
   "metadata": {},
   "outputs": [],
   "source": []
  }
 ],
 "metadata": {
  "kernelspec": {
   "display_name": "Python 3 (ipykernel)",
   "language": "python",
   "name": "python3"
  },
  "language_info": {
   "codemirror_mode": {
    "name": "ipython",
    "version": 3
   },
   "file_extension": ".py",
   "mimetype": "text/x-python",
   "name": "python",
   "nbconvert_exporter": "python",
   "pygments_lexer": "ipython3",
   "version": "3.9.7"
  }
 },
 "nbformat": 4,
 "nbformat_minor": 2
}

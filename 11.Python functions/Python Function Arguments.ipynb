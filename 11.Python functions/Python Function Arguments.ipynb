{
 "cells": [
  {
   "cell_type": "code",
   "execution_count": null,
   "metadata": {},
   "outputs": [],
   "source": [
    "\"\"\"\n",
    "    Function Arguments:\n",
    "    ===================\n",
    "        In Python, you can define a function that takes variable number of arguments. \n",
    "        You will learn to define such functions using default, keyword and arbitrary arguments \n",
    "\"\"\""
   ]
  },
  {
   "cell_type": "code",
   "execution_count": null,
   "metadata": {},
   "outputs": [],
   "source": [
    "\"\"\"\n",
    "    Arguments:\n",
    "    ==========\n",
    "        In user-defined function topic, we learned about defining a function and calling it. Otherwise,\n",
    "        the function call will result into an error.\n",
    "\"\"\""
   ]
  },
  {
   "cell_type": "code",
   "execution_count": 3,
   "metadata": {},
   "outputs": [
    {
     "name": "stdout",
     "output_type": "stream",
     "text": [
      "Hello Monica, Good morning!\n"
     ]
    }
   ],
   "source": [
    "def greet(name,msg):\n",
    "   \"\"\"This function greets to\n",
    "   the person with the provided message\"\"\"\n",
    "   print(\"Hello\",name + ', ' + msg)\n",
    "\n",
    "greet(\"Monica\",\"Good morning!\")"
   ]
  },
  {
   "cell_type": "code",
   "execution_count": null,
   "metadata": {},
   "outputs": [],
   "source": [
    "\"\"\"\n",
    "    Here, the function greet() has two parameters.\n",
    "\n",
    "    Since, we have called this function with two arguments, it runs smoothly and we do not get any error.\n",
    "\n",
    "    If we call it with different number of arguments, the interpreter will complain. \n",
    "    Below is a call to this function with one and no arguments along with their respective error messages.\n",
    "\"\"\""
   ]
  },
  {
   "cell_type": "code",
   "execution_count": 2,
   "metadata": {},
   "outputs": [
    {
     "ename": "TypeError",
     "evalue": "greet() missing 1 required positional argument: 'msg'",
     "output_type": "error",
     "traceback": [
      "\u001b[0;31m---------------------------------------------------------------------------\u001b[0m",
      "\u001b[0;31mTypeError\u001b[0m                                 Traceback (most recent call last)",
      "\u001b[0;32m<ipython-input-2-c4428734d52c>\u001b[0m in \u001b[0;36m<module>\u001b[0;34m\u001b[0m\n\u001b[0;32m----> 1\u001b[0;31m \u001b[0mgreet\u001b[0m\u001b[0;34m(\u001b[0m\u001b[0;34m\"Monica\"\u001b[0m\u001b[0;34m)\u001b[0m    \u001b[0;31m# only one argument\u001b[0m\u001b[0;34m\u001b[0m\u001b[0;34m\u001b[0m\u001b[0m\n\u001b[0m",
      "\u001b[0;31mTypeError\u001b[0m: greet() missing 1 required positional argument: 'msg'"
     ]
    }
   ],
   "source": [
    "greet(\"Monica\")    # only one argument"
   ]
  },
  {
   "cell_type": "code",
   "execution_count": 3,
   "metadata": {},
   "outputs": [
    {
     "ename": "TypeError",
     "evalue": "greet() missing 2 required positional arguments: 'name' and 'msg'",
     "output_type": "error",
     "traceback": [
      "\u001b[0;31m---------------------------------------------------------------------------\u001b[0m",
      "\u001b[0;31mTypeError\u001b[0m                                 Traceback (most recent call last)",
      "\u001b[0;32m<ipython-input-3-76bf7a927991>\u001b[0m in \u001b[0;36m<module>\u001b[0;34m\u001b[0m\n\u001b[0;32m----> 1\u001b[0;31m \u001b[0mgreet\u001b[0m\u001b[0;34m(\u001b[0m\u001b[0;34m)\u001b[0m    \u001b[0;31m# no arguments\u001b[0m\u001b[0;34m\u001b[0m\u001b[0;34m\u001b[0m\u001b[0m\n\u001b[0m",
      "\u001b[0;31mTypeError\u001b[0m: greet() missing 2 required positional arguments: 'name' and 'msg'"
     ]
    }
   ],
   "source": [
    "greet()    # no arguments"
   ]
  },
  {
   "cell_type": "code",
   "execution_count": null,
   "metadata": {},
   "outputs": [],
   "source": [
    "\"\"\"\n",
    "    Variable Function Arguments:\n",
    "    ===========================\n",
    "        Up until now functions had fixed number of arguments. In Python there are other ways to define a function\n",
    "        which can take variable number of arguments.\n",
    "    \n",
    "        Three different forms of this type are \n",
    "            1.Python Default Arguments\n",
    "            2.Python Keyword Arguments\n",
    "            3.Python Arbitrary Arguments\n",
    "\n",
    "\"\"\""
   ]
  },
  {
   "cell_type": "code",
   "execution_count": null,
   "metadata": {},
   "outputs": [],
   "source": [
    "\"\"\"\n",
    "    Default Arguments:\n",
    "    ==================\n",
    "        Function arguments can have default values in Python.\n",
    "\n",
    "        We can provide a default value to an argument by using the assignment operator (=)\n",
    "\"\"\""
   ]
  },
  {
   "cell_type": "code",
   "execution_count": 4,
   "metadata": {},
   "outputs": [
    {
     "name": "stdout",
     "output_type": "stream",
     "text": [
      "Hello Kate, Good morning!\n",
      "Hello Bruce, How do you do?\n"
     ]
    }
   ],
   "source": [
    "# Example\n",
    "def greet(name, msg = \"Good morning!\"):\n",
    "   \"\"\"\n",
    "   This function greets to\n",
    "   the person with the\n",
    "   provided message.\n",
    "\n",
    "   If message is not provided,\n",
    "   it defaults to \"Good\n",
    "   morning!\"\n",
    "   \"\"\"\n",
    "\n",
    "   print(\"Hello\",name + ', ' + msg)\n",
    "\n",
    "greet(\"Kate\")\n",
    "greet(\"Bruce\",\"How do you do?\")"
   ]
  },
  {
   "cell_type": "code",
   "execution_count": 10,
   "metadata": {},
   "outputs": [
    {
     "data": {
      "text/plain": [
       "'\\n    In this function, the parameter name does not have a default value and is required (mandatory) during a call.\\n\\n    On the other hand, the parameter msg has a default value of \"Good morning!\". So, it is optional during a call.\\n    If a value is provided, it will overwrite the default value.\\n\\n    Any number of arguments in a function can have a default value. But once we have a default argument, \\n    all the arguments to its right must also have default values.\\n\\n    This means to say, non-default arguments cannot follow default arguments. For example, if we had defined the function header above as:\\n\\n    def greet(msg = \"Good morning!\", name):\\n    We would get an error as:\\n\\n    SyntaxError: non-default argument follows default argument\\n'"
      ]
     },
     "execution_count": 10,
     "metadata": {},
     "output_type": "execute_result"
    }
   ],
   "source": [
    "\"\"\"\n",
    "    In this function, the parameter name does not have a default value and is required (mandatory) during a call.\n",
    "\n",
    "    On the other hand, the parameter msg has a default value of \"Good morning!\". So, it is optional during a call.\n",
    "    If a value is provided, it will overwrite the default value.\n",
    "\n",
    "    Any number of arguments in a function can have a default value. But once we have a default argument, \n",
    "    all the arguments to its right must also have default values.\n",
    "\n",
    "    This means to say, non-default arguments cannot follow default arguments. For example, \n",
    "    if we had defined the function header above as:\n",
    "\n",
    "\"\"\""
   ]
  },
  {
   "cell_type": "code",
   "execution_count": 11,
   "metadata": {},
   "outputs": [
    {
     "ename": "SyntaxError",
     "evalue": "non-default argument follows default argument (<ipython-input-11-352712e76f60>, line 8)",
     "output_type": "error",
     "traceback": [
      "\u001b[0;36m  File \u001b[0;32m\"<ipython-input-11-352712e76f60>\"\u001b[0;36m, line \u001b[0;32m8\u001b[0m\n\u001b[0;31m    def greet(msg = \"Good morning!\", name):\u001b[0m\n\u001b[0m             ^\u001b[0m\n\u001b[0;31mSyntaxError\u001b[0m\u001b[0;31m:\u001b[0m non-default argument follows default argument\n"
     ]
    }
   ],
   "source": [
    "\"\"\"\n",
    "def greet(msg = \"Good morning!\", name):\n",
    "    We would get an error as:\n",
    "\n",
    "    SyntaxError: non-default argument follows default argument\n",
    "\"\"\"\n",
    "# Example\n",
    "def greet(msg = \"Good morning!\", name):\n",
    "   \"\"\"\n",
    "   This function greets to\n",
    "   the person with the\n",
    "   provided message.\n",
    "\n",
    "   If message is not provided,\n",
    "   it defaults to \"Good\n",
    "   morning!\"\n",
    "   \"\"\"\n",
    "\n",
    "   print(\"Hello\",name + ', ' + msg)\n",
    "\n",
    "greet(\"Kate\")\n",
    "greet(\"Bruce\",\"How do you do?\")"
   ]
  },
  {
   "cell_type": "code",
   "execution_count": null,
   "metadata": {},
   "outputs": [],
   "source": [
    "\"\"\"\n",
    "    Python Keyword Arguments:\n",
    "    =========================\n",
    "        When we call a function with some values, these values get assigned to the arguments according to their\n",
    "        position.\n",
    "\n",
    "        For example, in the function greet(), when we called it as greet(\"Bruce\",\"How do you do?\"),\n",
    "        the value \"Bruce\" gets assigned to the argument name and similarly \"How do you do?\" to msg.\n",
    "\n",
    "        Python allows functions to be called using keyword arguments. \n",
    "        When we call functions in this way, the order (position) of the arguments can be changed. \n",
    "        Following calls to the function are all valid and produce the same result.\n",
    "\"\"\""
   ]
  },
  {
   "cell_type": "code",
   "execution_count": 6,
   "metadata": {},
   "outputs": [
    {
     "name": "stdout",
     "output_type": "stream",
     "text": [
      "Hello Kate, Good morning!\n",
      "Hello Bruce, How do you do?\n"
     ]
    }
   ],
   "source": [
    "def greet(name, msg = \"Good morning!\"):\n",
    "   \"\"\"\n",
    "   This function greets to\n",
    "   the person with the\n",
    "   provided message.\n",
    "\n",
    "   If message is not provided,\n",
    "   it defaults to \"Good\n",
    "   morning!\"\n",
    "   \"\"\"\n",
    "\n",
    "   print(\"Hello\",name + ', ' + msg)\n",
    "\n",
    "greet(\"Kate\")\n",
    "greet(\"Bruce\",\"How do you do?\")"
   ]
  },
  {
   "cell_type": "code",
   "execution_count": 12,
   "metadata": {},
   "outputs": [
    {
     "name": "stdout",
     "output_type": "stream",
     "text": [
      "Hello Bruce, How do you do?\n"
     ]
    }
   ],
   "source": [
    "# 2 keyword arguments\n",
    "greet(name = \"Bruce\",msg = \"How do you do?\")"
   ]
  },
  {
   "cell_type": "code",
   "execution_count": 14,
   "metadata": {},
   "outputs": [
    {
     "name": "stdout",
     "output_type": "stream",
     "text": [
      "Hello Bruce, How do you do?\n"
     ]
    }
   ],
   "source": [
    "# 2 keyword arguments (out of order)\n",
    "greet(msg = \"How do you do?\",name = \"Bruce\") "
   ]
  },
  {
   "cell_type": "code",
   "execution_count": 15,
   "metadata": {},
   "outputs": [
    {
     "name": "stdout",
     "output_type": "stream",
     "text": [
      "Hello Bruce, How do you do?\n"
     ]
    }
   ],
   "source": [
    "# 1 positional, 1 keyword argument\n",
    "greet(\"Bruce\",msg = \"How do you do?\")"
   ]
  },
  {
   "cell_type": "code",
   "execution_count": null,
   "metadata": {},
   "outputs": [],
   "source": [
    "\"\"\"\n",
    "    As we can see, we can mix positional arguments with keyword arguments during a function call.\n",
    "    But we must keep in mind that keyword arguments must follow positional arguments.\n",
    "\n",
    "    Having a positional argument after keyword arguments will result into errors.\n",
    "    For example the function call as follows:\n",
    "\n",
    "    greet(name=\"Bruce\",\"How do you do?\")\n",
    "    Will result into error as:\n",
    "\n",
    "    SyntaxError: non-keyword arg after keyword arg\n",
    "\"\"\""
   ]
  },
  {
   "cell_type": "code",
   "execution_count": 3,
   "metadata": {},
   "outputs": [
    {
     "ename": "SyntaxError",
     "evalue": "positional argument follows keyword argument (<ipython-input-3-088a7395114b>, line 1)",
     "output_type": "error",
     "traceback": [
      "\u001b[0;36m  File \u001b[0;32m\"<ipython-input-3-088a7395114b>\"\u001b[0;36m, line \u001b[0;32m1\u001b[0m\n\u001b[0;31m    greet(name=\"Bruce\",\"How do you do?\")\u001b[0m\n\u001b[0m                      ^\u001b[0m\n\u001b[0;31mSyntaxError\u001b[0m\u001b[0;31m:\u001b[0m positional argument follows keyword argument\n"
     ]
    }
   ],
   "source": [
    "greet(name=\"Bruce\",\"How do you do?\")"
   ]
  },
  {
   "cell_type": "code",
   "execution_count": 5,
   "metadata": {},
   "outputs": [
    {
     "data": {
      "text/plain": [
       "'\\n    Python Arbitrary Arguments:\\n    ==========================\\n        Sometimes, we do not know in advance the number of arguments that will be passed into a function.\\n        Python allows us to handle this kind of situation through function calls with arbitrary number of arguments.\\n\\n        In the function definition we use an asterisk (*) before the parameter name to denote this kind of argument.\\n'"
      ]
     },
     "execution_count": 5,
     "metadata": {},
     "output_type": "execute_result"
    }
   ],
   "source": [
    "\"\"\"\n",
    "    Python Arbitrary Arguments:\n",
    "    ==========================\n",
    "        Sometimes, we do not know in advance the number of arguments that will be passed into a function.\n",
    "        Python allows us to handle this kind of situation through function calls with arbitrary number of arguments.\n",
    "\n",
    "        In the function definition we use an asterisk (*) before the parameter name to denote this kind of argument.\n",
    "\"\"\""
   ]
  },
  {
   "cell_type": "code",
   "execution_count": 8,
   "metadata": {},
   "outputs": [
    {
     "name": "stdout",
     "output_type": "stream",
     "text": [
      "Monica\n",
      "Luke\n",
      "Steve\n",
      "John\n"
     ]
    }
   ],
   "source": [
    "# Example\n",
    "def greet(*names):\n",
    "    \"\"\"This function greets all the person in the names tuple.\"\"\"\n",
    "#     print(names)\n",
    "    for name in names:\n",
    "        print(name)\n",
    "\n",
    "greet(\"Monica\",\"Luke\",\"Steve\",\"John\")"
   ]
  },
  {
   "cell_type": "code",
   "execution_count": 7,
   "metadata": {},
   "outputs": [
    {
     "data": {
      "text/plain": [
       "'\\n    Here, we have called the function with multiple arguments. These arguments get wrapped up into a tuple\\n    before being passed into the function. Inside the function,\\n    we use a for loop to retrieve all the arguments back.\\n'"
      ]
     },
     "execution_count": 7,
     "metadata": {},
     "output_type": "execute_result"
    }
   ],
   "source": [
    "\"\"\"\n",
    "    Here, we have called the function with multiple arguments. These arguments get wrapped up into a tuple\n",
    "    before being passed into the function. Inside the function,\n",
    "    we use a for loop to retrieve all the arguments back.\n",
    "\"\"\""
   ]
  }
 ],
 "metadata": {
  "kernelspec": {
   "display_name": "Python 3 (ipykernel)",
   "language": "python",
   "name": "python3"
  },
  "language_info": {
   "codemirror_mode": {
    "name": "ipython",
    "version": 3
   },
   "file_extension": ".py",
   "mimetype": "text/x-python",
   "name": "python",
   "nbconvert_exporter": "python",
   "pygments_lexer": "ipython3",
   "version": "3.9.7"
  }
 },
 "nbformat": 4,
 "nbformat_minor": 2
}

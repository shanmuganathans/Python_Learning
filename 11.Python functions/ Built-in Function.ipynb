{
 "cells": [
  {
   "cell_type": "code",
   "execution_count": null,
   "metadata": {},
   "outputs": [],
   "source": [
    "\"\"\"\n",
    "    The Python interpreter has a number of functions that are always available for use.\n",
    "    These functions are called built-in functions. For example, print() function prints the given object to the \n",
    "    standard output device (screen) or to the text stream file.\n",
    "\n",
    "    In Python 3.6 (latest version), there are 68 built-in functions. \n",
    "\"\"\""
   ]
  },
  {
   "cell_type": "code",
   "execution_count": null,
   "metadata": {},
   "outputs": [],
   "source": [
    "\"\"\"\n",
    "Python abs():\n",
    "============\n",
    "    The abs() method returns the absolute value of the given number. If the number is a complex number, abs() \n",
    "    returns its magnitude.\n",
    "\n",
    "    The syntax of abs() method is:\n",
    "    -----------------------------\n",
    "        abs(num)\n",
    "    \n",
    "    abs() Parameters\n",
    "    -----------------\n",
    "    The abs() method takes a single argument:\n",
    "\n",
    "    num - number whose absolute value is to be returned. The number can be:\n",
    "    integer\n",
    "    floating number\n",
    "    complex number\n",
    "    \n",
    "    Return value from abs()\n",
    "    -----------------------\n",
    "    The abs() method returns the absolute value of the given number.\n",
    "\n",
    "    For integers - integer absolute value is returned\n",
    "    For floating numbers - floating absolute value is returned\n",
    "    For complex numbers - magnitude of the number is returned\n",
    "\"\"\""
   ]
  },
  {
   "cell_type": "code",
   "execution_count": 1,
   "metadata": {},
   "outputs": [
    {
     "name": "stdout",
     "output_type": "stream",
     "text": [
      "Absolute value of -20 is: 20\n",
      "Absolute value of -30.33 is: 30.33\n"
     ]
    }
   ],
   "source": [
    "# random integer\n",
    "integer = -20\n",
    "print('Absolute value of -20 is:', abs(integer))\n",
    "\n",
    "#random floating number\n",
    "floating = -30.33\n",
    "print('Absolute value of -30.33 is:', abs(floating))"
   ]
  },
  {
   "cell_type": "code",
   "execution_count": 2,
   "metadata": {},
   "outputs": [
    {
     "name": "stdout",
     "output_type": "stream",
     "text": [
      "Magnitude of 3 - 4j is: 5.0\n"
     ]
    }
   ],
   "source": [
    "complex = (3 - 4j)\n",
    "print('Magnitude of 3 - 4j is:', abs(complex))"
   ]
  },
  {
   "cell_type": "code",
   "execution_count": null,
   "metadata": {},
   "outputs": [],
   "source": [
    "\"\"\"\n",
    "    Python any():\n",
    "    ============\n",
    "        The any() method returns True if any element of an iterable is True. If not, any() returns False.\n",
    "\n",
    "    The syntax of any() is:\n",
    "    ----------------------\n",
    "    any(iterable)\n",
    "\n",
    "    any() Parameters:\n",
    "    ----------------\n",
    "    The any() method takes an iterable (list, string, dictionary etc.) in Python.\n",
    "\n",
    "    Return Value from any()\n",
    "    -----------------------\n",
    "    any() returns:\n",
    "\n",
    "    True if at least one element of an iterable is true\n",
    "    False if all elements are false or if an iterable is empty\n",
    "    \n",
    "    When                                      Return Value\n",
    "    All values are true                         True\n",
    "    All values are false                        False\n",
    "    One value is true (others are false)        True\n",
    "    One value is false (others are true)        True\n",
    "    Empty Iterable                              False\n",
    "\"\"\"\n"
   ]
  },
  {
   "cell_type": "code",
   "execution_count": 3,
   "metadata": {},
   "outputs": [
    {
     "name": "stdout",
     "output_type": "stream",
     "text": [
      "True\n",
      "False\n",
      "True\n",
      "False\n"
     ]
    }
   ],
   "source": [
    "# any() works with Python List\n",
    "l = [1, 3, 4, 0]\n",
    "print(any(l))\n",
    "\n",
    "l = [0, False]\n",
    "print(any(l))\n",
    "\n",
    "l = [0, False, 5]\n",
    "print(any(l))\n",
    "\n",
    "l = []\n",
    "print(any(l))"
   ]
  },
  {
   "cell_type": "code",
   "execution_count": 4,
   "metadata": {},
   "outputs": [
    {
     "name": "stdout",
     "output_type": "stream",
     "text": [
      "True\n",
      "True\n",
      "False\n"
     ]
    }
   ],
   "source": [
    "# any() works with Python Strings\n",
    "s = \"This is good\"\n",
    "print(any(s))\n",
    "\n",
    "# 0 is False\n",
    "# '0' is True\n",
    "s = '000'\n",
    "print(any(s))\n",
    "\n",
    "s = ''\n",
    "print(any(s))\n"
   ]
  },
  {
   "cell_type": "code",
   "execution_count": 5,
   "metadata": {},
   "outputs": [
    {
     "name": "stdout",
     "output_type": "stream",
     "text": [
      "False\n",
      "True\n",
      "False\n",
      "False\n",
      "True\n"
     ]
    }
   ],
   "source": [
    "# any() works with Python Dictionaries\n",
    "d = {0: 'False'}\n",
    "print(any(d))\n",
    "\n",
    "d = {0: 'False', 1: 'True'}\n",
    "print(any(d))\n",
    "\n",
    "d = {0: 'False', False: 0}\n",
    "print(any(d))\n",
    "\n",
    "d = {}\n",
    "print(any(d))\n",
    "\n",
    "# 0 is False\n",
    "# '0' is True\n",
    "d = {'0': 'False'}\n",
    "print(any(d))"
   ]
  },
  {
   "cell_type": "code",
   "execution_count": null,
   "metadata": {},
   "outputs": [],
   "source": [
    "\"\"\"\n",
    "    Python all():\n",
    "    =============\n",
    "        The all() method returns True when all elements in the given iterable are true. If not, it returns False.\n",
    "\n",
    "    The syntax of all() method is:\n",
    "    -----------------------------\n",
    "\n",
    "        all(iterable)\n",
    "        \n",
    "    all() Parameters:\n",
    "    ----------------\n",
    "    The all() method takes a single parameter:\n",
    "\n",
    "    iterable - any iterable (list, tuple, dictionary, etc.) which contains the elements\n",
    "    Return Value from all()\n",
    "    \n",
    "    The all() method returns:\n",
    "    ------------------------\n",
    "\n",
    "    True - If all elements in an iterable are true\n",
    "    False - If any element in an iterable is false\n",
    "    Truth table for all()\n",
    "    \n",
    "    When                                  Return Value\n",
    "    All values are true                     True\n",
    "    All values are false                    False\n",
    "    One value is true (others are false)    False\n",
    "    One value is false (others are true)    False\n",
    "    Empty Iterable                          True\n",
    "\"\"\""
   ]
  },
  {
   "cell_type": "code",
   "execution_count": 6,
   "metadata": {},
   "outputs": [
    {
     "name": "stdout",
     "output_type": "stream",
     "text": [
      "True\n",
      "False\n",
      "False\n",
      "False\n",
      "True\n"
     ]
    }
   ],
   "source": [
    "# How all() works for lists?\n",
    "# all values true\n",
    "l = [1, 3, 4, 5]\n",
    "print(all(l))\n",
    "\n",
    "# all values false\n",
    "l = [0, False]\n",
    "print(all(l))\n",
    "\n",
    "# one false value\n",
    "l = [1, 3, 4, 0]\n",
    "print(all(l))\n",
    "\n",
    "# one true value\n",
    "l = [0, False, 5]\n",
    "print(all(l))\n",
    "\n",
    "# empty iterable\n",
    "l = []\n",
    "print(all(l))"
   ]
  },
  {
   "cell_type": "code",
   "execution_count": 7,
   "metadata": {},
   "outputs": [
    {
     "name": "stdout",
     "output_type": "stream",
     "text": [
      "True\n",
      "True\n",
      "True\n"
     ]
    }
   ],
   "source": [
    "# all() works for strings\n",
    "s = \"This is good\"\n",
    "print(all(s))\n",
    "\n",
    "# 0 is False\n",
    "# '0' is True\n",
    "s = '000'\n",
    "print(all(s))\n",
    "\n",
    "s = ''\n",
    "print(all(s))"
   ]
  },
  {
   "cell_type": "code",
   "execution_count": 8,
   "metadata": {},
   "outputs": [
    {
     "name": "stdout",
     "output_type": "stream",
     "text": [
      "False\n",
      "True\n",
      "False\n",
      "True\n",
      "True\n"
     ]
    }
   ],
   "source": [
    "\"\"\"\n",
    "    In case of dictionaries, if all keys (not values) are true or the dictionary is empty, all() returns True.\n",
    "    Else, it returns false for all other cases..\n",
    "\"\"\"\n",
    "\n",
    "# all() works with Python dictionaries\n",
    "s = {0: 'False', 1: 'False'}\n",
    "print(all(s))\n",
    "\n",
    "s = {1: 'True', 2: 'True'}\n",
    "print(all(s))\n",
    "\n",
    "s = {1: 'True', False: 0}\n",
    "print(all(s))\n",
    "\n",
    "s = {}\n",
    "print(all(s))\n",
    "\n",
    "# 0 is False\n",
    "# '0' is True\n",
    "s = {'0': 'True'}\n",
    "print(all(s))"
   ]
  },
  {
   "cell_type": "code",
   "execution_count": null,
   "metadata": {},
   "outputs": [],
   "source": [
    "\"\"\"\n",
    "    Python bool():\n",
    "    ==============\n",
    "        The bool() method converts a value to Boolean (True or False) using the standard truth testing procedure.\n",
    "\n",
    "        The syntax of bool is:\n",
    "        ----------------------\n",
    "\n",
    "            bool([value])\n",
    "            bool() parameters\n",
    "            It's not mandatory to pass a value to bool(). If you do not pass a value, bool() returns False.\n",
    "\n",
    "            In general use, bool() takes a single parameter value.\n",
    "\n",
    "        Return Value from bool()\n",
    "        ------------------------\n",
    "        The bool() returns:\n",
    "\n",
    "            False if the value is omitted or false\n",
    "            True if the value is true\n",
    "\n",
    "        The following values are considered false in Python:\n",
    "        ----------------------------------------------------\n",
    "            None\n",
    "            False\n",
    "            Zero of any numeric type. For example, 0, 0.0, 0j\n",
    "            Empty sequence. For example, (), [], ''.\n",
    "            Empty mapping. For example, {}\n",
    "            objects of Classes which has __bool__() or __len()__ method which returns 0 or False\n",
    "            All other values except these values are considered true.\n",
    "\"\"\""
   ]
  },
  {
   "cell_type": "code",
   "execution_count": 9,
   "metadata": {},
   "outputs": [
    {
     "name": "stdout",
     "output_type": "stream",
     "text": [
      "[] is False\n",
      "[0] is True\n",
      "0.0 is False\n",
      "None is False\n",
      "True is True\n",
      "Easy string is True\n"
     ]
    }
   ],
   "source": [
    "# bool() works\n",
    "test = []\n",
    "print(test,'is',bool(test))\n",
    "\n",
    "test = [0]\n",
    "print(test,'is',bool(test))\n",
    "\n",
    "test = 0.0\n",
    "print(test,'is',bool(test))\n",
    "\n",
    "test = None\n",
    "print(test,'is',bool(test))\n",
    "\n",
    "test = True\n",
    "print(test,'is',bool(test))\n",
    "\n",
    "test = 'Easy string'\n",
    "print(test,'is',bool(test))"
   ]
  },
  {
   "cell_type": "code",
   "execution_count": null,
   "metadata": {},
   "outputs": [],
   "source": [
    "\"\"\"\n",
    "    Python enumerate():\n",
    "    -------------------\n",
    "        The enumerate() method adds counter to an iterable and returns it (the enumerate object).\n",
    "\n",
    "    The syntax of enumerate() is:\n",
    "    -----------------------------\n",
    "\n",
    "    enumerate(iterable, start=0)\n",
    "    enumerate() Parameters\n",
    "    \n",
    "    The enumerate() method takes two parameters:\n",
    "    --------------------------------------------\n",
    "\n",
    "    iterable - a sequence, an iterator, or objects that supports iteration\n",
    "    start (optional) - enumerate() starts counting from this number. If start is omitted, 0 is taken as start.\n",
    "    Return Value from enumerate()\n",
    "    The enumerate() method adds counter to an iterable and returns it. The returned object is a enumerate object.\n",
    "\n",
    "\n",
    "    You can convert enumerate objects to list and tuple using list() and tuple() method respectively.\n",
    "\"\"\"\n"
   ]
  },
  {
   "cell_type": "code",
   "execution_count": 10,
   "metadata": {},
   "outputs": [
    {
     "name": "stdout",
     "output_type": "stream",
     "text": [
      "<class 'enumerate'>\n",
      "[(0, 'bread'), (1, 'milk'), (2, 'butter')]\n",
      "[(10, 'bread'), (11, 'milk'), (12, 'butter')]\n"
     ]
    }
   ],
   "source": [
    "# enumerate() works in Python\n",
    "grocery = ['bread', 'milk', 'butter']\n",
    "enumerateGrocery = enumerate(grocery)\n",
    "\n",
    "print(type(enumerateGrocery))\n",
    "\n",
    "# converting to list\n",
    "print(list(enumerateGrocery))\n",
    "\n",
    "# changing the default counter\n",
    "enumerateGrocery = enumerate(grocery, 10)\n",
    "print(list(enumerateGrocery))"
   ]
  },
  {
   "cell_type": "code",
   "execution_count": 18,
   "metadata": {},
   "outputs": [
    {
     "data": {
      "text/plain": [
       "\"\\n    Python bin():\\n    =============\\n    The bin() method converts and returns the binary equivalent string of a given integer.\\n    If the parameter isn't an integer, it has to implement __index__() method to return an integer.\\n\\n    The syntax of bin() method is:\\n    -----------------------------\\n\\n    bin(num)\\n    bin() Parameters\\n    The bin() method takes a single parameter:\\n\\n    num - an integer number whose binary equivalent is to be calculated.\\n   \\n    Return value from bin()\\n    -----------------------\\n        The bin() method returns the binary string equivalent to the given integer.\\n\\n    If not specified an integer, it raises a TypeError exception highlighting the type cannot be interpreted as an integer.\\n\""
      ]
     },
     "execution_count": 18,
     "metadata": {},
     "output_type": "execute_result"
    }
   ],
   "source": [
    "\"\"\"\n",
    "    Python bin():\n",
    "    =============\n",
    "    The bin() method converts and returns the binary equivalent string of a given integer.\n",
    "    If the parameter isn't an integer, it has to implement __index__() method to return an integer.\n",
    "\n",
    "    The syntax of bin() method is:\n",
    "    -----------------------------\n",
    "\n",
    "    bin(num)\n",
    "    bin() Parameters\n",
    "    The bin() method takes a single parameter:\n",
    "\n",
    "    num - an integer number whose binary equivalent is to be calculated.\n",
    "    If not an integer, should implement __index__() method to return an integer.\n",
    "\n",
    "    Return value from bin():\n",
    "    -----------------------\n",
    "        The bin() method returns the binary string equivalent to the given integer.\n",
    "\n",
    "    If not specified an integer, it raises a TypeError exception highlighting the type cannot be interpreted as an\n",
    "    integer.\n",
    "\"\"\""
   ]
  },
  {
   "cell_type": "code",
   "execution_count": 19,
   "metadata": {},
   "outputs": [
    {
     "name": "stdout",
     "output_type": "stream",
     "text": [
      "The binary equivalent of 5 is: 0b101\n"
     ]
    }
   ],
   "source": [
    "# Convert integer to binary using bin()\n",
    "number = 5\n",
    "print('The binary equivalent of 5 is:', bin(number))"
   ]
  },
  {
   "cell_type": "code",
   "execution_count": 17,
   "metadata": {},
   "outputs": [
    {
     "ename": "TypeError",
     "evalue": "'str' object cannot be interpreted as an integer",
     "output_type": "error",
     "traceback": [
      "\u001b[0;31m---------------------------------------------------------------------------\u001b[0m",
      "\u001b[0;31mTypeError\u001b[0m                                 Traceback (most recent call last)",
      "\u001b[0;32m<ipython-input-17-f993d27ec0d1>\u001b[0m in \u001b[0;36m<module>\u001b[0;34m\u001b[0m\n\u001b[0;32m----> 1\u001b[0;31m \u001b[0mbin\u001b[0m\u001b[0;34m(\u001b[0m\u001b[0;34m'a'\u001b[0m\u001b[0;34m)\u001b[0m\u001b[0;34m\u001b[0m\u001b[0;34m\u001b[0m\u001b[0m\n\u001b[0m",
      "\u001b[0;31mTypeError\u001b[0m: 'str' object cannot be interpreted as an integer"
     ]
    }
   ],
   "source": [
    "bin('a')"
   ]
  },
  {
   "cell_type": "code",
   "execution_count": 1,
   "metadata": {},
   "outputs": [
    {
     "name": "stdout",
     "output_type": "stream",
     "text": [
      "The binary equivalent of quantity is: 0b101\n"
     ]
    }
   ],
   "source": [
    "class Quantity:\n",
    "    apple = 1\n",
    "    orange = 2\n",
    "    grapes = 2\n",
    "    \n",
    "    def __index__(self):\n",
    "        return self.apple + self.orange + self.grapes\n",
    "        \n",
    "print('The binary equivalent of quantity is:', bin(Quantity()))"
   ]
  },
  {
   "cell_type": "code",
   "execution_count": 21,
   "metadata": {},
   "outputs": [
    {
     "data": {
      "text/plain": [
       "'0b101'"
      ]
     },
     "execution_count": 21,
     "metadata": {},
     "output_type": "execute_result"
    }
   ],
   "source": [
    "bin(1+2+2)"
   ]
  },
  {
   "cell_type": "code",
   "execution_count": null,
   "metadata": {},
   "outputs": [],
   "source": []
  },
  {
   "cell_type": "code",
   "execution_count": null,
   "metadata": {},
   "outputs": [],
   "source": []
  }
 ],
 "metadata": {
  "kernelspec": {
   "display_name": "Python 3 (ipykernel)",
   "language": "python",
   "name": "python3"
  },
  "language_info": {
   "codemirror_mode": {
    "name": "ipython",
    "version": 3
   },
   "file_extension": ".py",
   "mimetype": "text/x-python",
   "name": "python",
   "nbconvert_exporter": "python",
   "pygments_lexer": "ipython3",
   "version": "3.9.7"
  }
 },
 "nbformat": 4,
 "nbformat_minor": 2
}

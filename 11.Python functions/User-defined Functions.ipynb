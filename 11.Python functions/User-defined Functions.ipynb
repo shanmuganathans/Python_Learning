{
 "cells": [
  {
   "cell_type": "code",
   "execution_count": null,
   "metadata": {},
   "outputs": [],
   "source": [
    "\"\"\"\n",
    "    user-defined functions in Python:\n",
    "    =================================\n",
    "        Functions that we define ourselves to do certain specific task are referred as user-defined functions. \n",
    "        The way in which we define and call functions in Python are already discussed.\n",
    "\n",
    "        Functions that readily come with Python are called built-in functions. \n",
    "        If we use functions written by others in the form of library, it can be termed as library functions.\n",
    "\n",
    "        All the other functions that we write on our own fall under user-defined functions. \n",
    "        So, our user-defined function could be a library function to someone else.\n",
    "\n",
    "        Advantages of user-defined functions:\n",
    "        -------------------------------------\n",
    "            User-defined functions help to decompose a large program into small segments which makes program\n",
    "            easy to understand, maintain and debug.\n",
    "            If repeated code occurs in a program. Function can be used to include those codes and execute \n",
    "            when needed by calling that function.\n",
    "            Programmars working on large project can divide the workload by making different functions.\n",
    "\"\"\""
   ]
  },
  {
   "cell_type": "code",
   "execution_count": 4,
   "metadata": {},
   "outputs": [
    {
     "name": "stdout",
     "output_type": "stream",
     "text": [
      "The sum is 11\n"
     ]
    }
   ],
   "source": [
    "# Example\n",
    "# Program to illustrate\n",
    "# the use of user-defined functions\n",
    "\n",
    "def add_numbers(x,y):\n",
    "   sum = x + y\n",
    "   return sum\n",
    "\n",
    "number1 = 5\n",
    "number2 = 6\n",
    "\n",
    "print(\"The sum is\", add_numbers(number1, number2))\n",
    "\n",
    "# In this example, print() is a built-in function in Python. "
   ]
  }
 ],
 "metadata": {
  "kernelspec": {
   "display_name": "Python 3 (ipykernel)",
   "language": "python",
   "name": "python3"
  },
  "language_info": {
   "codemirror_mode": {
    "name": "ipython",
    "version": 3
   },
   "file_extension": ".py",
   "mimetype": "text/x-python",
   "name": "python",
   "nbconvert_exporter": "python",
   "pygments_lexer": "ipython3",
   "version": "3.9.7"
  }
 },
 "nbformat": 4,
 "nbformat_minor": 2
}

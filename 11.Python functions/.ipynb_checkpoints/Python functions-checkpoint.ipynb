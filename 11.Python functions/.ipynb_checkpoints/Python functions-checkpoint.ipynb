{
 "cells": [
  {
   "cell_type": "code",
   "execution_count": null,
   "metadata": {},
   "outputs": [],
   "source": [
    "\"\"\"\n",
    "    Python Functions:\n",
    "    -----------------\n",
    "        In Python, function is a group of related statements that perform a specific task.\n",
    "\n",
    "        Functions help break our program into smaller and modular chunks. As our program grows larger and larger,\n",
    "        functions make it more organized and manageable.\n",
    "\n",
    "        Furthermore, it avoids repetition and makes code reusable.\n",
    "\n",
    "        Syntax of Function\n",
    "            def function_name(parameters):\n",
    "                \"\"\"docstring\"\"\"\n",
    "                statement(s)\n",
    "\n",
    "        Keyword \"def\" marks the start of function header.\n",
    "        A function name to uniquely identify it.\n",
    "        Function naming follows the same rules of writing identifiers in Python.\n",
    "        Parameters (arguments) through which we pass values to a function. They are optional.\n",
    "        A colon (:) to mark the end of function header.\n",
    "        Optional documentation string (docstring) to describe what the function does.\n",
    "        One or more valid python statements that make up the function body. \n",
    "        Statements must have same indentation level (usually 4 spaces).\n",
    "        An optional return statement to return a value from the function.\n",
    "\"\"\""
   ]
  },
  {
   "cell_type": "code",
   "execution_count": null,
   "metadata": {},
   "outputs": [],
   "source": [
    "\"\"\"\n",
    "    The rules for naming a function are a lot like rules for naming a variable:\n",
    "    ===========================================================================\n",
    "\n",
    "        They must start with a letter or an underscore: _.\n",
    "\n",
    "        They should be lowercase.\n",
    "\n",
    "        They can have numbers.\n",
    "\n",
    "        They can be any length (within reason), but keep them short.\n",
    "\n",
    "        They can’t be the same as a Python keyword. \n",
    "        They can have the same name as an existing function (including a built-in), but avoid this for now.\n",
    "\"\"\""
   ]
  },
  {
   "cell_type": "code",
   "execution_count": 2,
   "metadata": {},
   "outputs": [],
   "source": [
    "# Example\n",
    "\n",
    "def display_name():\n",
    "    \"\"\"\n",
    "    The function that display the name 'Sara'\n",
    "    \"\"\"\n",
    "    print(\"Sara\")\n"
   ]
  },
  {
   "cell_type": "code",
   "execution_count": 5,
   "metadata": {},
   "outputs": [
    {
     "name": "stdout",
     "output_type": "stream",
     "text": [
      "Sara\n"
     ]
    }
   ],
   "source": [
    "\"\"\"\n",
    "    Call a function in python:\n",
    "    ==========================\n",
    "        Once we have defined a function, we can call it from another function, program or even the Python prompt. \n",
    "        To call a function we simply type the function name with appropriate parameters.\n",
    "\"\"\"\n",
    "\n",
    "display_name()"
   ]
  },
  {
   "cell_type": "code",
   "execution_count": 4,
   "metadata": {},
   "outputs": [
    {
     "data": {
      "text/plain": [
       "\"\\n    The function that display the name 'Sara'\\n    \""
      ]
     },
     "execution_count": 4,
     "metadata": {},
     "output_type": "execute_result"
    }
   ],
   "source": [
    "\"\"\"\n",
    "    Docstring:\n",
    "    ==========\n",
    "        The first string after the function header is called the docstring and is short for documentation string.\n",
    "        It is used to explain in brief, what a function does.\n",
    "\n",
    "        Although optional, documentation is a good programming practice. \n",
    "        Unless you can remember what you had for dinner last week, always document your code.\n",
    "\n",
    "        we have a docstring immediately below the function header. \n",
    "        We generally use triple quotes so that docstring can extend up to multiple lines.\n",
    "        This string is available to us as __doc__ attribute of the function.\n",
    "\"\"\"\n",
    "\n",
    "# Example\n",
    "print(display_name.__doc__)"
   ]
  },
  {
   "cell_type": "code",
   "execution_count": 5,
   "metadata": {},
   "outputs": [
    {
     "data": {
      "text/plain": [
       "'\\n    The return statement:\\n    ====================\\n        The return statement is used to exit a function and go back to the place from where it was called.\\n\\n        Syntax of return:\\n        -----------------\\n            return [expression_list]\\n        \\n        This statement can contain expression which gets evaluated and the value is returned. \\n        If there is no expression in the statement or the return statement itself is not present inside a function, then the function will return the None object.\\n'"
      ]
     },
     "execution_count": 5,
     "metadata": {},
     "output_type": "execute_result"
    }
   ],
   "source": [
    "\"\"\"\n",
    "    The return statement:\n",
    "    ====================\n",
    "        The return statement is used to exit a function and go back to the place from where it was called.\n",
    "\n",
    "        Syntax of return:\n",
    "        -----------------\n",
    "            return [expression_list]\n",
    "        \n",
    "        This statement can contain expression which gets evaluated and the value is returned. \n",
    "        If there is no expression in the statement or the return statement itself is not present inside a function, \n",
    "        then the function will return the None object.\n",
    "\"\"\""
   ]
  },
  {
   "cell_type": "code",
   "execution_count": 7,
   "metadata": {},
   "outputs": [
    {
     "name": "stdout",
     "output_type": "stream",
     "text": [
      "Dhara\n"
     ]
    }
   ],
   "source": [
    "# Example\n",
    "\n",
    "def return_name():\n",
    "    \"\"\"\n",
    "        This function return name(string) as \"Dhara\"\n",
    "    \"\"\"\n",
    "    return \"Dhara\"\n",
    "\n",
    "name = return_name()\n",
    "\n",
    "print(name)"
   ]
  },
  {
   "cell_type": "code",
   "execution_count": 8,
   "metadata": {},
   "outputs": [
    {
     "name": "stdout",
     "output_type": "stream",
     "text": [
      "None\n"
     ]
    }
   ],
   "source": [
    "def return_name():\n",
    "    \"\"\"\n",
    "    Function not defined\n",
    "    \"\"\"\n",
    "    pass\n",
    "\n",
    "name = return_name()\n",
    "print(name)"
   ]
  },
  {
   "cell_type": "code",
   "execution_count": 6,
   "metadata": {},
   "outputs": [
    {
     "name": "stdout",
     "output_type": "stream",
     "text": [
      "Dhara\n"
     ]
    }
   ],
   "source": [
    "def return_name():\n",
    "    name = \"Dhara\"\n",
    "    #return(name)\n",
    "\n",
    "name = return_name()\n",
    "print(name)"
   ]
  },
  {
   "cell_type": "code",
   "execution_count": 12,
   "metadata": {},
   "outputs": [
    {
     "name": "stdout",
     "output_type": "stream",
     "text": [
      "The given number is not positive\n",
      "The given number is positive\n"
     ]
    }
   ],
   "source": [
    "# Example for retrun\n",
    "\n",
    "def check_positive_number(number):\n",
    "    \"\"\"\n",
    "    The function check that given number is positive or not\n",
    "    \"\"\"\n",
    "    if number >= 0:\n",
    "        return \"The given number is positive\"\n",
    "    else:\n",
    "        return \"The given number is not positive\"\n",
    "    \n",
    "result = check_positive_number(-1)\n",
    "print(result)\n",
    "\n",
    "result = check_positive_number(1)\n",
    "print(result)"
   ]
  },
  {
   "cell_type": "code",
   "execution_count": 14,
   "metadata": {},
   "outputs": [
    {
     "name": "stdout",
     "output_type": "stream",
     "text": [
      "Value inside function: 10\n",
      "Value outside function: 20\n"
     ]
    }
   ],
   "source": [
    "\"\"\"\n",
    "    Scope and Lifetime of variables:\n",
    "    ===============================\n",
    "        Scope of a variable is the portion of a program where the variable is recognized. \n",
    "        Parameters and variables defined inside a function is not visible from outside. \n",
    "        Hence, they have a local scope.\n",
    "\n",
    "        Lifetime of a variable is the period throughout which the variable exits in the memory. \n",
    "        The lifetime of variables inside a function is as long as the function executes.\n",
    "\n",
    "        They are destroyed once we return from the function. Hence, a function does not remember the value \n",
    "        of a variable from its previous calls.\n",
    "\n",
    "\"\"\"\n",
    "# Example to illustrate the scope of a variable inside a function\n",
    "def my_func():\n",
    "    x = 10\n",
    "    print(\"Value inside function:\",x)\n",
    "\n",
    "x = 20\n",
    "my_func()\n",
    "print(\"Value outside function:\",x)"
   ]
  },
  {
   "cell_type": "code",
   "execution_count": null,
   "metadata": {},
   "outputs": [],
   "source": [
    "\"\"\"\n",
    "    we can see that the value of x is 20 initially. Even though the function my_func() changed the value of x to 10, it did not effect the value outside the function.\n",
    "\n",
    "    This is because the variable x inside the function is different (local to the function) from the one outside. Although they have same names, they are two different variables with different scope.\n",
    "\n",
    "    On the other hand, variables outside of the function are visible from inside. They have a global scope.\n",
    "\n",
    "    We can read these values from inside the function but cannot change (write) them. In order to modify the value of variables outside the function, they must be declared as global variables using the keyword global\n",
    "\"\"\""
   ]
  },
  {
   "cell_type": "code",
   "execution_count": null,
   "metadata": {},
   "outputs": [],
   "source": [
    "\"\"\"\n",
    "    Types of Functions:\n",
    "    ==================\n",
    "        Basically, we can divide functions into the following two types:\n",
    "\n",
    "        User-defined functions - Functions defined by the users themselves.\n",
    "        Built-in functions - Functions that are built into Python\n",
    "\"\"\""
   ]
  },
  {
   "cell_type": "code",
   "execution_count": null,
   "metadata": {},
   "outputs": [],
   "source": [
    "\n",
    "\n"
   ]
  }
 ],
 "metadata": {
  "kernelspec": {
   "display_name": "Python 3",
   "language": "python",
   "name": "python3"
  },
  "language_info": {
   "codemirror_mode": {
    "name": "ipython",
    "version": 3
   },
   "file_extension": ".py",
   "mimetype": "text/x-python",
   "name": "python",
   "nbconvert_exporter": "python",
   "pygments_lexer": "ipython3",
   "version": "3.7.3"
  }
 },
 "nbformat": 4,
 "nbformat_minor": 2
}

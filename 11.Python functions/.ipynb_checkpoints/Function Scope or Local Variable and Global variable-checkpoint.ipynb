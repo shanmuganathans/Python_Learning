{
 "cells": [
  {
   "cell_type": "code",
   "execution_count": null,
   "metadata": {},
   "outputs": [],
   "source": [
    "\"\"\"\n",
    "    Function Scope[Namespace]:\n",
    "    ===============\n",
    "        Variables can only reach the area in which they are defined, which is called scope.\n",
    "        Think of it as the area of code where variables can be used. \n",
    "        Python supports global variables (usable in the entire program) and local variables.\n",
    "        By default, all variables declared in a function are local variables.\n",
    "        To access a global variable inside a function, it’s required to explicitly define ‘global variable’\n",
    "\"\"\"\n"
   ]
  },
  {
   "cell_type": "code",
   "execution_count": 1,
   "metadata": {},
   "outputs": [
    {
     "name": "stdout",
     "output_type": "stream",
     "text": [
      "3\n",
      "5\n"
     ]
    }
   ],
   "source": [
    "\"\"\"\n",
    "    The difference between defining a variable inside or outside a Python function\n",
    "\"\"\"\n",
    "# Example\n",
    "a = 5\n",
    "\n",
    "def function():\n",
    "    a = 3\n",
    "    print(a)\n",
    "\n",
    "function()\n",
    "\n",
    "print(a)"
   ]
  },
  {
   "cell_type": "code",
   "execution_count": null,
   "metadata": {},
   "outputs": [],
   "source": [
    "\"\"\"\n",
    "    If you define a variable at the top of your script, it will be a global variable. \n",
    "    This means that it is accessible from anywhere in your script, including from within a function. \n",
    "    Take a look at the following example where a is defined globally.\n",
    "\"\"\""
   ]
  },
  {
   "cell_type": "code",
   "execution_count": 2,
   "metadata": {},
   "outputs": [
    {
     "name": "stdout",
     "output_type": "stream",
     "text": [
      "5\n",
      "5\n"
     ]
    }
   ],
   "source": [
    "a = 5\n",
    "\n",
    "def function():\n",
    "    a = 3\n",
    "    print(a)\n",
    "\n",
    "function()\n",
    "\n",
    "print(a)"
   ]
  },
  {
   "cell_type": "code",
   "execution_count": 3,
   "metadata": {},
   "outputs": [
    {
     "name": "stdout",
     "output_type": "stream",
     "text": [
      "Théo\n",
      "Théo\n"
     ]
    }
   ],
   "source": [
    "\"\"\"\n",
    "    Use of Global keyword:\n",
    "    ==============\n",
    "        let's say you have an application that remembers a name, which can also be changed with a change_name() \n",
    "        function. \n",
    "        The name variable is defined globally, and locally within the function. As you can see, \n",
    "        the function fails to change the global variable.\n",
    "\"\"\"\n",
    "name = 'Théo'\n",
    "\n",
    "def change_name(new_name):\n",
    "    name = new_name\n",
    "\n",
    "print(name)    \n",
    "\n",
    "change_name('Karlijn')\n",
    "\n",
    "print(name)"
   ]
  },
  {
   "cell_type": "code",
   "execution_count": 2,
   "metadata": {},
   "outputs": [
    {
     "name": "stdout",
     "output_type": "stream",
     "text": [
      "Théo\n",
      "Karlijn\n"
     ]
    }
   ],
   "source": [
    "\"\"\"\n",
    "    The global keyword:\n",
    "    ==================\n",
    "        With global, you're telling Python to use the globally defined variable instead of locally defining it. \n",
    "        To use it, simply type global, followed by the variable name. In this case, the global variable name can \n",
    "        now be changed by change_name().\n",
    "\"\"\"\n",
    "\n",
    "name = 'Théo'\n",
    "\n",
    "def change_name(new_name):\n",
    "    global name\n",
    "    name = new_name\n",
    "\n",
    "print(name)    \n",
    "\n",
    "change_name('Karlijn')\n",
    "\n",
    "print(name)"
   ]
  },
  {
   "cell_type": "code",
   "execution_count": null,
   "metadata": {},
   "outputs": [],
   "source": [
    "\"\"\"\n",
    "    The nonlocal keyword:\n",
    "    ====================\n",
    "        The nonlocal statement is useful in nested functions. \n",
    "        It causes the variable to refer to the previously bound variable in the closest enclosing scope. \n",
    "        In other words, it will prevent the variable from trying to bind locally first,\n",
    "        and force it to go a level 'higher up'.\n",
    "\"\"\""
   ]
  },
  {
   "cell_type": "code",
   "execution_count": 4,
   "metadata": {},
   "outputs": [
    {
     "name": "stdout",
     "output_type": "stream",
     "text": [
      "from inner: c\n",
      "from outer: c\n",
      "globally: a\n"
     ]
    }
   ],
   "source": [
    "\"\"\"\n",
    "     In the first one, inner() binds x to \"c\", outer() binds it to \"b\" and x is globally defined as \"a\". \n",
    "     Depending on where the variable is accessed from, a different binding will be returned.\n",
    "\"\"\"\n",
    "# Example\n",
    "\n",
    "x = \"a\"\n",
    "def outer():\n",
    "    x = \"b\"\n",
    "    def inner():\n",
    "        x = \"c\"\n",
    "        print(\"from inner:\", x)\n",
    "    inner()\n",
    "    print(\"from outer:\", x)\n",
    "\n",
    "outer()\n",
    "print(\"globally:\", x)"
   ]
  },
  {
   "cell_type": "code",
   "execution_count": 1,
   "metadata": {},
   "outputs": [
    {
     "name": "stdout",
     "output_type": "stream",
     "text": [
      "inner: c\n",
      "outer: c\n",
      "global: a\n"
     ]
    }
   ],
   "source": [
    "\"\"\"\n",
    "    With the nonlocal keyword, you're telling python that the x in the inner() function should actually refer to the x\n",
    "    defined in the outer() function, which is one level higher. \n",
    "    As you can see from the result, x in both inner() and outer() is defined as \"c\", \n",
    "    because it could be accessed by inner().\n",
    "\"\"\"\n",
    "# Example\n",
    "x = \"a\"\n",
    "def outer():\n",
    "    x = \"b\"\n",
    "    def inner():\n",
    "        nonlocal x\n",
    "        x = \"c\"\n",
    "        print(\"inner:\", x)\n",
    "\n",
    "    inner()\n",
    "    print(\"outer:\", x)\n",
    "\n",
    "outer()\n",
    "print(\"global:\", x)"
   ]
  },
  {
   "cell_type": "code",
   "execution_count": 13,
   "metadata": {},
   "outputs": [
    {
     "name": "stdout",
     "output_type": "stream",
     "text": [
      "a\n",
      "inner: c\n",
      "outer: b\n",
      "global: c\n"
     ]
    }
   ],
   "source": [
    "\"\"\"\n",
    "    If you use global, however, the x in inner() will refer to the global variable. \n",
    "    That one will be changed, but not the one in outer(), since you're only referring to the global x.\n",
    "    You're essentially telling Python to immediately go to the global scope.\n",
    "\"\"\"\n",
    "x = \"a\"\n",
    "def outer():\n",
    "    x = \"b\"\n",
    "    def inner():\n",
    "        global x\n",
    "        print(x)\n",
    "        x = \"c\"\n",
    "        print(\"inner:\", x)\n",
    "\n",
    "    inner()\n",
    "    print(\"outer:\", x)\n",
    "\n",
    "outer()\n",
    "print(\"global:\", x)"
   ]
  },
  {
   "cell_type": "code",
   "execution_count": 49,
   "metadata": {},
   "outputs": [
    {
     "name": "stdout",
     "output_type": "stream",
     "text": [
      "100\n"
     ]
    }
   ],
   "source": [
    "\"\"\"\n",
    "    Closures in Python:\n",
    "    ===================\n",
    "        Closures are function objects that remember values in enclosing scopes, even if they are no longer present\n",
    "        in memory.\n",
    "        \n",
    "        Only applicable for nested function\n",
    "\n",
    "\"\"\"\n",
    "\n",
    "def number():\n",
    "    x = 100\n",
    "    \n",
    "    def add():\n",
    "        print(x)\n",
    "    add()\n",
    "number()"
   ]
  },
  {
   "cell_type": "code",
   "execution_count": 65,
   "metadata": {},
   "outputs": [
    {
     "name": "stdout",
     "output_type": "stream",
     "text": [
      "<function number.<locals>.add at 0x10c119730>\n",
      "<class 'function'>\n",
      "100\n"
     ]
    }
   ],
   "source": [
    "def number():\n",
    "    x = 100\n",
    "    def add():\n",
    "        print(x)\n",
    "    return add\n",
    "result  = number()\n",
    "print(result)\n",
    "print(type(result))\n",
    "result()\n"
   ]
  },
  {
   "cell_type": "code",
   "execution_count": 66,
   "metadata": {},
   "outputs": [
    {
     "name": "stdout",
     "output_type": "stream",
     "text": [
      "101\n"
     ]
    }
   ],
   "source": [
    "def number(x):\n",
    "    def add(y):\n",
    "        print(x+y)\n",
    "    return add\n",
    "result = number(100)\n",
    "result(1)"
   ]
  },
  {
   "cell_type": "code",
   "execution_count": 69,
   "metadata": {},
   "outputs": [
    {
     "name": "stdout",
     "output_type": "stream",
     "text": [
      "4\n",
      "27\n"
     ]
    }
   ],
   "source": [
    "def nth_number_exponent(exponent_num):\n",
    "    def exponent(base):\n",
    "        print(base ** exponent_num)\n",
    "    return exponent\n",
    "square = nth_number_exponent(2)\n",
    "square(2)\n",
    "\n",
    "cube = nth_number_exponent(3)\n",
    "cube(3)"
   ]
  },
  {
   "cell_type": "code",
   "execution_count": null,
   "metadata": {},
   "outputs": [],
   "source": [
    "\"\"\"\n",
    "    The LEGB rule:\n",
    "    ==============\n",
    "        Namespaces can exist independently from eachother, and have certain levels of hierarchy, \n",
    "        which we refer to as their scope. Depending on where you are in a program, a different namespace will be used.\n",
    "        To determine in which order Python should access namespaces,you can use the LEGB rule.\n",
    "\n",
    "        LEGB stands for:\n",
    "        --------------\n",
    "        Local\n",
    "        Enclosed\n",
    "        Global\n",
    "        Built-in\n",
    "\"\"\""
   ]
  },
  {
   "cell_type": "code",
   "execution_count": 78,
   "metadata": {},
   "outputs": [],
   "source": [
    "# Example\n",
    "\n",
    "#Global scope\n",
    "x = 0\n",
    "\n",
    "def outer():\n",
    "    # Enclosed scope\n",
    "    x = 1\n",
    "    def inner():\n",
    "        # Local scope\n",
    "        x = 2\n",
    "    inner()\n",
    "outer()"
   ]
  },
  {
   "cell_type": "code",
   "execution_count": 7,
   "metadata": {},
   "outputs": [
    {
     "data": {
      "text/plain": [
       "\"\\nLet's say you're calling print(x) within inner(), \\nwhich is a function nested in outer(). \\nThen Python will first look if x was defined locally in that inner(). \\nIf not, the variable defined in outer() will be used. \\nThis is the enclosing function. \\nIf it also wasn't defined there, the Python interpreter will go up another level, to the global scope.\\nAbove that you will only find the built-in scope, which contains special variables reserverd for Python itself.\\n\""
      ]
     },
     "execution_count": 7,
     "metadata": {},
     "output_type": "execute_result"
    }
   ],
   "source": [
    "\"\"\"\n",
    "Let's say you're calling print(x) within inner(), \n",
    "which is a function nested in outer(). \n",
    "Then Python will first look if x was defined locally in that inner(). \n",
    "If not, the variable defined in outer() will be used. \n",
    "This is the enclosing function. \n",
    "If it also wasn't defined there, the Python interpreter will go up another level, to the global scope.\n",
    "Above that you will only find the built-in scope, which contains special variables reserverd for Python itself.\n",
    "\"\"\""
   ]
  },
  {
   "cell_type": "code",
   "execution_count": null,
   "metadata": {},
   "outputs": [],
   "source": []
  },
  {
   "cell_type": "code",
   "execution_count": 3,
   "metadata": {},
   "outputs": [],
   "source": [
    "def test(value):\n",
    "    def multi(m):\n",
    "        print(value*m)\n",
    "    return multi"
   ]
  },
  {
   "cell_type": "code",
   "execution_count": 4,
   "metadata": {},
   "outputs": [],
   "source": [
    "v = test(2)"
   ]
  },
  {
   "cell_type": "code",
   "execution_count": 6,
   "metadata": {},
   "outputs": [
    {
     "name": "stdout",
     "output_type": "stream",
     "text": [
      "10\n"
     ]
    }
   ],
   "source": [
    "v(5)"
   ]
  },
  {
   "cell_type": "code",
   "execution_count": null,
   "metadata": {},
   "outputs": [],
   "source": []
  }
 ],
 "metadata": {
  "kernelspec": {
   "display_name": "Python 3 (ipykernel)",
   "language": "python",
   "name": "python3"
  },
  "language_info": {
   "codemirror_mode": {
    "name": "ipython",
    "version": 3
   },
   "file_extension": ".py",
   "mimetype": "text/x-python",
   "name": "python",
   "nbconvert_exporter": "python",
   "pygments_lexer": "ipython3",
   "version": "3.9.7"
  }
 },
 "nbformat": 4,
 "nbformat_minor": 2
}

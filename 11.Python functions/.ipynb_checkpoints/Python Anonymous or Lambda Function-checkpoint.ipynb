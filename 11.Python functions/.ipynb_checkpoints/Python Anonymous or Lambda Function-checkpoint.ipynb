{
 "cells": [
  {
   "cell_type": "code",
   "execution_count": null,
   "metadata": {},
   "outputs": [],
   "source": [
    "\"\"\"\n",
    "    Python Anonymous/Lambda Function:\n",
    "    =================================\n",
    "        In Python, anonymous function means that a function is without a name. As we already know that def keyword is \n",
    "        used to define the normal functions and the lambda keyword is used to create anonymous functions.\n",
    "\"\"\""
   ]
  },
  {
   "cell_type": "code",
   "execution_count": null,
   "metadata": {},
   "outputs": [],
   "source": [
    "\"\"\"\n",
    "    lambda functions in Python:\n",
    "    ==========================\n",
    "        Anonymous functions are also called lambda functions.\n",
    "\"\"\""
   ]
  },
  {
   "cell_type": "code",
   "execution_count": null,
   "metadata": {},
   "outputs": [],
   "source": [
    "\"\"\"\n",
    "    use lambda Functions in Python:\n",
    "    ===============================\n",
    "        A lambda function in python has the following syntax.\n",
    "\n",
    "        Syntax of Lambda Function in python:\n",
    "        ------------------------------------\n",
    "            lambda arguments: expression\n",
    "            \n",
    "        Lambda functions can have any number of arguments but only one expression. The expression is evaluated and \n",
    "        returned. Lambda functions can be used wherever function objects are required.\n",
    "\"\"\""
   ]
  },
  {
   "cell_type": "code",
   "execution_count": 8,
   "metadata": {},
   "outputs": [],
   "source": [
    "# Program to show the use of lambda functions\n",
    "\n",
    "double = lambda x: x * 2\n",
    "\n",
    "# Output: 10"
   ]
  },
  {
   "cell_type": "code",
   "execution_count": 6,
   "metadata": {},
   "outputs": [
    {
     "data": {
      "text/plain": [
       "'\\n    In the above program, lambda x: x * 2 is the lambda function. Here x is the argument and x * 2 is the \\n    expression that gets evaluated and returned.\\n\\n    This function has no name. It returns a function object which is assigned to the identifier double.\\n    We can now call it as a normal function. \\n'"
      ]
     },
     "execution_count": 6,
     "metadata": {},
     "output_type": "execute_result"
    }
   ],
   "source": [
    "\"\"\"\n",
    "    In the above program, lambda x: x * 2 is the lambda function. Here x is the argument and x * 2 is the \n",
    "    expression that gets evaluated and returned.\n",
    "\n",
    "    This function has no name. It returns a function object which is assigned to the identifier double.\n",
    "    We can now call it as a normal function. \n",
    "\"\"\""
   ]
  },
  {
   "cell_type": "code",
   "execution_count": 3,
   "metadata": {},
   "outputs": [
    {
     "data": {
      "text/plain": [
       "6"
      ]
     },
     "execution_count": 3,
     "metadata": {},
     "output_type": "execute_result"
    }
   ],
   "source": [
    "# nearly the same as\n",
    "def double(x):\n",
    "   return x * 2\n",
    "\n",
    "double(3)"
   ]
  },
  {
   "cell_type": "code",
   "execution_count": 7,
   "metadata": {},
   "outputs": [
    {
     "data": {
      "text/plain": [
       "5"
      ]
     },
     "execution_count": 7,
     "metadata": {},
     "output_type": "execute_result"
    }
   ],
   "source": [
    "def add(x, y): \n",
    "   return x + y\n",
    "  \n",
    "# Call the function\n",
    "add(2, 3)  # Output: 5"
   ]
  },
  {
   "cell_type": "code",
   "execution_count": 14,
   "metadata": {},
   "outputs": [
    {
     "name": "stdout",
     "output_type": "stream",
     "text": [
      "10\n"
     ]
    },
    {
     "data": {
      "text/plain": [
       "function"
      ]
     },
     "execution_count": 14,
     "metadata": {},
     "output_type": "execute_result"
    }
   ],
   "source": [
    "add = lambda x, y : x + y \n",
    "  \n",
    "print (add(2, 3)) # Output: 5\n",
    "\n",
    "type (add)"
   ]
  },
  {
   "cell_type": "code",
   "execution_count": null,
   "metadata": {},
   "outputs": [],
   "source": [
    "\"\"\"\n",
    "    Use of Lambda Function in python:\n",
    "    =================================\n",
    "        We use lambda functions when we require a nameless function for a short period of time.\n",
    "\n",
    "        In Python, we generally use it as an argument to a higher-order function (a function that takes in other \n",
    "        functions as arguments). Lambda functions are used along with built-in functions like filter(), map() etc.\n",
    "\"\"\""
   ]
  },
  {
   "cell_type": "code",
   "execution_count": null,
   "metadata": {},
   "outputs": [],
   "source": [
    "\"\"\"\n",
    "    Example use with filter():\n",
    "    =========================\n",
    "        The filter() function in Python takes in a function and a list as arguments.\n",
    "\n",
    "        The function is called with all the items in the list and a new list is returned which contains\n",
    "        items for which the function evaluats to True.\n",
    "        \n",
    "        Basic Syntax:\n",
    "        -------------\n",
    "            filter(function_object, iterable)\n",
    "            \n",
    "            \n",
    "        The filter function expects two arguments: function_object and an iterable. \n",
    "        function_object returns a boolean value and is called for each element of the iterable.\n",
    "        Filter returns only those elements for which the function_object returns true.\n",
    "\n",
    "        Here is an example use of filter() function to filter out only even numbers from a list.\n",
    "\"\"\""
   ]
  },
  {
   "cell_type": "code",
   "execution_count": 4,
   "metadata": {},
   "outputs": [
    {
     "name": "stdout",
     "output_type": "stream",
     "text": [
      "[4, 6, 8, 12]\n"
     ]
    }
   ],
   "source": [
    "# Program to filter out only the even items from a list\n",
    "\n",
    "my_list = [1, 5, 4, 6, 8, 11, 3, 12]\n",
    "\n",
    "new_list = list(filter(lambda x: (x%2 == 0) , my_list))\n",
    "\n",
    "# Output: [4, 6, 8, 12]\n",
    "print(new_list)"
   ]
  },
  {
   "cell_type": "code",
   "execution_count": 5,
   "metadata": {},
   "outputs": [
    {
     "name": "stdout",
     "output_type": "stream",
     "text": [
      "[4, 6, 8, 12]\n"
     ]
    }
   ],
   "source": [
    "my_list = [1, 5, 4, 6, 8, 11, 3, 12]\n",
    "result = []\n",
    "check = (lambda x: x%2 ==0)\n",
    "\n",
    "def test(my_list):\n",
    "    for i in my_list:\n",
    "        if check(i):\n",
    "            result.append(i)\n",
    "        \n",
    "test(my_list)\n",
    "\n",
    "print(result)"
   ]
  },
  {
   "cell_type": "code",
   "execution_count": 12,
   "metadata": {},
   "outputs": [
    {
     "name": "stdout",
     "output_type": "stream",
     "text": [
      "[4, 6, 8, 12]\n"
     ]
    }
   ],
   "source": [
    "my_list = [1, 5, 4, 6, 8, 11, 3, 12]\n",
    "def check_num_divided_by(number):\n",
    "    if number%2 == 0:\n",
    "        return number\n",
    "\n",
    "new_list = list(filter(check_num_divided_by,my_list))\n",
    "\n",
    "print(new_list)"
   ]
  },
  {
   "cell_type": "code",
   "execution_count": 14,
   "metadata": {},
   "outputs": [
    {
     "name": "stdout",
     "output_type": "stream",
     "text": [
      "[4, 6, 8, 12]\n"
     ]
    }
   ],
   "source": [
    "my_list = [1, 5, 4, 6, 8, 11, 3, 12]\n",
    "def check_num_divided_by(number):\n",
    "    if number%2 == 0:\n",
    "        return True\n",
    "\n",
    "new_list = list(filter(check_num_divided_by,my_list))\n",
    "\n",
    "print(new_list)"
   ]
  },
  {
   "cell_type": "code",
   "execution_count": 15,
   "metadata": {},
   "outputs": [
    {
     "name": "stdout",
     "output_type": "stream",
     "text": [
      "[1, 5, 11, 3]\n"
     ]
    }
   ],
   "source": [
    "my_list = [1, 5, 4, 6, 8, 11, 3, 12]\n",
    "def check_num_divided_by(number):\n",
    "    if number%2 == 0:\n",
    "        return False\n",
    "    else:\n",
    "        return True\n",
    "\n",
    "new_list = list(filter(check_num_divided_by,my_list))\n",
    "\n",
    "print(new_list)"
   ]
  },
  {
   "cell_type": "code",
   "execution_count": null,
   "metadata": {},
   "outputs": [],
   "source": [
    "\"\"\"\n",
    "    Like the map function, the filter function also returns a list of elements. \n",
    "    Unlike map, the filter function can only have one iterable as input.\n",
    "\"\"\""
   ]
  },
  {
   "cell_type": "code",
   "execution_count": 17,
   "metadata": {},
   "outputs": [
    {
     "name": "stdout",
     "output_type": "stream",
     "text": [
      "<filter object at 0x10ac249e8>\n"
     ]
    }
   ],
   "source": [
    "# Filter list of dicts:\n",
    "dict_a = [{'name': 'python', 'points': 10}, {'name': 'java', 'points': 8}]\n",
    "\n",
    "print(filter(lambda x : x['name'] == 'python', dict_a))\n",
    "# Output: [{'name': 'python', 'points': 10}]"
   ]
  },
  {
   "cell_type": "code",
   "execution_count": 5,
   "metadata": {},
   "outputs": [
    {
     "name": "stdout",
     "output_type": "stream",
     "text": [
      "[2, 10, 8, 12, 16, 22, 6, 24]\n"
     ]
    }
   ],
   "source": [
    "\"\"\"\n",
    "    Example use with map():\n",
    "    ======================\n",
    "        The map() function in Python takes in a function and a list.\n",
    "\n",
    "        The function is called with all the items in the list and a new list is returned which contains\n",
    "        items returned by that function for each item.\n",
    "        \n",
    "        Basic Syntax:\n",
    "        ------------\n",
    "            map(function_object, iterable1, iterable2,...)\n",
    "            \n",
    "        map functions expect a function object and any number of iterables, such as list, dictionary, etc. \n",
    "        It executes the function_object for each element in the sequence and returns a list of the elements \n",
    "        modified by the function object.\n",
    "\n",
    "        Here is an example use of map() function to double all the items in a list.\n",
    "\"\"\"\n",
    "\n",
    "# Program to double each item in a list using map()\n",
    "\n",
    "my_list = [1, 5, 4, 6, 8, 11, 3, 12]\n",
    "\n",
    "new_list = list(map(lambda x: x * 2 , my_list))\n",
    "\n",
    "# Output: [2, 10, 8, 12, 16, 22, 6, 24]\n",
    "print(new_list)"
   ]
  },
  {
   "cell_type": "code",
   "execution_count": 21,
   "metadata": {},
   "outputs": [
    {
     "name": "stdout",
     "output_type": "stream",
     "text": [
      "[2, 4, 6, 8]\n"
     ]
    }
   ],
   "source": [
    "def multiply2(x):\n",
    "  return x * 2\n",
    "    \n",
    "print(list(map(multiply2, [1, 2, 3, 4])))"
   ]
  },
  {
   "cell_type": "code",
   "execution_count": 24,
   "metadata": {},
   "outputs": [
    {
     "name": "stdout",
     "output_type": "stream",
     "text": [
      "['python', 'java']\n",
      "[100, 80]\n",
      "[True, False]\n",
      "[{'name': 'python', 'points': 10}]\n"
     ]
    }
   ],
   "source": [
    "# Iterating Over a Dictionary Using Map and Lambda\n",
    "\n",
    "dict_a = [{'name': 'python', 'points': 10}, {'name': 'java', 'points': 8}]\n",
    "\n",
    "print(list(map(lambda x : x['name'], dict_a)))\n",
    "# Output: ['python', 'java']\n",
    "  \n",
    "print(list(map(lambda x : x['points']*10,  dict_a)))\n",
    "# Output: [100, 80]\n",
    "\n",
    "print(list(map(lambda x : x['name'] == \"python\", dict_a)))\n",
    "# Output: [True, False]\n",
    "\n",
    "# same for filter\n",
    "print(list(filter(lambda x : x['name'] == \"python\", dict_a)))"
   ]
  },
  {
   "cell_type": "code",
   "execution_count": 25,
   "metadata": {},
   "outputs": [
    {
     "name": "stdout",
     "output_type": "stream",
     "text": [
      "[11, 22, 33]\n"
     ]
    }
   ],
   "source": [
    "# Multiple Iterables to the Map Function\n",
    "list_a = [1, 2, 3]\n",
    "list_b = [10, 20, 30]\n",
    "  \n",
    "print(list(map(lambda x, y: x + y, list_a, list_b)))\n",
    "# Output: [11, 22, 33]"
   ]
  },
  {
   "cell_type": "code",
   "execution_count": 30,
   "metadata": {},
   "outputs": [
    {
     "name": "stdout",
     "output_type": "stream",
     "text": [
      "[11, 22, 33]\n"
     ]
    }
   ],
   "source": [
    "list_a = [1, 2, 3]\n",
    "list_b = [10, 20, 30]\n",
    "sum_list =[]\n",
    "for i in range(0,len(list_a)):\n",
    "    add = list_a[i] + list_b [i]\n",
    "    sum_list.append(add)\n",
    "\n",
    "print(sum_list)\n"
   ]
  },
  {
   "cell_type": "code",
   "execution_count": 29,
   "metadata": {},
   "outputs": [
    {
     "name": "stdout",
     "output_type": "stream",
     "text": [
      "0\n",
      "1\n",
      "2\n"
     ]
    }
   ],
   "source": [
    "list_a = [1, 2, 3]\n",
    "for i in range(0,len(list_a)):\n",
    "    print(i)"
   ]
  },
  {
   "cell_type": "code",
   "execution_count": 31,
   "metadata": {},
   "outputs": [],
   "source": [
    "\"\"\"\n",
    "    Python reduce() function:\n",
    "    =========================\n",
    "        The reduce() function accepts a function and a sequence and returns a single value calculated as follows:\n",
    "\n",
    "        Initially, the function is called with the first two items from the sequence and the result is returned.\n",
    "        The function is then called again with the result obtained in step 1 and the next value in the sequence. \n",
    "        This process keeps repeating until there are items in the sequence.\n",
    "        \n",
    "        The syntax of the reduce() function is as follows:\n",
    "        --------------------------------------------------\n",
    "            Syntax: reduce(function, sequence[, initial]) -> value\n",
    "            \n",
    "        When the initial value is provided, the function is called with the initial value and the first item\n",
    "        from the sequence.\n",
    "\n",
    "        In Python 2, reduce() was a built-in function. However, in Python 3, it is moved to functools  module.\n",
    "\"\"\"\n",
    "\n",
    "from functools import reduce # only in Python 3"
   ]
  },
  {
   "cell_type": "code",
   "execution_count": 32,
   "metadata": {},
   "outputs": [
    {
     "data": {
      "text/plain": [
       "10"
      ]
     },
     "execution_count": 32,
     "metadata": {},
     "output_type": "execute_result"
    }
   ],
   "source": [
    "from functools import reduce\n",
    "def do_sum(x1, x2):\n",
    "    return x1 + x2\n",
    "reduce(do_sum, [1, 2, 3, 4])"
   ]
  },
  {
   "cell_type": "code",
   "execution_count": null,
   "metadata": {},
   "outputs": [],
   "source": [
    "\"\"\"\n",
    "    This reduce()  call perform the following operation:\n",
    "\n",
    "    (((1 + 2) + 3) + 4) => 10\n",
    "    1\n",
    "    (((1 + 2) + 3) + 4) => 10\n",
    "\"\"\""
   ]
  },
  {
   "cell_type": "code",
   "execution_count": 34,
   "metadata": {},
   "outputs": [
    {
     "data": {
      "text/plain": [
       "10"
      ]
     },
     "execution_count": 34,
     "metadata": {},
     "output_type": "execute_result"
    }
   ],
   "source": [
    "# The preceding reduce() call is functionally equivalent to the following:\n",
    "def my_reduce(func, seq):\n",
    "    first = seq[0]\n",
    "    for i in seq[1:]:\n",
    "        first = func(first, i)\n",
    "    return first \n",
    "\n",
    "my_reduce(do_sum, [1, 2, 3, 4])"
   ]
  },
  {
   "cell_type": "code",
   "execution_count": null,
   "metadata": {},
   "outputs": [],
   "source": [
    "# Program to filter out only the even items from a list\n",
    "\n",
    "my_list = [1, 5, 4, 6, 8, 11, 3, 12]\n",
    "\n",
    "new_list = list(filter(lambda x: (x%2 == 0) , my_list))\n",
    "\n",
    "# Output: [4, 6, 8, 12]\n",
    "print(new_list)"
   ]
  },
  {
   "cell_type": "code",
   "execution_count": 44,
   "metadata": {},
   "outputs": [],
   "source": [
    "def even(num):\n",
    "    if num%2==0:\n",
    "        print(\"\")"
   ]
  },
  {
   "cell_type": "code",
   "execution_count": 12,
   "metadata": {},
   "outputs": [
    {
     "data": {
      "text/plain": [
       "True"
      ]
     },
     "execution_count": 12,
     "metadata": {},
     "output_type": "execute_result"
    }
   ],
   "source": [
    "def string_check(x):\n",
    "    return x.isdigit()\n",
    "\n",
    "string_check(\"12345\")"
   ]
  },
  {
   "cell_type": "code",
   "execution_count": null,
   "metadata": {},
   "outputs": [],
   "source": []
  },
  {
   "cell_type": "code",
   "execution_count": 40,
   "metadata": {},
   "outputs": [
    {
     "name": "stdout",
     "output_type": "stream",
     "text": [
      "['Apple', 'Grapes', 'water']\n"
     ]
    }
   ],
   "source": [
    "my_list = [\"Apple\",\"Grapes\",\"water\",\"lemon\"]\n",
    "result = []\n",
    "def check_alphabet_a(word):\n",
    "    if \"A\" in word or \"a\" in word:\n",
    "        result.append(word)\n",
    "\n",
    "for word in my_list:\n",
    "    check_alphabet_a(word)\n",
    "    \n",
    "print(result)"
   ]
  },
  {
   "cell_type": "code",
   "execution_count": 38,
   "metadata": {},
   "outputs": [],
   "source": [
    "result = list(filter(lambda word: \"A\" in word or \"a\" in word,my_list))"
   ]
  },
  {
   "cell_type": "code",
   "execution_count": 39,
   "metadata": {},
   "outputs": [
    {
     "name": "stdout",
     "output_type": "stream",
     "text": [
      "['Apple', 'Grapes', 'water']\n"
     ]
    }
   ],
   "source": [
    "print(result)"
   ]
  },
  {
   "cell_type": "code",
   "execution_count": 26,
   "metadata": {},
   "outputs": [
    {
     "name": "stdout",
     "output_type": "stream",
     "text": [
      "60\n"
     ]
    }
   ],
   "source": []
  },
  {
   "cell_type": "code",
   "execution_count": null,
   "metadata": {},
   "outputs": [],
   "source": []
  }
 ],
 "metadata": {
  "kernelspec": {
   "display_name": "Python 3 (ipykernel)",
   "language": "python",
   "name": "python3"
  },
  "language_info": {
   "codemirror_mode": {
    "name": "ipython",
    "version": 3
   },
   "file_extension": ".py",
   "mimetype": "text/x-python",
   "name": "python",
   "nbconvert_exporter": "python",
   "pygments_lexer": "ipython3",
   "version": "3.9.7"
  }
 },
 "nbformat": 4,
 "nbformat_minor": 2
}

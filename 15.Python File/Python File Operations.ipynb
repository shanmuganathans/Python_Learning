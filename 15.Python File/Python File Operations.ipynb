{
 "cells": [
  {
   "cell_type": "code",
   "execution_count": null,
   "metadata": {},
   "outputs": [],
   "source": [
    "\"\"\"\n",
    "    In Python, there is no need for importing external library to read and write files. \n",
    "    Python provides an inbuilt function for creating, writing and reading files.\n",
    "    \n",
    "        Create,\n",
    "        Open,\n",
    "        Append,\n",
    "        Read,\n",
    "        Write\n",
    "        \n",
    "        File Modes in Python\n",
    "        --------------------\n",
    "        Mode        Description\n",
    "        'r'         This is the default mode. It Opens file for reading.\n",
    "        'w'         This Mode Opens file for writing.\n",
    "                    If file does not exist, it creates a new file.\n",
    "                    If file exists it truncates the file.\n",
    "        'x'         Creates a new file. If file already exists, the operation fails.\n",
    "        'a'         Open file in append mode.\n",
    "                    If file does not exist, it creates a new file.\n",
    "        't'         This is the default mode. It opens in text mode.\n",
    "        'b'         This opens in binary mode.\n",
    "        '+'         This will open a file for reading and writing (updating)\n",
    "\"\"\""
   ]
  },
  {
   "cell_type": "code",
   "execution_count": null,
   "metadata": {},
   "outputs": [],
   "source": [
    "\"\"\"\n",
    "    How to Create a Text File:\n",
    "    =========================\n",
    "    With Python you can create a .text files (bigziel.txt) by using the code, \n",
    "    we have demonstrated here how you can do this\n",
    "\"\"\""
   ]
  },
  {
   "cell_type": "code",
   "execution_count": null,
   "metadata": {},
   "outputs": [],
   "source": [
    "\"\"\"\n",
    "    Step 1)\n",
    "\n",
    "            f= open(\"bigziel.txt\",\"w+\")\n",
    "    We declared the variable f to open a file named textfile.txt. \n",
    "    Open takes 2 arguments, the file that we want to open and a string that represents the kinds of\n",
    "    permission or operation we want to do on the file\n",
    "    Here we used \"w\" letter in our argument, which indicates write and the plus sign \n",
    "    that means it will create a file if it does not exist in library\n",
    "    The available option beside \"w\" are \"r\" for read and \"a\" for append and plus sign means \n",
    "    if it is not there then create it\n",
    "\"\"\""
   ]
  },
  {
   "cell_type": "code",
   "execution_count": null,
   "metadata": {},
   "outputs": [],
   "source": [
    "\"\"\"\n",
    "    Step 2)\n",
    "\n",
    "        for i in range(10):\n",
    "             f.write(\"This is line %d\\r\\n\" % (i+1))\n",
    "             \n",
    "    We have a for loop that runs over a range of 10 numbers.\n",
    "    Using the write function to enter data into the file.\n",
    "    The output we want to iterate in the file is \"this is line number\", \n",
    "    which we declare with write function and then percent d (displays integer)\n",
    "    So basically we are putting in the line number that we are writing, \n",
    "    then putting it in a carriage return and a new line character\n",
    "\"\"\""
   ]
  },
  {
   "cell_type": "code",
   "execution_count": null,
   "metadata": {},
   "outputs": [],
   "source": [
    "\"\"\"\n",
    "    Step 3)\n",
    "\n",
    "        f.close() \n",
    "    This will close the instance of the file bigziel.txt stored\n",
    "\"\"\""
   ]
  },
  {
   "cell_type": "code",
   "execution_count": null,
   "metadata": {},
   "outputs": [],
   "source": [
    "f = open(\"bigziel.txt\",\"w+\")\n",
    "for i in range(10):\n",
    "    f.write(\"HI %d\\r\\n\" % (i+1))\n",
    "f.close()"
   ]
  },
  {
   "cell_type": "code",
   "execution_count": null,
   "metadata": {},
   "outputs": [],
   "source": [
    "\"\"\"\n",
    "    How to Append Data to a File:\n",
    "    =============================\n",
    "    You can also append a new text to the already existing file or the new file.\n",
    "\n",
    "Step 1)\n",
    "\n",
    "        f=open(\"bigziel_append.txt\", \"a+\")\n",
    "    Once again if you could see a plus sign in the code, it indicates that it will create a new file if \n",
    "    it does not exist. But in our case we already have the file, so we are not required to create a new file.\n",
    "\n",
    "Step 2)\n",
    "\n",
    "    for i in range(2):\n",
    "         f.write(\"Appended line %d\\r\\n\" % (i+1))\n",
    "\"\"\""
   ]
  },
  {
   "cell_type": "code",
   "execution_count": null,
   "metadata": {},
   "outputs": [],
   "source": [
    "f = open(\"append.txt\",'a+')\n",
    "for i in range(2):\n",
    "    f.write(\"Appended line new %d\\r\\n\" % (i+1))\n",
    "f.close()"
   ]
  },
  {
   "cell_type": "code",
   "execution_count": null,
   "metadata": {},
   "outputs": [],
   "source": [
    "\"\"\"\n",
    "    How to Read a File:\n",
    "    -------------------\n",
    "        Not only you can create .txt file from Python but you can also call .txt file in a \"read mode\"(r).\n",
    "\n",
    "Step 1) \n",
    "        Open the file in Read mode\n",
    "\n",
    "            f=open(\"guru99.txt\", \"r\")\n",
    "Step 2) \n",
    "        We use the mode function in the code to check that the file is in open mode. If yes, we proceed ahead\n",
    "\n",
    "            if f.mode == 'r':\n",
    "Step 3) \n",
    "        Use f.read to read file data and store it in variable content\n",
    "\n",
    "            contents =f.read()\n",
    "Step 4) print contents\n",
    "\"\"\""
   ]
  },
  {
   "cell_type": "code",
   "execution_count": null,
   "metadata": {},
   "outputs": [],
   "source": [
    "f = open(\"append.txt\",'r+')\n",
    "print(f.read())\n",
    "f.close()"
   ]
  },
  {
   "cell_type": "code",
   "execution_count": null,
   "metadata": {},
   "outputs": [],
   "source": [
    "f = open(\"append1.txt\",\"x\")\n",
    "f.write(\"xfffff\")\n",
    "f.close()"
   ]
  },
  {
   "cell_type": "code",
   "execution_count": null,
   "metadata": {},
   "outputs": [],
   "source": [
    "\"\"\"\n",
    "    Python allows you to read, write and delete files\n",
    "    Use the function open(\"filename\",\"w+\") to create a file. \n",
    "    The + tells the python interpreter to open file with read and write permissions.\n",
    "    To append data to an existing file use the command open(\"Filename\", \"a\")\n",
    "    Use the read function to read the ENTIRE contents of a file\n",
    "    Use the readlines function to read the content of the file one by one.\n",
    "\"\"\""
   ]
  },
  {
   "cell_type": "code",
   "execution_count": null,
   "metadata": {},
   "outputs": [],
   "source": [
    "f = open(\"append.txt\",'r+')\n",
    "# print(f.read())\n",
    "# print(\"---------\")\n",
    "# print(f.readable())\n",
    "# print(f.readline()) # first line\n",
    "# readlines method read the file line by line\n",
    "# print(f.readlines())\n",
    "for line in f.readlines():\n",
    "    print(line)\n"
   ]
  },
  {
   "cell_type": "code",
   "execution_count": null,
   "metadata": {},
   "outputs": [],
   "source": [
    "\"\"\"\n",
    "file.read(size): Reads size bytes from the file (or the entire file if size is not specified).\n",
    "file.readline(): Reads a single line from the file.\n",
    "file.readlines(): Reads all lines from the file and returns them as a list of strings.\n",
    "file.write(data): Writes the data to the file.\n",
    "file.writelines(lines): Writes a list of lines to the file.\n",
    "file.seek(offset): Moves the file pointer to a specified position.\n",
    "file.tell(): Returns the current position of the file pointer.\n",
    "\"\"\""
   ]
  },
  {
   "cell_type": "code",
   "execution_count": null,
   "metadata": {},
   "outputs": [],
   "source": [
    "\"\"\"\n",
    "flush():\n",
    "========\n",
    "In Python, the `flush()` method is used in file handling to ensure that any buffered data written to a file is \n",
    "immediately flushed (written) to the underlying file on the disk. By default, file I/O operations may be buffered, \n",
    "meaning that the data is first stored in a buffer in memory before being written to the actual file on disk. \n",
    "This buffering improves the performance of file operations as writing to disk can be a relatively slow process \n",
    "compared to writing to memory.\n",
    "\n",
    "However, there are scenarios where you may need to force the data to be written immediately to the file,\n",
    "bypassing the buffering. For example, when logging critical data that needs to be saved to the file immediately \n",
    "without any delay, you can use the `flush()` method to ensure that the data is written right away.\n",
    "\n",
    "The `flush()` method is called on a file object and does not take any arguments. It simply flushes the buffered \n",
    "data to the file associated with that file object.\n",
    "\n",
    "Here's an example of how to use the `flush()` method:\n",
    "\n",
    "\n",
    "In this example, the `flush()` method is called after writing some data to the file. \n",
    "This ensures that the data is immediately written to the \"log.txt\" file without waiting for the file to be closed\n",
    "or for the buffer to be automatically flushed by the Python interpreter.\n",
    "\n",
    "Keep in mind that in many cases, the need to manually call `flush()` is rare since Python automatically flushes \n",
    "the buffer when the file is closed or when it becomes full. However, using `flush()` can be \n",
    "useful in specific situations where immediate writing is necessary or in applications where you want to \n",
    "ensure that data is safely stored on disk at specific points in your code.\n",
    "\"\"\"\n",
    "\n",
    "with open(\"log.txt\", \"a\") as file:\n",
    "    file.write(\"Logging some data.\\n\")\n",
    "    file.flush()  # Flushes the data to the file immediately\n",
    "    # ... more code and operations ...\n"
   ]
  },
  {
   "cell_type": "code",
   "execution_count": null,
   "metadata": {},
   "outputs": [],
   "source": [
    "f = open(\"append.txt\",'a')\n",
    "for i in range(2):\n",
    "    f.write(\"appended line %d /r\" % i)\n",
    "    f.flush()\n",
    "# f.readlines()"
   ]
  },
  {
   "cell_type": "code",
   "execution_count": null,
   "metadata": {},
   "outputs": [],
   "source": [
    "# while work on the r+ , rb+ for windows\n",
    "f = open(\"append.txt\",'r+')\n",
    "f.seek(90)\n",
    "# print(f.tell())\n",
    "print(f.read())\n",
    "f.close()"
   ]
  },
  {
   "cell_type": "code",
   "execution_count": null,
   "metadata": {},
   "outputs": [],
   "source": [
    "\"\"\"\n",
    " 1. get input from the user and write into the file\n",
    " 2. read the file and check the 1st line start with \"The\" or not\n",
    " 3. Write the program to the get the count of the lines\n",
    " 4. create the list using every lines first word\n",
    " 5. create the dict using file read \n",
    "    ex : {1: \"First line\", 2: \"second line\"}\n",
    " 6. get the count of vowels in the file as dictionary\n",
    "    expected output :  \n",
    "        {'a': 12,'e':33,'i':100}\n",
    "\"\"\""
   ]
  },
  {
   "cell_type": "code",
   "execution_count": null,
   "metadata": {},
   "outputs": [],
   "source": [
    "f = open(\"append.txt\",\"r+\")\n",
    "\n",
    "result = []\n",
    "for i in f.readlines():\n",
    "    my_list = i.split(\" \")\n",
    "    result.append(my_list[0])\n",
    "\n",
    "print(result)"
   ]
  },
  {
   "cell_type": "code",
   "execution_count": null,
   "metadata": {},
   "outputs": [],
   "source": []
  },
  {
   "cell_type": "code",
   "execution_count": null,
   "metadata": {},
   "outputs": [],
   "source": []
  },
  {
   "cell_type": "code",
   "execution_count": null,
   "metadata": {},
   "outputs": [],
   "source": []
  },
  {
   "cell_type": "code",
   "execution_count": null,
   "metadata": {},
   "outputs": [],
   "source": []
  },
  {
   "cell_type": "code",
   "execution_count": null,
   "metadata": {},
   "outputs": [],
   "source": []
  },
  {
   "cell_type": "code",
   "execution_count": null,
   "metadata": {},
   "outputs": [],
   "source": []
  },
  {
   "cell_type": "code",
   "execution_count": null,
   "metadata": {},
   "outputs": [],
   "source": []
  },
  {
   "cell_type": "code",
   "execution_count": null,
   "metadata": {},
   "outputs": [],
   "source": [
    "f = open(\"append.txt\",'a')\n",
    "for i in range(2):\n",
    "    f.write(\"appended line %d /r\" % i)\n",
    "    f.flush()\n",
    "    f.seek(0)\n",
    "f.readlines()"
   ]
  }
 ],
 "metadata": {
  "kernelspec": {
   "display_name": "Python 3 (ipykernel)",
   "language": "python",
   "name": "python3"
  },
  "language_info": {
   "codemirror_mode": {
    "name": "ipython",
    "version": 3
   },
   "file_extension": ".py",
   "mimetype": "text/x-python",
   "name": "python",
   "nbconvert_exporter": "python",
   "pygments_lexer": "ipython3",
   "version": "3.9.7"
  }
 },
 "nbformat": 4,
 "nbformat_minor": 2
}
